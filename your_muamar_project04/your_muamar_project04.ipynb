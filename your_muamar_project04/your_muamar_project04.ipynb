{
 "cells": [
  {
   "cell_type": "code",
   "execution_count": 2,
   "id": "7be1f0d5",
   "metadata": {
    "scrolled": false
   },
   "outputs": [
    {
     "data": {
      "text/html": [
       "<div>\n",
       "<style scoped>\n",
       "    .dataframe tbody tr th:only-of-type {\n",
       "        vertical-align: middle;\n",
       "    }\n",
       "\n",
       "    .dataframe tbody tr th {\n",
       "        vertical-align: top;\n",
       "    }\n",
       "\n",
       "    .dataframe thead th {\n",
       "        text-align: right;\n",
       "    }\n",
       "</style>\n",
       "<table border=\"1\" class=\"dataframe\">\n",
       "  <thead>\n",
       "    <tr style=\"text-align: right;\">\n",
       "      <th></th>\n",
       "      <th>Word</th>\n",
       "      <th>Frequency</th>\n",
       "    </tr>\n",
       "  </thead>\n",
       "  <tbody>\n",
       "    <tr>\n",
       "      <th>3</th>\n",
       "      <td>automation</td>\n",
       "      <td>37</td>\n",
       "    </tr>\n",
       "    <tr>\n",
       "      <th>62</th>\n",
       "      <td>skills</td>\n",
       "      <td>27</td>\n",
       "    </tr>\n",
       "    <tr>\n",
       "      <th>74</th>\n",
       "      <td>job</td>\n",
       "      <td>24</td>\n",
       "    </tr>\n",
       "    <tr>\n",
       "      <th>120</th>\n",
       "      <td>education</td>\n",
       "      <td>20</td>\n",
       "    </tr>\n",
       "    <tr>\n",
       "      <th>121</th>\n",
       "      <td>training</td>\n",
       "      <td>17</td>\n",
       "    </tr>\n",
       "    <tr>\n",
       "      <th>47</th>\n",
       "      <td>may</td>\n",
       "      <td>16</td>\n",
       "    </tr>\n",
       "    <tr>\n",
       "      <th>41</th>\n",
       "      <td>jobs</td>\n",
       "      <td>14</td>\n",
       "    </tr>\n",
       "    <tr>\n",
       "      <th>40</th>\n",
       "      <td>workers</td>\n",
       "      <td>14</td>\n",
       "    </tr>\n",
       "    <tr>\n",
       "      <th>124</th>\n",
       "      <td>programs</td>\n",
       "      <td>14</td>\n",
       "    </tr>\n",
       "    <tr>\n",
       "      <th>58</th>\n",
       "      <td>new</td>\n",
       "      <td>11</td>\n",
       "    </tr>\n",
       "    <tr>\n",
       "      <th>110</th>\n",
       "      <td>businesses</td>\n",
       "      <td>11</td>\n",
       "    </tr>\n",
       "    <tr>\n",
       "      <th>126</th>\n",
       "      <td>workforce</td>\n",
       "      <td>10</td>\n",
       "    </tr>\n",
       "    <tr>\n",
       "      <th>215</th>\n",
       "      <td>learning</td>\n",
       "      <td>10</td>\n",
       "    </tr>\n",
       "    <tr>\n",
       "      <th>42</th>\n",
       "      <td>automated</td>\n",
       "      <td>10</td>\n",
       "    </tr>\n",
       "    <tr>\n",
       "      <th>24</th>\n",
       "      <td>work</td>\n",
       "      <td>9</td>\n",
       "    </tr>\n",
       "    <tr>\n",
       "      <th>109</th>\n",
       "      <td>opportunities</td>\n",
       "      <td>9</td>\n",
       "    </tr>\n",
       "    <tr>\n",
       "      <th>26</th>\n",
       "      <td>need</td>\n",
       "      <td>9</td>\n",
       "    </tr>\n",
       "    <tr>\n",
       "      <th>137</th>\n",
       "      <td>impact</td>\n",
       "      <td>8</td>\n",
       "    </tr>\n",
       "    <tr>\n",
       "      <th>59</th>\n",
       "      <td>also</td>\n",
       "      <td>8</td>\n",
       "    </tr>\n",
       "    <tr>\n",
       "      <th>21</th>\n",
       "      <td>lead</td>\n",
       "      <td>8</td>\n",
       "    </tr>\n",
       "    <tr>\n",
       "      <th>0</th>\n",
       "      <td>implications</td>\n",
       "      <td>8</td>\n",
       "    </tr>\n",
       "    <tr>\n",
       "      <th>229</th>\n",
       "      <td>encourage</td>\n",
       "      <td>8</td>\n",
       "    </tr>\n",
       "    <tr>\n",
       "      <th>1</th>\n",
       "      <td>economy</td>\n",
       "      <td>8</td>\n",
       "    </tr>\n",
       "    <tr>\n",
       "      <th>303</th>\n",
       "      <td>individuals</td>\n",
       "      <td>7</td>\n",
       "    </tr>\n",
       "    <tr>\n",
       "      <th>36</th>\n",
       "      <td>displacement</td>\n",
       "      <td>7</td>\n",
       "    </tr>\n",
       "    <tr>\n",
       "      <th>75</th>\n",
       "      <td>market</td>\n",
       "      <td>7</td>\n",
       "    </tr>\n",
       "    <tr>\n",
       "      <th>19</th>\n",
       "      <td>increased</td>\n",
       "      <td>6</td>\n",
       "    </tr>\n",
       "    <tr>\n",
       "      <th>53</th>\n",
       "      <td>income</td>\n",
       "      <td>6</td>\n",
       "    </tr>\n",
       "    <tr>\n",
       "      <th>54</th>\n",
       "      <td>inequality</td>\n",
       "      <td>6</td>\n",
       "    </tr>\n",
       "    <tr>\n",
       "      <th>237</th>\n",
       "      <td>develop</td>\n",
       "      <td>6</td>\n",
       "    </tr>\n",
       "    <tr>\n",
       "      <th>128</th>\n",
       "      <td>governments</td>\n",
       "      <td>6</td>\n",
       "    </tr>\n",
       "    <tr>\n",
       "      <th>87</th>\n",
       "      <td>industry</td>\n",
       "      <td>6</td>\n",
       "    </tr>\n",
       "    <tr>\n",
       "      <th>12</th>\n",
       "      <td>industries</td>\n",
       "      <td>6</td>\n",
       "    </tr>\n",
       "    <tr>\n",
       "      <th>14</th>\n",
       "      <td>policies</td>\n",
       "      <td>6</td>\n",
       "    </tr>\n",
       "    <tr>\n",
       "      <th>114</th>\n",
       "      <td>invest</td>\n",
       "      <td>5</td>\n",
       "    </tr>\n",
       "    <tr>\n",
       "      <th>230</th>\n",
       "      <td>science</td>\n",
       "      <td>5</td>\n",
       "    </tr>\n",
       "    <tr>\n",
       "      <th>115</th>\n",
       "      <td>technology</td>\n",
       "      <td>5</td>\n",
       "    </tr>\n",
       "    <tr>\n",
       "      <th>216</th>\n",
       "      <td>support</td>\n",
       "      <td>5</td>\n",
       "    </tr>\n",
       "    <tr>\n",
       "      <th>239</th>\n",
       "      <td>provide</td>\n",
       "      <td>5</td>\n",
       "    </tr>\n",
       "    <tr>\n",
       "      <th>245</th>\n",
       "      <td>collaboration</td>\n",
       "      <td>5</td>\n",
       "    </tr>\n",
       "    <tr>\n",
       "      <th>273</th>\n",
       "      <td>ensure</td>\n",
       "      <td>5</td>\n",
       "    </tr>\n",
       "    <tr>\n",
       "      <th>125</th>\n",
       "      <td>prepare</td>\n",
       "      <td>5</td>\n",
       "    </tr>\n",
       "    <tr>\n",
       "      <th>327</th>\n",
       "      <td>students</td>\n",
       "      <td>5</td>\n",
       "    </tr>\n",
       "    <tr>\n",
       "      <th>337</th>\n",
       "      <td>soft</td>\n",
       "      <td>5</td>\n",
       "    </tr>\n",
       "    <tr>\n",
       "      <th>207</th>\n",
       "      <td>help</td>\n",
       "      <td>5</td>\n",
       "    </tr>\n",
       "    <tr>\n",
       "      <th>173</th>\n",
       "      <td>strategies</td>\n",
       "      <td>5</td>\n",
       "    </tr>\n",
       "    <tr>\n",
       "      <th>49</th>\n",
       "      <td>require</td>\n",
       "      <td>5</td>\n",
       "    </tr>\n",
       "    <tr>\n",
       "      <th>219</th>\n",
       "      <td>displaced</td>\n",
       "      <td>5</td>\n",
       "    </tr>\n",
       "    <tr>\n",
       "      <th>4</th>\n",
       "      <td>significant</td>\n",
       "      <td>5</td>\n",
       "    </tr>\n",
       "    <tr>\n",
       "      <th>20</th>\n",
       "      <td>productivity</td>\n",
       "      <td>5</td>\n",
       "    </tr>\n",
       "    <tr>\n",
       "      <th>38</th>\n",
       "      <td>potential</td>\n",
       "      <td>5</td>\n",
       "    </tr>\n",
       "    <tr>\n",
       "      <th>111</th>\n",
       "      <td>transition</td>\n",
       "      <td>4</td>\n",
       "    </tr>\n",
       "    <tr>\n",
       "      <th>178</th>\n",
       "      <td>mitigate</td>\n",
       "      <td>4</td>\n",
       "    </tr>\n",
       "    <tr>\n",
       "      <th>184</th>\n",
       "      <td>involve</td>\n",
       "      <td>4</td>\n",
       "    </tr>\n",
       "    <tr>\n",
       "      <th>71</th>\n",
       "      <td>intelligence</td>\n",
       "      <td>4</td>\n",
       "    </tr>\n",
       "    <tr>\n",
       "      <th>263</th>\n",
       "      <td>offer</td>\n",
       "      <td>4</td>\n",
       "    </tr>\n",
       "    <tr>\n",
       "      <th>179</th>\n",
       "      <td>losses</td>\n",
       "      <td>4</td>\n",
       "    </tr>\n",
       "    <tr>\n",
       "      <th>35</th>\n",
       "      <td>labor</td>\n",
       "      <td>4</td>\n",
       "    </tr>\n",
       "    <tr>\n",
       "      <th>190</th>\n",
       "      <td>software</td>\n",
       "      <td>4</td>\n",
       "    </tr>\n",
       "    <tr>\n",
       "      <th>264</th>\n",
       "      <td>ethical</td>\n",
       "      <td>4</td>\n",
       "    </tr>\n",
       "    <tr>\n",
       "      <th>235</th>\n",
       "      <td>technical</td>\n",
       "      <td>4</td>\n",
       "    </tr>\n",
       "    <tr>\n",
       "      <th>80</th>\n",
       "      <td>wages</td>\n",
       "      <td>4</td>\n",
       "    </tr>\n",
       "    <tr>\n",
       "      <th>101</th>\n",
       "      <td>economic</td>\n",
       "      <td>4</td>\n",
       "    </tr>\n",
       "    <tr>\n",
       "      <th>304</th>\n",
       "      <td>knowledge</td>\n",
       "      <td>4</td>\n",
       "    </tr>\n",
       "    <tr>\n",
       "      <th>228</th>\n",
       "      <td>stem</td>\n",
       "      <td>4</td>\n",
       "    </tr>\n",
       "    <tr>\n",
       "      <th>158</th>\n",
       "      <td>flexible</td>\n",
       "      <td>4</td>\n",
       "    </tr>\n",
       "    <tr>\n",
       "      <th>55</th>\n",
       "      <td>skill</td>\n",
       "      <td>4</td>\n",
       "    </tr>\n",
       "    <tr>\n",
       "      <th>198</th>\n",
       "      <td>digital</td>\n",
       "      <td>4</td>\n",
       "    </tr>\n",
       "    <tr>\n",
       "      <th>214</th>\n",
       "      <td>lifelong</td>\n",
       "      <td>4</td>\n",
       "    </tr>\n",
       "    <tr>\n",
       "      <th>143</th>\n",
       "      <td>social</td>\n",
       "      <td>4</td>\n",
       "    </tr>\n",
       "    <tr>\n",
       "      <th>191</th>\n",
       "      <td>creation</td>\n",
       "      <td>4</td>\n",
       "    </tr>\n",
       "    <tr>\n",
       "      <th>269</th>\n",
       "      <td>technologies</td>\n",
       "      <td>3</td>\n",
       "    </tr>\n",
       "    <tr>\n",
       "      <th>268</th>\n",
       "      <td>use</td>\n",
       "      <td>3</td>\n",
       "    </tr>\n",
       "    <tr>\n",
       "      <th>250</th>\n",
       "      <td>partnerships</td>\n",
       "      <td>3</td>\n",
       "    </tr>\n",
       "    <tr>\n",
       "      <th>127</th>\n",
       "      <td>future</td>\n",
       "      <td>3</td>\n",
       "    </tr>\n",
       "    <tr>\n",
       "      <th>102</th>\n",
       "      <td>growth</td>\n",
       "      <td>3</td>\n",
       "    </tr>\n",
       "    <tr>\n",
       "      <th>342</th>\n",
       "      <td>incorporate</td>\n",
       "      <td>3</td>\n",
       "    </tr>\n",
       "    <tr>\n",
       "      <th>267</th>\n",
       "      <td>responsible</td>\n",
       "      <td>3</td>\n",
       "    </tr>\n",
       "    <tr>\n",
       "      <th>31</th>\n",
       "      <td>costs</td>\n",
       "      <td>3</td>\n",
       "    </tr>\n",
       "    <tr>\n",
       "      <th>236</th>\n",
       "      <td>roles</td>\n",
       "      <td>3</td>\n",
       "    </tr>\n",
       "    <tr>\n",
       "      <th>144</th>\n",
       "      <td>safety</td>\n",
       "      <td>3</td>\n",
       "    </tr>\n",
       "    <tr>\n",
       "      <th>29</th>\n",
       "      <td>lower</td>\n",
       "      <td>3</td>\n",
       "    </tr>\n",
       "    <tr>\n",
       "      <th>145</th>\n",
       "      <td>nets</td>\n",
       "      <td>3</td>\n",
       "    </tr>\n",
       "    <tr>\n",
       "      <th>108</th>\n",
       "      <td>create</td>\n",
       "      <td>3</td>\n",
       "    </tr>\n",
       "    <tr>\n",
       "      <th>262</th>\n",
       "      <td>incentives</td>\n",
       "      <td>3</td>\n",
       "    </tr>\n",
       "    <tr>\n",
       "      <th>147</th>\n",
       "      <td>benefits</td>\n",
       "      <td>3</td>\n",
       "    </tr>\n",
       "    <tr>\n",
       "      <th>253</th>\n",
       "      <td>entrepreneurship</td>\n",
       "      <td>3</td>\n",
       "    </tr>\n",
       "    <tr>\n",
       "      <th>166</th>\n",
       "      <td>development</td>\n",
       "      <td>3</td>\n",
       "    </tr>\n",
       "    <tr>\n",
       "      <th>132</th>\n",
       "      <td>government</td>\n",
       "      <td>3</td>\n",
       "    </tr>\n",
       "    <tr>\n",
       "      <th>332</th>\n",
       "      <td>essential</td>\n",
       "      <td>3</td>\n",
       "    </tr>\n",
       "    <tr>\n",
       "      <th>298</th>\n",
       "      <td>changing</td>\n",
       "      <td>3</td>\n",
       "    </tr>\n",
       "    <tr>\n",
       "      <th>63</th>\n",
       "      <td>areas</td>\n",
       "      <td>3</td>\n",
       "    </tr>\n",
       "    <tr>\n",
       "      <th>70</th>\n",
       "      <td>artificial</td>\n",
       "      <td>3</td>\n",
       "    </tr>\n",
       "    <tr>\n",
       "      <th>39</th>\n",
       "      <td>human</td>\n",
       "      <td>3</td>\n",
       "    </tr>\n",
       "    <tr>\n",
       "      <th>211</th>\n",
       "      <td>coding</td>\n",
       "      <td>3</td>\n",
       "    </tr>\n",
       "    <tr>\n",
       "      <th>78</th>\n",
       "      <td>systems</td>\n",
       "      <td>3</td>\n",
       "    </tr>\n",
       "    <tr>\n",
       "      <th>197</th>\n",
       "      <td>acquire</td>\n",
       "      <td>3</td>\n",
       "    </tr>\n",
       "    <tr>\n",
       "      <th>56</th>\n",
       "      <td>shift</td>\n",
       "      <td>3</td>\n",
       "    </tr>\n",
       "    <tr>\n",
       "      <th>330</th>\n",
       "      <td>computer</td>\n",
       "      <td>3</td>\n",
       "    </tr>\n",
       "    <tr>\n",
       "      <th>86</th>\n",
       "      <td>face</td>\n",
       "      <td>3</td>\n",
       "    </tr>\n",
       "    <tr>\n",
       "      <th>199</th>\n",
       "      <td>literacy</td>\n",
       "      <td>3</td>\n",
       "    </tr>\n",
       "    <tr>\n",
       "      <th>208</th>\n",
       "      <td>needed</td>\n",
       "      <td>3</td>\n",
       "    </tr>\n",
       "    <tr>\n",
       "      <th>17</th>\n",
       "      <td>changes</td>\n",
       "      <td>3</td>\n",
       "    </tr>\n",
       "    <tr>\n",
       "      <th>7</th>\n",
       "      <td>vary</td>\n",
       "      <td>2</td>\n",
       "    </tr>\n",
       "    <tr>\n",
       "      <th>356</th>\n",
       "      <td>allow</td>\n",
       "      <td>2</td>\n",
       "    </tr>\n",
       "    <tr>\n",
       "      <th>323</th>\n",
       "      <td>promotes</td>\n",
       "      <td>2</td>\n",
       "    </tr>\n",
       "    <tr>\n",
       "      <th>138</th>\n",
       "      <td>related</td>\n",
       "      <td>2</td>\n",
       "    </tr>\n",
       "    <tr>\n",
       "      <th>209</th>\n",
       "      <td>includes</td>\n",
       "      <td>2</td>\n",
       "    </tr>\n",
       "    <tr>\n",
       "      <th>352</th>\n",
       "      <td>relevant</td>\n",
       "      <td>2</td>\n",
       "    </tr>\n",
       "    <tr>\n",
       "      <th>322</th>\n",
       "      <td>curriculum</td>\n",
       "      <td>2</td>\n",
       "    </tr>\n",
       "    <tr>\n",
       "      <th>46</th>\n",
       "      <td>tasks</td>\n",
       "      <td>2</td>\n",
       "    </tr>\n",
       "    <tr>\n",
       "      <th>251</th>\n",
       "      <td>identify</td>\n",
       "      <td>2</td>\n",
       "    </tr>\n",
       "    <tr>\n",
       "      <th>241</th>\n",
       "      <td>options</td>\n",
       "      <td>2</td>\n",
       "    </tr>\n",
       "    <tr>\n",
       "      <th>169</th>\n",
       "      <td>effectively</td>\n",
       "      <td>2</td>\n",
       "    </tr>\n",
       "    <tr>\n",
       "      <th>151</th>\n",
       "      <td>affect</td>\n",
       "      <td>2</td>\n",
       "    </tr>\n",
       "    <tr>\n",
       "      <th>234</th>\n",
       "      <td>age</td>\n",
       "      <td>2</td>\n",
       "    </tr>\n",
       "    <tr>\n",
       "      <th>133</th>\n",
       "      <td>policy</td>\n",
       "      <td>2</td>\n",
       "    </tr>\n",
       "    <tr>\n",
       "      <th>10</th>\n",
       "      <td>speed</td>\n",
       "      <td>2</td>\n",
       "    </tr>\n",
       "    <tr>\n",
       "      <th>231</th>\n",
       "      <td>engineering</td>\n",
       "      <td>2</td>\n",
       "    </tr>\n",
       "    <tr>\n",
       "      <th>232</th>\n",
       "      <td>mathematics</td>\n",
       "      <td>2</td>\n",
       "    </tr>\n",
       "    <tr>\n",
       "      <th>162</th>\n",
       "      <td>summary</td>\n",
       "      <td>2</td>\n",
       "    </tr>\n",
       "    <tr>\n",
       "      <th>233</th>\n",
       "      <td>early</td>\n",
       "      <td>2</td>\n",
       "    </tr>\n",
       "    <tr>\n",
       "      <th>374</th>\n",
       "      <td>experience</td>\n",
       "      <td>2</td>\n",
       "    </tr>\n",
       "    <tr>\n",
       "      <th>227</th>\n",
       "      <td>promote</td>\n",
       "      <td>2</td>\n",
       "    </tr>\n",
       "    <tr>\n",
       "      <th>240</th>\n",
       "      <td>retraining</td>\n",
       "      <td>2</td>\n",
       "    </tr>\n",
       "    <tr>\n",
       "      <th>223</th>\n",
       "      <td>career</td>\n",
       "      <td>2</td>\n",
       "    </tr>\n",
       "    <tr>\n",
       "      <th>363</th>\n",
       "      <td>needs</td>\n",
       "      <td>2</td>\n",
       "    </tr>\n",
       "    <tr>\n",
       "      <th>222</th>\n",
       "      <td>financial</td>\n",
       "      <td>2</td>\n",
       "    </tr>\n",
       "    <tr>\n",
       "      <th>177</th>\n",
       "      <td>adopt</td>\n",
       "      <td>2</td>\n",
       "    </tr>\n",
       "    <tr>\n",
       "      <th>221</th>\n",
       "      <td>providing</td>\n",
       "      <td>2</td>\n",
       "    </tr>\n",
       "    <tr>\n",
       "      <th>360</th>\n",
       "      <td>paths</td>\n",
       "      <td>2</td>\n",
       "    </tr>\n",
       "    <tr>\n",
       "      <th>11</th>\n",
       "      <td>specific</td>\n",
       "      <td>2</td>\n",
       "    </tr>\n",
       "    <tr>\n",
       "      <th>8</th>\n",
       "      <td>depending</td>\n",
       "      <td>2</td>\n",
       "    </tr>\n",
       "    <tr>\n",
       "      <th>170</th>\n",
       "      <td>requires</td>\n",
       "      <td>2</td>\n",
       "    </tr>\n",
       "    <tr>\n",
       "      <th>131</th>\n",
       "      <td>initiatives</td>\n",
       "      <td>2</td>\n",
       "    </tr>\n",
       "    <tr>\n",
       "      <th>300</th>\n",
       "      <td>adapted</td>\n",
       "      <td>2</td>\n",
       "    </tr>\n",
       "    <tr>\n",
       "      <th>94</th>\n",
       "      <td>logistics</td>\n",
       "      <td>2</td>\n",
       "    </tr>\n",
       "    <tr>\n",
       "      <th>92</th>\n",
       "      <td>example</td>\n",
       "      <td>2</td>\n",
       "    </tr>\n",
       "    <tr>\n",
       "      <th>421</th>\n",
       "      <td>feedback</td>\n",
       "      <td>2</td>\n",
       "    </tr>\n",
       "    <tr>\n",
       "      <th>307</th>\n",
       "      <td>emphasize</td>\n",
       "      <td>2</td>\n",
       "    </tr>\n",
       "    <tr>\n",
       "      <th>85</th>\n",
       "      <td>employment</td>\n",
       "      <td>2</td>\n",
       "    </tr>\n",
       "    <tr>\n",
       "      <th>82</th>\n",
       "      <td>positions</td>\n",
       "      <td>2</td>\n",
       "    </tr>\n",
       "    <tr>\n",
       "      <th>81</th>\n",
       "      <td>automatable</td>\n",
       "      <td>2</td>\n",
       "    </tr>\n",
       "    <tr>\n",
       "      <th>77</th>\n",
       "      <td>design</td>\n",
       "      <td>2</td>\n",
       "    </tr>\n",
       "    <tr>\n",
       "      <th>302</th>\n",
       "      <td>demands</td>\n",
       "      <td>2</td>\n",
       "    </tr>\n",
       "    <tr>\n",
       "      <th>301</th>\n",
       "      <td>better</td>\n",
       "      <td>2</td>\n",
       "    </tr>\n",
       "    <tr>\n",
       "      <th>69</th>\n",
       "      <td>analysis</td>\n",
       "      <td>2</td>\n",
       "    </tr>\n",
       "    <tr>\n",
       "      <th>312</th>\n",
       "      <td>tools</td>\n",
       "      <td>2</td>\n",
       "    </tr>\n",
       "    <tr>\n",
       "      <th>68</th>\n",
       "      <td>data</td>\n",
       "      <td>2</td>\n",
       "    </tr>\n",
       "    <tr>\n",
       "      <th>66</th>\n",
       "      <td>maintenance</td>\n",
       "      <td>2</td>\n",
       "    </tr>\n",
       "    <tr>\n",
       "      <th>65</th>\n",
       "      <td>robotics</td>\n",
       "      <td>2</td>\n",
       "    </tr>\n",
       "    <tr>\n",
       "      <th>64</th>\n",
       "      <td>like</td>\n",
       "      <td>2</td>\n",
       "    </tr>\n",
       "    <tr>\n",
       "      <th>61</th>\n",
       "      <td>often</td>\n",
       "      <td>2</td>\n",
       "    </tr>\n",
       "    <tr>\n",
       "      <th>287</th>\n",
       "      <td>proactive</td>\n",
       "      <td>2</td>\n",
       "    </tr>\n",
       "    <tr>\n",
       "      <th>43</th>\n",
       "      <td>routine</td>\n",
       "      <td>2</td>\n",
       "    </tr>\n",
       "    <tr>\n",
       "      <th>288</th>\n",
       "      <td>approach</td>\n",
       "      <td>2</td>\n",
       "    </tr>\n",
       "    <tr>\n",
       "      <th>45</th>\n",
       "      <td>repetitive</td>\n",
       "      <td>2</td>\n",
       "    </tr>\n",
       "    <tr>\n",
       "      <th>50</th>\n",
       "      <td>many</td>\n",
       "      <td>2</td>\n",
       "    </tr>\n",
       "    <tr>\n",
       "      <th>6</th>\n",
       "      <td>negative</td>\n",
       "      <td>2</td>\n",
       "    </tr>\n",
       "    <tr>\n",
       "      <th>204</th>\n",
       "      <td>higher</td>\n",
       "      <td>2</td>\n",
       "    </tr>\n",
       "    <tr>\n",
       "      <th>316</th>\n",
       "      <td>online</td>\n",
       "      <td>2</td>\n",
       "    </tr>\n",
       "    <tr>\n",
       "      <th>129</th>\n",
       "      <td>upskilling</td>\n",
       "      <td>2</td>\n",
       "    </tr>\n",
       "    <tr>\n",
       "      <th>265</th>\n",
       "      <td>ai</td>\n",
       "      <td>2</td>\n",
       "    </tr>\n",
       "    <tr>\n",
       "      <th>122</th>\n",
       "      <td>nature</td>\n",
       "      <td>2</td>\n",
       "    </tr>\n",
       "    <tr>\n",
       "      <th>22</th>\n",
       "      <td>machines</td>\n",
       "      <td>2</td>\n",
       "    </tr>\n",
       "    <tr>\n",
       "      <th>397</th>\n",
       "      <td>certifications</td>\n",
       "      <td>2</td>\n",
       "    </tr>\n",
       "    <tr>\n",
       "      <th>261</th>\n",
       "      <td>tax</td>\n",
       "      <td>2</td>\n",
       "    </tr>\n",
       "    <tr>\n",
       "      <th>255</th>\n",
       "      <td>consider</td>\n",
       "      <td>2</td>\n",
       "    </tr>\n",
       "    <tr>\n",
       "      <th>398</th>\n",
       "      <td>credentials</td>\n",
       "      <td>2</td>\n",
       "    </tr>\n",
       "    <tr>\n",
       "      <th>317</th>\n",
       "      <td>communication</td>\n",
       "      <td>2</td>\n",
       "    </tr>\n",
       "    <tr>\n",
       "      <th>404</th>\n",
       "      <td>necessary</td>\n",
       "      <td>2</td>\n",
       "    </tr>\n",
       "    <tr>\n",
       "      <th>402</th>\n",
       "      <td>employers</td>\n",
       "      <td>2</td>\n",
       "    </tr>\n",
       "    <tr>\n",
       "      <th>311</th>\n",
       "      <td>navigate</td>\n",
       "      <td>1</td>\n",
       "    </tr>\n",
       "    <tr>\n",
       "      <th>2</th>\n",
       "      <td>due</td>\n",
       "      <td>1</td>\n",
       "    </tr>\n",
       "    <tr>\n",
       "      <th>338</th>\n",
       "      <td>creativity</td>\n",
       "      <td>1</td>\n",
       "    </tr>\n",
       "    <tr>\n",
       "      <th>325</th>\n",
       "      <td>thinking</td>\n",
       "      <td>1</td>\n",
       "    </tr>\n",
       "    <tr>\n",
       "      <th>340</th>\n",
       "      <td>emotional</td>\n",
       "      <td>1</td>\n",
       "    </tr>\n",
       "    <tr>\n",
       "      <th>324</th>\n",
       "      <td>critical</td>\n",
       "      <td>1</td>\n",
       "    </tr>\n",
       "    <tr>\n",
       "      <th>339</th>\n",
       "      <td>adaptability</td>\n",
       "      <td>1</td>\n",
       "    </tr>\n",
       "    <tr>\n",
       "      <th>320</th>\n",
       "      <td>integrate</td>\n",
       "      <td>1</td>\n",
       "    </tr>\n",
       "    <tr>\n",
       "      <th>297</th>\n",
       "      <td>prepared</td>\n",
       "      <td>1</td>\n",
       "    </tr>\n",
       "    <tr>\n",
       "      <th>341</th>\n",
       "      <td>crucial</td>\n",
       "      <td>1</td>\n",
       "    </tr>\n",
       "    <tr>\n",
       "      <th>296</th>\n",
       "      <td>shared</td>\n",
       "      <td>1</td>\n",
       "    </tr>\n",
       "    <tr>\n",
       "      <th>295</th>\n",
       "      <td>broadly</td>\n",
       "      <td>1</td>\n",
       "    </tr>\n",
       "    <tr>\n",
       "      <th>336</th>\n",
       "      <td>algorithms</td>\n",
       "      <td>1</td>\n",
       "    </tr>\n",
       "    <tr>\n",
       "      <th>333</th>\n",
       "      <td>understanding</td>\n",
       "      <td>1</td>\n",
       "    </tr>\n",
       "    <tr>\n",
       "      <th>335</th>\n",
       "      <td>developing</td>\n",
       "      <td>1</td>\n",
       "    </tr>\n",
       "    <tr>\n",
       "      <th>305</th>\n",
       "      <td>several</td>\n",
       "      <td>1</td>\n",
       "    </tr>\n",
       "    <tr>\n",
       "      <th>314</th>\n",
       "      <td>proficiency</td>\n",
       "      <td>1</td>\n",
       "    </tr>\n",
       "    <tr>\n",
       "      <th>310</th>\n",
       "      <td>teach</td>\n",
       "      <td>1</td>\n",
       "    </tr>\n",
       "    <tr>\n",
       "      <th>309</th>\n",
       "      <td>world</td>\n",
       "      <td>1</td>\n",
       "    </tr>\n",
       "    <tr>\n",
       "      <th>329</th>\n",
       "      <td>foundation</td>\n",
       "      <td>1</td>\n",
       "    </tr>\n",
       "    <tr>\n",
       "      <th>308</th>\n",
       "      <td>fundamental</td>\n",
       "      <td>1</td>\n",
       "    </tr>\n",
       "    <tr>\n",
       "      <th>328</th>\n",
       "      <td>strong</td>\n",
       "      <td>1</td>\n",
       "    </tr>\n",
       "    <tr>\n",
       "      <th>321</th>\n",
       "      <td>integrated</td>\n",
       "      <td>1</td>\n",
       "    </tr>\n",
       "    <tr>\n",
       "      <th>331</th>\n",
       "      <td>part</td>\n",
       "      <td>1</td>\n",
       "    </tr>\n",
       "    <tr>\n",
       "      <th>319</th>\n",
       "      <td>awareness</td>\n",
       "      <td>1</td>\n",
       "    </tr>\n",
       "    <tr>\n",
       "      <th>315</th>\n",
       "      <td>basic</td>\n",
       "      <td>1</td>\n",
       "    </tr>\n",
       "    <tr>\n",
       "      <th>5</th>\n",
       "      <td>positive</td>\n",
       "      <td>1</td>\n",
       "    </tr>\n",
       "    <tr>\n",
       "      <th>318</th>\n",
       "      <td>cybersecurity</td>\n",
       "      <td>1</td>\n",
       "    </tr>\n",
       "    <tr>\n",
       "      <th>299</th>\n",
       "      <td>landscape</td>\n",
       "      <td>1</td>\n",
       "    </tr>\n",
       "    <tr>\n",
       "      <th>326</th>\n",
       "      <td>helps</td>\n",
       "      <td>1</td>\n",
       "    </tr>\n",
       "    <tr>\n",
       "      <th>313</th>\n",
       "      <td>platforms</td>\n",
       "      <td>1</td>\n",
       "    </tr>\n",
       "    <tr>\n",
       "      <th>334</th>\n",
       "      <td>behind</td>\n",
       "      <td>1</td>\n",
       "    </tr>\n",
       "    <tr>\n",
       "      <th>306</th>\n",
       "      <td>approaches</td>\n",
       "      <td>1</td>\n",
       "    </tr>\n",
       "    <tr>\n",
       "      <th>48</th>\n",
       "      <td>longer</td>\n",
       "      <td>1</td>\n",
       "    </tr>\n",
       "    <tr>\n",
       "      <th>343</th>\n",
       "      <td>group</td>\n",
       "      <td>1</td>\n",
       "    </tr>\n",
       "    <tr>\n",
       "      <th>406</th>\n",
       "      <td>specifically</td>\n",
       "      <td>1</td>\n",
       "    </tr>\n",
       "    <tr>\n",
       "      <th>414</th>\n",
       "      <td>regardless</td>\n",
       "      <td>1</td>\n",
       "    </tr>\n",
       "    <tr>\n",
       "      <th>413</th>\n",
       "      <td>accessible</td>\n",
       "      <td>1</td>\n",
       "    </tr>\n",
       "    <tr>\n",
       "      <th>412</th>\n",
       "      <td>inclusivity</td>\n",
       "      <td>1</td>\n",
       "    </tr>\n",
       "    <tr>\n",
       "      <th>411</th>\n",
       "      <td>accessibility</td>\n",
       "      <td>1</td>\n",
       "    </tr>\n",
       "    <tr>\n",
       "      <th>410</th>\n",
       "      <td>evolving</td>\n",
       "      <td>1</td>\n",
       "    </tr>\n",
       "    <tr>\n",
       "      <th>409</th>\n",
       "      <td>existing</td>\n",
       "      <td>1</td>\n",
       "    </tr>\n",
       "    <tr>\n",
       "      <th>408</th>\n",
       "      <td>tailored</td>\n",
       "      <td>1</td>\n",
       "    </tr>\n",
       "    <tr>\n",
       "      <th>407</th>\n",
       "      <td>target</td>\n",
       "      <td>1</td>\n",
       "    </tr>\n",
       "    <tr>\n",
       "      <th>405</th>\n",
       "      <td>competencies</td>\n",
       "      <td>1</td>\n",
       "    </tr>\n",
       "    <tr>\n",
       "      <th>416</th>\n",
       "      <td>physical</td>\n",
       "      <td>1</td>\n",
       "    </tr>\n",
       "    <tr>\n",
       "      <th>403</th>\n",
       "      <td>possess</td>\n",
       "      <td>1</td>\n",
       "    </tr>\n",
       "    <tr>\n",
       "      <th>401</th>\n",
       "      <td>signals</td>\n",
       "      <td>1</td>\n",
       "    </tr>\n",
       "    <tr>\n",
       "      <th>400</th>\n",
       "      <td>valuable</td>\n",
       "      <td>1</td>\n",
       "    </tr>\n",
       "    <tr>\n",
       "      <th>399</th>\n",
       "      <td>serve</td>\n",
       "      <td>1</td>\n",
       "    </tr>\n",
       "    <tr>\n",
       "      <th>396</th>\n",
       "      <td>mitigation</td>\n",
       "      <td>1</td>\n",
       "    </tr>\n",
       "    <tr>\n",
       "      <th>395</th>\n",
       "      <td>bias</td>\n",
       "      <td>1</td>\n",
       "    </tr>\n",
       "    <tr>\n",
       "      <th>394</th>\n",
       "      <td>transparency</td>\n",
       "      <td>1</td>\n",
       "    </tr>\n",
       "    <tr>\n",
       "      <th>393</th>\n",
       "      <td>fairness</td>\n",
       "      <td>1</td>\n",
       "    </tr>\n",
       "    <tr>\n",
       "      <th>415</th>\n",
       "      <td>background</td>\n",
       "      <td>1</td>\n",
       "    </tr>\n",
       "    <tr>\n",
       "      <th>417</th>\n",
       "      <td>abilities</td>\n",
       "      <td>1</td>\n",
       "    </tr>\n",
       "    <tr>\n",
       "      <th>391</th>\n",
       "      <td>teamwork</td>\n",
       "      <td>1</td>\n",
       "    </tr>\n",
       "    <tr>\n",
       "      <th>429</th>\n",
       "      <td>involves</td>\n",
       "      <td>1</td>\n",
       "    </tr>\n",
       "    <tr>\n",
       "      <th>437</th>\n",
       "      <td>technological</td>\n",
       "      <td>1</td>\n",
       "    </tr>\n",
       "    <tr>\n",
       "      <th>436</th>\n",
       "      <td>competitive</td>\n",
       "      <td>1</td>\n",
       "    </tr>\n",
       "    <tr>\n",
       "      <th>435</th>\n",
       "      <td>adaptable</td>\n",
       "      <td>1</td>\n",
       "    </tr>\n",
       "    <tr>\n",
       "      <th>434</th>\n",
       "      <td>remains</td>\n",
       "      <td>1</td>\n",
       "    </tr>\n",
       "    <tr>\n",
       "      <th>433</th>\n",
       "      <td>effort</td>\n",
       "      <td>1</td>\n",
       "    </tr>\n",
       "    <tr>\n",
       "      <th>432</th>\n",
       "      <td>commitment</td>\n",
       "      <td>1</td>\n",
       "    </tr>\n",
       "    <tr>\n",
       "      <th>431</th>\n",
       "      <td>combines</td>\n",
       "      <td>1</td>\n",
       "    </tr>\n",
       "    <tr>\n",
       "      <th>430</th>\n",
       "      <td>comprehensive</td>\n",
       "      <td>1</td>\n",
       "    </tr>\n",
       "    <tr>\n",
       "      <th>428</th>\n",
       "      <td>adapting</td>\n",
       "      <td>1</td>\n",
       "    </tr>\n",
       "    <tr>\n",
       "      <th>418</th>\n",
       "      <td>diversity</td>\n",
       "      <td>1</td>\n",
       "    </tr>\n",
       "    <tr>\n",
       "      <th>427</th>\n",
       "      <td>adjustments</td>\n",
       "      <td>1</td>\n",
       "    </tr>\n",
       "    <tr>\n",
       "      <th>426</th>\n",
       "      <td>make</td>\n",
       "      <td>1</td>\n",
       "    </tr>\n",
       "    <tr>\n",
       "      <th>425</th>\n",
       "      <td>gather</td>\n",
       "      <td>1</td>\n",
       "    </tr>\n",
       "    <tr>\n",
       "      <th>424</th>\n",
       "      <td>effectiveness</td>\n",
       "      <td>1</td>\n",
       "    </tr>\n",
       "    <tr>\n",
       "      <th>423</th>\n",
       "      <td>assess</td>\n",
       "      <td>1</td>\n",
       "    </tr>\n",
       "    <tr>\n",
       "      <th>422</th>\n",
       "      <td>regularly</td>\n",
       "      <td>1</td>\n",
       "    </tr>\n",
       "    <tr>\n",
       "      <th>420</th>\n",
       "      <td>assessment</td>\n",
       "      <td>1</td>\n",
       "    </tr>\n",
       "    <tr>\n",
       "      <th>419</th>\n",
       "      <td>continuous</td>\n",
       "      <td>1</td>\n",
       "    </tr>\n",
       "    <tr>\n",
       "      <th>392</th>\n",
       "      <td>importance</td>\n",
       "      <td>1</td>\n",
       "    </tr>\n",
       "    <tr>\n",
       "      <th>390</th>\n",
       "      <td>leadership</td>\n",
       "      <td>1</td>\n",
       "    </tr>\n",
       "    <tr>\n",
       "      <th>344</th>\n",
       "      <td>projects</td>\n",
       "      <td>1</td>\n",
       "    </tr>\n",
       "    <tr>\n",
       "      <th>355</th>\n",
       "      <td>classes</td>\n",
       "      <td>1</td>\n",
       "    </tr>\n",
       "    <tr>\n",
       "      <th>366</th>\n",
       "      <td>personalized</td>\n",
       "      <td>1</td>\n",
       "    </tr>\n",
       "    <tr>\n",
       "      <th>365</th>\n",
       "      <td>points</td>\n",
       "      <td>1</td>\n",
       "    </tr>\n",
       "    <tr>\n",
       "      <th>364</th>\n",
       "      <td>starting</td>\n",
       "      <td>1</td>\n",
       "    </tr>\n",
       "    <tr>\n",
       "      <th>362</th>\n",
       "      <td>learners</td>\n",
       "      <td>1</td>\n",
       "    </tr>\n",
       "    <tr>\n",
       "      <th>361</th>\n",
       "      <td>recognize</td>\n",
       "      <td>1</td>\n",
       "    </tr>\n",
       "    <tr>\n",
       "      <th>359</th>\n",
       "      <td>customized</td>\n",
       "      <td>1</td>\n",
       "    </tr>\n",
       "    <tr>\n",
       "      <th>358</th>\n",
       "      <td>careers</td>\n",
       "      <td>1</td>\n",
       "    </tr>\n",
       "    <tr>\n",
       "      <th>357</th>\n",
       "      <td>throughout</td>\n",
       "      <td>1</td>\n",
       "    </tr>\n",
       "    <tr>\n",
       "      <th>354</th>\n",
       "      <td>evening</td>\n",
       "      <td>1</td>\n",
       "    </tr>\n",
       "    <tr>\n",
       "      <th>293</th>\n",
       "      <td>emerging</td>\n",
       "      <td>1</td>\n",
       "    </tr>\n",
       "    <tr>\n",
       "      <th>353</th>\n",
       "      <td>courses</td>\n",
       "      <td>1</td>\n",
       "    </tr>\n",
       "    <tr>\n",
       "      <th>351</th>\n",
       "      <td>stay</td>\n",
       "      <td>1</td>\n",
       "    </tr>\n",
       "    <tr>\n",
       "      <th>350</th>\n",
       "      <td>update</td>\n",
       "      <td>1</td>\n",
       "    </tr>\n",
       "    <tr>\n",
       "      <th>349</th>\n",
       "      <td>continuously</td>\n",
       "      <td>1</td>\n",
       "    </tr>\n",
       "    <tr>\n",
       "      <th>348</th>\n",
       "      <td>culture</td>\n",
       "      <td>1</td>\n",
       "    </tr>\n",
       "    <tr>\n",
       "      <th>347</th>\n",
       "      <td>activities</td>\n",
       "      <td>1</td>\n",
       "    </tr>\n",
       "    <tr>\n",
       "      <th>346</th>\n",
       "      <td>interpersonal</td>\n",
       "      <td>1</td>\n",
       "    </tr>\n",
       "    <tr>\n",
       "      <th>345</th>\n",
       "      <td>presentations</td>\n",
       "      <td>1</td>\n",
       "    </tr>\n",
       "    <tr>\n",
       "      <th>367</th>\n",
       "      <td>focus</td>\n",
       "      <td>1</td>\n",
       "    </tr>\n",
       "    <tr>\n",
       "      <th>368</th>\n",
       "      <td>goals</td>\n",
       "      <td>1</td>\n",
       "    </tr>\n",
       "    <tr>\n",
       "      <th>389</th>\n",
       "      <td>tech</td>\n",
       "      <td>1</td>\n",
       "    </tr>\n",
       "    <tr>\n",
       "      <th>380</th>\n",
       "      <td>environments</td>\n",
       "      <td>1</td>\n",
       "    </tr>\n",
       "    <tr>\n",
       "      <th>388</th>\n",
       "      <td>health</td>\n",
       "      <td>1</td>\n",
       "    </tr>\n",
       "    <tr>\n",
       "      <th>387</th>\n",
       "      <td>healthcare</td>\n",
       "      <td>1</td>\n",
       "    </tr>\n",
       "    <tr>\n",
       "      <th>386</th>\n",
       "      <td>combining</td>\n",
       "      <td>1</td>\n",
       "    </tr>\n",
       "    <tr>\n",
       "      <th>385</th>\n",
       "      <td>fields</td>\n",
       "      <td>1</td>\n",
       "    </tr>\n",
       "    <tr>\n",
       "      <th>384</th>\n",
       "      <td>combine</td>\n",
       "      <td>1</td>\n",
       "    </tr>\n",
       "    <tr>\n",
       "      <th>383</th>\n",
       "      <td>allows</td>\n",
       "      <td>1</td>\n",
       "    </tr>\n",
       "    <tr>\n",
       "      <th>382</th>\n",
       "      <td>align</td>\n",
       "      <td>1</td>\n",
       "    </tr>\n",
       "    <tr>\n",
       "      <th>381</th>\n",
       "      <td>collaborate</td>\n",
       "      <td>1</td>\n",
       "    </tr>\n",
       "    <tr>\n",
       "      <th>379</th>\n",
       "      <td>workplace</td>\n",
       "      <td>1</td>\n",
       "    </tr>\n",
       "    <tr>\n",
       "      <th>369</th>\n",
       "      <td>adaptive</td>\n",
       "      <td>1</td>\n",
       "    </tr>\n",
       "    <tr>\n",
       "      <th>378</th>\n",
       "      <td>exposure</td>\n",
       "      <td>1</td>\n",
       "    </tr>\n",
       "    <tr>\n",
       "      <th>377</th>\n",
       "      <td>apprenticeships</td>\n",
       "      <td>1</td>\n",
       "    </tr>\n",
       "    <tr>\n",
       "      <th>376</th>\n",
       "      <td>internships</td>\n",
       "      <td>1</td>\n",
       "    </tr>\n",
       "    <tr>\n",
       "      <th>375</th>\n",
       "      <td>practical</td>\n",
       "      <td>1</td>\n",
       "    </tr>\n",
       "    <tr>\n",
       "      <th>373</th>\n",
       "      <td>individual</td>\n",
       "      <td>1</td>\n",
       "    </tr>\n",
       "    <tr>\n",
       "      <th>372</th>\n",
       "      <td>content</td>\n",
       "      <td>1</td>\n",
       "    </tr>\n",
       "    <tr>\n",
       "      <th>371</th>\n",
       "      <td>educational</td>\n",
       "      <td>1</td>\n",
       "    </tr>\n",
       "    <tr>\n",
       "      <th>370</th>\n",
       "      <td>tailor</td>\n",
       "      <td>1</td>\n",
       "    </tr>\n",
       "    <tr>\n",
       "      <th>294</th>\n",
       "      <td>goal</td>\n",
       "      <td>1</td>\n",
       "    </tr>\n",
       "    <tr>\n",
       "      <th>243</th>\n",
       "      <td>impacts</td>\n",
       "      <td>1</td>\n",
       "    </tr>\n",
       "    <tr>\n",
       "      <th>292</th>\n",
       "      <td>innovation</td>\n",
       "      <td>1</td>\n",
       "    </tr>\n",
       "    <tr>\n",
       "      <th>171</th>\n",
       "      <td>combination</td>\n",
       "      <td>1</td>\n",
       "    </tr>\n",
       "    <tr>\n",
       "      <th>141</th>\n",
       "      <td>rights</td>\n",
       "      <td>1</td>\n",
       "    </tr>\n",
       "    <tr>\n",
       "      <th>140</th>\n",
       "      <td>wage</td>\n",
       "      <td>1</td>\n",
       "    </tr>\n",
       "    <tr>\n",
       "      <th>139</th>\n",
       "      <td>minimum</td>\n",
       "      <td>1</td>\n",
       "    </tr>\n",
       "    <tr>\n",
       "      <th>136</th>\n",
       "      <td>shaping</td>\n",
       "      <td>1</td>\n",
       "    </tr>\n",
       "    <tr>\n",
       "      <th>135</th>\n",
       "      <td>role</td>\n",
       "      <td>1</td>\n",
       "    </tr>\n",
       "    <tr>\n",
       "      <th>134</th>\n",
       "      <td>play</td>\n",
       "      <td>1</td>\n",
       "    </tr>\n",
       "    <tr>\n",
       "      <th>130</th>\n",
       "      <td>reskilling</td>\n",
       "      <td>1</td>\n",
       "    </tr>\n",
       "    <tr>\n",
       "      <th>23</th>\n",
       "      <td>robots</td>\n",
       "      <td>1</td>\n",
       "    </tr>\n",
       "    <tr>\n",
       "      <th>25</th>\n",
       "      <td>without</td>\n",
       "      <td>1</td>\n",
       "    </tr>\n",
       "    <tr>\n",
       "      <th>27</th>\n",
       "      <td>breaks</td>\n",
       "      <td>1</td>\n",
       "    </tr>\n",
       "    <tr>\n",
       "      <th>123</th>\n",
       "      <td>growing</td>\n",
       "      <td>1</td>\n",
       "    </tr>\n",
       "    <tr>\n",
       "      <th>28</th>\n",
       "      <td>vacations</td>\n",
       "      <td>1</td>\n",
       "    </tr>\n",
       "    <tr>\n",
       "      <th>119</th>\n",
       "      <td>expensive</td>\n",
       "      <td>1</td>\n",
       "    </tr>\n",
       "    <tr>\n",
       "      <th>118</th>\n",
       "      <td>processes</td>\n",
       "      <td>1</td>\n",
       "    </tr>\n",
       "    <tr>\n",
       "      <th>117</th>\n",
       "      <td>adapt</td>\n",
       "      <td>1</td>\n",
       "    </tr>\n",
       "    <tr>\n",
       "      <th>142</th>\n",
       "      <td>taxation</td>\n",
       "      <td>1</td>\n",
       "    </tr>\n",
       "    <tr>\n",
       "      <th>146</th>\n",
       "      <td>influence</td>\n",
       "      <td>1</td>\n",
       "    </tr>\n",
       "    <tr>\n",
       "      <th>148</th>\n",
       "      <td>distributed</td>\n",
       "      <td>1</td>\n",
       "    </tr>\n",
       "    <tr>\n",
       "      <th>159</th>\n",
       "      <td>others</td>\n",
       "      <td>1</td>\n",
       "    </tr>\n",
       "    <tr>\n",
       "      <th>167</th>\n",
       "      <td>adaptation</td>\n",
       "      <td>1</td>\n",
       "    </tr>\n",
       "    <tr>\n",
       "      <th>165</th>\n",
       "      <td>challenges</td>\n",
       "      <td>1</td>\n",
       "    </tr>\n",
       "    <tr>\n",
       "      <th>164</th>\n",
       "      <td>poses</td>\n",
       "      <td>1</td>\n",
       "    </tr>\n",
       "    <tr>\n",
       "      <th>163</th>\n",
       "      <td>multifaceted</td>\n",
       "      <td>1</td>\n",
       "    </tr>\n",
       "    <tr>\n",
       "      <th>161</th>\n",
       "      <td>attention</td>\n",
       "      <td>1</td>\n",
       "    </tr>\n",
       "    <tr>\n",
       "      <th>160</th>\n",
       "      <td>constant</td>\n",
       "      <td>1</td>\n",
       "    </tr>\n",
       "    <tr>\n",
       "      <th>157</th>\n",
       "      <td>become</td>\n",
       "      <td>1</td>\n",
       "    </tr>\n",
       "    <tr>\n",
       "      <th>149</th>\n",
       "      <td>beyond</td>\n",
       "      <td>1</td>\n",
       "    </tr>\n",
       "    <tr>\n",
       "      <th>156</th>\n",
       "      <td>balance</td>\n",
       "      <td>1</td>\n",
       "    </tr>\n",
       "    <tr>\n",
       "      <th>155</th>\n",
       "      <td>relocate</td>\n",
       "      <td>1</td>\n",
       "    </tr>\n",
       "    <tr>\n",
       "      <th>154</th>\n",
       "      <td>people</td>\n",
       "      <td>1</td>\n",
       "    </tr>\n",
       "    <tr>\n",
       "      <th>153</th>\n",
       "      <td>communities</td>\n",
       "      <td>1</td>\n",
       "    </tr>\n",
       "    <tr>\n",
       "      <th>152</th>\n",
       "      <td>structure</td>\n",
       "      <td>1</td>\n",
       "    </tr>\n",
       "    <tr>\n",
       "      <th>150</th>\n",
       "      <td>economics</td>\n",
       "      <td>1</td>\n",
       "    </tr>\n",
       "    <tr>\n",
       "      <th>116</th>\n",
       "      <td>retrain</td>\n",
       "      <td>1</td>\n",
       "    </tr>\n",
       "    <tr>\n",
       "      <th>30</th>\n",
       "      <td>production</td>\n",
       "      <td>1</td>\n",
       "    </tr>\n",
       "    <tr>\n",
       "      <th>113</th>\n",
       "      <td>costly</td>\n",
       "      <td>1</td>\n",
       "    </tr>\n",
       "    <tr>\n",
       "      <th>73</th>\n",
       "      <td>demand</td>\n",
       "      <td>1</td>\n",
       "    </tr>\n",
       "    <tr>\n",
       "      <th>34</th>\n",
       "      <td>consumers</td>\n",
       "      <td>1</td>\n",
       "    </tr>\n",
       "    <tr>\n",
       "      <th>84</th>\n",
       "      <td>find</td>\n",
       "      <td>1</td>\n",
       "    </tr>\n",
       "    <tr>\n",
       "      <th>83</th>\n",
       "      <td>struggle</td>\n",
       "      <td>1</td>\n",
       "    </tr>\n",
       "    <tr>\n",
       "      <th>79</th>\n",
       "      <td>see</td>\n",
       "      <td>1</td>\n",
       "    </tr>\n",
       "    <tr>\n",
       "      <th>76</th>\n",
       "      <td>exacerbate</td>\n",
       "      <td>1</td>\n",
       "    </tr>\n",
       "    <tr>\n",
       "      <th>37</th>\n",
       "      <td>one</td>\n",
       "      <td>1</td>\n",
       "    </tr>\n",
       "    <tr>\n",
       "      <th>72</th>\n",
       "      <td>types</td>\n",
       "      <td>1</td>\n",
       "    </tr>\n",
       "    <tr>\n",
       "      <th>89</th>\n",
       "      <td>entire</td>\n",
       "      <td>1</td>\n",
       "    </tr>\n",
       "    <tr>\n",
       "      <th>67</th>\n",
       "      <td>programming</td>\n",
       "      <td>1</td>\n",
       "    </tr>\n",
       "    <tr>\n",
       "      <th>60</th>\n",
       "      <td>created</td>\n",
       "      <td>1</td>\n",
       "    </tr>\n",
       "    <tr>\n",
       "      <th>57</th>\n",
       "      <td>lost</td>\n",
       "      <td>1</td>\n",
       "    </tr>\n",
       "    <tr>\n",
       "      <th>44</th>\n",
       "      <td>manual</td>\n",
       "      <td>1</td>\n",
       "    </tr>\n",
       "    <tr>\n",
       "      <th>52</th>\n",
       "      <td>unemployment</td>\n",
       "      <td>1</td>\n",
       "    </tr>\n",
       "    <tr>\n",
       "      <th>51</th>\n",
       "      <td>leading</td>\n",
       "      <td>1</td>\n",
       "    </tr>\n",
       "    <tr>\n",
       "      <th>88</th>\n",
       "      <td>transformation</td>\n",
       "      <td>1</td>\n",
       "    </tr>\n",
       "    <tr>\n",
       "      <th>90</th>\n",
       "      <td>transformed</td>\n",
       "      <td>1</td>\n",
       "    </tr>\n",
       "    <tr>\n",
       "      <th>112</th>\n",
       "      <td>transitioning</td>\n",
       "      <td>1</td>\n",
       "    </tr>\n",
       "    <tr>\n",
       "      <th>103</th>\n",
       "      <td>despite</td>\n",
       "      <td>1</td>\n",
       "    </tr>\n",
       "    <tr>\n",
       "      <th>32</th>\n",
       "      <td>potentially</td>\n",
       "      <td>1</td>\n",
       "    </tr>\n",
       "    <tr>\n",
       "      <th>33</th>\n",
       "      <td>prices</td>\n",
       "      <td>1</td>\n",
       "    </tr>\n",
       "    <tr>\n",
       "      <th>107</th>\n",
       "      <td>activity</td>\n",
       "      <td>1</td>\n",
       "    </tr>\n",
       "    <tr>\n",
       "      <th>106</th>\n",
       "      <td>stimulate</td>\n",
       "      <td>1</td>\n",
       "    </tr>\n",
       "    <tr>\n",
       "      <th>105</th>\n",
       "      <td>efficiency</td>\n",
       "      <td>1</td>\n",
       "    </tr>\n",
       "    <tr>\n",
       "      <th>104</th>\n",
       "      <td>overall</td>\n",
       "      <td>1</td>\n",
       "    </tr>\n",
       "    <tr>\n",
       "      <th>100</th>\n",
       "      <td>sectors</td>\n",
       "      <td>1</td>\n",
       "    </tr>\n",
       "    <tr>\n",
       "      <th>91</th>\n",
       "      <td>disrupted</td>\n",
       "      <td>1</td>\n",
       "    </tr>\n",
       "    <tr>\n",
       "      <th>99</th>\n",
       "      <td>transportation</td>\n",
       "      <td>1</td>\n",
       "    </tr>\n",
       "    <tr>\n",
       "      <th>98</th>\n",
       "      <td>retail</td>\n",
       "      <td>1</td>\n",
       "    </tr>\n",
       "    <tr>\n",
       "      <th>97</th>\n",
       "      <td>traditional</td>\n",
       "      <td>1</td>\n",
       "    </tr>\n",
       "    <tr>\n",
       "      <th>96</th>\n",
       "      <td>impacted</td>\n",
       "      <td>1</td>\n",
       "    </tr>\n",
       "    <tr>\n",
       "      <th>95</th>\n",
       "      <td>significantly</td>\n",
       "      <td>1</td>\n",
       "    </tr>\n",
       "    <tr>\n",
       "      <th>93</th>\n",
       "      <td>rise</td>\n",
       "      <td>1</td>\n",
       "    </tr>\n",
       "    <tr>\n",
       "      <th>168</th>\n",
       "      <td>managing</td>\n",
       "      <td>1</td>\n",
       "    </tr>\n",
       "    <tr>\n",
       "      <th>172</th>\n",
       "      <td>business</td>\n",
       "      <td>1</td>\n",
       "    </tr>\n",
       "    <tr>\n",
       "      <th>291</th>\n",
       "      <td>fostering</td>\n",
       "      <td>1</td>\n",
       "    </tr>\n",
       "    <tr>\n",
       "      <th>18</th>\n",
       "      <td>key</td>\n",
       "      <td>1</td>\n",
       "    </tr>\n",
       "    <tr>\n",
       "      <th>266</th>\n",
       "      <td>practices</td>\n",
       "      <td>1</td>\n",
       "    </tr>\n",
       "    <tr>\n",
       "      <th>260</th>\n",
       "      <td>schedules</td>\n",
       "      <td>1</td>\n",
       "    </tr>\n",
       "    <tr>\n",
       "      <th>259</th>\n",
       "      <td>alternative</td>\n",
       "      <td>1</td>\n",
       "    </tr>\n",
       "    <tr>\n",
       "      <th>258</th>\n",
       "      <td>arrangements</td>\n",
       "      <td>1</td>\n",
       "    </tr>\n",
       "    <tr>\n",
       "      <th>257</th>\n",
       "      <td>remote</td>\n",
       "      <td>1</td>\n",
       "    </tr>\n",
       "    <tr>\n",
       "      <th>256</th>\n",
       "      <td>accommodate</td>\n",
       "      <td>1</td>\n",
       "    </tr>\n",
       "    <tr>\n",
       "      <th>254</th>\n",
       "      <td>emergence</td>\n",
       "      <td>1</td>\n",
       "    </tr>\n",
       "    <tr>\n",
       "      <th>252</th>\n",
       "      <td>gaps</td>\n",
       "      <td>1</td>\n",
       "    </tr>\n",
       "    <tr>\n",
       "      <th>249</th>\n",
       "      <td>accordingly</td>\n",
       "      <td>1</td>\n",
       "    </tr>\n",
       "    <tr>\n",
       "      <th>248</th>\n",
       "      <td>plan</td>\n",
       "      <td>1</td>\n",
       "    </tr>\n",
       "    <tr>\n",
       "      <th>247</th>\n",
       "      <td>anticipate</td>\n",
       "      <td>1</td>\n",
       "    </tr>\n",
       "    <tr>\n",
       "      <th>246</th>\n",
       "      <td>together</td>\n",
       "      <td>1</td>\n",
       "    </tr>\n",
       "    <tr>\n",
       "      <th>244</th>\n",
       "      <td>loss</td>\n",
       "      <td>1</td>\n",
       "    </tr>\n",
       "    <tr>\n",
       "      <th>242</th>\n",
       "      <td>reduce</td>\n",
       "      <td>1</td>\n",
       "    </tr>\n",
       "    <tr>\n",
       "      <th>238</th>\n",
       "      <td>strengthen</td>\n",
       "      <td>1</td>\n",
       "    </tr>\n",
       "    <tr>\n",
       "      <th>270</th>\n",
       "      <td>promoting</td>\n",
       "      <td>1</td>\n",
       "    </tr>\n",
       "    <tr>\n",
       "      <th>271</th>\n",
       "      <td>guidelines</td>\n",
       "      <td>1</td>\n",
       "    </tr>\n",
       "    <tr>\n",
       "      <th>272</th>\n",
       "      <td>regulations</td>\n",
       "      <td>1</td>\n",
       "    </tr>\n",
       "    <tr>\n",
       "      <th>282</th>\n",
       "      <td>replace</td>\n",
       "      <td>1</td>\n",
       "    </tr>\n",
       "    <tr>\n",
       "      <th>290</th>\n",
       "      <td>supporting</td>\n",
       "      <td>1</td>\n",
       "    </tr>\n",
       "    <tr>\n",
       "      <th>289</th>\n",
       "      <td>investing</td>\n",
       "      <td>1</td>\n",
       "    </tr>\n",
       "    <tr>\n",
       "      <th>286</th>\n",
       "      <td>take</td>\n",
       "      <td>1</td>\n",
       "    </tr>\n",
       "    <tr>\n",
       "      <th>285</th>\n",
       "      <td>offers</td>\n",
       "      <td>1</td>\n",
       "    </tr>\n",
       "    <tr>\n",
       "      <th>284</th>\n",
       "      <td>conclusion</td>\n",
       "      <td>1</td>\n",
       "    </tr>\n",
       "    <tr>\n",
       "      <th>283</th>\n",
       "      <td>entirely</td>\n",
       "      <td>1</td>\n",
       "    </tr>\n",
       "    <tr>\n",
       "      <th>281</th>\n",
       "      <td>rather</td>\n",
       "      <td>1</td>\n",
       "    </tr>\n",
       "    <tr>\n",
       "      <th>274</th>\n",
       "      <td>society</td>\n",
       "      <td>1</td>\n",
       "    </tr>\n",
       "    <tr>\n",
       "      <th>280</th>\n",
       "      <td>complement</td>\n",
       "      <td>1</td>\n",
       "    </tr>\n",
       "    <tr>\n",
       "      <th>279</th>\n",
       "      <td>input</td>\n",
       "      <td>1</td>\n",
       "    </tr>\n",
       "    <tr>\n",
       "      <th>278</th>\n",
       "      <td>possible</td>\n",
       "      <td>1</td>\n",
       "    </tr>\n",
       "    <tr>\n",
       "      <th>277</th>\n",
       "      <td>smooth</td>\n",
       "      <td>1</td>\n",
       "    </tr>\n",
       "    <tr>\n",
       "      <th>276</th>\n",
       "      <td>management</td>\n",
       "      <td>1</td>\n",
       "    </tr>\n",
       "    <tr>\n",
       "      <th>275</th>\n",
       "      <td>whole</td>\n",
       "      <td>1</td>\n",
       "    </tr>\n",
       "    <tr>\n",
       "      <th>9</th>\n",
       "      <td>extent</td>\n",
       "      <td>1</td>\n",
       "    </tr>\n",
       "    <tr>\n",
       "      <th>226</th>\n",
       "      <td>services</td>\n",
       "      <td>1</td>\n",
       "    </tr>\n",
       "    <tr>\n",
       "      <th>225</th>\n",
       "      <td>placement</td>\n",
       "      <td>1</td>\n",
       "    </tr>\n",
       "    <tr>\n",
       "      <th>185</th>\n",
       "      <td>particularly</td>\n",
       "      <td>1</td>\n",
       "    </tr>\n",
       "    <tr>\n",
       "      <th>193</th>\n",
       "      <td>different</td>\n",
       "      <td>1</td>\n",
       "    </tr>\n",
       "    <tr>\n",
       "      <th>192</th>\n",
       "      <td>requirements</td>\n",
       "      <td>1</td>\n",
       "    </tr>\n",
       "    <tr>\n",
       "      <th>189</th>\n",
       "      <td>replaced</td>\n",
       "      <td>1</td>\n",
       "    </tr>\n",
       "    <tr>\n",
       "      <th>188</th>\n",
       "      <td>service</td>\n",
       "      <td>1</td>\n",
       "    </tr>\n",
       "    <tr>\n",
       "      <th>187</th>\n",
       "      <td>customer</td>\n",
       "      <td>1</td>\n",
       "    </tr>\n",
       "    <tr>\n",
       "      <th>186</th>\n",
       "      <td>manufacturing</td>\n",
       "      <td>1</td>\n",
       "    </tr>\n",
       "    <tr>\n",
       "      <th>183</th>\n",
       "      <td>ways</td>\n",
       "      <td>1</td>\n",
       "    </tr>\n",
       "    <tr>\n",
       "      <th>195</th>\n",
       "      <td>becomes</td>\n",
       "      <td>1</td>\n",
       "    </tr>\n",
       "    <tr>\n",
       "      <th>182</th>\n",
       "      <td>implementation</td>\n",
       "      <td>1</td>\n",
       "    </tr>\n",
       "    <tr>\n",
       "      <th>181</th>\n",
       "      <td>level</td>\n",
       "      <td>1</td>\n",
       "    </tr>\n",
       "    <tr>\n",
       "      <th>180</th>\n",
       "      <td>effects</td>\n",
       "      <td>1</td>\n",
       "    </tr>\n",
       "    <tr>\n",
       "      <th>176</th>\n",
       "      <td>might</td>\n",
       "      <td>1</td>\n",
       "    </tr>\n",
       "    <tr>\n",
       "      <th>175</th>\n",
       "      <td>efforts</td>\n",
       "      <td>1</td>\n",
       "    </tr>\n",
       "    <tr>\n",
       "      <th>174</th>\n",
       "      <td>preparedness</td>\n",
       "      <td>1</td>\n",
       "    </tr>\n",
       "    <tr>\n",
       "      <th>194</th>\n",
       "      <td>set</td>\n",
       "      <td>1</td>\n",
       "    </tr>\n",
       "    <tr>\n",
       "      <th>196</th>\n",
       "      <td>prevalent</td>\n",
       "      <td>1</td>\n",
       "    </tr>\n",
       "    <tr>\n",
       "      <th>224</th>\n",
       "      <td>counseling</td>\n",
       "      <td>1</td>\n",
       "    </tr>\n",
       "    <tr>\n",
       "      <th>213</th>\n",
       "      <td>camps</td>\n",
       "      <td>1</td>\n",
       "    </tr>\n",
       "    <tr>\n",
       "      <th>220</th>\n",
       "      <td>could</td>\n",
       "      <td>1</td>\n",
       "    </tr>\n",
       "    <tr>\n",
       "      <th>13</th>\n",
       "      <td>affected</td>\n",
       "      <td>1</td>\n",
       "    </tr>\n",
       "    <tr>\n",
       "      <th>218</th>\n",
       "      <td>implement</td>\n",
       "      <td>1</td>\n",
       "    </tr>\n",
       "    <tr>\n",
       "      <th>217</th>\n",
       "      <td>assistance</td>\n",
       "      <td>1</td>\n",
       "    </tr>\n",
       "    <tr>\n",
       "      <th>15</th>\n",
       "      <td>place</td>\n",
       "      <td>1</td>\n",
       "    </tr>\n",
       "    <tr>\n",
       "      <th>16</th>\n",
       "      <td>manage</td>\n",
       "      <td>1</td>\n",
       "    </tr>\n",
       "    <tr>\n",
       "      <th>212</th>\n",
       "      <td>boot</td>\n",
       "      <td>1</td>\n",
       "    </tr>\n",
       "    <tr>\n",
       "      <th>200</th>\n",
       "      <td>ability</td>\n",
       "      <td>1</td>\n",
       "    </tr>\n",
       "    <tr>\n",
       "      <th>210</th>\n",
       "      <td>vocational</td>\n",
       "      <td>1</td>\n",
       "    </tr>\n",
       "    <tr>\n",
       "      <th>206</th>\n",
       "      <td>declining</td>\n",
       "      <td>1</td>\n",
       "    </tr>\n",
       "    <tr>\n",
       "      <th>205</th>\n",
       "      <td>stagnant</td>\n",
       "      <td>1</td>\n",
       "    </tr>\n",
       "    <tr>\n",
       "      <th>203</th>\n",
       "      <td>earn</td>\n",
       "      <td>1</td>\n",
       "    </tr>\n",
       "    <tr>\n",
       "      <th>202</th>\n",
       "      <td>operate</td>\n",
       "      <td>1</td>\n",
       "    </tr>\n",
       "    <tr>\n",
       "      <th>201</th>\n",
       "      <td>alongside</td>\n",
       "      <td>1</td>\n",
       "    </tr>\n",
       "    <tr>\n",
       "      <th>438</th>\n",
       "      <td>change</td>\n",
       "      <td>1</td>\n",
       "    </tr>\n",
       "  </tbody>\n",
       "</table>\n",
       "</div>"
      ],
      "text/plain": [
       "                 Word  Frequency\n",
       "3          automation         37\n",
       "62             skills         27\n",
       "74                job         24\n",
       "120         education         20\n",
       "121          training         17\n",
       "47                may         16\n",
       "41               jobs         14\n",
       "40            workers         14\n",
       "124          programs         14\n",
       "58                new         11\n",
       "110        businesses         11\n",
       "126         workforce         10\n",
       "215          learning         10\n",
       "42          automated         10\n",
       "24               work          9\n",
       "109     opportunities          9\n",
       "26               need          9\n",
       "137            impact          8\n",
       "59               also          8\n",
       "21               lead          8\n",
       "0        implications          8\n",
       "229         encourage          8\n",
       "1             economy          8\n",
       "303       individuals          7\n",
       "36       displacement          7\n",
       "75             market          7\n",
       "19          increased          6\n",
       "53             income          6\n",
       "54         inequality          6\n",
       "237           develop          6\n",
       "128       governments          6\n",
       "87           industry          6\n",
       "12         industries          6\n",
       "14           policies          6\n",
       "114            invest          5\n",
       "230           science          5\n",
       "115        technology          5\n",
       "216           support          5\n",
       "239           provide          5\n",
       "245     collaboration          5\n",
       "273            ensure          5\n",
       "125           prepare          5\n",
       "327          students          5\n",
       "337              soft          5\n",
       "207              help          5\n",
       "173        strategies          5\n",
       "49            require          5\n",
       "219         displaced          5\n",
       "4         significant          5\n",
       "20       productivity          5\n",
       "38          potential          5\n",
       "111        transition          4\n",
       "178          mitigate          4\n",
       "184           involve          4\n",
       "71       intelligence          4\n",
       "263             offer          4\n",
       "179            losses          4\n",
       "35              labor          4\n",
       "190          software          4\n",
       "264           ethical          4\n",
       "235         technical          4\n",
       "80              wages          4\n",
       "101          economic          4\n",
       "304         knowledge          4\n",
       "228              stem          4\n",
       "158          flexible          4\n",
       "55              skill          4\n",
       "198           digital          4\n",
       "214          lifelong          4\n",
       "143            social          4\n",
       "191          creation          4\n",
       "269      technologies          3\n",
       "268               use          3\n",
       "250      partnerships          3\n",
       "127            future          3\n",
       "102            growth          3\n",
       "342       incorporate          3\n",
       "267       responsible          3\n",
       "31              costs          3\n",
       "236             roles          3\n",
       "144            safety          3\n",
       "29              lower          3\n",
       "145              nets          3\n",
       "108            create          3\n",
       "262        incentives          3\n",
       "147          benefits          3\n",
       "253  entrepreneurship          3\n",
       "166       development          3\n",
       "132        government          3\n",
       "332         essential          3\n",
       "298          changing          3\n",
       "63              areas          3\n",
       "70         artificial          3\n",
       "39              human          3\n",
       "211            coding          3\n",
       "78            systems          3\n",
       "197           acquire          3\n",
       "56              shift          3\n",
       "330          computer          3\n",
       "86               face          3\n",
       "199          literacy          3\n",
       "208            needed          3\n",
       "17            changes          3\n",
       "7                vary          2\n",
       "356             allow          2\n",
       "323          promotes          2\n",
       "138           related          2\n",
       "209          includes          2\n",
       "352          relevant          2\n",
       "322        curriculum          2\n",
       "46              tasks          2\n",
       "251          identify          2\n",
       "241           options          2\n",
       "169       effectively          2\n",
       "151            affect          2\n",
       "234               age          2\n",
       "133            policy          2\n",
       "10              speed          2\n",
       "231       engineering          2\n",
       "232       mathematics          2\n",
       "162           summary          2\n",
       "233             early          2\n",
       "374        experience          2\n",
       "227           promote          2\n",
       "240        retraining          2\n",
       "223            career          2\n",
       "363             needs          2\n",
       "222         financial          2\n",
       "177             adopt          2\n",
       "221         providing          2\n",
       "360             paths          2\n",
       "11           specific          2\n",
       "8           depending          2\n",
       "170          requires          2\n",
       "131       initiatives          2\n",
       "300           adapted          2\n",
       "94          logistics          2\n",
       "92            example          2\n",
       "421          feedback          2\n",
       "307         emphasize          2\n",
       "85         employment          2\n",
       "82          positions          2\n",
       "81        automatable          2\n",
       "77             design          2\n",
       "302           demands          2\n",
       "301            better          2\n",
       "69           analysis          2\n",
       "312             tools          2\n",
       "68               data          2\n",
       "66        maintenance          2\n",
       "65           robotics          2\n",
       "64               like          2\n",
       "61              often          2\n",
       "287         proactive          2\n",
       "43            routine          2\n",
       "288          approach          2\n",
       "45         repetitive          2\n",
       "50               many          2\n",
       "6            negative          2\n",
       "204            higher          2\n",
       "316            online          2\n",
       "129        upskilling          2\n",
       "265                ai          2\n",
       "122            nature          2\n",
       "22           machines          2\n",
       "397    certifications          2\n",
       "261               tax          2\n",
       "255          consider          2\n",
       "398       credentials          2\n",
       "317     communication          2\n",
       "404         necessary          2\n",
       "402         employers          2\n",
       "311          navigate          1\n",
       "2                 due          1\n",
       "338        creativity          1\n",
       "325          thinking          1\n",
       "340         emotional          1\n",
       "324          critical          1\n",
       "339      adaptability          1\n",
       "320         integrate          1\n",
       "297          prepared          1\n",
       "341           crucial          1\n",
       "296            shared          1\n",
       "295           broadly          1\n",
       "336        algorithms          1\n",
       "333     understanding          1\n",
       "335        developing          1\n",
       "305           several          1\n",
       "314       proficiency          1\n",
       "310             teach          1\n",
       "309             world          1\n",
       "329        foundation          1\n",
       "308       fundamental          1\n",
       "328            strong          1\n",
       "321        integrated          1\n",
       "331              part          1\n",
       "319         awareness          1\n",
       "315             basic          1\n",
       "5            positive          1\n",
       "318     cybersecurity          1\n",
       "299         landscape          1\n",
       "326             helps          1\n",
       "313         platforms          1\n",
       "334            behind          1\n",
       "306        approaches          1\n",
       "48             longer          1\n",
       "343             group          1\n",
       "406      specifically          1\n",
       "414        regardless          1\n",
       "413        accessible          1\n",
       "412       inclusivity          1\n",
       "411     accessibility          1\n",
       "410          evolving          1\n",
       "409          existing          1\n",
       "408          tailored          1\n",
       "407            target          1\n",
       "405      competencies          1\n",
       "416          physical          1\n",
       "403           possess          1\n",
       "401           signals          1\n",
       "400          valuable          1\n",
       "399             serve          1\n",
       "396        mitigation          1\n",
       "395              bias          1\n",
       "394      transparency          1\n",
       "393          fairness          1\n",
       "415        background          1\n",
       "417         abilities          1\n",
       "391          teamwork          1\n",
       "429          involves          1\n",
       "437     technological          1\n",
       "436       competitive          1\n",
       "435         adaptable          1\n",
       "434           remains          1\n",
       "433            effort          1\n",
       "432        commitment          1\n",
       "431          combines          1\n",
       "430     comprehensive          1\n",
       "428          adapting          1\n",
       "418         diversity          1\n",
       "427       adjustments          1\n",
       "426              make          1\n",
       "425            gather          1\n",
       "424     effectiveness          1\n",
       "423            assess          1\n",
       "422         regularly          1\n",
       "420        assessment          1\n",
       "419        continuous          1\n",
       "392        importance          1\n",
       "390        leadership          1\n",
       "344          projects          1\n",
       "355           classes          1\n",
       "366      personalized          1\n",
       "365            points          1\n",
       "364          starting          1\n",
       "362          learners          1\n",
       "361         recognize          1\n",
       "359        customized          1\n",
       "358           careers          1\n",
       "357        throughout          1\n",
       "354           evening          1\n",
       "293          emerging          1\n",
       "353           courses          1\n",
       "351              stay          1\n",
       "350            update          1\n",
       "349      continuously          1\n",
       "348           culture          1\n",
       "347        activities          1\n",
       "346     interpersonal          1\n",
       "345     presentations          1\n",
       "367             focus          1\n",
       "368             goals          1\n",
       "389              tech          1\n",
       "380      environments          1\n",
       "388            health          1\n",
       "387        healthcare          1\n",
       "386         combining          1\n",
       "385            fields          1\n",
       "384           combine          1\n",
       "383            allows          1\n",
       "382             align          1\n",
       "381       collaborate          1\n",
       "379         workplace          1\n",
       "369          adaptive          1\n",
       "378          exposure          1\n",
       "377   apprenticeships          1\n",
       "376       internships          1\n",
       "375         practical          1\n",
       "373        individual          1\n",
       "372           content          1\n",
       "371       educational          1\n",
       "370            tailor          1\n",
       "294              goal          1\n",
       "243           impacts          1\n",
       "292        innovation          1\n",
       "171       combination          1\n",
       "141            rights          1\n",
       "140              wage          1\n",
       "139           minimum          1\n",
       "136           shaping          1\n",
       "135              role          1\n",
       "134              play          1\n",
       "130        reskilling          1\n",
       "23             robots          1\n",
       "25            without          1\n",
       "27             breaks          1\n",
       "123           growing          1\n",
       "28          vacations          1\n",
       "119         expensive          1\n",
       "118         processes          1\n",
       "117             adapt          1\n",
       "142          taxation          1\n",
       "146         influence          1\n",
       "148       distributed          1\n",
       "159            others          1\n",
       "167        adaptation          1\n",
       "165        challenges          1\n",
       "164             poses          1\n",
       "163      multifaceted          1\n",
       "161         attention          1\n",
       "160          constant          1\n",
       "157            become          1\n",
       "149            beyond          1\n",
       "156           balance          1\n",
       "155          relocate          1\n",
       "154            people          1\n",
       "153       communities          1\n",
       "152         structure          1\n",
       "150         economics          1\n",
       "116           retrain          1\n",
       "30         production          1\n",
       "113            costly          1\n",
       "73             demand          1\n",
       "34          consumers          1\n",
       "84               find          1\n",
       "83           struggle          1\n",
       "79                see          1\n",
       "76         exacerbate          1\n",
       "37                one          1\n",
       "72              types          1\n",
       "89             entire          1\n",
       "67        programming          1\n",
       "60            created          1\n",
       "57               lost          1\n",
       "44             manual          1\n",
       "52       unemployment          1\n",
       "51            leading          1\n",
       "88     transformation          1\n",
       "90        transformed          1\n",
       "112     transitioning          1\n",
       "103           despite          1\n",
       "32        potentially          1\n",
       "33             prices          1\n",
       "107          activity          1\n",
       "106         stimulate          1\n",
       "105        efficiency          1\n",
       "104           overall          1\n",
       "100           sectors          1\n",
       "91          disrupted          1\n",
       "99     transportation          1\n",
       "98             retail          1\n",
       "97        traditional          1\n",
       "96           impacted          1\n",
       "95      significantly          1\n",
       "93               rise          1\n",
       "168          managing          1\n",
       "172          business          1\n",
       "291         fostering          1\n",
       "18                key          1\n",
       "266         practices          1\n",
       "260         schedules          1\n",
       "259       alternative          1\n",
       "258      arrangements          1\n",
       "257            remote          1\n",
       "256       accommodate          1\n",
       "254         emergence          1\n",
       "252              gaps          1\n",
       "249       accordingly          1\n",
       "248              plan          1\n",
       "247        anticipate          1\n",
       "246          together          1\n",
       "244              loss          1\n",
       "242            reduce          1\n",
       "238        strengthen          1\n",
       "270         promoting          1\n",
       "271        guidelines          1\n",
       "272       regulations          1\n",
       "282           replace          1\n",
       "290        supporting          1\n",
       "289         investing          1\n",
       "286              take          1\n",
       "285            offers          1\n",
       "284        conclusion          1\n",
       "283          entirely          1\n",
       "281            rather          1\n",
       "274           society          1\n",
       "280        complement          1\n",
       "279             input          1\n",
       "278          possible          1\n",
       "277            smooth          1\n",
       "276        management          1\n",
       "275             whole          1\n",
       "9              extent          1\n",
       "226          services          1\n",
       "225         placement          1\n",
       "185      particularly          1\n",
       "193         different          1\n",
       "192      requirements          1\n",
       "189          replaced          1\n",
       "188           service          1\n",
       "187          customer          1\n",
       "186     manufacturing          1\n",
       "183              ways          1\n",
       "195           becomes          1\n",
       "182    implementation          1\n",
       "181             level          1\n",
       "180           effects          1\n",
       "176             might          1\n",
       "175           efforts          1\n",
       "174      preparedness          1\n",
       "194               set          1\n",
       "196         prevalent          1\n",
       "224        counseling          1\n",
       "213             camps          1\n",
       "220             could          1\n",
       "13           affected          1\n",
       "218         implement          1\n",
       "217        assistance          1\n",
       "15              place          1\n",
       "16             manage          1\n",
       "212              boot          1\n",
       "200           ability          1\n",
       "210        vocational          1\n",
       "206         declining          1\n",
       "205          stagnant          1\n",
       "203              earn          1\n",
       "202           operate          1\n",
       "201         alongside          1\n",
       "438            change          1"
      ]
     },
     "metadata": {},
     "output_type": "display_data"
    },
    {
     "data": {
      "application/vnd.plotly.v1+json": {
       "config": {
        "plotlyServerURL": "https://plot.ly"
       },
       "data": [
        {
         "alignmentgroup": "True",
         "hovertemplate": "Word=%{x}<br>Frequency=%{y}<extra></extra>",
         "legendgroup": "",
         "marker": {
          "color": "#636efa",
          "pattern": {
           "shape": ""
          }
         },
         "name": "",
         "offsetgroup": "",
         "orientation": "v",
         "showlegend": false,
         "textposition": "auto",
         "type": "bar",
         "x": [
          "automation",
          "skills",
          "job",
          "education",
          "training",
          "may",
          "jobs",
          "workers",
          "programs",
          "new",
          "businesses",
          "workforce",
          "learning",
          "automated",
          "work",
          "opportunities",
          "need",
          "impact",
          "also",
          "lead",
          "implications",
          "encourage",
          "economy",
          "individuals",
          "displacement",
          "market",
          "increased",
          "income",
          "inequality",
          "develop",
          "governments",
          "industry",
          "industries",
          "policies",
          "invest",
          "science",
          "technology",
          "support",
          "provide",
          "collaboration",
          "ensure",
          "prepare",
          "students",
          "soft",
          "help",
          "strategies",
          "require",
          "displaced",
          "significant",
          "productivity",
          "potential",
          "transition",
          "mitigate",
          "involve",
          "intelligence",
          "offer",
          "losses",
          "labor",
          "software",
          "ethical",
          "technical",
          "wages",
          "economic",
          "knowledge",
          "stem",
          "flexible",
          "skill",
          "digital",
          "lifelong",
          "social",
          "creation",
          "technologies",
          "use",
          "partnerships",
          "future",
          "growth",
          "incorporate",
          "responsible",
          "costs",
          "roles",
          "safety",
          "lower",
          "nets",
          "create",
          "incentives",
          "benefits",
          "entrepreneurship",
          "development",
          "government",
          "essential",
          "changing",
          "areas",
          "artificial",
          "human",
          "coding",
          "systems",
          "acquire",
          "shift",
          "computer",
          "face",
          "literacy",
          "needed",
          "changes",
          "vary",
          "allow",
          "promotes",
          "related",
          "includes",
          "relevant",
          "curriculum",
          "tasks",
          "identify",
          "options",
          "effectively",
          "affect",
          "age",
          "policy",
          "speed",
          "engineering",
          "mathematics",
          "summary",
          "early",
          "experience",
          "promote",
          "retraining",
          "career",
          "needs",
          "financial",
          "adopt",
          "providing",
          "paths",
          "specific",
          "depending",
          "requires",
          "initiatives",
          "adapted",
          "logistics",
          "example",
          "feedback",
          "emphasize",
          "employment",
          "positions",
          "automatable",
          "design",
          "demands",
          "better",
          "analysis",
          "tools",
          "data",
          "maintenance",
          "robotics",
          "like",
          "often",
          "proactive",
          "routine",
          "approach",
          "repetitive",
          "many",
          "negative",
          "higher",
          "online",
          "upskilling",
          "ai",
          "nature",
          "machines",
          "certifications",
          "tax",
          "consider",
          "credentials",
          "communication",
          "necessary",
          "employers",
          "navigate",
          "due",
          "creativity",
          "thinking",
          "emotional",
          "critical",
          "adaptability",
          "integrate",
          "prepared",
          "crucial",
          "shared",
          "broadly",
          "algorithms",
          "understanding",
          "developing",
          "several",
          "proficiency",
          "teach",
          "world",
          "foundation",
          "fundamental",
          "strong",
          "integrated",
          "part",
          "awareness",
          "basic",
          "positive",
          "cybersecurity",
          "landscape",
          "helps",
          "platforms",
          "behind",
          "approaches",
          "longer",
          "group",
          "specifically",
          "regardless",
          "accessible",
          "inclusivity",
          "accessibility",
          "evolving",
          "existing",
          "tailored",
          "target",
          "competencies",
          "physical",
          "possess",
          "signals",
          "valuable",
          "serve",
          "mitigation",
          "bias",
          "transparency",
          "fairness",
          "background",
          "abilities",
          "teamwork",
          "involves",
          "technological",
          "competitive",
          "adaptable",
          "remains",
          "effort",
          "commitment",
          "combines",
          "comprehensive",
          "adapting",
          "diversity",
          "adjustments",
          "make",
          "gather",
          "effectiveness",
          "assess",
          "regularly",
          "assessment",
          "continuous",
          "importance",
          "leadership",
          "projects",
          "classes",
          "personalized",
          "points",
          "starting",
          "learners",
          "recognize",
          "customized",
          "careers",
          "throughout",
          "evening",
          "emerging",
          "courses",
          "stay",
          "update",
          "continuously",
          "culture",
          "activities",
          "interpersonal",
          "presentations",
          "focus",
          "goals",
          "tech",
          "environments",
          "health",
          "healthcare",
          "combining",
          "fields",
          "combine",
          "allows",
          "align",
          "collaborate",
          "workplace",
          "adaptive",
          "exposure",
          "apprenticeships",
          "internships",
          "practical",
          "individual",
          "content",
          "educational",
          "tailor",
          "goal",
          "impacts",
          "innovation",
          "combination",
          "rights",
          "wage",
          "minimum",
          "shaping",
          "role",
          "play",
          "reskilling",
          "robots",
          "without",
          "breaks",
          "growing",
          "vacations",
          "expensive",
          "processes",
          "adapt",
          "taxation",
          "influence",
          "distributed",
          "others",
          "adaptation",
          "challenges",
          "poses",
          "multifaceted",
          "attention",
          "constant",
          "become",
          "beyond",
          "balance",
          "relocate",
          "people",
          "communities",
          "structure",
          "economics",
          "retrain",
          "production",
          "costly",
          "demand",
          "consumers",
          "find",
          "struggle",
          "see",
          "exacerbate",
          "one",
          "types",
          "entire",
          "programming",
          "created",
          "lost",
          "manual",
          "unemployment",
          "leading",
          "transformation",
          "transformed",
          "transitioning",
          "despite",
          "potentially",
          "prices",
          "activity",
          "stimulate",
          "efficiency",
          "overall",
          "sectors",
          "disrupted",
          "transportation",
          "retail",
          "traditional",
          "impacted",
          "significantly",
          "rise",
          "managing",
          "business",
          "fostering",
          "key",
          "practices",
          "schedules",
          "alternative",
          "arrangements",
          "remote",
          "accommodate",
          "emergence",
          "gaps",
          "accordingly",
          "plan",
          "anticipate",
          "together",
          "loss",
          "reduce",
          "strengthen",
          "promoting",
          "guidelines",
          "regulations",
          "replace",
          "supporting",
          "investing",
          "take",
          "offers",
          "conclusion",
          "entirely",
          "rather",
          "society",
          "complement",
          "input",
          "possible",
          "smooth",
          "management",
          "whole",
          "extent",
          "services",
          "placement",
          "particularly",
          "different",
          "requirements",
          "replaced",
          "service",
          "customer",
          "manufacturing",
          "ways",
          "becomes",
          "implementation",
          "level",
          "effects",
          "might",
          "efforts",
          "preparedness",
          "set",
          "prevalent",
          "counseling",
          "camps",
          "could",
          "affected",
          "implement",
          "assistance",
          "place",
          "manage",
          "boot",
          "ability",
          "vocational",
          "declining",
          "stagnant",
          "earn",
          "operate",
          "alongside",
          "change"
         ],
         "xaxis": "x",
         "y": [
          37,
          27,
          24,
          20,
          17,
          16,
          14,
          14,
          14,
          11,
          11,
          10,
          10,
          10,
          9,
          9,
          9,
          8,
          8,
          8,
          8,
          8,
          8,
          7,
          7,
          7,
          6,
          6,
          6,
          6,
          6,
          6,
          6,
          6,
          5,
          5,
          5,
          5,
          5,
          5,
          5,
          5,
          5,
          5,
          5,
          5,
          5,
          5,
          5,
          5,
          5,
          4,
          4,
          4,
          4,
          4,
          4,
          4,
          4,
          4,
          4,
          4,
          4,
          4,
          4,
          4,
          4,
          4,
          4,
          4,
          4,
          3,
          3,
          3,
          3,
          3,
          3,
          3,
          3,
          3,
          3,
          3,
          3,
          3,
          3,
          3,
          3,
          3,
          3,
          3,
          3,
          3,
          3,
          3,
          3,
          3,
          3,
          3,
          3,
          3,
          3,
          3,
          3,
          2,
          2,
          2,
          2,
          2,
          2,
          2,
          2,
          2,
          2,
          2,
          2,
          2,
          2,
          2,
          2,
          2,
          2,
          2,
          2,
          2,
          2,
          2,
          2,
          2,
          2,
          2,
          2,
          2,
          2,
          2,
          2,
          2,
          2,
          2,
          2,
          2,
          2,
          2,
          2,
          2,
          2,
          2,
          2,
          2,
          2,
          2,
          2,
          2,
          2,
          2,
          2,
          2,
          2,
          2,
          2,
          2,
          2,
          2,
          2,
          2,
          2,
          2,
          2,
          2,
          2,
          2,
          2,
          2,
          1,
          1,
          1,
          1,
          1,
          1,
          1,
          1,
          1,
          1,
          1,
          1,
          1,
          1,
          1,
          1,
          1,
          1,
          1,
          1,
          1,
          1,
          1,
          1,
          1,
          1,
          1,
          1,
          1,
          1,
          1,
          1,
          1,
          1,
          1,
          1,
          1,
          1,
          1,
          1,
          1,
          1,
          1,
          1,
          1,
          1,
          1,
          1,
          1,
          1,
          1,
          1,
          1,
          1,
          1,
          1,
          1,
          1,
          1,
          1,
          1,
          1,
          1,
          1,
          1,
          1,
          1,
          1,
          1,
          1,
          1,
          1,
          1,
          1,
          1,
          1,
          1,
          1,
          1,
          1,
          1,
          1,
          1,
          1,
          1,
          1,
          1,
          1,
          1,
          1,
          1,
          1,
          1,
          1,
          1,
          1,
          1,
          1,
          1,
          1,
          1,
          1,
          1,
          1,
          1,
          1,
          1,
          1,
          1,
          1,
          1,
          1,
          1,
          1,
          1,
          1,
          1,
          1,
          1,
          1,
          1,
          1,
          1,
          1,
          1,
          1,
          1,
          1,
          1,
          1,
          1,
          1,
          1,
          1,
          1,
          1,
          1,
          1,
          1,
          1,
          1,
          1,
          1,
          1,
          1,
          1,
          1,
          1,
          1,
          1,
          1,
          1,
          1,
          1,
          1,
          1,
          1,
          1,
          1,
          1,
          1,
          1,
          1,
          1,
          1,
          1,
          1,
          1,
          1,
          1,
          1,
          1,
          1,
          1,
          1,
          1,
          1,
          1,
          1,
          1,
          1,
          1,
          1,
          1,
          1,
          1,
          1,
          1,
          1,
          1,
          1,
          1,
          1,
          1,
          1,
          1,
          1,
          1,
          1,
          1,
          1,
          1,
          1,
          1,
          1,
          1,
          1,
          1,
          1,
          1,
          1,
          1,
          1,
          1,
          1,
          1,
          1,
          1,
          1,
          1,
          1,
          1,
          1,
          1,
          1,
          1,
          1,
          1,
          1,
          1,
          1,
          1,
          1,
          1,
          1,
          1,
          1,
          1,
          1,
          1,
          1,
          1,
          1,
          1,
          1,
          1,
          1,
          1,
          1,
          1,
          1,
          1,
          1,
          1,
          1,
          1,
          1,
          1,
          1,
          1,
          1,
          1,
          1,
          1,
          1,
          1,
          1
         ],
         "yaxis": "y"
        }
       ],
       "layout": {
        "barmode": "relative",
        "legend": {
         "tracegroupgap": 0
        },
        "template": {
         "data": {
          "bar": [
           {
            "error_x": {
             "color": "#2a3f5f"
            },
            "error_y": {
             "color": "#2a3f5f"
            },
            "marker": {
             "line": {
              "color": "#E5ECF6",
              "width": 0.5
             },
             "pattern": {
              "fillmode": "overlay",
              "size": 10,
              "solidity": 0.2
             }
            },
            "type": "bar"
           }
          ],
          "barpolar": [
           {
            "marker": {
             "line": {
              "color": "#E5ECF6",
              "width": 0.5
             },
             "pattern": {
              "fillmode": "overlay",
              "size": 10,
              "solidity": 0.2
             }
            },
            "type": "barpolar"
           }
          ],
          "carpet": [
           {
            "aaxis": {
             "endlinecolor": "#2a3f5f",
             "gridcolor": "white",
             "linecolor": "white",
             "minorgridcolor": "white",
             "startlinecolor": "#2a3f5f"
            },
            "baxis": {
             "endlinecolor": "#2a3f5f",
             "gridcolor": "white",
             "linecolor": "white",
             "minorgridcolor": "white",
             "startlinecolor": "#2a3f5f"
            },
            "type": "carpet"
           }
          ],
          "choropleth": [
           {
            "colorbar": {
             "outlinewidth": 0,
             "ticks": ""
            },
            "type": "choropleth"
           }
          ],
          "contour": [
           {
            "colorbar": {
             "outlinewidth": 0,
             "ticks": ""
            },
            "colorscale": [
             [
              0,
              "#0d0887"
             ],
             [
              0.1111111111111111,
              "#46039f"
             ],
             [
              0.2222222222222222,
              "#7201a8"
             ],
             [
              0.3333333333333333,
              "#9c179e"
             ],
             [
              0.4444444444444444,
              "#bd3786"
             ],
             [
              0.5555555555555556,
              "#d8576b"
             ],
             [
              0.6666666666666666,
              "#ed7953"
             ],
             [
              0.7777777777777778,
              "#fb9f3a"
             ],
             [
              0.8888888888888888,
              "#fdca26"
             ],
             [
              1,
              "#f0f921"
             ]
            ],
            "type": "contour"
           }
          ],
          "contourcarpet": [
           {
            "colorbar": {
             "outlinewidth": 0,
             "ticks": ""
            },
            "type": "contourcarpet"
           }
          ],
          "heatmap": [
           {
            "colorbar": {
             "outlinewidth": 0,
             "ticks": ""
            },
            "colorscale": [
             [
              0,
              "#0d0887"
             ],
             [
              0.1111111111111111,
              "#46039f"
             ],
             [
              0.2222222222222222,
              "#7201a8"
             ],
             [
              0.3333333333333333,
              "#9c179e"
             ],
             [
              0.4444444444444444,
              "#bd3786"
             ],
             [
              0.5555555555555556,
              "#d8576b"
             ],
             [
              0.6666666666666666,
              "#ed7953"
             ],
             [
              0.7777777777777778,
              "#fb9f3a"
             ],
             [
              0.8888888888888888,
              "#fdca26"
             ],
             [
              1,
              "#f0f921"
             ]
            ],
            "type": "heatmap"
           }
          ],
          "heatmapgl": [
           {
            "colorbar": {
             "outlinewidth": 0,
             "ticks": ""
            },
            "colorscale": [
             [
              0,
              "#0d0887"
             ],
             [
              0.1111111111111111,
              "#46039f"
             ],
             [
              0.2222222222222222,
              "#7201a8"
             ],
             [
              0.3333333333333333,
              "#9c179e"
             ],
             [
              0.4444444444444444,
              "#bd3786"
             ],
             [
              0.5555555555555556,
              "#d8576b"
             ],
             [
              0.6666666666666666,
              "#ed7953"
             ],
             [
              0.7777777777777778,
              "#fb9f3a"
             ],
             [
              0.8888888888888888,
              "#fdca26"
             ],
             [
              1,
              "#f0f921"
             ]
            ],
            "type": "heatmapgl"
           }
          ],
          "histogram": [
           {
            "marker": {
             "pattern": {
              "fillmode": "overlay",
              "size": 10,
              "solidity": 0.2
             }
            },
            "type": "histogram"
           }
          ],
          "histogram2d": [
           {
            "colorbar": {
             "outlinewidth": 0,
             "ticks": ""
            },
            "colorscale": [
             [
              0,
              "#0d0887"
             ],
             [
              0.1111111111111111,
              "#46039f"
             ],
             [
              0.2222222222222222,
              "#7201a8"
             ],
             [
              0.3333333333333333,
              "#9c179e"
             ],
             [
              0.4444444444444444,
              "#bd3786"
             ],
             [
              0.5555555555555556,
              "#d8576b"
             ],
             [
              0.6666666666666666,
              "#ed7953"
             ],
             [
              0.7777777777777778,
              "#fb9f3a"
             ],
             [
              0.8888888888888888,
              "#fdca26"
             ],
             [
              1,
              "#f0f921"
             ]
            ],
            "type": "histogram2d"
           }
          ],
          "histogram2dcontour": [
           {
            "colorbar": {
             "outlinewidth": 0,
             "ticks": ""
            },
            "colorscale": [
             [
              0,
              "#0d0887"
             ],
             [
              0.1111111111111111,
              "#46039f"
             ],
             [
              0.2222222222222222,
              "#7201a8"
             ],
             [
              0.3333333333333333,
              "#9c179e"
             ],
             [
              0.4444444444444444,
              "#bd3786"
             ],
             [
              0.5555555555555556,
              "#d8576b"
             ],
             [
              0.6666666666666666,
              "#ed7953"
             ],
             [
              0.7777777777777778,
              "#fb9f3a"
             ],
             [
              0.8888888888888888,
              "#fdca26"
             ],
             [
              1,
              "#f0f921"
             ]
            ],
            "type": "histogram2dcontour"
           }
          ],
          "mesh3d": [
           {
            "colorbar": {
             "outlinewidth": 0,
             "ticks": ""
            },
            "type": "mesh3d"
           }
          ],
          "parcoords": [
           {
            "line": {
             "colorbar": {
              "outlinewidth": 0,
              "ticks": ""
             }
            },
            "type": "parcoords"
           }
          ],
          "pie": [
           {
            "automargin": true,
            "type": "pie"
           }
          ],
          "scatter": [
           {
            "fillpattern": {
             "fillmode": "overlay",
             "size": 10,
             "solidity": 0.2
            },
            "type": "scatter"
           }
          ],
          "scatter3d": [
           {
            "line": {
             "colorbar": {
              "outlinewidth": 0,
              "ticks": ""
             }
            },
            "marker": {
             "colorbar": {
              "outlinewidth": 0,
              "ticks": ""
             }
            },
            "type": "scatter3d"
           }
          ],
          "scattercarpet": [
           {
            "marker": {
             "colorbar": {
              "outlinewidth": 0,
              "ticks": ""
             }
            },
            "type": "scattercarpet"
           }
          ],
          "scattergeo": [
           {
            "marker": {
             "colorbar": {
              "outlinewidth": 0,
              "ticks": ""
             }
            },
            "type": "scattergeo"
           }
          ],
          "scattergl": [
           {
            "marker": {
             "colorbar": {
              "outlinewidth": 0,
              "ticks": ""
             }
            },
            "type": "scattergl"
           }
          ],
          "scattermapbox": [
           {
            "marker": {
             "colorbar": {
              "outlinewidth": 0,
              "ticks": ""
             }
            },
            "type": "scattermapbox"
           }
          ],
          "scatterpolar": [
           {
            "marker": {
             "colorbar": {
              "outlinewidth": 0,
              "ticks": ""
             }
            },
            "type": "scatterpolar"
           }
          ],
          "scatterpolargl": [
           {
            "marker": {
             "colorbar": {
              "outlinewidth": 0,
              "ticks": ""
             }
            },
            "type": "scatterpolargl"
           }
          ],
          "scatterternary": [
           {
            "marker": {
             "colorbar": {
              "outlinewidth": 0,
              "ticks": ""
             }
            },
            "type": "scatterternary"
           }
          ],
          "surface": [
           {
            "colorbar": {
             "outlinewidth": 0,
             "ticks": ""
            },
            "colorscale": [
             [
              0,
              "#0d0887"
             ],
             [
              0.1111111111111111,
              "#46039f"
             ],
             [
              0.2222222222222222,
              "#7201a8"
             ],
             [
              0.3333333333333333,
              "#9c179e"
             ],
             [
              0.4444444444444444,
              "#bd3786"
             ],
             [
              0.5555555555555556,
              "#d8576b"
             ],
             [
              0.6666666666666666,
              "#ed7953"
             ],
             [
              0.7777777777777778,
              "#fb9f3a"
             ],
             [
              0.8888888888888888,
              "#fdca26"
             ],
             [
              1,
              "#f0f921"
             ]
            ],
            "type": "surface"
           }
          ],
          "table": [
           {
            "cells": {
             "fill": {
              "color": "#EBF0F8"
             },
             "line": {
              "color": "white"
             }
            },
            "header": {
             "fill": {
              "color": "#C8D4E3"
             },
             "line": {
              "color": "white"
             }
            },
            "type": "table"
           }
          ]
         },
         "layout": {
          "annotationdefaults": {
           "arrowcolor": "#2a3f5f",
           "arrowhead": 0,
           "arrowwidth": 1
          },
          "autotypenumbers": "strict",
          "coloraxis": {
           "colorbar": {
            "outlinewidth": 0,
            "ticks": ""
           }
          },
          "colorscale": {
           "diverging": [
            [
             0,
             "#8e0152"
            ],
            [
             0.1,
             "#c51b7d"
            ],
            [
             0.2,
             "#de77ae"
            ],
            [
             0.3,
             "#f1b6da"
            ],
            [
             0.4,
             "#fde0ef"
            ],
            [
             0.5,
             "#f7f7f7"
            ],
            [
             0.6,
             "#e6f5d0"
            ],
            [
             0.7,
             "#b8e186"
            ],
            [
             0.8,
             "#7fbc41"
            ],
            [
             0.9,
             "#4d9221"
            ],
            [
             1,
             "#276419"
            ]
           ],
           "sequential": [
            [
             0,
             "#0d0887"
            ],
            [
             0.1111111111111111,
             "#46039f"
            ],
            [
             0.2222222222222222,
             "#7201a8"
            ],
            [
             0.3333333333333333,
             "#9c179e"
            ],
            [
             0.4444444444444444,
             "#bd3786"
            ],
            [
             0.5555555555555556,
             "#d8576b"
            ],
            [
             0.6666666666666666,
             "#ed7953"
            ],
            [
             0.7777777777777778,
             "#fb9f3a"
            ],
            [
             0.8888888888888888,
             "#fdca26"
            ],
            [
             1,
             "#f0f921"
            ]
           ],
           "sequentialminus": [
            [
             0,
             "#0d0887"
            ],
            [
             0.1111111111111111,
             "#46039f"
            ],
            [
             0.2222222222222222,
             "#7201a8"
            ],
            [
             0.3333333333333333,
             "#9c179e"
            ],
            [
             0.4444444444444444,
             "#bd3786"
            ],
            [
             0.5555555555555556,
             "#d8576b"
            ],
            [
             0.6666666666666666,
             "#ed7953"
            ],
            [
             0.7777777777777778,
             "#fb9f3a"
            ],
            [
             0.8888888888888888,
             "#fdca26"
            ],
            [
             1,
             "#f0f921"
            ]
           ]
          },
          "colorway": [
           "#636efa",
           "#EF553B",
           "#00cc96",
           "#ab63fa",
           "#FFA15A",
           "#19d3f3",
           "#FF6692",
           "#B6E880",
           "#FF97FF",
           "#FECB52"
          ],
          "font": {
           "color": "#2a3f5f"
          },
          "geo": {
           "bgcolor": "white",
           "lakecolor": "white",
           "landcolor": "#E5ECF6",
           "showlakes": true,
           "showland": true,
           "subunitcolor": "white"
          },
          "hoverlabel": {
           "align": "left"
          },
          "hovermode": "closest",
          "mapbox": {
           "style": "light"
          },
          "paper_bgcolor": "white",
          "plot_bgcolor": "#E5ECF6",
          "polar": {
           "angularaxis": {
            "gridcolor": "white",
            "linecolor": "white",
            "ticks": ""
           },
           "bgcolor": "#E5ECF6",
           "radialaxis": {
            "gridcolor": "white",
            "linecolor": "white",
            "ticks": ""
           }
          },
          "scene": {
           "xaxis": {
            "backgroundcolor": "#E5ECF6",
            "gridcolor": "white",
            "gridwidth": 2,
            "linecolor": "white",
            "showbackground": true,
            "ticks": "",
            "zerolinecolor": "white"
           },
           "yaxis": {
            "backgroundcolor": "#E5ECF6",
            "gridcolor": "white",
            "gridwidth": 2,
            "linecolor": "white",
            "showbackground": true,
            "ticks": "",
            "zerolinecolor": "white"
           },
           "zaxis": {
            "backgroundcolor": "#E5ECF6",
            "gridcolor": "white",
            "gridwidth": 2,
            "linecolor": "white",
            "showbackground": true,
            "ticks": "",
            "zerolinecolor": "white"
           }
          },
          "shapedefaults": {
           "line": {
            "color": "#2a3f5f"
           }
          },
          "ternary": {
           "aaxis": {
            "gridcolor": "white",
            "linecolor": "white",
            "ticks": ""
           },
           "baxis": {
            "gridcolor": "white",
            "linecolor": "white",
            "ticks": ""
           },
           "bgcolor": "#E5ECF6",
           "caxis": {
            "gridcolor": "white",
            "linecolor": "white",
            "ticks": ""
           }
          },
          "title": {
           "x": 0.05
          },
          "xaxis": {
           "automargin": true,
           "gridcolor": "white",
           "linecolor": "white",
           "ticks": "",
           "title": {
            "standoff": 15
           },
           "zerolinecolor": "white",
           "zerolinewidth": 2
          },
          "yaxis": {
           "automargin": true,
           "gridcolor": "white",
           "linecolor": "white",
           "ticks": "",
           "title": {
            "standoff": 15
           },
           "zerolinecolor": "white",
           "zerolinewidth": 2
          }
         }
        },
        "title": {
         "text": "Word Frequency Analysis"
        },
        "updatemenus": [
         {
          "buttons": [
           {
            "args": [
             {
              "xaxis.range": [
               0,
               439
              ]
             },
             {
              "title": "All Words"
             }
            ],
            "label": "All Words",
            "method": "relayout"
           },
           {
            "args": [
             {
              "xaxis.range": [
               0,
               9
              ]
             },
             {
              "title": "Top 10 Words"
             }
            ],
            "label": "Top 10 Words",
            "method": "relayout"
           },
           {
            "args": [
             {
              "xaxis.range": [
               0,
               19
              ]
             },
             {
              "title": "Top 20 Words"
             }
            ],
            "label": "Top 20 Words",
            "method": "relayout"
           }
          ],
          "direction": "down",
          "showactive": true
         }
        ],
        "xaxis": {
         "anchor": "y",
         "domain": [
          0,
          1
         ],
         "title": {
          "text": "Word"
         }
        },
        "yaxis": {
         "anchor": "x",
         "domain": [
          0,
          1
         ],
         "title": {
          "text": "Frequency"
         }
        }
       }
      },
      "text/html": [
       "<div>                            <div id=\"c811b254-f7cb-4678-bed7-d1600f0e6c4c\" class=\"plotly-graph-div\" style=\"height:525px; width:100%;\"></div>            <script type=\"text/javascript\">                require([\"plotly\"], function(Plotly) {                    window.PLOTLYENV=window.PLOTLYENV || {};                                    if (document.getElementById(\"c811b254-f7cb-4678-bed7-d1600f0e6c4c\")) {                    Plotly.newPlot(                        \"c811b254-f7cb-4678-bed7-d1600f0e6c4c\",                        [{\"alignmentgroup\":\"True\",\"hovertemplate\":\"Word=%{x}<br>Frequency=%{y}<extra></extra>\",\"legendgroup\":\"\",\"marker\":{\"color\":\"#636efa\",\"pattern\":{\"shape\":\"\"}},\"name\":\"\",\"offsetgroup\":\"\",\"orientation\":\"v\",\"showlegend\":false,\"textposition\":\"auto\",\"x\":[\"automation\",\"skills\",\"job\",\"education\",\"training\",\"may\",\"jobs\",\"workers\",\"programs\",\"new\",\"businesses\",\"workforce\",\"learning\",\"automated\",\"work\",\"opportunities\",\"need\",\"impact\",\"also\",\"lead\",\"implications\",\"encourage\",\"economy\",\"individuals\",\"displacement\",\"market\",\"increased\",\"income\",\"inequality\",\"develop\",\"governments\",\"industry\",\"industries\",\"policies\",\"invest\",\"science\",\"technology\",\"support\",\"provide\",\"collaboration\",\"ensure\",\"prepare\",\"students\",\"soft\",\"help\",\"strategies\",\"require\",\"displaced\",\"significant\",\"productivity\",\"potential\",\"transition\",\"mitigate\",\"involve\",\"intelligence\",\"offer\",\"losses\",\"labor\",\"software\",\"ethical\",\"technical\",\"wages\",\"economic\",\"knowledge\",\"stem\",\"flexible\",\"skill\",\"digital\",\"lifelong\",\"social\",\"creation\",\"technologies\",\"use\",\"partnerships\",\"future\",\"growth\",\"incorporate\",\"responsible\",\"costs\",\"roles\",\"safety\",\"lower\",\"nets\",\"create\",\"incentives\",\"benefits\",\"entrepreneurship\",\"development\",\"government\",\"essential\",\"changing\",\"areas\",\"artificial\",\"human\",\"coding\",\"systems\",\"acquire\",\"shift\",\"computer\",\"face\",\"literacy\",\"needed\",\"changes\",\"vary\",\"allow\",\"promotes\",\"related\",\"includes\",\"relevant\",\"curriculum\",\"tasks\",\"identify\",\"options\",\"effectively\",\"affect\",\"age\",\"policy\",\"speed\",\"engineering\",\"mathematics\",\"summary\",\"early\",\"experience\",\"promote\",\"retraining\",\"career\",\"needs\",\"financial\",\"adopt\",\"providing\",\"paths\",\"specific\",\"depending\",\"requires\",\"initiatives\",\"adapted\",\"logistics\",\"example\",\"feedback\",\"emphasize\",\"employment\",\"positions\",\"automatable\",\"design\",\"demands\",\"better\",\"analysis\",\"tools\",\"data\",\"maintenance\",\"robotics\",\"like\",\"often\",\"proactive\",\"routine\",\"approach\",\"repetitive\",\"many\",\"negative\",\"higher\",\"online\",\"upskilling\",\"ai\",\"nature\",\"machines\",\"certifications\",\"tax\",\"consider\",\"credentials\",\"communication\",\"necessary\",\"employers\",\"navigate\",\"due\",\"creativity\",\"thinking\",\"emotional\",\"critical\",\"adaptability\",\"integrate\",\"prepared\",\"crucial\",\"shared\",\"broadly\",\"algorithms\",\"understanding\",\"developing\",\"several\",\"proficiency\",\"teach\",\"world\",\"foundation\",\"fundamental\",\"strong\",\"integrated\",\"part\",\"awareness\",\"basic\",\"positive\",\"cybersecurity\",\"landscape\",\"helps\",\"platforms\",\"behind\",\"approaches\",\"longer\",\"group\",\"specifically\",\"regardless\",\"accessible\",\"inclusivity\",\"accessibility\",\"evolving\",\"existing\",\"tailored\",\"target\",\"competencies\",\"physical\",\"possess\",\"signals\",\"valuable\",\"serve\",\"mitigation\",\"bias\",\"transparency\",\"fairness\",\"background\",\"abilities\",\"teamwork\",\"involves\",\"technological\",\"competitive\",\"adaptable\",\"remains\",\"effort\",\"commitment\",\"combines\",\"comprehensive\",\"adapting\",\"diversity\",\"adjustments\",\"make\",\"gather\",\"effectiveness\",\"assess\",\"regularly\",\"assessment\",\"continuous\",\"importance\",\"leadership\",\"projects\",\"classes\",\"personalized\",\"points\",\"starting\",\"learners\",\"recognize\",\"customized\",\"careers\",\"throughout\",\"evening\",\"emerging\",\"courses\",\"stay\",\"update\",\"continuously\",\"culture\",\"activities\",\"interpersonal\",\"presentations\",\"focus\",\"goals\",\"tech\",\"environments\",\"health\",\"healthcare\",\"combining\",\"fields\",\"combine\",\"allows\",\"align\",\"collaborate\",\"workplace\",\"adaptive\",\"exposure\",\"apprenticeships\",\"internships\",\"practical\",\"individual\",\"content\",\"educational\",\"tailor\",\"goal\",\"impacts\",\"innovation\",\"combination\",\"rights\",\"wage\",\"minimum\",\"shaping\",\"role\",\"play\",\"reskilling\",\"robots\",\"without\",\"breaks\",\"growing\",\"vacations\",\"expensive\",\"processes\",\"adapt\",\"taxation\",\"influence\",\"distributed\",\"others\",\"adaptation\",\"challenges\",\"poses\",\"multifaceted\",\"attention\",\"constant\",\"become\",\"beyond\",\"balance\",\"relocate\",\"people\",\"communities\",\"structure\",\"economics\",\"retrain\",\"production\",\"costly\",\"demand\",\"consumers\",\"find\",\"struggle\",\"see\",\"exacerbate\",\"one\",\"types\",\"entire\",\"programming\",\"created\",\"lost\",\"manual\",\"unemployment\",\"leading\",\"transformation\",\"transformed\",\"transitioning\",\"despite\",\"potentially\",\"prices\",\"activity\",\"stimulate\",\"efficiency\",\"overall\",\"sectors\",\"disrupted\",\"transportation\",\"retail\",\"traditional\",\"impacted\",\"significantly\",\"rise\",\"managing\",\"business\",\"fostering\",\"key\",\"practices\",\"schedules\",\"alternative\",\"arrangements\",\"remote\",\"accommodate\",\"emergence\",\"gaps\",\"accordingly\",\"plan\",\"anticipate\",\"together\",\"loss\",\"reduce\",\"strengthen\",\"promoting\",\"guidelines\",\"regulations\",\"replace\",\"supporting\",\"investing\",\"take\",\"offers\",\"conclusion\",\"entirely\",\"rather\",\"society\",\"complement\",\"input\",\"possible\",\"smooth\",\"management\",\"whole\",\"extent\",\"services\",\"placement\",\"particularly\",\"different\",\"requirements\",\"replaced\",\"service\",\"customer\",\"manufacturing\",\"ways\",\"becomes\",\"implementation\",\"level\",\"effects\",\"might\",\"efforts\",\"preparedness\",\"set\",\"prevalent\",\"counseling\",\"camps\",\"could\",\"affected\",\"implement\",\"assistance\",\"place\",\"manage\",\"boot\",\"ability\",\"vocational\",\"declining\",\"stagnant\",\"earn\",\"operate\",\"alongside\",\"change\"],\"xaxis\":\"x\",\"y\":[37,27,24,20,17,16,14,14,14,11,11,10,10,10,9,9,9,8,8,8,8,8,8,7,7,7,6,6,6,6,6,6,6,6,5,5,5,5,5,5,5,5,5,5,5,5,5,5,5,5,5,4,4,4,4,4,4,4,4,4,4,4,4,4,4,4,4,4,4,4,4,3,3,3,3,3,3,3,3,3,3,3,3,3,3,3,3,3,3,3,3,3,3,3,3,3,3,3,3,3,3,3,3,2,2,2,2,2,2,2,2,2,2,2,2,2,2,2,2,2,2,2,2,2,2,2,2,2,2,2,2,2,2,2,2,2,2,2,2,2,2,2,2,2,2,2,2,2,2,2,2,2,2,2,2,2,2,2,2,2,2,2,2,2,2,2,2,2,2,2,2,2,1,1,1,1,1,1,1,1,1,1,1,1,1,1,1,1,1,1,1,1,1,1,1,1,1,1,1,1,1,1,1,1,1,1,1,1,1,1,1,1,1,1,1,1,1,1,1,1,1,1,1,1,1,1,1,1,1,1,1,1,1,1,1,1,1,1,1,1,1,1,1,1,1,1,1,1,1,1,1,1,1,1,1,1,1,1,1,1,1,1,1,1,1,1,1,1,1,1,1,1,1,1,1,1,1,1,1,1,1,1,1,1,1,1,1,1,1,1,1,1,1,1,1,1,1,1,1,1,1,1,1,1,1,1,1,1,1,1,1,1,1,1,1,1,1,1,1,1,1,1,1,1,1,1,1,1,1,1,1,1,1,1,1,1,1,1,1,1,1,1,1,1,1,1,1,1,1,1,1,1,1,1,1,1,1,1,1,1,1,1,1,1,1,1,1,1,1,1,1,1,1,1,1,1,1,1,1,1,1,1,1,1,1,1,1,1,1,1,1,1,1,1,1,1,1,1,1,1,1,1,1,1,1,1,1,1,1,1,1,1,1,1,1,1,1,1,1,1,1,1,1,1,1,1,1,1,1,1,1,1,1,1,1,1,1,1,1],\"yaxis\":\"y\",\"type\":\"bar\"}],                        {\"template\":{\"data\":{\"histogram2dcontour\":[{\"type\":\"histogram2dcontour\",\"colorbar\":{\"outlinewidth\":0,\"ticks\":\"\"},\"colorscale\":[[0.0,\"#0d0887\"],[0.1111111111111111,\"#46039f\"],[0.2222222222222222,\"#7201a8\"],[0.3333333333333333,\"#9c179e\"],[0.4444444444444444,\"#bd3786\"],[0.5555555555555556,\"#d8576b\"],[0.6666666666666666,\"#ed7953\"],[0.7777777777777778,\"#fb9f3a\"],[0.8888888888888888,\"#fdca26\"],[1.0,\"#f0f921\"]]}],\"choropleth\":[{\"type\":\"choropleth\",\"colorbar\":{\"outlinewidth\":0,\"ticks\":\"\"}}],\"histogram2d\":[{\"type\":\"histogram2d\",\"colorbar\":{\"outlinewidth\":0,\"ticks\":\"\"},\"colorscale\":[[0.0,\"#0d0887\"],[0.1111111111111111,\"#46039f\"],[0.2222222222222222,\"#7201a8\"],[0.3333333333333333,\"#9c179e\"],[0.4444444444444444,\"#bd3786\"],[0.5555555555555556,\"#d8576b\"],[0.6666666666666666,\"#ed7953\"],[0.7777777777777778,\"#fb9f3a\"],[0.8888888888888888,\"#fdca26\"],[1.0,\"#f0f921\"]]}],\"heatmap\":[{\"type\":\"heatmap\",\"colorbar\":{\"outlinewidth\":0,\"ticks\":\"\"},\"colorscale\":[[0.0,\"#0d0887\"],[0.1111111111111111,\"#46039f\"],[0.2222222222222222,\"#7201a8\"],[0.3333333333333333,\"#9c179e\"],[0.4444444444444444,\"#bd3786\"],[0.5555555555555556,\"#d8576b\"],[0.6666666666666666,\"#ed7953\"],[0.7777777777777778,\"#fb9f3a\"],[0.8888888888888888,\"#fdca26\"],[1.0,\"#f0f921\"]]}],\"heatmapgl\":[{\"type\":\"heatmapgl\",\"colorbar\":{\"outlinewidth\":0,\"ticks\":\"\"},\"colorscale\":[[0.0,\"#0d0887\"],[0.1111111111111111,\"#46039f\"],[0.2222222222222222,\"#7201a8\"],[0.3333333333333333,\"#9c179e\"],[0.4444444444444444,\"#bd3786\"],[0.5555555555555556,\"#d8576b\"],[0.6666666666666666,\"#ed7953\"],[0.7777777777777778,\"#fb9f3a\"],[0.8888888888888888,\"#fdca26\"],[1.0,\"#f0f921\"]]}],\"contourcarpet\":[{\"type\":\"contourcarpet\",\"colorbar\":{\"outlinewidth\":0,\"ticks\":\"\"}}],\"contour\":[{\"type\":\"contour\",\"colorbar\":{\"outlinewidth\":0,\"ticks\":\"\"},\"colorscale\":[[0.0,\"#0d0887\"],[0.1111111111111111,\"#46039f\"],[0.2222222222222222,\"#7201a8\"],[0.3333333333333333,\"#9c179e\"],[0.4444444444444444,\"#bd3786\"],[0.5555555555555556,\"#d8576b\"],[0.6666666666666666,\"#ed7953\"],[0.7777777777777778,\"#fb9f3a\"],[0.8888888888888888,\"#fdca26\"],[1.0,\"#f0f921\"]]}],\"surface\":[{\"type\":\"surface\",\"colorbar\":{\"outlinewidth\":0,\"ticks\":\"\"},\"colorscale\":[[0.0,\"#0d0887\"],[0.1111111111111111,\"#46039f\"],[0.2222222222222222,\"#7201a8\"],[0.3333333333333333,\"#9c179e\"],[0.4444444444444444,\"#bd3786\"],[0.5555555555555556,\"#d8576b\"],[0.6666666666666666,\"#ed7953\"],[0.7777777777777778,\"#fb9f3a\"],[0.8888888888888888,\"#fdca26\"],[1.0,\"#f0f921\"]]}],\"mesh3d\":[{\"type\":\"mesh3d\",\"colorbar\":{\"outlinewidth\":0,\"ticks\":\"\"}}],\"scatter\":[{\"fillpattern\":{\"fillmode\":\"overlay\",\"size\":10,\"solidity\":0.2},\"type\":\"scatter\"}],\"parcoords\":[{\"type\":\"parcoords\",\"line\":{\"colorbar\":{\"outlinewidth\":0,\"ticks\":\"\"}}}],\"scatterpolargl\":[{\"type\":\"scatterpolargl\",\"marker\":{\"colorbar\":{\"outlinewidth\":0,\"ticks\":\"\"}}}],\"bar\":[{\"error_x\":{\"color\":\"#2a3f5f\"},\"error_y\":{\"color\":\"#2a3f5f\"},\"marker\":{\"line\":{\"color\":\"#E5ECF6\",\"width\":0.5},\"pattern\":{\"fillmode\":\"overlay\",\"size\":10,\"solidity\":0.2}},\"type\":\"bar\"}],\"scattergeo\":[{\"type\":\"scattergeo\",\"marker\":{\"colorbar\":{\"outlinewidth\":0,\"ticks\":\"\"}}}],\"scatterpolar\":[{\"type\":\"scatterpolar\",\"marker\":{\"colorbar\":{\"outlinewidth\":0,\"ticks\":\"\"}}}],\"histogram\":[{\"marker\":{\"pattern\":{\"fillmode\":\"overlay\",\"size\":10,\"solidity\":0.2}},\"type\":\"histogram\"}],\"scattergl\":[{\"type\":\"scattergl\",\"marker\":{\"colorbar\":{\"outlinewidth\":0,\"ticks\":\"\"}}}],\"scatter3d\":[{\"type\":\"scatter3d\",\"line\":{\"colorbar\":{\"outlinewidth\":0,\"ticks\":\"\"}},\"marker\":{\"colorbar\":{\"outlinewidth\":0,\"ticks\":\"\"}}}],\"scattermapbox\":[{\"type\":\"scattermapbox\",\"marker\":{\"colorbar\":{\"outlinewidth\":0,\"ticks\":\"\"}}}],\"scatterternary\":[{\"type\":\"scatterternary\",\"marker\":{\"colorbar\":{\"outlinewidth\":0,\"ticks\":\"\"}}}],\"scattercarpet\":[{\"type\":\"scattercarpet\",\"marker\":{\"colorbar\":{\"outlinewidth\":0,\"ticks\":\"\"}}}],\"carpet\":[{\"aaxis\":{\"endlinecolor\":\"#2a3f5f\",\"gridcolor\":\"white\",\"linecolor\":\"white\",\"minorgridcolor\":\"white\",\"startlinecolor\":\"#2a3f5f\"},\"baxis\":{\"endlinecolor\":\"#2a3f5f\",\"gridcolor\":\"white\",\"linecolor\":\"white\",\"minorgridcolor\":\"white\",\"startlinecolor\":\"#2a3f5f\"},\"type\":\"carpet\"}],\"table\":[{\"cells\":{\"fill\":{\"color\":\"#EBF0F8\"},\"line\":{\"color\":\"white\"}},\"header\":{\"fill\":{\"color\":\"#C8D4E3\"},\"line\":{\"color\":\"white\"}},\"type\":\"table\"}],\"barpolar\":[{\"marker\":{\"line\":{\"color\":\"#E5ECF6\",\"width\":0.5},\"pattern\":{\"fillmode\":\"overlay\",\"size\":10,\"solidity\":0.2}},\"type\":\"barpolar\"}],\"pie\":[{\"automargin\":true,\"type\":\"pie\"}]},\"layout\":{\"autotypenumbers\":\"strict\",\"colorway\":[\"#636efa\",\"#EF553B\",\"#00cc96\",\"#ab63fa\",\"#FFA15A\",\"#19d3f3\",\"#FF6692\",\"#B6E880\",\"#FF97FF\",\"#FECB52\"],\"font\":{\"color\":\"#2a3f5f\"},\"hovermode\":\"closest\",\"hoverlabel\":{\"align\":\"left\"},\"paper_bgcolor\":\"white\",\"plot_bgcolor\":\"#E5ECF6\",\"polar\":{\"bgcolor\":\"#E5ECF6\",\"angularaxis\":{\"gridcolor\":\"white\",\"linecolor\":\"white\",\"ticks\":\"\"},\"radialaxis\":{\"gridcolor\":\"white\",\"linecolor\":\"white\",\"ticks\":\"\"}},\"ternary\":{\"bgcolor\":\"#E5ECF6\",\"aaxis\":{\"gridcolor\":\"white\",\"linecolor\":\"white\",\"ticks\":\"\"},\"baxis\":{\"gridcolor\":\"white\",\"linecolor\":\"white\",\"ticks\":\"\"},\"caxis\":{\"gridcolor\":\"white\",\"linecolor\":\"white\",\"ticks\":\"\"}},\"coloraxis\":{\"colorbar\":{\"outlinewidth\":0,\"ticks\":\"\"}},\"colorscale\":{\"sequential\":[[0.0,\"#0d0887\"],[0.1111111111111111,\"#46039f\"],[0.2222222222222222,\"#7201a8\"],[0.3333333333333333,\"#9c179e\"],[0.4444444444444444,\"#bd3786\"],[0.5555555555555556,\"#d8576b\"],[0.6666666666666666,\"#ed7953\"],[0.7777777777777778,\"#fb9f3a\"],[0.8888888888888888,\"#fdca26\"],[1.0,\"#f0f921\"]],\"sequentialminus\":[[0.0,\"#0d0887\"],[0.1111111111111111,\"#46039f\"],[0.2222222222222222,\"#7201a8\"],[0.3333333333333333,\"#9c179e\"],[0.4444444444444444,\"#bd3786\"],[0.5555555555555556,\"#d8576b\"],[0.6666666666666666,\"#ed7953\"],[0.7777777777777778,\"#fb9f3a\"],[0.8888888888888888,\"#fdca26\"],[1.0,\"#f0f921\"]],\"diverging\":[[0,\"#8e0152\"],[0.1,\"#c51b7d\"],[0.2,\"#de77ae\"],[0.3,\"#f1b6da\"],[0.4,\"#fde0ef\"],[0.5,\"#f7f7f7\"],[0.6,\"#e6f5d0\"],[0.7,\"#b8e186\"],[0.8,\"#7fbc41\"],[0.9,\"#4d9221\"],[1,\"#276419\"]]},\"xaxis\":{\"gridcolor\":\"white\",\"linecolor\":\"white\",\"ticks\":\"\",\"title\":{\"standoff\":15},\"zerolinecolor\":\"white\",\"automargin\":true,\"zerolinewidth\":2},\"yaxis\":{\"gridcolor\":\"white\",\"linecolor\":\"white\",\"ticks\":\"\",\"title\":{\"standoff\":15},\"zerolinecolor\":\"white\",\"automargin\":true,\"zerolinewidth\":2},\"scene\":{\"xaxis\":{\"backgroundcolor\":\"#E5ECF6\",\"gridcolor\":\"white\",\"linecolor\":\"white\",\"showbackground\":true,\"ticks\":\"\",\"zerolinecolor\":\"white\",\"gridwidth\":2},\"yaxis\":{\"backgroundcolor\":\"#E5ECF6\",\"gridcolor\":\"white\",\"linecolor\":\"white\",\"showbackground\":true,\"ticks\":\"\",\"zerolinecolor\":\"white\",\"gridwidth\":2},\"zaxis\":{\"backgroundcolor\":\"#E5ECF6\",\"gridcolor\":\"white\",\"linecolor\":\"white\",\"showbackground\":true,\"ticks\":\"\",\"zerolinecolor\":\"white\",\"gridwidth\":2}},\"shapedefaults\":{\"line\":{\"color\":\"#2a3f5f\"}},\"annotationdefaults\":{\"arrowcolor\":\"#2a3f5f\",\"arrowhead\":0,\"arrowwidth\":1},\"geo\":{\"bgcolor\":\"white\",\"landcolor\":\"#E5ECF6\",\"subunitcolor\":\"white\",\"showland\":true,\"showlakes\":true,\"lakecolor\":\"white\"},\"title\":{\"x\":0.05},\"mapbox\":{\"style\":\"light\"}}},\"xaxis\":{\"anchor\":\"y\",\"domain\":[0.0,1.0],\"title\":{\"text\":\"Word\"}},\"yaxis\":{\"anchor\":\"x\",\"domain\":[0.0,1.0],\"title\":{\"text\":\"Frequency\"}},\"legend\":{\"tracegroupgap\":0},\"title\":{\"text\":\"Word Frequency Analysis\"},\"barmode\":\"relative\",\"updatemenus\":[{\"buttons\":[{\"args\":[{\"xaxis.range\":[0,439]},{\"title\":\"All Words\"}],\"label\":\"All Words\",\"method\":\"relayout\"},{\"args\":[{\"xaxis.range\":[0,9]},{\"title\":\"Top 10 Words\"}],\"label\":\"Top 10 Words\",\"method\":\"relayout\"},{\"args\":[{\"xaxis.range\":[0,19]},{\"title\":\"Top 20 Words\"}],\"label\":\"Top 20 Words\",\"method\":\"relayout\"}],\"direction\":\"down\",\"showactive\":true}]},                        {\"responsive\": true}                    ).then(function(){\n",
       "                            \n",
       "var gd = document.getElementById('c811b254-f7cb-4678-bed7-d1600f0e6c4c');\n",
       "var x = new MutationObserver(function (mutations, observer) {{\n",
       "        var display = window.getComputedStyle(gd).display;\n",
       "        if (!display || display === 'none') {{\n",
       "            console.log([gd, 'removed!']);\n",
       "            Plotly.purge(gd);\n",
       "            observer.disconnect();\n",
       "        }}\n",
       "}});\n",
       "\n",
       "// Listen for the removal of the full notebook cells\n",
       "var notebookContainer = gd.closest('#notebook-container');\n",
       "if (notebookContainer) {{\n",
       "    x.observe(notebookContainer, {childList: true});\n",
       "}}\n",
       "\n",
       "// Listen for the clearing of the current output cell\n",
       "var outputEl = gd.closest('.output');\n",
       "if (outputEl) {{\n",
       "    x.observe(outputEl, {childList: true});\n",
       "}}\n",
       "\n",
       "                        })                };                });            </script>        </div>"
      ]
     },
     "metadata": {},
     "output_type": "display_data"
    }
   ],
   "source": [
    "import nltk\n",
    "import pandas as pd\n",
    "import plotly.express as plot\n",
    "from nltk.probability import FreqDist\n",
    "from nltk.tokenize import word_tokenize\n",
    "from nltk.corpus import stopwords\n",
    "\n",
    "\n",
    "stop_words = set(stopwords.words('english'))\n",
    "try:\n",
    "    # Read text from a .txt file\n",
    "    with open('chat.txt', 'r') as file:\n",
    "        text = file.read().lower()  # Convert to lower case\n",
    "\n",
    "    tokens = [word for word in word_tokenize(text) if word.isalpha() and word not in stop_words]\n",
    "\n",
    "\n",
    "    # Calculate word frequency\n",
    "    word_freq = FreqDist(tokens)\n",
    "\n",
    "    # Convert word frequency data to a DataFrame\n",
    "    word_freq_df = pd.DataFrame(word_freq.items(), columns=['Word', 'Frequency']).sort_values(by='Frequency', ascending=False)\n",
    "    with pd.option_context('display.max_rows', None, 'display.max_columns', None):\n",
    "        display(word_freq_df)\n",
    "\n",
    "\n",
    "    # Create an interactive bar chart using Plotly\n",
    "    fig = plot.bar(word_freq_df, x='Word', y='Frequency', title='Word Frequency Analysis')\n",
    "\n",
    "    # Update layout\n",
    "    fig.update_layout(xaxis_title='Word', yaxis_title='Frequency')\n",
    "\n",
    "    # Dropdown menu for word filtering\n",
    "    dropdown_buttons = [\n",
    "        {'label': 'All Words', 'method': 'relayout',\n",
    "         'args': [{'xaxis.range': [0, len(word_freq_df)]}, {'title': 'All Words'}]},\n",
    "        {'label': 'Top 10 Words', 'method': 'relayout',\n",
    "         'args': [{'xaxis.range': [0, 9]}, {'title': 'Top 10 Words'}]},\n",
    "        {'label': 'Top 20 Words', 'method': 'relayout',\n",
    "         'args': [{'xaxis.range': [0, 19]}, {'title': 'Top 20 Words'}]},\n",
    "    ]\n",
    "\n",
    "    fig.update_layout(\n",
    "        updatemenus=[\n",
    "            {'buttons': dropdown_buttons,\n",
    "             'direction': 'down',\n",
    "             'showactive': True,\n",
    "             }\n",
    "        ])\n",
    "\n",
    "    fig.show()\n",
    "\n",
    "except FileNotFoundError:\n",
    "    print(\"The file chat.txt was not found.\")\n",
    "except Exception as e:\n",
    "    print(f\"An error occurred: {e}\")"
   ]
  },
  {
   "cell_type": "code",
   "execution_count": 3,
   "id": "9d0fb57f",
   "metadata": {},
   "outputs": [
    {
     "name": "stdout",
     "output_type": "stream",
     "text": [
      "Requirement already satisfied: textblob in c:\\users\\cyco8\\anaconda3\\lib\\site-packages (0.17.1)\n",
      "Requirement already satisfied: nltk>=3.1 in c:\\users\\cyco8\\anaconda3\\lib\\site-packages (from textblob) (3.8.1)\n",
      "Requirement already satisfied: click in c:\\users\\cyco8\\anaconda3\\lib\\site-packages (from nltk>=3.1->textblob) (8.0.4)\n",
      "Requirement already satisfied: joblib in c:\\users\\cyco8\\anaconda3\\lib\\site-packages (from nltk>=3.1->textblob) (1.2.0)\n",
      "Requirement already satisfied: regex>=2021.8.3 in c:\\users\\cyco8\\anaconda3\\lib\\site-packages (from nltk>=3.1->textblob) (2022.7.9)\n",
      "Requirement already satisfied: tqdm in c:\\users\\cyco8\\anaconda3\\lib\\site-packages (from nltk>=3.1->textblob) (4.65.0)\n",
      "Requirement already satisfied: colorama in c:\\users\\cyco8\\anaconda3\\lib\\site-packages (from click->nltk>=3.1->textblob) (0.4.6)\n",
      "Note: you may need to restart the kernel to use updated packages.\n"
     ]
    },
    {
     "data": {
      "text/html": [
       "<div>\n",
       "<style scoped>\n",
       "    .dataframe tbody tr th:only-of-type {\n",
       "        vertical-align: middle;\n",
       "    }\n",
       "\n",
       "    .dataframe tbody tr th {\n",
       "        vertical-align: top;\n",
       "    }\n",
       "\n",
       "    .dataframe thead th {\n",
       "        text-align: right;\n",
       "    }\n",
       "</style>\n",
       "<table border=\"1\" class=\"dataframe\">\n",
       "  <thead>\n",
       "    <tr style=\"text-align: right;\">\n",
       "      <th></th>\n",
       "      <th>Text</th>\n",
       "      <th>Polarity</th>\n",
       "      <th>Subjectivity</th>\n",
       "    </tr>\n",
       "  </thead>\n",
       "  <tbody>\n",
       "    <tr>\n",
       "      <th>0</th>\n",
       "      <td>what are the implications to a economy due to ...</td>\n",
       "      <td>-0.125000</td>\n",
       "      <td>0.375000</td>\n",
       "    </tr>\n",
       "    <tr>\n",
       "      <th>1</th>\n",
       "      <td>\\n</td>\n",
       "      <td>0.000000</td>\n",
       "      <td>0.000000</td>\n",
       "    </tr>\n",
       "    <tr>\n",
       "      <th>2</th>\n",
       "      <td>Automation can have significant implications f...</td>\n",
       "      <td>0.060455</td>\n",
       "      <td>0.589091</td>\n",
       "    </tr>\n",
       "    <tr>\n",
       "      <th>3</th>\n",
       "      <td>\\n</td>\n",
       "      <td>0.000000</td>\n",
       "      <td>0.000000</td>\n",
       "    </tr>\n",
       "    <tr>\n",
       "      <th>4</th>\n",
       "      <td>1. **Increased Productivity**: Automation can ...</td>\n",
       "      <td>0.000000</td>\n",
       "      <td>1.000000</td>\n",
       "    </tr>\n",
       "    <tr>\n",
       "      <th>5</th>\n",
       "      <td>\\n</td>\n",
       "      <td>0.000000</td>\n",
       "      <td>0.000000</td>\n",
       "    </tr>\n",
       "    <tr>\n",
       "      <th>6</th>\n",
       "      <td>2. **Labor Displacement**: One of the most sig...</td>\n",
       "      <td>0.140625</td>\n",
       "      <td>0.478125</td>\n",
       "    </tr>\n",
       "    <tr>\n",
       "      <th>7</th>\n",
       "      <td>\\n</td>\n",
       "      <td>0.000000</td>\n",
       "      <td>0.000000</td>\n",
       "    </tr>\n",
       "    <tr>\n",
       "      <th>8</th>\n",
       "      <td>3. **Skill Shift**: While some jobs may be los...</td>\n",
       "      <td>-0.109091</td>\n",
       "      <td>0.636364</td>\n",
       "    </tr>\n",
       "    <tr>\n",
       "      <th>9</th>\n",
       "      <td>\\n</td>\n",
       "      <td>0.000000</td>\n",
       "      <td>0.000000</td>\n",
       "    </tr>\n",
       "    <tr>\n",
       "      <th>10</th>\n",
       "      <td>4. **Income Inequality**: Automation can exace...</td>\n",
       "      <td>0.000000</td>\n",
       "      <td>0.000000</td>\n",
       "    </tr>\n",
       "    <tr>\n",
       "      <th>11</th>\n",
       "      <td>\\n</td>\n",
       "      <td>0.000000</td>\n",
       "      <td>0.000000</td>\n",
       "    </tr>\n",
       "    <tr>\n",
       "      <th>12</th>\n",
       "      <td>5. **Industry Transformation**: Entire industr...</td>\n",
       "      <td>0.125000</td>\n",
       "      <td>0.750000</td>\n",
       "    </tr>\n",
       "    <tr>\n",
       "      <th>13</th>\n",
       "      <td>\\n</td>\n",
       "      <td>0.000000</td>\n",
       "      <td>0.000000</td>\n",
       "    </tr>\n",
       "    <tr>\n",
       "      <th>14</th>\n",
       "      <td>6. **Economic Growth**: Despite potential job ...</td>\n",
       "      <td>0.122727</td>\n",
       "      <td>0.342424</td>\n",
       "    </tr>\n",
       "    <tr>\n",
       "      <th>15</th>\n",
       "      <td>\\n</td>\n",
       "      <td>0.000000</td>\n",
       "      <td>0.000000</td>\n",
       "    </tr>\n",
       "    <tr>\n",
       "      <th>16</th>\n",
       "      <td>7. **Transition Costs**: Transitioning to an a...</td>\n",
       "      <td>-0.181818</td>\n",
       "      <td>0.577273</td>\n",
       "    </tr>\n",
       "    <tr>\n",
       "      <th>17</th>\n",
       "      <td>\\n</td>\n",
       "      <td>0.000000</td>\n",
       "      <td>0.000000</td>\n",
       "    </tr>\n",
       "    <tr>\n",
       "      <th>18</th>\n",
       "      <td>8. **Education and Training**: As automation c...</td>\n",
       "      <td>0.000000</td>\n",
       "      <td>0.125000</td>\n",
       "    </tr>\n",
       "    <tr>\n",
       "      <th>19</th>\n",
       "      <td>\\n</td>\n",
       "      <td>0.000000</td>\n",
       "      <td>0.000000</td>\n",
       "    </tr>\n",
       "    <tr>\n",
       "      <th>20</th>\n",
       "      <td>9. **Government Policy**: Government policies ...</td>\n",
       "      <td>0.136111</td>\n",
       "      <td>0.447222</td>\n",
       "    </tr>\n",
       "    <tr>\n",
       "      <th>21</th>\n",
       "      <td>\\n</td>\n",
       "      <td>0.000000</td>\n",
       "      <td>0.000000</td>\n",
       "    </tr>\n",
       "    <tr>\n",
       "      <th>22</th>\n",
       "      <td>10. **Social Impact**: Automation can have soc...</td>\n",
       "      <td>0.140606</td>\n",
       "      <td>0.284242</td>\n",
       "    </tr>\n",
       "    <tr>\n",
       "      <th>23</th>\n",
       "      <td>\\n</td>\n",
       "      <td>0.000000</td>\n",
       "      <td>0.000000</td>\n",
       "    </tr>\n",
       "    <tr>\n",
       "      <th>24</th>\n",
       "      <td>In summary, the implications of automation on ...</td>\n",
       "      <td>0.266667</td>\n",
       "      <td>0.466667</td>\n",
       "    </tr>\n",
       "    <tr>\n",
       "      <th>25</th>\n",
       "      <td>\\n</td>\n",
       "      <td>0.000000</td>\n",
       "      <td>0.000000</td>\n",
       "    </tr>\n",
       "    <tr>\n",
       "      <th>26</th>\n",
       "      <td>How might automation impact the job market, an...</td>\n",
       "      <td>0.000000</td>\n",
       "      <td>1.000000</td>\n",
       "    </tr>\n",
       "    <tr>\n",
       "      <th>27</th>\n",
       "      <td>\\n</td>\n",
       "      <td>0.000000</td>\n",
       "      <td>0.000000</td>\n",
       "    </tr>\n",
       "    <tr>\n",
       "      <th>28</th>\n",
       "      <td>Automation can have a significant impact on th...</td>\n",
       "      <td>0.187500</td>\n",
       "      <td>0.937500</td>\n",
       "    </tr>\n",
       "    <tr>\n",
       "      <th>29</th>\n",
       "      <td>\\n</td>\n",
       "      <td>0.000000</td>\n",
       "      <td>0.000000</td>\n",
       "    </tr>\n",
       "    <tr>\n",
       "      <th>30</th>\n",
       "      <td>Impact on the Job Market:\\n</td>\n",
       "      <td>0.000000</td>\n",
       "      <td>0.000000</td>\n",
       "    </tr>\n",
       "    <tr>\n",
       "      <th>31</th>\n",
       "      <td>\\n</td>\n",
       "      <td>0.000000</td>\n",
       "      <td>0.000000</td>\n",
       "    </tr>\n",
       "    <tr>\n",
       "      <th>32</th>\n",
       "      <td>Job Displacement: Automation can lead to the d...</td>\n",
       "      <td>-0.041667</td>\n",
       "      <td>0.291667</td>\n",
       "    </tr>\n",
       "    <tr>\n",
       "      <th>33</th>\n",
       "      <td>\\n</td>\n",
       "      <td>0.000000</td>\n",
       "      <td>0.000000</td>\n",
       "    </tr>\n",
       "    <tr>\n",
       "      <th>34</th>\n",
       "      <td>Creation of New Jobs: Automation can also crea...</td>\n",
       "      <td>-0.081818</td>\n",
       "      <td>0.602273</td>\n",
       "    </tr>\n",
       "    <tr>\n",
       "      <th>35</th>\n",
       "      <td>\\n</td>\n",
       "      <td>0.000000</td>\n",
       "      <td>0.000000</td>\n",
       "    </tr>\n",
       "    <tr>\n",
       "      <th>36</th>\n",
       "      <td>Shift in Skill Requirements: Many jobs may req...</td>\n",
       "      <td>0.250000</td>\n",
       "      <td>0.400000</td>\n",
       "    </tr>\n",
       "    <tr>\n",
       "      <th>37</th>\n",
       "      <td>\\n</td>\n",
       "      <td>0.000000</td>\n",
       "      <td>0.000000</td>\n",
       "    </tr>\n",
       "    <tr>\n",
       "      <th>38</th>\n",
       "      <td>Income Inequality: The impact of automation on...</td>\n",
       "      <td>0.312500</td>\n",
       "      <td>0.687500</td>\n",
       "    </tr>\n",
       "    <tr>\n",
       "      <th>39</th>\n",
       "      <td>\\n</td>\n",
       "      <td>0.000000</td>\n",
       "      <td>0.000000</td>\n",
       "    </tr>\n",
       "    <tr>\n",
       "      <th>40</th>\n",
       "      <td>Strategies to Mitigate Job Losses:\\n</td>\n",
       "      <td>0.000000</td>\n",
       "      <td>0.000000</td>\n",
       "    </tr>\n",
       "    <tr>\n",
       "      <th>41</th>\n",
       "      <td>\\n</td>\n",
       "      <td>0.000000</td>\n",
       "      <td>0.000000</td>\n",
       "    </tr>\n",
       "    <tr>\n",
       "      <th>42</th>\n",
       "      <td>Invest in Education and Training: Governments ...</td>\n",
       "      <td>0.066667</td>\n",
       "      <td>0.375000</td>\n",
       "    </tr>\n",
       "    <tr>\n",
       "      <th>43</th>\n",
       "      <td>\\n</td>\n",
       "      <td>0.000000</td>\n",
       "      <td>0.000000</td>\n",
       "    </tr>\n",
       "    <tr>\n",
       "      <th>44</th>\n",
       "      <td>Support Transition Assistance: Implement progr...</td>\n",
       "      <td>0.068182</td>\n",
       "      <td>0.227273</td>\n",
       "    </tr>\n",
       "    <tr>\n",
       "      <th>45</th>\n",
       "      <td>\\n</td>\n",
       "      <td>0.000000</td>\n",
       "      <td>0.000000</td>\n",
       "    </tr>\n",
       "    <tr>\n",
       "      <th>46</th>\n",
       "      <td>Promote STEM Education: Encourage STEM (Scienc...</td>\n",
       "      <td>0.050000</td>\n",
       "      <td>0.200000</td>\n",
       "    </tr>\n",
       "    <tr>\n",
       "      <th>47</th>\n",
       "      <td>\\n</td>\n",
       "      <td>0.000000</td>\n",
       "      <td>0.000000</td>\n",
       "    </tr>\n",
       "    <tr>\n",
       "      <th>48</th>\n",
       "      <td>Develop Safety Nets: Strengthen social safety ...</td>\n",
       "      <td>-0.088889</td>\n",
       "      <td>0.155556</td>\n",
       "    </tr>\n",
       "    <tr>\n",
       "      <th>49</th>\n",
       "      <td>\\n</td>\n",
       "      <td>0.000000</td>\n",
       "      <td>0.000000</td>\n",
       "    </tr>\n",
       "    <tr>\n",
       "      <th>50</th>\n",
       "      <td>Collaboration with Industry: Governments and b...</td>\n",
       "      <td>0.000000</td>\n",
       "      <td>0.000000</td>\n",
       "    </tr>\n",
       "    <tr>\n",
       "      <th>51</th>\n",
       "      <td>\\n</td>\n",
       "      <td>0.000000</td>\n",
       "      <td>0.000000</td>\n",
       "    </tr>\n",
       "    <tr>\n",
       "      <th>52</th>\n",
       "      <td>Encourage Entrepreneurship: Support entreprene...</td>\n",
       "      <td>0.136364</td>\n",
       "      <td>0.454545</td>\n",
       "    </tr>\n",
       "    <tr>\n",
       "      <th>53</th>\n",
       "      <td>\\n</td>\n",
       "      <td>0.000000</td>\n",
       "      <td>0.000000</td>\n",
       "    </tr>\n",
       "    <tr>\n",
       "      <th>54</th>\n",
       "      <td>Flexible Labor Policies: Consider flexible lab...</td>\n",
       "      <td>-0.050000</td>\n",
       "      <td>0.350000</td>\n",
       "    </tr>\n",
       "    <tr>\n",
       "      <th>55</th>\n",
       "      <td>\\n</td>\n",
       "      <td>0.000000</td>\n",
       "      <td>0.000000</td>\n",
       "    </tr>\n",
       "    <tr>\n",
       "      <th>56</th>\n",
       "      <td>Tax Incentives: Offer tax incentives to encour...</td>\n",
       "      <td>0.000000</td>\n",
       "      <td>0.000000</td>\n",
       "    </tr>\n",
       "    <tr>\n",
       "      <th>57</th>\n",
       "      <td>\\n</td>\n",
       "      <td>0.000000</td>\n",
       "      <td>0.000000</td>\n",
       "    </tr>\n",
       "    <tr>\n",
       "      <th>58</th>\n",
       "      <td>Ethical AI and Automation Practices: Encourage...</td>\n",
       "      <td>0.200000</td>\n",
       "      <td>0.537500</td>\n",
       "    </tr>\n",
       "    <tr>\n",
       "      <th>59</th>\n",
       "      <td>\\n</td>\n",
       "      <td>0.000000</td>\n",
       "      <td>0.000000</td>\n",
       "    </tr>\n",
       "    <tr>\n",
       "      <th>60</th>\n",
       "      <td>Worker-Management Collaboration: Encourage col...</td>\n",
       "      <td>0.100000</td>\n",
       "      <td>0.556250</td>\n",
       "    </tr>\n",
       "    <tr>\n",
       "      <th>61</th>\n",
       "      <td>\\n</td>\n",
       "      <td>0.000000</td>\n",
       "      <td>0.000000</td>\n",
       "    </tr>\n",
       "    <tr>\n",
       "      <th>62</th>\n",
       "      <td>In conclusion, while automation can lead to jo...</td>\n",
       "      <td>0.103125</td>\n",
       "      <td>0.390625</td>\n",
       "    </tr>\n",
       "    <tr>\n",
       "      <th>63</th>\n",
       "      <td>\\n</td>\n",
       "      <td>0.000000</td>\n",
       "      <td>0.000000</td>\n",
       "    </tr>\n",
       "    <tr>\n",
       "      <th>64</th>\n",
       "      <td>How can education and training programs be ada...</td>\n",
       "      <td>0.500000</td>\n",
       "      <td>0.500000</td>\n",
       "    </tr>\n",
       "    <tr>\n",
       "      <th>65</th>\n",
       "      <td>\\n</td>\n",
       "      <td>0.000000</td>\n",
       "      <td>0.000000</td>\n",
       "    </tr>\n",
       "    <tr>\n",
       "      <th>66</th>\n",
       "      <td>To better prepare the workforce for the changi...</td>\n",
       "      <td>0.166667</td>\n",
       "      <td>0.208333</td>\n",
       "    </tr>\n",
       "    <tr>\n",
       "      <th>67</th>\n",
       "      <td>\\n</td>\n",
       "      <td>0.000000</td>\n",
       "      <td>0.000000</td>\n",
       "    </tr>\n",
       "    <tr>\n",
       "      <th>68</th>\n",
       "      <td>Emphasize Digital Literacy: Digital literacy i...</td>\n",
       "      <td>0.120000</td>\n",
       "      <td>0.185000</td>\n",
       "    </tr>\n",
       "    <tr>\n",
       "      <th>69</th>\n",
       "      <td>\\n</td>\n",
       "      <td>0.000000</td>\n",
       "      <td>0.000000</td>\n",
       "    </tr>\n",
       "    <tr>\n",
       "      <th>70</th>\n",
       "      <td>Integrate STEM Education: Science, Technology,...</td>\n",
       "      <td>0.133333</td>\n",
       "      <td>0.483333</td>\n",
       "    </tr>\n",
       "    <tr>\n",
       "      <th>71</th>\n",
       "      <td>\\n</td>\n",
       "      <td>0.000000</td>\n",
       "      <td>0.000000</td>\n",
       "    </tr>\n",
       "    <tr>\n",
       "      <th>72</th>\n",
       "      <td>Offer Coding and Computer Science: Coding and ...</td>\n",
       "      <td>-0.050000</td>\n",
       "      <td>0.500000</td>\n",
       "    </tr>\n",
       "    <tr>\n",
       "      <th>73</th>\n",
       "      <td>\\n</td>\n",
       "      <td>0.000000</td>\n",
       "      <td>0.000000</td>\n",
       "    </tr>\n",
       "    <tr>\n",
       "      <th>74</th>\n",
       "      <td>Promote Soft Skills: Soft skills such as commu...</td>\n",
       "      <td>0.040000</td>\n",
       "      <td>0.570000</td>\n",
       "    </tr>\n",
       "    <tr>\n",
       "      <th>75</th>\n",
       "      <td>\\n</td>\n",
       "      <td>0.000000</td>\n",
       "      <td>0.000000</td>\n",
       "    </tr>\n",
       "    <tr>\n",
       "      <th>76</th>\n",
       "      <td>Lifelong Learning: Encourage a culture of life...</td>\n",
       "      <td>0.067273</td>\n",
       "      <td>0.610909</td>\n",
       "    </tr>\n",
       "    <tr>\n",
       "      <th>77</th>\n",
       "      <td>\\n</td>\n",
       "      <td>0.000000</td>\n",
       "      <td>0.000000</td>\n",
       "    </tr>\n",
       "    <tr>\n",
       "      <th>78</th>\n",
       "      <td>Customized Learning Paths: Recognize that not ...</td>\n",
       "      <td>0.191667</td>\n",
       "      <td>0.379167</td>\n",
       "    </tr>\n",
       "    <tr>\n",
       "      <th>79</th>\n",
       "      <td>\\n</td>\n",
       "      <td>0.000000</td>\n",
       "      <td>0.000000</td>\n",
       "    </tr>\n",
       "    <tr>\n",
       "      <th>80</th>\n",
       "      <td>Hands-On Experience: Practical, hands-on exper...</td>\n",
       "      <td>0.000000</td>\n",
       "      <td>0.300000</td>\n",
       "    </tr>\n",
       "    <tr>\n",
       "      <th>81</th>\n",
       "      <td>\\n</td>\n",
       "      <td>0.000000</td>\n",
       "      <td>0.000000</td>\n",
       "    </tr>\n",
       "    <tr>\n",
       "      <th>82</th>\n",
       "      <td>Industry Partnerships: Collaborate with busine...</td>\n",
       "      <td>0.000000</td>\n",
       "      <td>0.125000</td>\n",
       "    </tr>\n",
       "    <tr>\n",
       "      <th>83</th>\n",
       "      <td>\\n</td>\n",
       "      <td>0.000000</td>\n",
       "      <td>0.000000</td>\n",
       "    </tr>\n",
       "    <tr>\n",
       "      <th>84</th>\n",
       "      <td>Cross-Disciplinary Education: Encourage cross-...</td>\n",
       "      <td>-0.062500</td>\n",
       "      <td>0.237500</td>\n",
       "    </tr>\n",
       "    <tr>\n",
       "      <th>85</th>\n",
       "      <td>\\n</td>\n",
       "      <td>0.000000</td>\n",
       "      <td>0.000000</td>\n",
       "    </tr>\n",
       "    <tr>\n",
       "      <th>86</th>\n",
       "      <td>Soft Skills Training: Offer training in soft s...</td>\n",
       "      <td>0.066667</td>\n",
       "      <td>0.333333</td>\n",
       "    </tr>\n",
       "    <tr>\n",
       "      <th>87</th>\n",
       "      <td>\\n</td>\n",
       "      <td>0.000000</td>\n",
       "      <td>0.000000</td>\n",
       "    </tr>\n",
       "    <tr>\n",
       "      <th>88</th>\n",
       "      <td>Ethical and Responsible AI Training: Incorpora...</td>\n",
       "      <td>0.040000</td>\n",
       "      <td>0.660000</td>\n",
       "    </tr>\n",
       "    <tr>\n",
       "      <th>89</th>\n",
       "      <td>\\n</td>\n",
       "      <td>0.000000</td>\n",
       "      <td>0.000000</td>\n",
       "    </tr>\n",
       "    <tr>\n",
       "      <th>90</th>\n",
       "      <td>Certifications and Credentials: Develop indust...</td>\n",
       "      <td>0.000000</td>\n",
       "      <td>1.000000</td>\n",
       "    </tr>\n",
       "    <tr>\n",
       "      <th>91</th>\n",
       "      <td>\\n</td>\n",
       "      <td>0.000000</td>\n",
       "      <td>0.000000</td>\n",
       "    </tr>\n",
       "    <tr>\n",
       "      <th>92</th>\n",
       "      <td>Support for Displaced Workers: Create programs...</td>\n",
       "      <td>0.000000</td>\n",
       "      <td>0.000000</td>\n",
       "    </tr>\n",
       "    <tr>\n",
       "      <th>93</th>\n",
       "      <td>\\n</td>\n",
       "      <td>0.000000</td>\n",
       "      <td>0.000000</td>\n",
       "    </tr>\n",
       "    <tr>\n",
       "      <th>94</th>\n",
       "      <td>Accessibility and Inclusivity: Ensure that edu...</td>\n",
       "      <td>0.187500</td>\n",
       "      <td>0.258929</td>\n",
       "    </tr>\n",
       "    <tr>\n",
       "      <th>95</th>\n",
       "      <td>\\n</td>\n",
       "      <td>0.000000</td>\n",
       "      <td>0.000000</td>\n",
       "    </tr>\n",
       "    <tr>\n",
       "      <th>96</th>\n",
       "      <td>Continuous Assessment and Feedback: Regularly ...</td>\n",
       "      <td>0.000000</td>\n",
       "      <td>0.538462</td>\n",
       "    </tr>\n",
       "    <tr>\n",
       "      <th>97</th>\n",
       "      <td>\\n</td>\n",
       "      <td>0.000000</td>\n",
       "      <td>0.000000</td>\n",
       "    </tr>\n",
       "    <tr>\n",
       "      <th>98</th>\n",
       "      <td>In summary, adapting education and training pr...</td>\n",
       "      <td>0.000000</td>\n",
       "      <td>0.350000</td>\n",
       "    </tr>\n",
       "  </tbody>\n",
       "</table>\n",
       "</div>"
      ],
      "text/plain": [
       "                                                 Text  Polarity  Subjectivity\n",
       "0   what are the implications to a economy due to ... -0.125000      0.375000\n",
       "1                                                  \\n  0.000000      0.000000\n",
       "2   Automation can have significant implications f...  0.060455      0.589091\n",
       "3                                                  \\n  0.000000      0.000000\n",
       "4   1. **Increased Productivity**: Automation can ...  0.000000      1.000000\n",
       "5                                                  \\n  0.000000      0.000000\n",
       "6   2. **Labor Displacement**: One of the most sig...  0.140625      0.478125\n",
       "7                                                  \\n  0.000000      0.000000\n",
       "8   3. **Skill Shift**: While some jobs may be los... -0.109091      0.636364\n",
       "9                                                  \\n  0.000000      0.000000\n",
       "10  4. **Income Inequality**: Automation can exace...  0.000000      0.000000\n",
       "11                                                 \\n  0.000000      0.000000\n",
       "12  5. **Industry Transformation**: Entire industr...  0.125000      0.750000\n",
       "13                                                 \\n  0.000000      0.000000\n",
       "14  6. **Economic Growth**: Despite potential job ...  0.122727      0.342424\n",
       "15                                                 \\n  0.000000      0.000000\n",
       "16  7. **Transition Costs**: Transitioning to an a... -0.181818      0.577273\n",
       "17                                                 \\n  0.000000      0.000000\n",
       "18  8. **Education and Training**: As automation c...  0.000000      0.125000\n",
       "19                                                 \\n  0.000000      0.000000\n",
       "20  9. **Government Policy**: Government policies ...  0.136111      0.447222\n",
       "21                                                 \\n  0.000000      0.000000\n",
       "22  10. **Social Impact**: Automation can have soc...  0.140606      0.284242\n",
       "23                                                 \\n  0.000000      0.000000\n",
       "24  In summary, the implications of automation on ...  0.266667      0.466667\n",
       "25                                                 \\n  0.000000      0.000000\n",
       "26  How might automation impact the job market, an...  0.000000      1.000000\n",
       "27                                                 \\n  0.000000      0.000000\n",
       "28  Automation can have a significant impact on th...  0.187500      0.937500\n",
       "29                                                 \\n  0.000000      0.000000\n",
       "30                        Impact on the Job Market:\\n  0.000000      0.000000\n",
       "31                                                 \\n  0.000000      0.000000\n",
       "32  Job Displacement: Automation can lead to the d... -0.041667      0.291667\n",
       "33                                                 \\n  0.000000      0.000000\n",
       "34  Creation of New Jobs: Automation can also crea... -0.081818      0.602273\n",
       "35                                                 \\n  0.000000      0.000000\n",
       "36  Shift in Skill Requirements: Many jobs may req...  0.250000      0.400000\n",
       "37                                                 \\n  0.000000      0.000000\n",
       "38  Income Inequality: The impact of automation on...  0.312500      0.687500\n",
       "39                                                 \\n  0.000000      0.000000\n",
       "40               Strategies to Mitigate Job Losses:\\n  0.000000      0.000000\n",
       "41                                                 \\n  0.000000      0.000000\n",
       "42  Invest in Education and Training: Governments ...  0.066667      0.375000\n",
       "43                                                 \\n  0.000000      0.000000\n",
       "44  Support Transition Assistance: Implement progr...  0.068182      0.227273\n",
       "45                                                 \\n  0.000000      0.000000\n",
       "46  Promote STEM Education: Encourage STEM (Scienc...  0.050000      0.200000\n",
       "47                                                 \\n  0.000000      0.000000\n",
       "48  Develop Safety Nets: Strengthen social safety ... -0.088889      0.155556\n",
       "49                                                 \\n  0.000000      0.000000\n",
       "50  Collaboration with Industry: Governments and b...  0.000000      0.000000\n",
       "51                                                 \\n  0.000000      0.000000\n",
       "52  Encourage Entrepreneurship: Support entreprene...  0.136364      0.454545\n",
       "53                                                 \\n  0.000000      0.000000\n",
       "54  Flexible Labor Policies: Consider flexible lab... -0.050000      0.350000\n",
       "55                                                 \\n  0.000000      0.000000\n",
       "56  Tax Incentives: Offer tax incentives to encour...  0.000000      0.000000\n",
       "57                                                 \\n  0.000000      0.000000\n",
       "58  Ethical AI and Automation Practices: Encourage...  0.200000      0.537500\n",
       "59                                                 \\n  0.000000      0.000000\n",
       "60  Worker-Management Collaboration: Encourage col...  0.100000      0.556250\n",
       "61                                                 \\n  0.000000      0.000000\n",
       "62  In conclusion, while automation can lead to jo...  0.103125      0.390625\n",
       "63                                                 \\n  0.000000      0.000000\n",
       "64  How can education and training programs be ada...  0.500000      0.500000\n",
       "65                                                 \\n  0.000000      0.000000\n",
       "66  To better prepare the workforce for the changi...  0.166667      0.208333\n",
       "67                                                 \\n  0.000000      0.000000\n",
       "68  Emphasize Digital Literacy: Digital literacy i...  0.120000      0.185000\n",
       "69                                                 \\n  0.000000      0.000000\n",
       "70  Integrate STEM Education: Science, Technology,...  0.133333      0.483333\n",
       "71                                                 \\n  0.000000      0.000000\n",
       "72  Offer Coding and Computer Science: Coding and ... -0.050000      0.500000\n",
       "73                                                 \\n  0.000000      0.000000\n",
       "74  Promote Soft Skills: Soft skills such as commu...  0.040000      0.570000\n",
       "75                                                 \\n  0.000000      0.000000\n",
       "76  Lifelong Learning: Encourage a culture of life...  0.067273      0.610909\n",
       "77                                                 \\n  0.000000      0.000000\n",
       "78  Customized Learning Paths: Recognize that not ...  0.191667      0.379167\n",
       "79                                                 \\n  0.000000      0.000000\n",
       "80  Hands-On Experience: Practical, hands-on exper...  0.000000      0.300000\n",
       "81                                                 \\n  0.000000      0.000000\n",
       "82  Industry Partnerships: Collaborate with busine...  0.000000      0.125000\n",
       "83                                                 \\n  0.000000      0.000000\n",
       "84  Cross-Disciplinary Education: Encourage cross-... -0.062500      0.237500\n",
       "85                                                 \\n  0.000000      0.000000\n",
       "86  Soft Skills Training: Offer training in soft s...  0.066667      0.333333\n",
       "87                                                 \\n  0.000000      0.000000\n",
       "88  Ethical and Responsible AI Training: Incorpora...  0.040000      0.660000\n",
       "89                                                 \\n  0.000000      0.000000\n",
       "90  Certifications and Credentials: Develop indust...  0.000000      1.000000\n",
       "91                                                 \\n  0.000000      0.000000\n",
       "92  Support for Displaced Workers: Create programs...  0.000000      0.000000\n",
       "93                                                 \\n  0.000000      0.000000\n",
       "94  Accessibility and Inclusivity: Ensure that edu...  0.187500      0.258929\n",
       "95                                                 \\n  0.000000      0.000000\n",
       "96  Continuous Assessment and Feedback: Regularly ...  0.000000      0.538462\n",
       "97                                                 \\n  0.000000      0.000000\n",
       "98  In summary, adapting education and training pr...  0.000000      0.350000"
      ]
     },
     "metadata": {},
     "output_type": "display_data"
    },
    {
     "data": {
      "application/vnd.plotly.v1+json": {
       "config": {
        "plotlyServerURL": "https://plot.ly"
       },
       "data": [
        {
         "hovertemplate": "<b>%{hovertext}</b><br><br>Polarity=%{x}<br>Subjectivity=%{y}<extra></extra>",
         "hovertext": [
          "what are the implications to a economy due to automation?\n",
          "\n",
          "Automation can have significant implications for an economy, both positive and negative. These implications can vary depending on the extent and speed of automation, the specific industries affected, and the policies in place to manage these changes. Here are some of the key implications:\n",
          "\n",
          "1. **Increased Productivity**: Automation can lead to increased productivity as machines and robots can work 24/7 without the need for breaks or vacations. This can lead to lower production costs and potentially lower prices for consumers.\n",
          "\n",
          "2. **Labor Displacement**: One of the most significant implications of automation is the potential displacement of human workers. Jobs that can be automated, such as routine manual or repetitive tasks, may no longer require as many human workers, leading to unemployment and income inequality.\n",
          "\n",
          "3. **Skill Shift**: While some jobs may be lost to automation, new jobs may also be created. These new jobs often require higher-level skills in areas like robotics maintenance, programming, data analysis, and artificial intelligence. This can lead to a shift in the types of skills that are in demand in the job market.\n",
          "\n",
          "4. **Income Inequality**: Automation can exacerbate income inequality. Those who have the skills to work with or design automated systems may see increased wages, while those in lower-skilled, automatable positions may struggle to find employment or face lower wages.\n",
          "\n",
          "5. **Industry Transformation**: Entire industries may be transformed or disrupted by automation. For example, the rise of e-commerce and automation in logistics has significantly impacted traditional retail and transportation sectors.\n",
          "\n",
          "6. **Economic Growth**: Despite potential job displacement, automation can lead to overall economic growth. Increased productivity and efficiency can stimulate economic activity and create opportunities for new businesses and industries.\n",
          "\n",
          "7. **Transition Costs**: Transitioning to an automated economy can be costly. Businesses may need to invest in new technology, retrain workers, and adapt their processes, which can be expensive and time-consuming.\n",
          "\n",
          "8. **Education and Training**: As automation changes the nature of work, there is a growing need for education and training programs to prepare the workforce for the jobs of the future. Governments and businesses may need to invest in upskilling and reskilling initiatives.\n",
          "\n",
          "9. **Government Policy**: Government policies can play a significant role in shaping the impact of automation. Policies related to minimum wage, labor rights, taxation, and social safety nets can influence how the benefits and costs of automation are distributed.\n",
          "\n",
          "10. **Social Impact**: Automation can have social implications beyond economics. It can affect the structure of communities, as people may need to relocate for new job opportunities. It can also impact the work-life balance, as some jobs may become more flexible while others require constant attention.\n",
          "\n",
          "In summary, the implications of automation on an economy are multifaceted. While it can lead to increased productivity and economic growth, it also poses challenges related to job displacement, income inequality, and the need for workforce development and policy adaptation. Managing these implications effectively requires a combination of government policies, business strategies, and workforce preparedness efforts.\n",
          "\n",
          "How might automation impact the job market, and what strategies can governments and businesses adopt to mitigate potential job losses?\n",
          "\n",
          "Automation can have a significant impact on the job market, and its effects can vary depending on the industry, the level of automation, and the speed of implementation. Here are some ways automation can affect the job market and strategies that governments and businesses can adopt to mitigate potential job losses:\n",
          "\n",
          "Impact on the Job Market:\n",
          "\n",
          "Job Displacement: Automation can lead to the displacement of jobs that involve routine and repetitive tasks, particularly in manufacturing, logistics, and customer service. These jobs may be replaced by machines or software.\n",
          "\n",
          "Creation of New Jobs: Automation can also create new job opportunities in areas such as robotics maintenance, software development, data analysis, and artificial intelligence. These jobs often require higher-level skills.\n",
          "\n",
          "Shift in Skill Requirements: Many jobs may require a different skill set as automation becomes more prevalent. Workers may need to acquire digital literacy, problem-solving skills, and the ability to work with and alongside automated systems.\n",
          "\n",
          "Income Inequality: The impact of automation on income inequality can be significant. Workers with the skills to operate or design automated systems may earn higher wages, while those in automatable positions may face stagnant or declining wages.\n",
          "\n",
          "Strategies to Mitigate Job Losses:\n",
          "\n",
          "Invest in Education and Training: Governments and businesses should invest in education and training programs to help workers acquire the skills needed for the jobs of the future. This includes vocational training, coding boot camps, and lifelong learning initiatives.\n",
          "\n",
          "Support Transition Assistance: Implement programs that help displaced workers transition to new employment opportunities. This could involve providing financial support, career counseling, and job placement services.\n",
          "\n",
          "Promote STEM Education: Encourage STEM (Science, Technology, Engineering, and Mathematics) education from an early age to prepare the workforce for high-demand technical roles.\n",
          "\n",
          "Develop Safety Nets: Strengthen social safety nets to provide financial support and job retraining options for displaced workers. This can help reduce the negative impacts of job loss.\n",
          "\n",
          "Collaboration with Industry: Governments and businesses should work together to anticipate the impact of automation and plan accordingly. This may involve industry partnerships to identify skills gaps and develop training programs.\n",
          "\n",
          "Encourage Entrepreneurship: Support entrepreneurship and the creation of new businesses. Automation can also lead to the emergence of new industries and job opportunities.\n",
          "\n",
          "Flexible Labor Policies: Consider flexible labor policies that accommodate changes in the nature of work, such as remote work arrangements and alternative work schedules.\n",
          "\n",
          "Tax Incentives: Offer tax incentives to encourage businesses to invest in automation while also providing incentives for job creation and workforce development.\n",
          "\n",
          "Ethical AI and Automation Practices: Encourage the responsible use of automation technologies by promoting ethical guidelines and regulations to ensure that automation benefits society as a whole.\n",
          "\n",
          "Worker-Management Collaboration: Encourage collaboration between workers and management to ensure that the transition to automation is as smooth as possible. Workers' input can help identify areas where automation can complement human work rather than replace it entirely.\n",
          "\n",
          "In conclusion, while automation can lead to job displacement, it also offers opportunities for job creation and increased productivity. Governments and businesses need to take a proactive approach to mitigate potential job losses by investing in education and training, supporting displaced workers, and fostering innovation and entrepreneurship in emerging industries. The goal should be to ensure that the benefits of automation are broadly shared and that the workforce is prepared for the changing job landscape.\n",
          "\n",
          "How can education and training programs be adapted to better prepare the workforce for the changing demands of an automated economy?\n",
          "\n",
          "To better prepare the workforce for the changing demands of an automated economy, education and training programs should be adapted to provide individuals with the skills and knowledge needed for the jobs of the future. Here are several strategies and approaches to consider:\n",
          "\n",
          "Emphasize Digital Literacy: Digital literacy is a fundamental skill in an automated world. Education programs should teach individuals how to use and navigate digital tools and platforms effectively. This includes proficiency in basic software, online communication tools, and cybersecurity awareness.\n",
          "\n",
          "Integrate STEM Education: Science, Technology, Engineering, and Mathematics (STEM) education should be integrated into the curriculum from an early age. Encourage hands-on, project-based learning that promotes problem-solving skills and critical thinking. This helps students develop a strong foundation in technical skills.\n",
          "\n",
          "Offer Coding and Computer Science: Coding and computer science should be part of the curriculum in both K-12 and higher education. These skills are essential for understanding the technology behind automation and for developing software and algorithms.\n",
          "\n",
          "Promote Soft Skills: Soft skills such as communication, creativity, adaptability, and emotional intelligence are crucial in an automated economy. Education programs should incorporate opportunities for students to develop these skills through group projects, presentations, and interpersonal activities.\n",
          "\n",
          "Lifelong Learning: Encourage a culture of lifelong learning. Workers need to continuously update their skills to stay relevant. Offer flexible learning options such as online courses, evening classes, and micro-credentials that allow individuals to acquire new skills throughout their careers.\n",
          "\n",
          "Customized Learning Paths: Recognize that not all learners have the same needs or starting points. Develop personalized learning paths that allow individuals to focus on the skills most relevant to their career goals. Adaptive learning technology can help tailor educational content to individual needs.\n",
          "\n",
          "Hands-On Experience: Practical, hands-on experience is essential. Incorporate internships, apprenticeships, and co-op programs that provide students with real-world exposure to automation technologies and workplace environments.\n",
          "\n",
          "Industry Partnerships: Collaborate with businesses and industries to align education and training programs with the specific skills and knowledge needed in the job market. These partnerships can also provide opportunities for work-integrated learning.\n",
          "\n",
          "Cross-Disciplinary Education: Encourage cross-disciplinary education that allows students to combine technical skills with knowledge from other fields. For example, combining computer science with healthcare knowledge can prepare individuals for roles in health tech.\n",
          "\n",
          "Soft Skills Training: Offer training in soft skills like leadership, teamwork, and problem-solving. These skills are essential in roles that involve human-AI collaboration and customer-facing jobs.\n",
          "\n",
          "Ethical and Responsible AI Training: Incorporate training on the ethical and responsible use of artificial intelligence and automation technologies. Emphasize the importance of fairness, transparency, and bias mitigation.\n",
          "\n",
          "Certifications and Credentials: Develop industry-recognized certifications and credentials for in-demand skills. These can serve as valuable signals to employers that individuals possess the necessary competencies.\n",
          "\n",
          "Support for Displaced Workers: Create programs that specifically target workers who have been displaced by automation. Provide retraining and upskilling opportunities tailored to their existing skills and the evolving job market.\n",
          "\n",
          "Accessibility and Inclusivity: Ensure that education and training programs are accessible to all individuals, regardless of background or physical abilities. This promotes diversity in the workforce.\n",
          "\n",
          "Continuous Assessment and Feedback: Regularly assess the effectiveness of education and training programs and gather feedback from employers and students to make necessary adjustments.\n",
          "\n",
          "In summary, adapting education and training programs for an automated economy involves a comprehensive approach that combines technical skills, soft skills, industry collaboration, and a commitment to lifelong learning. It requires a proactive effort to ensure that the workforce remains adaptable and competitive in the face of technological change."
         ],
         "legendgroup": "",
         "marker": {
          "color": "#636efa",
          "symbol": "circle"
         },
         "mode": "markers",
         "name": "",
         "orientation": "v",
         "showlegend": false,
         "type": "scatter",
         "x": [
          -0.125,
          0,
          0.06045454545454546,
          0,
          0,
          0,
          0.140625,
          0,
          -0.10909090909090909,
          0,
          0,
          0,
          0.125,
          0,
          0.12272727272727274,
          0,
          -0.18181818181818182,
          0,
          0,
          0,
          0.1361111111111111,
          0,
          0.1406060606060606,
          0,
          0.26666666666666666,
          0,
          0,
          0,
          0.1875,
          0,
          0,
          0,
          -0.04166666666666667,
          0,
          -0.08181818181818182,
          0,
          0.25,
          0,
          0.3125,
          0,
          0,
          0,
          0.06666666666666667,
          0,
          0.06818181818181818,
          0,
          0.05,
          0,
          -0.08888888888888889,
          0,
          0,
          0,
          0.13636363636363635,
          0,
          -0.05,
          0,
          0,
          0,
          0.2,
          0,
          0.1,
          0,
          0.103125,
          0,
          0.5,
          0,
          0.16666666666666666,
          0,
          0.12,
          0,
          0.13333333333333333,
          0,
          -0.05000000000000001,
          0,
          0.04,
          0,
          0.06727272727272728,
          0,
          0.19166666666666665,
          0,
          0,
          0,
          0,
          0,
          -0.0625,
          0,
          0.06666666666666667,
          0,
          0.040000000000000015,
          0,
          0,
          0,
          0,
          0,
          0.1875,
          0,
          0,
          0,
          0
         ],
         "xaxis": "x",
         "y": [
          0.375,
          0,
          0.5890909090909091,
          0,
          1,
          0,
          0.478125,
          0,
          0.6363636363636364,
          0,
          0,
          0,
          0.75,
          0,
          0.34242424242424235,
          0,
          0.5772727272727273,
          0,
          0.125,
          0,
          0.4472222222222222,
          0,
          0.28424242424242424,
          0,
          0.46666666666666673,
          0,
          1,
          0,
          0.9375,
          0,
          0,
          0,
          0.29166666666666663,
          0,
          0.6022727272727273,
          0,
          0.4,
          0,
          0.6875,
          0,
          0,
          0,
          0.375,
          0,
          0.22727272727272727,
          0,
          0.2,
          0,
          0.15555555555555556,
          0,
          0,
          0,
          0.45454545454545453,
          0,
          0.35,
          0,
          0,
          0,
          0.5375,
          0,
          0.55625,
          0,
          0.390625,
          0,
          0.5,
          0,
          0.20833333333333334,
          0,
          0.185,
          0,
          0.4833333333333334,
          0,
          0.5,
          0,
          0.5700000000000001,
          0,
          0.610909090909091,
          0,
          0.37916666666666665,
          0,
          0.3,
          0,
          0.125,
          0,
          0.2375,
          0,
          0.3333333333333333,
          0,
          0.6599999999999999,
          0,
          1,
          0,
          0,
          0,
          0.2589285714285714,
          0,
          0.5384615384615384,
          0,
          0.3499999999999999
         ],
         "yaxis": "y"
        }
       ],
       "layout": {
        "legend": {
         "tracegroupgap": 0
        },
        "template": {
         "data": {
          "bar": [
           {
            "error_x": {
             "color": "#2a3f5f"
            },
            "error_y": {
             "color": "#2a3f5f"
            },
            "marker": {
             "line": {
              "color": "#E5ECF6",
              "width": 0.5
             },
             "pattern": {
              "fillmode": "overlay",
              "size": 10,
              "solidity": 0.2
             }
            },
            "type": "bar"
           }
          ],
          "barpolar": [
           {
            "marker": {
             "line": {
              "color": "#E5ECF6",
              "width": 0.5
             },
             "pattern": {
              "fillmode": "overlay",
              "size": 10,
              "solidity": 0.2
             }
            },
            "type": "barpolar"
           }
          ],
          "carpet": [
           {
            "aaxis": {
             "endlinecolor": "#2a3f5f",
             "gridcolor": "white",
             "linecolor": "white",
             "minorgridcolor": "white",
             "startlinecolor": "#2a3f5f"
            },
            "baxis": {
             "endlinecolor": "#2a3f5f",
             "gridcolor": "white",
             "linecolor": "white",
             "minorgridcolor": "white",
             "startlinecolor": "#2a3f5f"
            },
            "type": "carpet"
           }
          ],
          "choropleth": [
           {
            "colorbar": {
             "outlinewidth": 0,
             "ticks": ""
            },
            "type": "choropleth"
           }
          ],
          "contour": [
           {
            "colorbar": {
             "outlinewidth": 0,
             "ticks": ""
            },
            "colorscale": [
             [
              0,
              "#0d0887"
             ],
             [
              0.1111111111111111,
              "#46039f"
             ],
             [
              0.2222222222222222,
              "#7201a8"
             ],
             [
              0.3333333333333333,
              "#9c179e"
             ],
             [
              0.4444444444444444,
              "#bd3786"
             ],
             [
              0.5555555555555556,
              "#d8576b"
             ],
             [
              0.6666666666666666,
              "#ed7953"
             ],
             [
              0.7777777777777778,
              "#fb9f3a"
             ],
             [
              0.8888888888888888,
              "#fdca26"
             ],
             [
              1,
              "#f0f921"
             ]
            ],
            "type": "contour"
           }
          ],
          "contourcarpet": [
           {
            "colorbar": {
             "outlinewidth": 0,
             "ticks": ""
            },
            "type": "contourcarpet"
           }
          ],
          "heatmap": [
           {
            "colorbar": {
             "outlinewidth": 0,
             "ticks": ""
            },
            "colorscale": [
             [
              0,
              "#0d0887"
             ],
             [
              0.1111111111111111,
              "#46039f"
             ],
             [
              0.2222222222222222,
              "#7201a8"
             ],
             [
              0.3333333333333333,
              "#9c179e"
             ],
             [
              0.4444444444444444,
              "#bd3786"
             ],
             [
              0.5555555555555556,
              "#d8576b"
             ],
             [
              0.6666666666666666,
              "#ed7953"
             ],
             [
              0.7777777777777778,
              "#fb9f3a"
             ],
             [
              0.8888888888888888,
              "#fdca26"
             ],
             [
              1,
              "#f0f921"
             ]
            ],
            "type": "heatmap"
           }
          ],
          "heatmapgl": [
           {
            "colorbar": {
             "outlinewidth": 0,
             "ticks": ""
            },
            "colorscale": [
             [
              0,
              "#0d0887"
             ],
             [
              0.1111111111111111,
              "#46039f"
             ],
             [
              0.2222222222222222,
              "#7201a8"
             ],
             [
              0.3333333333333333,
              "#9c179e"
             ],
             [
              0.4444444444444444,
              "#bd3786"
             ],
             [
              0.5555555555555556,
              "#d8576b"
             ],
             [
              0.6666666666666666,
              "#ed7953"
             ],
             [
              0.7777777777777778,
              "#fb9f3a"
             ],
             [
              0.8888888888888888,
              "#fdca26"
             ],
             [
              1,
              "#f0f921"
             ]
            ],
            "type": "heatmapgl"
           }
          ],
          "histogram": [
           {
            "marker": {
             "pattern": {
              "fillmode": "overlay",
              "size": 10,
              "solidity": 0.2
             }
            },
            "type": "histogram"
           }
          ],
          "histogram2d": [
           {
            "colorbar": {
             "outlinewidth": 0,
             "ticks": ""
            },
            "colorscale": [
             [
              0,
              "#0d0887"
             ],
             [
              0.1111111111111111,
              "#46039f"
             ],
             [
              0.2222222222222222,
              "#7201a8"
             ],
             [
              0.3333333333333333,
              "#9c179e"
             ],
             [
              0.4444444444444444,
              "#bd3786"
             ],
             [
              0.5555555555555556,
              "#d8576b"
             ],
             [
              0.6666666666666666,
              "#ed7953"
             ],
             [
              0.7777777777777778,
              "#fb9f3a"
             ],
             [
              0.8888888888888888,
              "#fdca26"
             ],
             [
              1,
              "#f0f921"
             ]
            ],
            "type": "histogram2d"
           }
          ],
          "histogram2dcontour": [
           {
            "colorbar": {
             "outlinewidth": 0,
             "ticks": ""
            },
            "colorscale": [
             [
              0,
              "#0d0887"
             ],
             [
              0.1111111111111111,
              "#46039f"
             ],
             [
              0.2222222222222222,
              "#7201a8"
             ],
             [
              0.3333333333333333,
              "#9c179e"
             ],
             [
              0.4444444444444444,
              "#bd3786"
             ],
             [
              0.5555555555555556,
              "#d8576b"
             ],
             [
              0.6666666666666666,
              "#ed7953"
             ],
             [
              0.7777777777777778,
              "#fb9f3a"
             ],
             [
              0.8888888888888888,
              "#fdca26"
             ],
             [
              1,
              "#f0f921"
             ]
            ],
            "type": "histogram2dcontour"
           }
          ],
          "mesh3d": [
           {
            "colorbar": {
             "outlinewidth": 0,
             "ticks": ""
            },
            "type": "mesh3d"
           }
          ],
          "parcoords": [
           {
            "line": {
             "colorbar": {
              "outlinewidth": 0,
              "ticks": ""
             }
            },
            "type": "parcoords"
           }
          ],
          "pie": [
           {
            "automargin": true,
            "type": "pie"
           }
          ],
          "scatter": [
           {
            "fillpattern": {
             "fillmode": "overlay",
             "size": 10,
             "solidity": 0.2
            },
            "type": "scatter"
           }
          ],
          "scatter3d": [
           {
            "line": {
             "colorbar": {
              "outlinewidth": 0,
              "ticks": ""
             }
            },
            "marker": {
             "colorbar": {
              "outlinewidth": 0,
              "ticks": ""
             }
            },
            "type": "scatter3d"
           }
          ],
          "scattercarpet": [
           {
            "marker": {
             "colorbar": {
              "outlinewidth": 0,
              "ticks": ""
             }
            },
            "type": "scattercarpet"
           }
          ],
          "scattergeo": [
           {
            "marker": {
             "colorbar": {
              "outlinewidth": 0,
              "ticks": ""
             }
            },
            "type": "scattergeo"
           }
          ],
          "scattergl": [
           {
            "marker": {
             "colorbar": {
              "outlinewidth": 0,
              "ticks": ""
             }
            },
            "type": "scattergl"
           }
          ],
          "scattermapbox": [
           {
            "marker": {
             "colorbar": {
              "outlinewidth": 0,
              "ticks": ""
             }
            },
            "type": "scattermapbox"
           }
          ],
          "scatterpolar": [
           {
            "marker": {
             "colorbar": {
              "outlinewidth": 0,
              "ticks": ""
             }
            },
            "type": "scatterpolar"
           }
          ],
          "scatterpolargl": [
           {
            "marker": {
             "colorbar": {
              "outlinewidth": 0,
              "ticks": ""
             }
            },
            "type": "scatterpolargl"
           }
          ],
          "scatterternary": [
           {
            "marker": {
             "colorbar": {
              "outlinewidth": 0,
              "ticks": ""
             }
            },
            "type": "scatterternary"
           }
          ],
          "surface": [
           {
            "colorbar": {
             "outlinewidth": 0,
             "ticks": ""
            },
            "colorscale": [
             [
              0,
              "#0d0887"
             ],
             [
              0.1111111111111111,
              "#46039f"
             ],
             [
              0.2222222222222222,
              "#7201a8"
             ],
             [
              0.3333333333333333,
              "#9c179e"
             ],
             [
              0.4444444444444444,
              "#bd3786"
             ],
             [
              0.5555555555555556,
              "#d8576b"
             ],
             [
              0.6666666666666666,
              "#ed7953"
             ],
             [
              0.7777777777777778,
              "#fb9f3a"
             ],
             [
              0.8888888888888888,
              "#fdca26"
             ],
             [
              1,
              "#f0f921"
             ]
            ],
            "type": "surface"
           }
          ],
          "table": [
           {
            "cells": {
             "fill": {
              "color": "#EBF0F8"
             },
             "line": {
              "color": "white"
             }
            },
            "header": {
             "fill": {
              "color": "#C8D4E3"
             },
             "line": {
              "color": "white"
             }
            },
            "type": "table"
           }
          ]
         },
         "layout": {
          "annotationdefaults": {
           "arrowcolor": "#2a3f5f",
           "arrowhead": 0,
           "arrowwidth": 1
          },
          "autotypenumbers": "strict",
          "coloraxis": {
           "colorbar": {
            "outlinewidth": 0,
            "ticks": ""
           }
          },
          "colorscale": {
           "diverging": [
            [
             0,
             "#8e0152"
            ],
            [
             0.1,
             "#c51b7d"
            ],
            [
             0.2,
             "#de77ae"
            ],
            [
             0.3,
             "#f1b6da"
            ],
            [
             0.4,
             "#fde0ef"
            ],
            [
             0.5,
             "#f7f7f7"
            ],
            [
             0.6,
             "#e6f5d0"
            ],
            [
             0.7,
             "#b8e186"
            ],
            [
             0.8,
             "#7fbc41"
            ],
            [
             0.9,
             "#4d9221"
            ],
            [
             1,
             "#276419"
            ]
           ],
           "sequential": [
            [
             0,
             "#0d0887"
            ],
            [
             0.1111111111111111,
             "#46039f"
            ],
            [
             0.2222222222222222,
             "#7201a8"
            ],
            [
             0.3333333333333333,
             "#9c179e"
            ],
            [
             0.4444444444444444,
             "#bd3786"
            ],
            [
             0.5555555555555556,
             "#d8576b"
            ],
            [
             0.6666666666666666,
             "#ed7953"
            ],
            [
             0.7777777777777778,
             "#fb9f3a"
            ],
            [
             0.8888888888888888,
             "#fdca26"
            ],
            [
             1,
             "#f0f921"
            ]
           ],
           "sequentialminus": [
            [
             0,
             "#0d0887"
            ],
            [
             0.1111111111111111,
             "#46039f"
            ],
            [
             0.2222222222222222,
             "#7201a8"
            ],
            [
             0.3333333333333333,
             "#9c179e"
            ],
            [
             0.4444444444444444,
             "#bd3786"
            ],
            [
             0.5555555555555556,
             "#d8576b"
            ],
            [
             0.6666666666666666,
             "#ed7953"
            ],
            [
             0.7777777777777778,
             "#fb9f3a"
            ],
            [
             0.8888888888888888,
             "#fdca26"
            ],
            [
             1,
             "#f0f921"
            ]
           ]
          },
          "colorway": [
           "#636efa",
           "#EF553B",
           "#00cc96",
           "#ab63fa",
           "#FFA15A",
           "#19d3f3",
           "#FF6692",
           "#B6E880",
           "#FF97FF",
           "#FECB52"
          ],
          "font": {
           "color": "#2a3f5f"
          },
          "geo": {
           "bgcolor": "white",
           "lakecolor": "white",
           "landcolor": "#E5ECF6",
           "showlakes": true,
           "showland": true,
           "subunitcolor": "white"
          },
          "hoverlabel": {
           "align": "left"
          },
          "hovermode": "closest",
          "mapbox": {
           "style": "light"
          },
          "paper_bgcolor": "white",
          "plot_bgcolor": "#E5ECF6",
          "polar": {
           "angularaxis": {
            "gridcolor": "white",
            "linecolor": "white",
            "ticks": ""
           },
           "bgcolor": "#E5ECF6",
           "radialaxis": {
            "gridcolor": "white",
            "linecolor": "white",
            "ticks": ""
           }
          },
          "scene": {
           "xaxis": {
            "backgroundcolor": "#E5ECF6",
            "gridcolor": "white",
            "gridwidth": 2,
            "linecolor": "white",
            "showbackground": true,
            "ticks": "",
            "zerolinecolor": "white"
           },
           "yaxis": {
            "backgroundcolor": "#E5ECF6",
            "gridcolor": "white",
            "gridwidth": 2,
            "linecolor": "white",
            "showbackground": true,
            "ticks": "",
            "zerolinecolor": "white"
           },
           "zaxis": {
            "backgroundcolor": "#E5ECF6",
            "gridcolor": "white",
            "gridwidth": 2,
            "linecolor": "white",
            "showbackground": true,
            "ticks": "",
            "zerolinecolor": "white"
           }
          },
          "shapedefaults": {
           "line": {
            "color": "#2a3f5f"
           }
          },
          "ternary": {
           "aaxis": {
            "gridcolor": "white",
            "linecolor": "white",
            "ticks": ""
           },
           "baxis": {
            "gridcolor": "white",
            "linecolor": "white",
            "ticks": ""
           },
           "bgcolor": "#E5ECF6",
           "caxis": {
            "gridcolor": "white",
            "linecolor": "white",
            "ticks": ""
           }
          },
          "title": {
           "x": 0.05
          },
          "xaxis": {
           "automargin": true,
           "gridcolor": "white",
           "linecolor": "white",
           "ticks": "",
           "title": {
            "standoff": 15
           },
           "zerolinecolor": "white",
           "zerolinewidth": 2
          },
          "yaxis": {
           "automargin": true,
           "gridcolor": "white",
           "linecolor": "white",
           "ticks": "",
           "title": {
            "standoff": 15
           },
           "zerolinecolor": "white",
           "zerolinewidth": 2
          }
         }
        },
        "title": {
         "text": "Sentiment Analysis Scatter Plot"
        },
        "xaxis": {
         "anchor": "y",
         "domain": [
          0,
          1
         ],
         "title": {
          "text": "Polarity"
         }
        },
        "yaxis": {
         "anchor": "x",
         "domain": [
          0,
          1
         ],
         "title": {
          "text": "Subjectivity"
         }
        }
       }
      },
      "text/html": [
       "<div>                            <div id=\"d94654c4-5ddc-41d3-aeaf-8d9e54ccd1f1\" class=\"plotly-graph-div\" style=\"height:525px; width:100%;\"></div>            <script type=\"text/javascript\">                require([\"plotly\"], function(Plotly) {                    window.PLOTLYENV=window.PLOTLYENV || {};                                    if (document.getElementById(\"d94654c4-5ddc-41d3-aeaf-8d9e54ccd1f1\")) {                    Plotly.newPlot(                        \"d94654c4-5ddc-41d3-aeaf-8d9e54ccd1f1\",                        [{\"hovertemplate\":\"<b>%{hovertext}</b><br><br>Polarity=%{x}<br>Subjectivity=%{y}<extra></extra>\",\"hovertext\":[\"what are the implications to a economy due to automation?\\n\",\"\\n\",\"Automation can have significant implications for an economy, both positive and negative. These implications can vary depending on the extent and speed of automation, the specific industries affected, and the policies in place to manage these changes. Here are some of the key implications:\\n\",\"\\n\",\"1. **Increased Productivity**: Automation can lead to increased productivity as machines and robots can work 24/7 without the need for breaks or vacations. This can lead to lower production costs and potentially lower prices for consumers.\\n\",\"\\n\",\"2. **Labor Displacement**: One of the most significant implications of automation is the potential displacement of human workers. Jobs that can be automated, such as routine manual or repetitive tasks, may no longer require as many human workers, leading to unemployment and income inequality.\\n\",\"\\n\",\"3. **Skill Shift**: While some jobs may be lost to automation, new jobs may also be created. These new jobs often require higher-level skills in areas like robotics maintenance, programming, data analysis, and artificial intelligence. This can lead to a shift in the types of skills that are in demand in the job market.\\n\",\"\\n\",\"4. **Income Inequality**: Automation can exacerbate income inequality. Those who have the skills to work with or design automated systems may see increased wages, while those in lower-skilled, automatable positions may struggle to find employment or face lower wages.\\n\",\"\\n\",\"5. **Industry Transformation**: Entire industries may be transformed or disrupted by automation. For example, the rise of e-commerce and automation in logistics has significantly impacted traditional retail and transportation sectors.\\n\",\"\\n\",\"6. **Economic Growth**: Despite potential job displacement, automation can lead to overall economic growth. Increased productivity and efficiency can stimulate economic activity and create opportunities for new businesses and industries.\\n\",\"\\n\",\"7. **Transition Costs**: Transitioning to an automated economy can be costly. Businesses may need to invest in new technology, retrain workers, and adapt their processes, which can be expensive and time-consuming.\\n\",\"\\n\",\"8. **Education and Training**: As automation changes the nature of work, there is a growing need for education and training programs to prepare the workforce for the jobs of the future. Governments and businesses may need to invest in upskilling and reskilling initiatives.\\n\",\"\\n\",\"9. **Government Policy**: Government policies can play a significant role in shaping the impact of automation. Policies related to minimum wage, labor rights, taxation, and social safety nets can influence how the benefits and costs of automation are distributed.\\n\",\"\\n\",\"10. **Social Impact**: Automation can have social implications beyond economics. It can affect the structure of communities, as people may need to relocate for new job opportunities. It can also impact the work-life balance, as some jobs may become more flexible while others require constant attention.\\n\",\"\\n\",\"In summary, the implications of automation on an economy are multifaceted. While it can lead to increased productivity and economic growth, it also poses challenges related to job displacement, income inequality, and the need for workforce development and policy adaptation. Managing these implications effectively requires a combination of government policies, business strategies, and workforce preparedness efforts.\\n\",\"\\n\",\"How might automation impact the job market, and what strategies can governments and businesses adopt to mitigate potential job losses?\\n\",\"\\n\",\"Automation can have a significant impact on the job market, and its effects can vary depending on the industry, the level of automation, and the speed of implementation. Here are some ways automation can affect the job market and strategies that governments and businesses can adopt to mitigate potential job losses:\\n\",\"\\n\",\"Impact on the Job Market:\\n\",\"\\n\",\"Job Displacement: Automation can lead to the displacement of jobs that involve routine and repetitive tasks, particularly in manufacturing, logistics, and customer service. These jobs may be replaced by machines or software.\\n\",\"\\n\",\"Creation of New Jobs: Automation can also create new job opportunities in areas such as robotics maintenance, software development, data analysis, and artificial intelligence. These jobs often require higher-level skills.\\n\",\"\\n\",\"Shift in Skill Requirements: Many jobs may require a different skill set as automation becomes more prevalent. Workers may need to acquire digital literacy, problem-solving skills, and the ability to work with and alongside automated systems.\\n\",\"\\n\",\"Income Inequality: The impact of automation on income inequality can be significant. Workers with the skills to operate or design automated systems may earn higher wages, while those in automatable positions may face stagnant or declining wages.\\n\",\"\\n\",\"Strategies to Mitigate Job Losses:\\n\",\"\\n\",\"Invest in Education and Training: Governments and businesses should invest in education and training programs to help workers acquire the skills needed for the jobs of the future. This includes vocational training, coding boot camps, and lifelong learning initiatives.\\n\",\"\\n\",\"Support Transition Assistance: Implement programs that help displaced workers transition to new employment opportunities. This could involve providing financial support, career counseling, and job placement services.\\n\",\"\\n\",\"Promote STEM Education: Encourage STEM (Science, Technology, Engineering, and Mathematics) education from an early age to prepare the workforce for high-demand technical roles.\\n\",\"\\n\",\"Develop Safety Nets: Strengthen social safety nets to provide financial support and job retraining options for displaced workers. This can help reduce the negative impacts of job loss.\\n\",\"\\n\",\"Collaboration with Industry: Governments and businesses should work together to anticipate the impact of automation and plan accordingly. This may involve industry partnerships to identify skills gaps and develop training programs.\\n\",\"\\n\",\"Encourage Entrepreneurship: Support entrepreneurship and the creation of new businesses. Automation can also lead to the emergence of new industries and job opportunities.\\n\",\"\\n\",\"Flexible Labor Policies: Consider flexible labor policies that accommodate changes in the nature of work, such as remote work arrangements and alternative work schedules.\\n\",\"\\n\",\"Tax Incentives: Offer tax incentives to encourage businesses to invest in automation while also providing incentives for job creation and workforce development.\\n\",\"\\n\",\"Ethical AI and Automation Practices: Encourage the responsible use of automation technologies by promoting ethical guidelines and regulations to ensure that automation benefits society as a whole.\\n\",\"\\n\",\"Worker-Management Collaboration: Encourage collaboration between workers and management to ensure that the transition to automation is as smooth as possible. Workers' input can help identify areas where automation can complement human work rather than replace it entirely.\\n\",\"\\n\",\"In conclusion, while automation can lead to job displacement, it also offers opportunities for job creation and increased productivity. Governments and businesses need to take a proactive approach to mitigate potential job losses by investing in education and training, supporting displaced workers, and fostering innovation and entrepreneurship in emerging industries. The goal should be to ensure that the benefits of automation are broadly shared and that the workforce is prepared for the changing job landscape.\\n\",\"\\n\",\"How can education and training programs be adapted to better prepare the workforce for the changing demands of an automated economy?\\n\",\"\\n\",\"To better prepare the workforce for the changing demands of an automated economy, education and training programs should be adapted to provide individuals with the skills and knowledge needed for the jobs of the future. Here are several strategies and approaches to consider:\\n\",\"\\n\",\"Emphasize Digital Literacy: Digital literacy is a fundamental skill in an automated world. Education programs should teach individuals how to use and navigate digital tools and platforms effectively. This includes proficiency in basic software, online communication tools, and cybersecurity awareness.\\n\",\"\\n\",\"Integrate STEM Education: Science, Technology, Engineering, and Mathematics (STEM) education should be integrated into the curriculum from an early age. Encourage hands-on, project-based learning that promotes problem-solving skills and critical thinking. This helps students develop a strong foundation in technical skills.\\n\",\"\\n\",\"Offer Coding and Computer Science: Coding and computer science should be part of the curriculum in both K-12 and higher education. These skills are essential for understanding the technology behind automation and for developing software and algorithms.\\n\",\"\\n\",\"Promote Soft Skills: Soft skills such as communication, creativity, adaptability, and emotional intelligence are crucial in an automated economy. Education programs should incorporate opportunities for students to develop these skills through group projects, presentations, and interpersonal activities.\\n\",\"\\n\",\"Lifelong Learning: Encourage a culture of lifelong learning. Workers need to continuously update their skills to stay relevant. Offer flexible learning options such as online courses, evening classes, and micro-credentials that allow individuals to acquire new skills throughout their careers.\\n\",\"\\n\",\"Customized Learning Paths: Recognize that not all learners have the same needs or starting points. Develop personalized learning paths that allow individuals to focus on the skills most relevant to their career goals. Adaptive learning technology can help tailor educational content to individual needs.\\n\",\"\\n\",\"Hands-On Experience: Practical, hands-on experience is essential. Incorporate internships, apprenticeships, and co-op programs that provide students with real-world exposure to automation technologies and workplace environments.\\n\",\"\\n\",\"Industry Partnerships: Collaborate with businesses and industries to align education and training programs with the specific skills and knowledge needed in the job market. These partnerships can also provide opportunities for work-integrated learning.\\n\",\"\\n\",\"Cross-Disciplinary Education: Encourage cross-disciplinary education that allows students to combine technical skills with knowledge from other fields. For example, combining computer science with healthcare knowledge can prepare individuals for roles in health tech.\\n\",\"\\n\",\"Soft Skills Training: Offer training in soft skills like leadership, teamwork, and problem-solving. These skills are essential in roles that involve human-AI collaboration and customer-facing jobs.\\n\",\"\\n\",\"Ethical and Responsible AI Training: Incorporate training on the ethical and responsible use of artificial intelligence and automation technologies. Emphasize the importance of fairness, transparency, and bias mitigation.\\n\",\"\\n\",\"Certifications and Credentials: Develop industry-recognized certifications and credentials for in-demand skills. These can serve as valuable signals to employers that individuals possess the necessary competencies.\\n\",\"\\n\",\"Support for Displaced Workers: Create programs that specifically target workers who have been displaced by automation. Provide retraining and upskilling opportunities tailored to their existing skills and the evolving job market.\\n\",\"\\n\",\"Accessibility and Inclusivity: Ensure that education and training programs are accessible to all individuals, regardless of background or physical abilities. This promotes diversity in the workforce.\\n\",\"\\n\",\"Continuous Assessment and Feedback: Regularly assess the effectiveness of education and training programs and gather feedback from employers and students to make necessary adjustments.\\n\",\"\\n\",\"In summary, adapting education and training programs for an automated economy involves a comprehensive approach that combines technical skills, soft skills, industry collaboration, and a commitment to lifelong learning. It requires a proactive effort to ensure that the workforce remains adaptable and competitive in the face of technological change.\"],\"legendgroup\":\"\",\"marker\":{\"color\":\"#636efa\",\"symbol\":\"circle\"},\"mode\":\"markers\",\"name\":\"\",\"orientation\":\"v\",\"showlegend\":false,\"x\":[-0.125,0.0,0.06045454545454546,0.0,0.0,0.0,0.140625,0.0,-0.10909090909090909,0.0,0.0,0.0,0.125,0.0,0.12272727272727274,0.0,-0.18181818181818182,0.0,0.0,0.0,0.1361111111111111,0.0,0.1406060606060606,0.0,0.26666666666666666,0.0,0.0,0.0,0.1875,0.0,0.0,0.0,-0.04166666666666667,0.0,-0.08181818181818182,0.0,0.25,0.0,0.3125,0.0,0.0,0.0,0.06666666666666667,0.0,0.06818181818181818,0.0,0.05,0.0,-0.08888888888888889,0.0,0.0,0.0,0.13636363636363635,0.0,-0.05,0.0,0.0,0.0,0.2,0.0,0.1,0.0,0.103125,0.0,0.5,0.0,0.16666666666666666,0.0,0.12,0.0,0.13333333333333333,0.0,-0.05000000000000001,0.0,0.04,0.0,0.06727272727272728,0.0,0.19166666666666665,0.0,0.0,0.0,0.0,0.0,-0.0625,0.0,0.06666666666666667,0.0,0.040000000000000015,0.0,0.0,0.0,0.0,0.0,0.1875,0.0,0.0,0.0,0.0],\"xaxis\":\"x\",\"y\":[0.375,0.0,0.5890909090909091,0.0,1.0,0.0,0.478125,0.0,0.6363636363636364,0.0,0.0,0.0,0.75,0.0,0.34242424242424235,0.0,0.5772727272727273,0.0,0.125,0.0,0.4472222222222222,0.0,0.28424242424242424,0.0,0.46666666666666673,0.0,1.0,0.0,0.9375,0.0,0.0,0.0,0.29166666666666663,0.0,0.6022727272727273,0.0,0.4,0.0,0.6875,0.0,0.0,0.0,0.375,0.0,0.22727272727272727,0.0,0.2,0.0,0.15555555555555556,0.0,0.0,0.0,0.45454545454545453,0.0,0.35,0.0,0.0,0.0,0.5375,0.0,0.55625,0.0,0.390625,0.0,0.5,0.0,0.20833333333333334,0.0,0.185,0.0,0.4833333333333334,0.0,0.5,0.0,0.5700000000000001,0.0,0.610909090909091,0.0,0.37916666666666665,0.0,0.3,0.0,0.125,0.0,0.2375,0.0,0.3333333333333333,0.0,0.6599999999999999,0.0,1.0,0.0,0.0,0.0,0.2589285714285714,0.0,0.5384615384615384,0.0,0.3499999999999999],\"yaxis\":\"y\",\"type\":\"scatter\"}],                        {\"template\":{\"data\":{\"histogram2dcontour\":[{\"type\":\"histogram2dcontour\",\"colorbar\":{\"outlinewidth\":0,\"ticks\":\"\"},\"colorscale\":[[0.0,\"#0d0887\"],[0.1111111111111111,\"#46039f\"],[0.2222222222222222,\"#7201a8\"],[0.3333333333333333,\"#9c179e\"],[0.4444444444444444,\"#bd3786\"],[0.5555555555555556,\"#d8576b\"],[0.6666666666666666,\"#ed7953\"],[0.7777777777777778,\"#fb9f3a\"],[0.8888888888888888,\"#fdca26\"],[1.0,\"#f0f921\"]]}],\"choropleth\":[{\"type\":\"choropleth\",\"colorbar\":{\"outlinewidth\":0,\"ticks\":\"\"}}],\"histogram2d\":[{\"type\":\"histogram2d\",\"colorbar\":{\"outlinewidth\":0,\"ticks\":\"\"},\"colorscale\":[[0.0,\"#0d0887\"],[0.1111111111111111,\"#46039f\"],[0.2222222222222222,\"#7201a8\"],[0.3333333333333333,\"#9c179e\"],[0.4444444444444444,\"#bd3786\"],[0.5555555555555556,\"#d8576b\"],[0.6666666666666666,\"#ed7953\"],[0.7777777777777778,\"#fb9f3a\"],[0.8888888888888888,\"#fdca26\"],[1.0,\"#f0f921\"]]}],\"heatmap\":[{\"type\":\"heatmap\",\"colorbar\":{\"outlinewidth\":0,\"ticks\":\"\"},\"colorscale\":[[0.0,\"#0d0887\"],[0.1111111111111111,\"#46039f\"],[0.2222222222222222,\"#7201a8\"],[0.3333333333333333,\"#9c179e\"],[0.4444444444444444,\"#bd3786\"],[0.5555555555555556,\"#d8576b\"],[0.6666666666666666,\"#ed7953\"],[0.7777777777777778,\"#fb9f3a\"],[0.8888888888888888,\"#fdca26\"],[1.0,\"#f0f921\"]]}],\"heatmapgl\":[{\"type\":\"heatmapgl\",\"colorbar\":{\"outlinewidth\":0,\"ticks\":\"\"},\"colorscale\":[[0.0,\"#0d0887\"],[0.1111111111111111,\"#46039f\"],[0.2222222222222222,\"#7201a8\"],[0.3333333333333333,\"#9c179e\"],[0.4444444444444444,\"#bd3786\"],[0.5555555555555556,\"#d8576b\"],[0.6666666666666666,\"#ed7953\"],[0.7777777777777778,\"#fb9f3a\"],[0.8888888888888888,\"#fdca26\"],[1.0,\"#f0f921\"]]}],\"contourcarpet\":[{\"type\":\"contourcarpet\",\"colorbar\":{\"outlinewidth\":0,\"ticks\":\"\"}}],\"contour\":[{\"type\":\"contour\",\"colorbar\":{\"outlinewidth\":0,\"ticks\":\"\"},\"colorscale\":[[0.0,\"#0d0887\"],[0.1111111111111111,\"#46039f\"],[0.2222222222222222,\"#7201a8\"],[0.3333333333333333,\"#9c179e\"],[0.4444444444444444,\"#bd3786\"],[0.5555555555555556,\"#d8576b\"],[0.6666666666666666,\"#ed7953\"],[0.7777777777777778,\"#fb9f3a\"],[0.8888888888888888,\"#fdca26\"],[1.0,\"#f0f921\"]]}],\"surface\":[{\"type\":\"surface\",\"colorbar\":{\"outlinewidth\":0,\"ticks\":\"\"},\"colorscale\":[[0.0,\"#0d0887\"],[0.1111111111111111,\"#46039f\"],[0.2222222222222222,\"#7201a8\"],[0.3333333333333333,\"#9c179e\"],[0.4444444444444444,\"#bd3786\"],[0.5555555555555556,\"#d8576b\"],[0.6666666666666666,\"#ed7953\"],[0.7777777777777778,\"#fb9f3a\"],[0.8888888888888888,\"#fdca26\"],[1.0,\"#f0f921\"]]}],\"mesh3d\":[{\"type\":\"mesh3d\",\"colorbar\":{\"outlinewidth\":0,\"ticks\":\"\"}}],\"scatter\":[{\"fillpattern\":{\"fillmode\":\"overlay\",\"size\":10,\"solidity\":0.2},\"type\":\"scatter\"}],\"parcoords\":[{\"type\":\"parcoords\",\"line\":{\"colorbar\":{\"outlinewidth\":0,\"ticks\":\"\"}}}],\"scatterpolargl\":[{\"type\":\"scatterpolargl\",\"marker\":{\"colorbar\":{\"outlinewidth\":0,\"ticks\":\"\"}}}],\"bar\":[{\"error_x\":{\"color\":\"#2a3f5f\"},\"error_y\":{\"color\":\"#2a3f5f\"},\"marker\":{\"line\":{\"color\":\"#E5ECF6\",\"width\":0.5},\"pattern\":{\"fillmode\":\"overlay\",\"size\":10,\"solidity\":0.2}},\"type\":\"bar\"}],\"scattergeo\":[{\"type\":\"scattergeo\",\"marker\":{\"colorbar\":{\"outlinewidth\":0,\"ticks\":\"\"}}}],\"scatterpolar\":[{\"type\":\"scatterpolar\",\"marker\":{\"colorbar\":{\"outlinewidth\":0,\"ticks\":\"\"}}}],\"histogram\":[{\"marker\":{\"pattern\":{\"fillmode\":\"overlay\",\"size\":10,\"solidity\":0.2}},\"type\":\"histogram\"}],\"scattergl\":[{\"type\":\"scattergl\",\"marker\":{\"colorbar\":{\"outlinewidth\":0,\"ticks\":\"\"}}}],\"scatter3d\":[{\"type\":\"scatter3d\",\"line\":{\"colorbar\":{\"outlinewidth\":0,\"ticks\":\"\"}},\"marker\":{\"colorbar\":{\"outlinewidth\":0,\"ticks\":\"\"}}}],\"scattermapbox\":[{\"type\":\"scattermapbox\",\"marker\":{\"colorbar\":{\"outlinewidth\":0,\"ticks\":\"\"}}}],\"scatterternary\":[{\"type\":\"scatterternary\",\"marker\":{\"colorbar\":{\"outlinewidth\":0,\"ticks\":\"\"}}}],\"scattercarpet\":[{\"type\":\"scattercarpet\",\"marker\":{\"colorbar\":{\"outlinewidth\":0,\"ticks\":\"\"}}}],\"carpet\":[{\"aaxis\":{\"endlinecolor\":\"#2a3f5f\",\"gridcolor\":\"white\",\"linecolor\":\"white\",\"minorgridcolor\":\"white\",\"startlinecolor\":\"#2a3f5f\"},\"baxis\":{\"endlinecolor\":\"#2a3f5f\",\"gridcolor\":\"white\",\"linecolor\":\"white\",\"minorgridcolor\":\"white\",\"startlinecolor\":\"#2a3f5f\"},\"type\":\"carpet\"}],\"table\":[{\"cells\":{\"fill\":{\"color\":\"#EBF0F8\"},\"line\":{\"color\":\"white\"}},\"header\":{\"fill\":{\"color\":\"#C8D4E3\"},\"line\":{\"color\":\"white\"}},\"type\":\"table\"}],\"barpolar\":[{\"marker\":{\"line\":{\"color\":\"#E5ECF6\",\"width\":0.5},\"pattern\":{\"fillmode\":\"overlay\",\"size\":10,\"solidity\":0.2}},\"type\":\"barpolar\"}],\"pie\":[{\"automargin\":true,\"type\":\"pie\"}]},\"layout\":{\"autotypenumbers\":\"strict\",\"colorway\":[\"#636efa\",\"#EF553B\",\"#00cc96\",\"#ab63fa\",\"#FFA15A\",\"#19d3f3\",\"#FF6692\",\"#B6E880\",\"#FF97FF\",\"#FECB52\"],\"font\":{\"color\":\"#2a3f5f\"},\"hovermode\":\"closest\",\"hoverlabel\":{\"align\":\"left\"},\"paper_bgcolor\":\"white\",\"plot_bgcolor\":\"#E5ECF6\",\"polar\":{\"bgcolor\":\"#E5ECF6\",\"angularaxis\":{\"gridcolor\":\"white\",\"linecolor\":\"white\",\"ticks\":\"\"},\"radialaxis\":{\"gridcolor\":\"white\",\"linecolor\":\"white\",\"ticks\":\"\"}},\"ternary\":{\"bgcolor\":\"#E5ECF6\",\"aaxis\":{\"gridcolor\":\"white\",\"linecolor\":\"white\",\"ticks\":\"\"},\"baxis\":{\"gridcolor\":\"white\",\"linecolor\":\"white\",\"ticks\":\"\"},\"caxis\":{\"gridcolor\":\"white\",\"linecolor\":\"white\",\"ticks\":\"\"}},\"coloraxis\":{\"colorbar\":{\"outlinewidth\":0,\"ticks\":\"\"}},\"colorscale\":{\"sequential\":[[0.0,\"#0d0887\"],[0.1111111111111111,\"#46039f\"],[0.2222222222222222,\"#7201a8\"],[0.3333333333333333,\"#9c179e\"],[0.4444444444444444,\"#bd3786\"],[0.5555555555555556,\"#d8576b\"],[0.6666666666666666,\"#ed7953\"],[0.7777777777777778,\"#fb9f3a\"],[0.8888888888888888,\"#fdca26\"],[1.0,\"#f0f921\"]],\"sequentialminus\":[[0.0,\"#0d0887\"],[0.1111111111111111,\"#46039f\"],[0.2222222222222222,\"#7201a8\"],[0.3333333333333333,\"#9c179e\"],[0.4444444444444444,\"#bd3786\"],[0.5555555555555556,\"#d8576b\"],[0.6666666666666666,\"#ed7953\"],[0.7777777777777778,\"#fb9f3a\"],[0.8888888888888888,\"#fdca26\"],[1.0,\"#f0f921\"]],\"diverging\":[[0,\"#8e0152\"],[0.1,\"#c51b7d\"],[0.2,\"#de77ae\"],[0.3,\"#f1b6da\"],[0.4,\"#fde0ef\"],[0.5,\"#f7f7f7\"],[0.6,\"#e6f5d0\"],[0.7,\"#b8e186\"],[0.8,\"#7fbc41\"],[0.9,\"#4d9221\"],[1,\"#276419\"]]},\"xaxis\":{\"gridcolor\":\"white\",\"linecolor\":\"white\",\"ticks\":\"\",\"title\":{\"standoff\":15},\"zerolinecolor\":\"white\",\"automargin\":true,\"zerolinewidth\":2},\"yaxis\":{\"gridcolor\":\"white\",\"linecolor\":\"white\",\"ticks\":\"\",\"title\":{\"standoff\":15},\"zerolinecolor\":\"white\",\"automargin\":true,\"zerolinewidth\":2},\"scene\":{\"xaxis\":{\"backgroundcolor\":\"#E5ECF6\",\"gridcolor\":\"white\",\"linecolor\":\"white\",\"showbackground\":true,\"ticks\":\"\",\"zerolinecolor\":\"white\",\"gridwidth\":2},\"yaxis\":{\"backgroundcolor\":\"#E5ECF6\",\"gridcolor\":\"white\",\"linecolor\":\"white\",\"showbackground\":true,\"ticks\":\"\",\"zerolinecolor\":\"white\",\"gridwidth\":2},\"zaxis\":{\"backgroundcolor\":\"#E5ECF6\",\"gridcolor\":\"white\",\"linecolor\":\"white\",\"showbackground\":true,\"ticks\":\"\",\"zerolinecolor\":\"white\",\"gridwidth\":2}},\"shapedefaults\":{\"line\":{\"color\":\"#2a3f5f\"}},\"annotationdefaults\":{\"arrowcolor\":\"#2a3f5f\",\"arrowhead\":0,\"arrowwidth\":1},\"geo\":{\"bgcolor\":\"white\",\"landcolor\":\"#E5ECF6\",\"subunitcolor\":\"white\",\"showland\":true,\"showlakes\":true,\"lakecolor\":\"white\"},\"title\":{\"x\":0.05},\"mapbox\":{\"style\":\"light\"}}},\"xaxis\":{\"anchor\":\"y\",\"domain\":[0.0,1.0],\"title\":{\"text\":\"Polarity\"}},\"yaxis\":{\"anchor\":\"x\",\"domain\":[0.0,1.0],\"title\":{\"text\":\"Subjectivity\"}},\"legend\":{\"tracegroupgap\":0},\"title\":{\"text\":\"Sentiment Analysis Scatter Plot\"}},                        {\"responsive\": true}                    ).then(function(){\n",
       "                            \n",
       "var gd = document.getElementById('d94654c4-5ddc-41d3-aeaf-8d9e54ccd1f1');\n",
       "var x = new MutationObserver(function (mutations, observer) {{\n",
       "        var display = window.getComputedStyle(gd).display;\n",
       "        if (!display || display === 'none') {{\n",
       "            console.log([gd, 'removed!']);\n",
       "            Plotly.purge(gd);\n",
       "            observer.disconnect();\n",
       "        }}\n",
       "}});\n",
       "\n",
       "// Listen for the removal of the full notebook cells\n",
       "var notebookContainer = gd.closest('#notebook-container');\n",
       "if (notebookContainer) {{\n",
       "    x.observe(notebookContainer, {childList: true});\n",
       "}}\n",
       "\n",
       "// Listen for the clearing of the current output cell\n",
       "var outputEl = gd.closest('.output');\n",
       "if (outputEl) {{\n",
       "    x.observe(outputEl, {childList: true});\n",
       "}}\n",
       "\n",
       "                        })                };                });            </script>        </div>"
      ]
     },
     "metadata": {},
     "output_type": "display_data"
    }
   ],
   "source": [
    "%pip install textblob\n",
    "import plotly.express as plot\n",
    "from textblob import TextBlob\n",
    "import pandas as pd\n",
    "\n",
    "# Read texts from a file\n",
    "with open('chat.txt', 'r') as file:\n",
    "    texts = file.readlines()\n",
    "\n",
    "# Perform sentiment analysis for each text and store the results\n",
    "sentiments = []\n",
    "for text in texts:\n",
    "    blob = TextBlob(text)\n",
    "    sentiment = blob.sentiment\n",
    "    sentiments.append((text, sentiment.polarity, sentiment.subjectivity))\n",
    "\n",
    "# Create a DataFrame from the sentiment results\n",
    "df = pd.DataFrame(sentiments, columns=['Text', 'Polarity', 'Subjectivity'])\n",
    "with pd.option_context('display.max_rows', None, 'display.max_columns', None):\n",
    "    display(df)\n",
    "# Create an interactive scatter plot using Plotly Express with tooltips\n",
    "fig = plot.scatter(\n",
    "    df,\n",
    "    x='Polarity',\n",
    "    y='Subjectivity',\n",
    "    title='Sentiment Analysis Scatter Plot',\n",
    "    hover_name='Text',\n",
    "    labels={'Text': 'Text'} \n",
    ")\n",
    "\n",
    "fig.update_xaxes(title='Polarity')\n",
    "fig.update_yaxes(title='Subjectivity')\n",
    "\n",
    "# Show the plot in an interactive window\n",
    "fig.show()\n"
   ]
  },
  {
   "cell_type": "code",
   "execution_count": 4,
   "id": "7b7ef4d6",
   "metadata": {},
   "outputs": [
    {
     "name": "stdout",
     "output_type": "stream",
     "text": [
      "[Tree('S', [('what', 'WDT'), ('are', 'VBP'), ('the', 'DT'), ('implications', 'NNS'), ('to', 'TO'), ('a', 'DT'), ('economy', 'NN'), ('due', 'JJ'), ('to', 'TO'), ('automation', 'VB'), ('?', '.')]), Tree('S', [('Automation', 'NN'), ('can', 'MD'), ('have', 'VB'), ('significant', 'JJ'), ('implications', 'NNS'), ('for', 'IN'), ('an', 'DT'), ('economy', 'NN'), (',', ','), ('both', 'DT'), ('positive', 'JJ'), ('and', 'CC'), ('negative', 'JJ'), ('.', '.')]), Tree('S', [('These', 'DT'), ('implications', 'NNS'), ('can', 'MD'), ('vary', 'VB'), ('depending', 'VBG'), ('on', 'IN'), ('the', 'DT'), ('extent', 'NN'), ('and', 'CC'), ('speed', 'NN'), ('of', 'IN'), ('automation', 'NN'), (',', ','), ('the', 'DT'), ('specific', 'JJ'), ('industries', 'NNS'), ('affected', 'VBD'), (',', ','), ('and', 'CC'), ('the', 'DT'), ('policies', 'NNS'), ('in', 'IN'), ('place', 'NN'), ('to', 'TO'), ('manage', 'VB'), ('these', 'DT'), ('changes', 'NNS'), ('.', '.')]), Tree('S', [('Here', 'RB'), ('are', 'VBP'), ('some', 'DT'), ('of', 'IN'), ('the', 'DT'), ('key', 'JJ'), ('implications', 'NNS'), (':', ':'), ('1', 'CD'), ('.', '.')]), Tree('S', [('*', 'JJ'), ('*', 'NN'), ('Increased', 'VBD'), ('Productivity', 'NNP'), ('*', 'NNP'), ('*', 'NN'), (':', ':'), ('Automation', 'NN'), ('can', 'MD'), ('lead', 'VB'), ('to', 'TO'), ('increased', 'JJ'), ('productivity', 'NN'), ('as', 'IN'), ('machines', 'NNS'), ('and', 'CC'), ('robots', 'NNS'), ('can', 'MD'), ('work', 'VB'), ('24/7', 'CD'), ('without', 'IN'), ('the', 'DT'), ('need', 'NN'), ('for', 'IN'), ('breaks', 'NNS'), ('or', 'CC'), ('vacations', 'NNS'), ('.', '.')]), Tree('S', [('This', 'DT'), ('can', 'MD'), ('lead', 'VB'), ('to', 'TO'), ('lower', 'JJR'), ('production', 'NN'), ('costs', 'NNS'), ('and', 'CC'), ('potentially', 'RB'), ('lower', 'JJR'), ('prices', 'NNS'), ('for', 'IN'), ('consumers', 'NNS'), ('.', '.')]), Tree('S', [('2', 'CD'), ('.', '.')]), Tree('S', [('*', 'NN'), ('*', 'NNP'), Tree('PERSON', [('Labor', 'NNP'), ('Displacement', 'NNP')]), ('*', 'NNP'), ('*', 'NN'), (':', ':'), ('One', 'CD'), ('of', 'IN'), ('the', 'DT'), ('most', 'RBS'), ('significant', 'JJ'), ('implications', 'NNS'), ('of', 'IN'), ('automation', 'NN'), ('is', 'VBZ'), ('the', 'DT'), ('potential', 'JJ'), ('displacement', 'NN'), ('of', 'IN'), ('human', 'JJ'), ('workers', 'NNS'), ('.', '.')]), Tree('S', [('Jobs', 'NNP'), ('that', 'WDT'), ('can', 'MD'), ('be', 'VB'), ('automated', 'VBN'), (',', ','), ('such', 'JJ'), ('as', 'IN'), ('routine', 'JJ'), ('manual', 'NN'), ('or', 'CC'), ('repetitive', 'JJ'), ('tasks', 'NNS'), (',', ','), ('may', 'MD'), ('no', 'RB'), ('longer', 'RB'), ('require', 'VB'), ('as', 'IN'), ('many', 'JJ'), ('human', 'JJ'), ('workers', 'NNS'), (',', ','), ('leading', 'VBG'), ('to', 'TO'), ('unemployment', 'NN'), ('and', 'CC'), ('income', 'NN'), ('inequality', 'NN'), ('.', '.')]), Tree('S', [('3', 'CD'), ('.', '.')]), Tree('S', [('*', 'JJ'), ('*', 'NNP'), Tree('PERSON', [('Skill', 'NNP'), ('Shift', 'NNP')]), ('*', 'NNP'), ('*', 'NN'), (':', ':'), ('While', 'IN'), ('some', 'DT'), ('jobs', 'NNS'), ('may', 'MD'), ('be', 'VB'), ('lost', 'VBN'), ('to', 'TO'), ('automation', 'NN'), (',', ','), ('new', 'JJ'), ('jobs', 'NNS'), ('may', 'MD'), ('also', 'RB'), ('be', 'VB'), ('created', 'VBN'), ('.', '.')]), Tree('S', [('These', 'DT'), ('new', 'JJ'), ('jobs', 'NNS'), ('often', 'RB'), ('require', 'VBP'), ('higher-level', 'JJ'), ('skills', 'NNS'), ('in', 'IN'), ('areas', 'NNS'), ('like', 'IN'), ('robotics', 'NNS'), ('maintenance', 'NN'), (',', ','), ('programming', 'NN'), (',', ','), ('data', 'NN'), ('analysis', 'NN'), (',', ','), ('and', 'CC'), ('artificial', 'JJ'), ('intelligence', 'NN'), ('.', '.')]), Tree('S', [('This', 'DT'), ('can', 'MD'), ('lead', 'VB'), ('to', 'TO'), ('a', 'DT'), ('shift', 'NN'), ('in', 'IN'), ('the', 'DT'), ('types', 'NNS'), ('of', 'IN'), ('skills', 'NNS'), ('that', 'WDT'), ('are', 'VBP'), ('in', 'IN'), ('demand', 'NN'), ('in', 'IN'), ('the', 'DT'), ('job', 'NN'), ('market', 'NN'), ('.', '.')]), Tree('S', [('4', 'CD'), ('.', '.')]), Tree('S', [('*', 'JJ'), ('*', 'NNP'), ('Income', 'NNP'), ('Inequality', 'NNP'), ('*', 'NNP'), ('*', 'NN'), (':', ':'), ('Automation', 'NN'), ('can', 'MD'), ('exacerbate', 'VB'), ('income', 'NN'), ('inequality', 'NN'), ('.', '.')]), Tree('S', [('Those', 'DT'), ('who', 'WP'), ('have', 'VBP'), ('the', 'DT'), ('skills', 'NNS'), ('to', 'TO'), ('work', 'VB'), ('with', 'IN'), ('or', 'CC'), ('design', 'NN'), ('automated', 'VBN'), ('systems', 'NNS'), ('may', 'MD'), ('see', 'VB'), ('increased', 'JJ'), ('wages', 'NNS'), (',', ','), ('while', 'IN'), ('those', 'DT'), ('in', 'IN'), ('lower-skilled', 'JJ'), (',', ','), ('automatable', 'JJ'), ('positions', 'NNS'), ('may', 'MD'), ('struggle', 'VB'), ('to', 'TO'), ('find', 'VB'), ('employment', 'NN'), ('or', 'CC'), ('face', 'NN'), ('lower', 'JJR'), ('wages', 'NNS'), ('.', '.')]), Tree('S', [('5', 'CD'), ('.', '.')]), Tree('S', [('*', 'JJ'), ('*', 'NN'), Tree('ORGANIZATION', [('Industry', 'NNP'), ('Transformation', 'NNP')]), ('*', 'NNP'), ('*', 'NN'), (':', ':'), ('Entire', 'NNP'), ('industries', 'NNS'), ('may', 'MD'), ('be', 'VB'), ('transformed', 'VBN'), ('or', 'CC'), ('disrupted', 'VBN'), ('by', 'IN'), ('automation', 'NN'), ('.', '.')]), Tree('S', [('For', 'IN'), ('example', 'NN'), (',', ','), ('the', 'DT'), ('rise', 'NN'), ('of', 'IN'), ('e-commerce', 'NN'), ('and', 'CC'), ('automation', 'NN'), ('in', 'IN'), ('logistics', 'NNS'), ('has', 'VBZ'), ('significantly', 'RB'), ('impacted', 'VBN'), ('traditional', 'JJ'), ('retail', 'JJ'), ('and', 'CC'), ('transportation', 'NN'), ('sectors', 'NNS'), ('.', '.')]), Tree('S', [('6', 'CD'), ('.', '.')]), Tree('S', [('*', 'NN'), ('*', 'JJ'), Tree('ORGANIZATION', [('Economic', 'NNP'), ('Growth', 'NNP')]), ('*', 'NNP'), ('*', 'NN'), (':', ':'), ('Despite', 'IN'), ('potential', 'JJ'), ('job', 'NN'), ('displacement', 'NN'), (',', ','), ('automation', 'NN'), ('can', 'MD'), ('lead', 'VB'), ('to', 'TO'), ('overall', 'JJ'), ('economic', 'JJ'), ('growth', 'NN'), ('.', '.')]), Tree('S', [('Increased', 'VBN'), ('productivity', 'NN'), ('and', 'CC'), ('efficiency', 'NN'), ('can', 'MD'), ('stimulate', 'VB'), ('economic', 'JJ'), ('activity', 'NN'), ('and', 'CC'), ('create', 'NN'), ('opportunities', 'NNS'), ('for', 'IN'), ('new', 'JJ'), ('businesses', 'NNS'), ('and', 'CC'), ('industries', 'NNS'), ('.', '.')]), Tree('S', [('7', 'CD'), ('.', '.')]), Tree('S', [('*', 'JJ'), ('*', 'NNP'), ('Transition', 'NNP'), ('Costs', 'NNP'), ('*', 'NNP'), ('*', 'NN'), (':', ':'), ('Transitioning', 'NN'), ('to', 'TO'), ('an', 'DT'), ('automated', 'JJ'), ('economy', 'NN'), ('can', 'MD'), ('be', 'VB'), ('costly', 'JJ'), ('.', '.')]), Tree('S', [('Businesses', 'NNS'), ('may', 'MD'), ('need', 'VB'), ('to', 'TO'), ('invest', 'VB'), ('in', 'IN'), ('new', 'JJ'), ('technology', 'NN'), (',', ','), ('retrain', 'NN'), ('workers', 'NNS'), (',', ','), ('and', 'CC'), ('adapt', 'VB'), ('their', 'PRP$'), ('processes', 'NNS'), (',', ','), ('which', 'WDT'), ('can', 'MD'), ('be', 'VB'), ('expensive', 'JJ'), ('and', 'CC'), ('time-consuming', 'JJ'), ('.', '.')]), Tree('S', [('8', 'CD'), ('.', '.')]), Tree('S', [('*', 'NN'), ('*', 'CC'), Tree('ORGANIZATION', [('Education', 'NNP')]), ('and', 'CC'), Tree('ORGANIZATION', [('Training', 'NNP')]), ('*', 'NNP'), ('*', 'NN'), (':', ':'), ('As', 'IN'), ('automation', 'NN'), ('changes', 'VBZ'), ('the', 'DT'), ('nature', 'NN'), ('of', 'IN'), ('work', 'NN'), (',', ','), ('there', 'EX'), ('is', 'VBZ'), ('a', 'DT'), ('growing', 'VBG'), ('need', 'NN'), ('for', 'IN'), ('education', 'NN'), ('and', 'CC'), ('training', 'NN'), ('programs', 'NNS'), ('to', 'TO'), ('prepare', 'VB'), ('the', 'DT'), ('workforce', 'NN'), ('for', 'IN'), ('the', 'DT'), ('jobs', 'NNS'), ('of', 'IN'), ('the', 'DT'), ('future', 'NN'), ('.', '.')]), Tree('S', [('Governments', 'NNS'), ('and', 'CC'), ('businesses', 'NNS'), ('may', 'MD'), ('need', 'VB'), ('to', 'TO'), ('invest', 'VB'), ('in', 'IN'), ('upskilling', 'JJ'), ('and', 'CC'), ('reskilling', 'VBG'), ('initiatives', 'NNS'), ('.', '.')]), Tree('S', [('9', 'CD'), ('.', '.')]), Tree('S', [('*', 'JJ'), ('*', 'JJ'), ('Government', 'NN'), Tree('PERSON', [('Policy', 'NNP')]), ('*', 'NNP'), ('*', 'NN'), (':', ':'), ('Government', 'JJ'), ('policies', 'NNS'), ('can', 'MD'), ('play', 'VB'), ('a', 'DT'), ('significant', 'JJ'), ('role', 'NN'), ('in', 'IN'), ('shaping', 'VBG'), ('the', 'DT'), ('impact', 'NN'), ('of', 'IN'), ('automation', 'NN'), ('.', '.')]), Tree('S', [('Policies', 'NNS'), ('related', 'VBN'), ('to', 'TO'), ('minimum', 'JJ'), ('wage', 'NN'), (',', ','), ('labor', 'NN'), ('rights', 'NNS'), (',', ','), ('taxation', 'NN'), (',', ','), ('and', 'CC'), ('social', 'JJ'), ('safety', 'NN'), ('nets', 'NNS'), ('can', 'MD'), ('influence', 'VB'), ('how', 'WRB'), ('the', 'DT'), ('benefits', 'NNS'), ('and', 'CC'), ('costs', 'NNS'), ('of', 'IN'), ('automation', 'NN'), ('are', 'VBP'), ('distributed', 'VBN'), ('.', '.')]), Tree('S', [('10', 'CD'), ('.', '.')]), Tree('S', [('*', 'JJ'), ('*', 'NNP'), ('Social', 'NNP'), ('Impact', 'NNP'), ('*', 'NNP'), ('*', 'NN'), (':', ':'), ('Automation', 'NN'), ('can', 'MD'), ('have', 'VB'), ('social', 'JJ'), ('implications', 'NNS'), ('beyond', 'IN'), ('economics', 'NNS'), ('.', '.')]), Tree('S', [('It', 'PRP'), ('can', 'MD'), ('affect', 'VB'), ('the', 'DT'), ('structure', 'NN'), ('of', 'IN'), ('communities', 'NNS'), (',', ','), ('as', 'IN'), ('people', 'NNS'), ('may', 'MD'), ('need', 'VB'), ('to', 'TO'), ('relocate', 'VB'), ('for', 'IN'), ('new', 'JJ'), ('job', 'NN'), ('opportunities', 'NNS'), ('.', '.')]), Tree('S', [('It', 'PRP'), ('can', 'MD'), ('also', 'RB'), ('impact', 'VB'), ('the', 'DT'), ('work-life', 'JJ'), ('balance', 'NN'), (',', ','), ('as', 'IN'), ('some', 'DT'), ('jobs', 'NNS'), ('may', 'MD'), ('become', 'VB'), ('more', 'RBR'), ('flexible', 'JJ'), ('while', 'IN'), ('others', 'NNS'), ('require', 'VBP'), ('constant', 'JJ'), ('attention', 'NN'), ('.', '.')]), Tree('S', [('In', 'IN'), ('summary', 'JJ'), (',', ','), ('the', 'DT'), ('implications', 'NNS'), ('of', 'IN'), ('automation', 'NN'), ('on', 'IN'), ('an', 'DT'), ('economy', 'NN'), ('are', 'VBP'), ('multifaceted', 'VBN'), ('.', '.')]), Tree('S', [('While', 'IN'), ('it', 'PRP'), ('can', 'MD'), ('lead', 'VB'), ('to', 'TO'), ('increased', 'VBN'), ('productivity', 'NN'), ('and', 'CC'), ('economic', 'JJ'), ('growth', 'NN'), (',', ','), ('it', 'PRP'), ('also', 'RB'), ('poses', 'VBZ'), ('challenges', 'NNS'), ('related', 'VBN'), ('to', 'TO'), ('job', 'NN'), ('displacement', 'NN'), (',', ','), ('income', 'NN'), ('inequality', 'NN'), (',', ','), ('and', 'CC'), ('the', 'DT'), ('need', 'NN'), ('for', 'IN'), ('workforce', 'NN'), ('development', 'NN'), ('and', 'CC'), ('policy', 'NN'), ('adaptation', 'NN'), ('.', '.')]), Tree('S', [('Managing', 'VBG'), ('these', 'DT'), ('implications', 'NNS'), ('effectively', 'RB'), ('requires', 'VBZ'), ('a', 'DT'), ('combination', 'NN'), ('of', 'IN'), ('government', 'NN'), ('policies', 'NNS'), (',', ','), ('business', 'NN'), ('strategies', 'NNS'), (',', ','), ('and', 'CC'), ('workforce', 'NN'), ('preparedness', 'NN'), ('efforts', 'NNS'), ('.', '.')]), Tree('S', [('How', 'WRB'), ('might', 'MD'), ('automation', 'VB'), ('impact', 'VB'), ('the', 'DT'), ('job', 'NN'), ('market', 'NN'), (',', ','), ('and', 'CC'), ('what', 'WP'), ('strategies', 'NNS'), ('can', 'MD'), ('governments', 'NNS'), ('and', 'CC'), ('businesses', 'NNS'), ('adopt', 'VBP'), ('to', 'TO'), ('mitigate', 'VB'), ('potential', 'JJ'), ('job', 'NN'), ('losses', 'NNS'), ('?', '.')]), Tree('S', [('Automation', 'NN'), ('can', 'MD'), ('have', 'VB'), ('a', 'DT'), ('significant', 'JJ'), ('impact', 'NN'), ('on', 'IN'), ('the', 'DT'), ('job', 'NN'), ('market', 'NN'), (',', ','), ('and', 'CC'), ('its', 'PRP$'), ('effects', 'NNS'), ('can', 'MD'), ('vary', 'VB'), ('depending', 'VBG'), ('on', 'IN'), ('the', 'DT'), ('industry', 'NN'), (',', ','), ('the', 'DT'), ('level', 'NN'), ('of', 'IN'), ('automation', 'NN'), (',', ','), ('and', 'CC'), ('the', 'DT'), ('speed', 'NN'), ('of', 'IN'), ('implementation', 'NN'), ('.', '.')]), Tree('S', [('Here', 'RB'), ('are', 'VBP'), ('some', 'DT'), ('ways', 'NNS'), ('automation', 'NN'), ('can', 'MD'), ('affect', 'VB'), ('the', 'DT'), ('job', 'NN'), ('market', 'NN'), ('and', 'CC'), ('strategies', 'NNS'), ('that', 'IN'), ('governments', 'NNS'), ('and', 'CC'), ('businesses', 'NNS'), ('can', 'MD'), ('adopt', 'VB'), ('to', 'TO'), ('mitigate', 'VB'), ('potential', 'JJ'), ('job', 'NN'), ('losses', 'NNS'), (':', ':'), ('Impact', 'NN'), ('on', 'IN'), ('the', 'DT'), Tree('ORGANIZATION', [('Job', 'NNP')]), ('Market', 'NNP'), (':', ':'), ('Job', 'JJ'), ('Displacement', 'NN'), (':', ':'), ('Automation', 'NN'), ('can', 'MD'), ('lead', 'VB'), ('to', 'TO'), ('the', 'DT'), ('displacement', 'NN'), ('of', 'IN'), ('jobs', 'NNS'), ('that', 'WDT'), ('involve', 'VBP'), ('routine', 'JJ'), ('and', 'CC'), ('repetitive', 'JJ'), ('tasks', 'NNS'), (',', ','), ('particularly', 'RB'), ('in', 'IN'), ('manufacturing', 'NN'), (',', ','), ('logistics', 'NNS'), (',', ','), ('and', 'CC'), ('customer', 'NN'), ('service', 'NN'), ('.', '.')]), Tree('S', [('These', 'DT'), ('jobs', 'NNS'), ('may', 'MD'), ('be', 'VB'), ('replaced', 'VBN'), ('by', 'IN'), ('machines', 'NNS'), ('or', 'CC'), ('software', 'NN'), ('.', '.')]), Tree('S', [('Creation', 'NN'), ('of', 'IN'), Tree('GPE', [('New', 'NNP'), ('Jobs', 'NNP')]), (':', ':'), ('Automation', 'NN'), ('can', 'MD'), ('also', 'RB'), ('create', 'VB'), ('new', 'JJ'), ('job', 'NN'), ('opportunities', 'NNS'), ('in', 'IN'), ('areas', 'NNS'), ('such', 'JJ'), ('as', 'IN'), ('robotics', 'NNS'), ('maintenance', 'NN'), (',', ','), ('software', 'NN'), ('development', 'NN'), (',', ','), ('data', 'NNS'), ('analysis', 'NN'), (',', ','), ('and', 'CC'), ('artificial', 'JJ'), ('intelligence', 'NN'), ('.', '.')]), Tree('S', [('These', 'DT'), ('jobs', 'NNS'), ('often', 'RB'), ('require', 'VBP'), ('higher-level', 'JJ'), ('skills', 'NNS'), ('.', '.')]), Tree('S', [Tree('GPE', [('Shift', 'NN')]), ('in', 'IN'), Tree('GPE', [('Skill', 'NNP')]), ('Requirements', 'NNP'), (':', ':'), ('Many', 'JJ'), ('jobs', 'NNS'), ('may', 'MD'), ('require', 'VB'), ('a', 'DT'), ('different', 'JJ'), ('skill', 'NN'), ('set', 'VBN'), ('as', 'IN'), ('automation', 'NN'), ('becomes', 'VBZ'), ('more', 'RBR'), ('prevalent', 'JJ'), ('.', '.')]), Tree('S', [('Workers', 'NNS'), ('may', 'MD'), ('need', 'VB'), ('to', 'TO'), ('acquire', 'VB'), ('digital', 'JJ'), ('literacy', 'NN'), (',', ','), ('problem-solving', 'JJ'), ('skills', 'NNS'), (',', ','), ('and', 'CC'), ('the', 'DT'), ('ability', 'NN'), ('to', 'TO'), ('work', 'VB'), ('with', 'IN'), ('and', 'CC'), ('alongside', 'RB'), ('automated', 'VBD'), ('systems', 'NNS'), ('.', '.')]), Tree('S', [Tree('GPE', [('Income', 'JJ')]), Tree('ORGANIZATION', [('Inequality', 'NN')]), (':', ':'), ('The', 'DT'), ('impact', 'NN'), ('of', 'IN'), ('automation', 'NN'), ('on', 'IN'), ('income', 'NN'), ('inequality', 'NN'), ('can', 'MD'), ('be', 'VB'), ('significant', 'JJ'), ('.', '.')]), Tree('S', [('Workers', 'NNS'), ('with', 'IN'), ('the', 'DT'), ('skills', 'NNS'), ('to', 'TO'), ('operate', 'VB'), ('or', 'CC'), ('design', 'VB'), ('automated', 'VBN'), ('systems', 'NNS'), ('may', 'MD'), ('earn', 'VB'), ('higher', 'JJR'), ('wages', 'NNS'), (',', ','), ('while', 'IN'), ('those', 'DT'), ('in', 'IN'), ('automatable', 'JJ'), ('positions', 'NNS'), ('may', 'MD'), ('face', 'VB'), ('stagnant', 'NN'), ('or', 'CC'), ('declining', 'VBG'), ('wages', 'NNS'), ('.', '.')]), Tree('S', [('Strategies', 'NNS'), ('to', 'TO'), Tree('ORGANIZATION', [('Mitigate', 'NNP'), ('Job', 'NNP')]), ('Losses', 'VBZ'), (':', ':'), ('Invest', 'NNP'), ('in', 'IN'), Tree('GPE', [('Education', 'NNP')]), ('and', 'CC'), ('Training', 'NNP'), (':', ':'), ('Governments', 'NNS'), ('and', 'CC'), ('businesses', 'NNS'), ('should', 'MD'), ('invest', 'VB'), ('in', 'IN'), ('education', 'NN'), ('and', 'CC'), ('training', 'NN'), ('programs', 'NNS'), ('to', 'TO'), ('help', 'VB'), ('workers', 'NNS'), ('acquire', 'VB'), ('the', 'DT'), ('skills', 'NNS'), ('needed', 'VBN'), ('for', 'IN'), ('the', 'DT'), ('jobs', 'NNS'), ('of', 'IN'), ('the', 'DT'), ('future', 'NN'), ('.', '.')]), Tree('S', [('This', 'DT'), ('includes', 'VBZ'), ('vocational', 'JJ'), ('training', 'NN'), (',', ','), ('coding', 'VBG'), ('boot', 'NN'), ('camps', 'NNS'), (',', ','), ('and', 'CC'), ('lifelong', 'RB'), ('learning', 'JJ'), ('initiatives', 'NNS'), ('.', '.')]), Tree('S', [Tree('PERSON', [('Support', 'NNP')]), Tree('ORGANIZATION', [('Transition', 'NNP'), ('Assistance', 'NNP')]), (':', ':'), ('Implement', 'NN'), ('programs', 'NNS'), ('that', 'WDT'), ('help', 'VBP'), ('displaced', 'VB'), ('workers', 'NNS'), ('transition', 'VB'), ('to', 'TO'), ('new', 'JJ'), ('employment', 'NN'), ('opportunities', 'NNS'), ('.', '.')]), Tree('S', [('This', 'DT'), ('could', 'MD'), ('involve', 'VB'), ('providing', 'VBG'), ('financial', 'JJ'), ('support', 'NN'), (',', ','), ('career', 'NN'), ('counseling', 'NN'), (',', ','), ('and', 'CC'), ('job', 'NN'), ('placement', 'NN'), ('services', 'NNS'), ('.', '.')]), Tree('S', [Tree('PERSON', [('Promote', 'NNP')]), Tree('ORGANIZATION', [('STEM', 'NNP')]), ('Education', 'NNP'), (':', ':'), ('Encourage', 'NN'), Tree('ORGANIZATION', [('STEM', 'NNP')]), ('(', '('), Tree('GPE', [('Science', 'NNP')]), (',', ','), Tree('GPE', [('Technology', 'NNP')]), (',', ','), Tree('GPE', [('Engineering', 'NNP')]), (',', ','), ('and', 'CC'), Tree('GPE', [('Mathematics', 'NNP')]), (')', ')'), ('education', 'NN'), ('from', 'IN'), ('an', 'DT'), ('early', 'JJ'), ('age', 'NN'), ('to', 'TO'), ('prepare', 'VB'), ('the', 'DT'), ('workforce', 'NN'), ('for', 'IN'), ('high-demand', 'JJ'), ('technical', 'JJ'), ('roles', 'NNS'), ('.', '.')]), Tree('S', [Tree('PERSON', [('Develop', 'NNP')]), Tree('PERSON', [('Safety', 'NNP'), ('Nets', 'NNP')]), (':', ':'), ('Strengthen', 'NNP'), ('social', 'JJ'), ('safety', 'NN'), ('nets', 'NNS'), ('to', 'TO'), ('provide', 'VB'), ('financial', 'JJ'), ('support', 'NN'), ('and', 'CC'), ('job', 'NN'), ('retraining', 'NN'), ('options', 'NNS'), ('for', 'IN'), ('displaced', 'JJ'), ('workers', 'NNS'), ('.', '.')]), Tree('S', [('This', 'DT'), ('can', 'MD'), ('help', 'VB'), ('reduce', 'VB'), ('the', 'DT'), ('negative', 'JJ'), ('impacts', 'NNS'), ('of', 'IN'), ('job', 'NN'), ('loss', 'NN'), ('.', '.')]), Tree('S', [Tree('GPE', [('Collaboration', 'NN')]), ('with', 'IN'), Tree('GPE', [('Industry', 'NN')]), (':', ':'), ('Governments', 'NNS'), ('and', 'CC'), ('businesses', 'NNS'), ('should', 'MD'), ('work', 'VB'), ('together', 'RB'), ('to', 'TO'), ('anticipate', 'VB'), ('the', 'DT'), ('impact', 'NN'), ('of', 'IN'), ('automation', 'NN'), ('and', 'CC'), ('plan', 'NN'), ('accordingly', 'RB'), ('.', '.')]), Tree('S', [('This', 'DT'), ('may', 'MD'), ('involve', 'VB'), ('industry', 'NN'), ('partnerships', 'NNS'), ('to', 'TO'), ('identify', 'VB'), ('skills', 'NNS'), ('gaps', 'NNS'), ('and', 'CC'), ('develop', 'VB'), ('training', 'NN'), ('programs', 'NNS'), ('.', '.')]), Tree('S', [Tree('GPE', [('Encourage', 'NN')]), Tree('PERSON', [('Entrepreneurship', 'NN')]), (':', ':'), ('Support', 'NNP'), ('entrepreneurship', 'NN'), ('and', 'CC'), ('the', 'DT'), ('creation', 'NN'), ('of', 'IN'), ('new', 'JJ'), ('businesses', 'NNS'), ('.', '.')]), Tree('S', [('Automation', 'NN'), ('can', 'MD'), ('also', 'RB'), ('lead', 'VB'), ('to', 'TO'), ('the', 'DT'), ('emergence', 'NN'), ('of', 'IN'), ('new', 'JJ'), ('industries', 'NNS'), ('and', 'CC'), ('job', 'NN'), ('opportunities', 'NNS'), ('.', '.')]), Tree('S', [('Flexible', 'JJ'), Tree('ORGANIZATION', [('Labor', 'NNP')]), ('Policies', 'NNS'), (':', ':'), ('Consider', 'NNP'), ('flexible', 'JJ'), ('labor', 'NN'), ('policies', 'NNS'), ('that', 'WDT'), ('accommodate', 'VBP'), ('changes', 'NNS'), ('in', 'IN'), ('the', 'DT'), ('nature', 'NN'), ('of', 'IN'), ('work', 'NN'), (',', ','), ('such', 'JJ'), ('as', 'IN'), ('remote', 'JJ'), ('work', 'NN'), ('arrangements', 'NNS'), ('and', 'CC'), ('alternative', 'JJ'), ('work', 'NN'), ('schedules', 'NNS'), ('.', '.')]), Tree('S', [Tree('GPE', [('Tax', 'NN')]), Tree('ORGANIZATION', [('Incentives', 'NNS')]), (':', ':'), ('Offer', 'NN'), ('tax', 'NN'), ('incentives', 'NNS'), ('to', 'TO'), ('encourage', 'VB'), ('businesses', 'NNS'), ('to', 'TO'), ('invest', 'VB'), ('in', 'IN'), ('automation', 'NN'), ('while', 'IN'), ('also', 'RB'), ('providing', 'VBG'), ('incentives', 'NNS'), ('for', 'IN'), ('job', 'NN'), ('creation', 'NN'), ('and', 'CC'), ('workforce', 'NN'), ('development', 'NN'), ('.', '.')]), Tree('S', [Tree('PERSON', [('Ethical', 'JJ')]), Tree('ORGANIZATION', [('AI', 'NNP')]), ('and', 'CC'), Tree('ORGANIZATION', [('Automation', 'NNP')]), ('Practices', 'NNS'), (':', ':'), ('Encourage', 'VB'), ('the', 'DT'), ('responsible', 'JJ'), ('use', 'NN'), ('of', 'IN'), ('automation', 'NN'), ('technologies', 'NNS'), ('by', 'IN'), ('promoting', 'VBG'), ('ethical', 'JJ'), ('guidelines', 'NNS'), ('and', 'CC'), ('regulations', 'NNS'), ('to', 'TO'), ('ensure', 'VB'), ('that', 'DT'), ('automation', 'NN'), ('benefits', 'NNS'), ('society', 'NN'), ('as', 'IN'), ('a', 'DT'), ('whole', 'NN'), ('.', '.')]), Tree('S', [('Worker-Management', 'JJ'), ('Collaboration', 'NN'), (':', ':'), ('Encourage', 'VB'), ('collaboration', 'NN'), ('between', 'IN'), ('workers', 'NNS'), ('and', 'CC'), ('management', 'NN'), ('to', 'TO'), ('ensure', 'VB'), ('that', 'IN'), ('the', 'DT'), ('transition', 'NN'), ('to', 'TO'), ('automation', 'NN'), ('is', 'VBZ'), ('as', 'RB'), ('smooth', 'JJ'), ('as', 'IN'), ('possible', 'JJ'), ('.', '.')]), Tree('S', [('Workers', 'NNS'), (\"'\", 'POS'), ('input', 'NN'), ('can', 'MD'), ('help', 'VB'), ('identify', 'VB'), ('areas', 'NNS'), ('where', 'WRB'), ('automation', 'NN'), ('can', 'MD'), ('complement', 'VB'), ('human', 'JJ'), ('work', 'NN'), ('rather', 'RB'), ('than', 'IN'), ('replace', 'VB'), ('it', 'PRP'), ('entirely', 'RB'), ('.', '.')]), Tree('S', [('In', 'IN'), ('conclusion', 'NN'), (',', ','), ('while', 'IN'), ('automation', 'NN'), ('can', 'MD'), ('lead', 'VB'), ('to', 'TO'), ('job', 'NN'), ('displacement', 'NN'), (',', ','), ('it', 'PRP'), ('also', 'RB'), ('offers', 'VBZ'), ('opportunities', 'NNS'), ('for', 'IN'), ('job', 'NN'), ('creation', 'NN'), ('and', 'CC'), ('increased', 'JJ'), ('productivity', 'NN'), ('.', '.')]), Tree('S', [('Governments', 'NNS'), ('and', 'CC'), ('businesses', 'NNS'), ('need', 'VBP'), ('to', 'TO'), ('take', 'VB'), ('a', 'DT'), ('proactive', 'JJ'), ('approach', 'NN'), ('to', 'TO'), ('mitigate', 'VB'), ('potential', 'JJ'), ('job', 'NN'), ('losses', 'NNS'), ('by', 'IN'), ('investing', 'VBG'), ('in', 'IN'), ('education', 'NN'), ('and', 'CC'), ('training', 'NN'), (',', ','), ('supporting', 'VBG'), ('displaced', 'JJ'), ('workers', 'NNS'), (',', ','), ('and', 'CC'), ('fostering', 'VBG'), ('innovation', 'NN'), ('and', 'CC'), ('entrepreneurship', 'NN'), ('in', 'IN'), ('emerging', 'VBG'), ('industries', 'NNS'), ('.', '.')]), Tree('S', [('The', 'DT'), ('goal', 'NN'), ('should', 'MD'), ('be', 'VB'), ('to', 'TO'), ('ensure', 'VB'), ('that', 'IN'), ('the', 'DT'), ('benefits', 'NNS'), ('of', 'IN'), ('automation', 'NN'), ('are', 'VBP'), ('broadly', 'RB'), ('shared', 'VBN'), ('and', 'CC'), ('that', 'IN'), ('the', 'DT'), ('workforce', 'NN'), ('is', 'VBZ'), ('prepared', 'VBN'), ('for', 'IN'), ('the', 'DT'), ('changing', 'VBG'), ('job', 'NN'), ('landscape', 'NN'), ('.', '.')]), Tree('S', [('How', 'WRB'), ('can', 'MD'), ('education', 'VB'), ('and', 'CC'), ('training', 'VBG'), ('programs', 'NNS'), ('be', 'VB'), ('adapted', 'VBN'), ('to', 'TO'), ('better', 'RBR'), ('prepare', 'VB'), ('the', 'DT'), ('workforce', 'NN'), ('for', 'IN'), ('the', 'DT'), ('changing', 'VBG'), ('demands', 'NNS'), ('of', 'IN'), ('an', 'DT'), ('automated', 'JJ'), ('economy', 'NN'), ('?', '.')]), Tree('S', [('To', 'TO'), ('better', 'RBR'), ('prepare', 'VB'), ('the', 'DT'), ('workforce', 'NN'), ('for', 'IN'), ('the', 'DT'), ('changing', 'VBG'), ('demands', 'NNS'), ('of', 'IN'), ('an', 'DT'), ('automated', 'JJ'), ('economy', 'NN'), (',', ','), ('education', 'NN'), ('and', 'CC'), ('training', 'NN'), ('programs', 'NNS'), ('should', 'MD'), ('be', 'VB'), ('adapted', 'VBN'), ('to', 'TO'), ('provide', 'VB'), ('individuals', 'NNS'), ('with', 'IN'), ('the', 'DT'), ('skills', 'NNS'), ('and', 'CC'), ('knowledge', 'NN'), ('needed', 'VBN'), ('for', 'IN'), ('the', 'DT'), ('jobs', 'NNS'), ('of', 'IN'), ('the', 'DT'), ('future', 'NN'), ('.', '.')]), Tree('S', [('Here', 'RB'), ('are', 'VBP'), ('several', 'JJ'), ('strategies', 'NNS'), ('and', 'CC'), ('approaches', 'NNS'), ('to', 'TO'), ('consider', 'VB'), (':', ':'), Tree('PERSON', [('Emphasize', 'NNP'), ('Digital', 'NNP'), ('Literacy', 'NNP')]), (':', ':'), Tree('ORGANIZATION', [('Digital', 'NNP')]), ('literacy', 'NN'), ('is', 'VBZ'), ('a', 'DT'), ('fundamental', 'JJ'), ('skill', 'NN'), ('in', 'IN'), ('an', 'DT'), ('automated', 'JJ'), ('world', 'NN'), ('.', '.')]), Tree('S', [Tree('GPE', [('Education', 'NN')]), ('programs', 'NNS'), ('should', 'MD'), ('teach', 'VB'), ('individuals', 'NNS'), ('how', 'WRB'), ('to', 'TO'), ('use', 'VB'), ('and', 'CC'), ('navigate', 'JJ'), ('digital', 'NN'), ('tools', 'NNS'), ('and', 'CC'), ('platforms', 'NNS'), ('effectively', 'RB'), ('.', '.')]), Tree('S', [('This', 'DT'), ('includes', 'VBZ'), ('proficiency', 'NN'), ('in', 'IN'), ('basic', 'JJ'), ('software', 'NN'), (',', ','), ('online', 'JJ'), ('communication', 'NN'), ('tools', 'NNS'), (',', ','), ('and', 'CC'), ('cybersecurity', 'NN'), ('awareness', 'NN'), ('.', '.')]), Tree('S', [Tree('ORGANIZATION', [('Integrate', 'NNP')]), Tree('ORGANIZATION', [('STEM', 'NNP')]), ('Education', 'NNP'), (':', ':'), ('Science', 'NN'), (',', ','), Tree('GPE', [('Technology', 'NNP')]), (',', ','), Tree('GPE', [('Engineering', 'NNP')]), (',', ','), ('and', 'CC'), Tree('GPE', [('Mathematics', 'NNP')]), ('(', '('), Tree('ORGANIZATION', [('STEM', 'NNP')]), (')', ')'), ('education', 'NN'), ('should', 'MD'), ('be', 'VB'), ('integrated', 'VBN'), ('into', 'IN'), ('the', 'DT'), ('curriculum', 'NN'), ('from', 'IN'), ('an', 'DT'), ('early', 'JJ'), ('age', 'NN'), ('.', '.')]), Tree('S', [('Encourage', 'VB'), ('hands-on', 'JJ'), (',', ','), ('project-based', 'JJ'), ('learning', 'NN'), ('that', 'WDT'), ('promotes', 'VBZ'), ('problem-solving', 'JJ'), ('skills', 'NNS'), ('and', 'CC'), ('critical', 'JJ'), ('thinking', 'NN'), ('.', '.')]), Tree('S', [('This', 'DT'), ('helps', 'VBZ'), ('students', 'NNS'), ('develop', 'VB'), ('a', 'DT'), ('strong', 'JJ'), ('foundation', 'NN'), ('in', 'IN'), ('technical', 'JJ'), ('skills', 'NNS'), ('.', '.')]), Tree('S', [Tree('PERSON', [('Offer', 'NN'), ('Coding', 'NNP')]), ('and', 'CC'), Tree('ORGANIZATION', [('Computer', 'NNP'), ('Science', 'NNP')]), (':', ':'), ('Coding', 'NN'), ('and', 'CC'), ('computer', 'NN'), ('science', 'NN'), ('should', 'MD'), ('be', 'VB'), ('part', 'NN'), ('of', 'IN'), ('the', 'DT'), ('curriculum', 'NN'), ('in', 'IN'), ('both', 'DT'), ('K-12', 'NNP'), ('and', 'CC'), ('higher', 'JJR'), ('education', 'NN'), ('.', '.')]), Tree('S', [('These', 'DT'), ('skills', 'NNS'), ('are', 'VBP'), ('essential', 'JJ'), ('for', 'IN'), ('understanding', 'VBG'), ('the', 'DT'), ('technology', 'NN'), ('behind', 'IN'), ('automation', 'NN'), ('and', 'CC'), ('for', 'IN'), ('developing', 'VBG'), ('software', 'NN'), ('and', 'CC'), ('algorithms', 'NN'), ('.', '.')]), Tree('S', [Tree('PERSON', [('Promote', 'NNP')]), Tree('ORGANIZATION', [('Soft', 'NNP')]), ('Skills', 'NNP'), (':', ':'), ('Soft', 'JJ'), ('skills', 'NNS'), ('such', 'JJ'), ('as', 'IN'), ('communication', 'NN'), (',', ','), ('creativity', 'NN'), (',', ','), ('adaptability', 'NN'), (',', ','), ('and', 'CC'), ('emotional', 'JJ'), ('intelligence', 'NN'), ('are', 'VBP'), ('crucial', 'JJ'), ('in', 'IN'), ('an', 'DT'), ('automated', 'JJ'), ('economy', 'NN'), ('.', '.')]), Tree('S', [Tree('GPE', [('Education', 'NN')]), ('programs', 'NNS'), ('should', 'MD'), ('incorporate', 'VB'), ('opportunities', 'NNS'), ('for', 'IN'), ('students', 'NNS'), ('to', 'TO'), ('develop', 'VB'), ('these', 'DT'), ('skills', 'NNS'), ('through', 'IN'), ('group', 'NN'), ('projects', 'NNS'), (',', ','), ('presentations', 'NNS'), (',', ','), ('and', 'CC'), ('interpersonal', 'JJ'), ('activities', 'NNS'), ('.', '.')]), Tree('S', [Tree('GPE', [('Lifelong', 'JJ')]), ('Learning', 'NNP'), (':', ':'), ('Encourage', 'VB'), ('a', 'DT'), ('culture', 'NN'), ('of', 'IN'), ('lifelong', 'JJ'), ('learning', 'NN'), ('.', '.')]), Tree('S', [('Workers', 'NNS'), ('need', 'VBP'), ('to', 'TO'), ('continuously', 'VB'), ('update', 'VB'), ('their', 'PRP$'), ('skills', 'NNS'), ('to', 'TO'), ('stay', 'VB'), ('relevant', 'JJ'), ('.', '.')]), Tree('S', [Tree('GPE', [('Offer', 'NN')]), ('flexible', 'JJ'), ('learning', 'VBG'), ('options', 'NNS'), ('such', 'JJ'), ('as', 'IN'), ('online', 'NN'), ('courses', 'NNS'), (',', ','), ('evening', 'VBG'), ('classes', 'NNS'), (',', ','), ('and', 'CC'), ('micro-credentials', 'NNS'), ('that', 'IN'), ('allow', 'JJ'), ('individuals', 'NNS'), ('to', 'TO'), ('acquire', 'VB'), ('new', 'JJ'), ('skills', 'NNS'), ('throughout', 'IN'), ('their', 'PRP$'), ('careers', 'NNS'), ('.', '.')]), Tree('S', [Tree('PERSON', [('Customized', 'NNP')]), ('Learning', 'NNP'), ('Paths', 'NNP'), (':', ':'), ('Recognize', 'VB'), ('that', 'IN'), ('not', 'RB'), ('all', 'DT'), ('learners', 'NNS'), ('have', 'VBP'), ('the', 'DT'), ('same', 'JJ'), ('needs', 'VBZ'), ('or', 'CC'), ('starting', 'VBG'), ('points', 'NNS'), ('.', '.')]), Tree('S', [Tree('PERSON', [('Develop', 'NNP')]), ('personalized', 'VBD'), ('learning', 'VBG'), ('paths', 'NNS'), ('that', 'IN'), ('allow', 'JJ'), ('individuals', 'NNS'), ('to', 'TO'), ('focus', 'VB'), ('on', 'IN'), ('the', 'DT'), ('skills', 'NNS'), ('most', 'RBS'), ('relevant', 'JJ'), ('to', 'TO'), ('their', 'PRP$'), ('career', 'NN'), ('goals', 'NNS'), ('.', '.')]), Tree('S', [('Adaptive', 'JJ'), ('learning', 'VBG'), ('technology', 'NN'), ('can', 'MD'), ('help', 'VB'), ('tailor', 'VB'), ('educational', 'JJ'), ('content', 'NN'), ('to', 'TO'), ('individual', 'JJ'), ('needs', 'NNS'), ('.', '.')]), Tree('S', [('Hands-On', 'JJ'), ('Experience', 'NN'), (':', ':'), ('Practical', 'JJ'), (',', ','), ('hands-on', 'JJ'), ('experience', 'NN'), ('is', 'VBZ'), ('essential', 'JJ'), ('.', '.')]), Tree('S', [Tree('GPE', [('Incorporate', 'NNP')]), ('internships', 'NNS'), (',', ','), ('apprenticeships', 'NNS'), (',', ','), ('and', 'CC'), ('co-op', 'JJ'), ('programs', 'NNS'), ('that', 'WDT'), ('provide', 'VBP'), ('students', 'NNS'), ('with', 'IN'), ('real-world', 'JJ'), ('exposure', 'NN'), ('to', 'TO'), ('automation', 'NN'), ('technologies', 'NNS'), ('and', 'CC'), ('workplace', 'NN'), ('environments', 'NNS'), ('.', '.')]), Tree('S', [Tree('GPE', [('Industry', 'NN')]), Tree('ORGANIZATION', [('Partnerships', 'NNS')]), (':', ':'), ('Collaborate', 'NN'), ('with', 'IN'), ('businesses', 'NNS'), ('and', 'CC'), ('industries', 'NNS'), ('to', 'TO'), ('align', 'VB'), ('education', 'NN'), ('and', 'CC'), ('training', 'NN'), ('programs', 'NNS'), ('with', 'IN'), ('the', 'DT'), ('specific', 'JJ'), ('skills', 'NNS'), ('and', 'CC'), ('knowledge', 'NN'), ('needed', 'VBN'), ('in', 'IN'), ('the', 'DT'), ('job', 'NN'), ('market', 'NN'), ('.', '.')]), Tree('S', [('These', 'DT'), ('partnerships', 'NNS'), ('can', 'MD'), ('also', 'RB'), ('provide', 'VB'), ('opportunities', 'NNS'), ('for', 'IN'), ('work-integrated', 'JJ'), ('learning', 'NN'), ('.', '.')]), Tree('S', [('Cross-Disciplinary', 'JJ'), ('Education', 'NN'), (':', ':'), ('Encourage', 'VB'), ('cross-disciplinary', 'JJ'), ('education', 'NN'), ('that', 'WDT'), ('allows', 'VBZ'), ('students', 'NNS'), ('to', 'TO'), ('combine', 'VB'), ('technical', 'JJ'), ('skills', 'NNS'), ('with', 'IN'), ('knowledge', 'NN'), ('from', 'IN'), ('other', 'JJ'), ('fields', 'NNS'), ('.', '.')]), Tree('S', [('For', 'IN'), ('example', 'NN'), (',', ','), ('combining', 'VBG'), ('computer', 'NN'), ('science', 'NN'), ('with', 'IN'), ('healthcare', 'NN'), ('knowledge', 'NN'), ('can', 'MD'), ('prepare', 'VB'), ('individuals', 'NNS'), ('for', 'IN'), ('roles', 'NNS'), ('in', 'IN'), ('health', 'NN'), ('tech', 'NN'), ('.', '.')]), Tree('S', [Tree('PERSON', [('Soft', 'JJ')]), Tree('ORGANIZATION', [('Skills', 'NNP')]), ('Training', 'NN'), (':', ':'), ('Offer', 'NN'), ('training', 'NN'), ('in', 'IN'), ('soft', 'JJ'), ('skills', 'NNS'), ('like', 'IN'), ('leadership', 'NN'), (',', ','), ('teamwork', 'NN'), (',', ','), ('and', 'CC'), ('problem-solving', 'NN'), ('.', '.')]), Tree('S', [('These', 'DT'), ('skills', 'NNS'), ('are', 'VBP'), ('essential', 'JJ'), ('in', 'IN'), ('roles', 'NNS'), ('that', 'WDT'), ('involve', 'VBP'), ('human-AI', 'JJ'), ('collaboration', 'NN'), ('and', 'CC'), ('customer-facing', 'NN'), ('jobs', 'NNS'), ('.', '.')]), Tree('S', [Tree('GPE', [('Ethical', 'JJ')]), ('and', 'CC'), Tree('ORGANIZATION', [('Responsible', 'JJ')]), ('AI', 'NNP'), ('Training', 'NN'), (':', ':'), ('Incorporate', 'NNP'), ('training', 'NN'), ('on', 'IN'), ('the', 'DT'), ('ethical', 'JJ'), ('and', 'CC'), ('responsible', 'JJ'), ('use', 'NN'), ('of', 'IN'), ('artificial', 'JJ'), ('intelligence', 'NN'), ('and', 'CC'), ('automation', 'NN'), ('technologies', 'NNS'), ('.', '.')]), Tree('S', [('Emphasize', 'VB'), ('the', 'DT'), ('importance', 'NN'), ('of', 'IN'), ('fairness', 'NN'), (',', ','), ('transparency', 'NN'), (',', ','), ('and', 'CC'), ('bias', 'JJ'), ('mitigation', 'NN'), ('.', '.')]), Tree('S', [('Certifications', 'NNS'), ('and', 'CC'), ('Credentials', 'NNS'), (':', ':'), ('Develop', 'VB'), ('industry-recognized', 'JJ'), ('certifications', 'NNS'), ('and', 'CC'), ('credentials', 'NNS'), ('for', 'IN'), ('in-demand', 'NN'), ('skills', 'NNS'), ('.', '.')]), Tree('S', [('These', 'DT'), ('can', 'MD'), ('serve', 'VB'), ('as', 'IN'), ('valuable', 'JJ'), ('signals', 'NNS'), ('to', 'TO'), ('employers', 'NNS'), ('that', 'IN'), ('individuals', 'NNS'), ('possess', 'VBP'), ('the', 'DT'), ('necessary', 'JJ'), ('competencies', 'NNS'), ('.', '.')]), Tree('S', [Tree('GPE', [('Support', 'NN')]), ('for', 'IN'), Tree('ORGANIZATION', [('Displaced', 'NNP'), ('Workers', 'NNPS')]), (':', ':'), ('Create', 'NNP'), ('programs', 'NNS'), ('that', 'WDT'), ('specifically', 'RB'), ('target', 'VBP'), ('workers', 'NNS'), ('who', 'WP'), ('have', 'VBP'), ('been', 'VBN'), ('displaced', 'VBN'), ('by', 'IN'), ('automation', 'NN'), ('.', '.')]), Tree('S', [Tree('GPE', [('Provide', 'NNP')]), ('retraining', 'NN'), ('and', 'CC'), ('upskilling', 'JJ'), ('opportunities', 'NNS'), ('tailored', 'VBN'), ('to', 'TO'), ('their', 'PRP$'), ('existing', 'VBG'), ('skills', 'NNS'), ('and', 'CC'), ('the', 'DT'), ('evolving', 'VBG'), ('job', 'NN'), ('market', 'NN'), ('.', '.')]), Tree('S', [Tree('GPE', [('Accessibility', 'NNP')]), ('and', 'CC'), Tree('GPE', [('Inclusivity', 'NNP')]), (':', ':'), ('Ensure', 'NN'), ('that', 'IN'), ('education', 'NN'), ('and', 'CC'), ('training', 'NN'), ('programs', 'NNS'), ('are', 'VBP'), ('accessible', 'JJ'), ('to', 'TO'), ('all', 'DT'), ('individuals', 'NNS'), (',', ','), ('regardless', 'RB'), ('of', 'IN'), ('background', 'NN'), ('or', 'CC'), ('physical', 'JJ'), ('abilities', 'NNS'), ('.', '.')]), Tree('S', [('This', 'DT'), ('promotes', 'VBZ'), ('diversity', 'NN'), ('in', 'IN'), ('the', 'DT'), ('workforce', 'NN'), ('.', '.')]), Tree('S', [('Continuous', 'JJ'), Tree('ORGANIZATION', [('Assessment', 'NNP')]), ('and', 'CC'), Tree('PERSON', [('Feedback', 'NNP')]), (':', ':'), ('Regularly', 'RB'), ('assess', 'IN'), ('the', 'DT'), ('effectiveness', 'NN'), ('of', 'IN'), ('education', 'NN'), ('and', 'CC'), ('training', 'NN'), ('programs', 'NNS'), ('and', 'CC'), ('gather', 'VB'), ('feedback', 'NN'), ('from', 'IN'), ('employers', 'NNS'), ('and', 'CC'), ('students', 'NNS'), ('to', 'TO'), ('make', 'VB'), ('necessary', 'JJ'), ('adjustments', 'NNS'), ('.', '.')]), Tree('S', [('In', 'IN'), ('summary', 'JJ'), (',', ','), ('adapting', 'VBG'), ('education', 'NN'), ('and', 'CC'), ('training', 'NN'), ('programs', 'NNS'), ('for', 'IN'), ('an', 'DT'), ('automated', 'JJ'), ('economy', 'NN'), ('involves', 'VBZ'), ('a', 'DT'), ('comprehensive', 'JJ'), ('approach', 'NN'), ('that', 'WDT'), ('combines', 'VBZ'), ('technical', 'JJ'), ('skills', 'NNS'), (',', ','), ('soft', 'JJ'), ('skills', 'NNS'), (',', ','), ('industry', 'NN'), ('collaboration', 'NN'), (',', ','), ('and', 'CC'), ('a', 'DT'), ('commitment', 'NN'), ('to', 'TO'), ('lifelong', 'VB'), ('learning', 'NN'), ('.', '.')]), Tree('S', [('It', 'PRP'), ('requires', 'VBZ'), ('a', 'DT'), ('proactive', 'JJ'), ('effort', 'NN'), ('to', 'TO'), ('ensure', 'VB'), ('that', 'IN'), ('the', 'DT'), ('workforce', 'NN'), ('remains', 'VBZ'), ('adaptable', 'JJ'), ('and', 'CC'), ('competitive', 'JJ'), ('in', 'IN'), ('the', 'DT'), ('face', 'NN'), ('of', 'IN'), ('technological', 'JJ'), ('change', 'NN'), ('.', '.')])]\n"
     ]
    },
    {
     "data": {
      "application/vnd.plotly.v1+json": {
       "config": {
        "plotlyServerURL": "https://plot.ly"
       },
       "data": [
        {
         "hoverinfo": "none",
         "line": {
          "width": 0.5
         },
         "mode": "lines",
         "type": "scatter",
         "x": [
          -0.4452371171914553,
          -0.35941353455141556,
          null,
          -0.35941353455141556,
          -0.2852224899459226,
          null,
          -0.2852224899459226,
          -0.2547953055778204,
          null,
          -0.2547953055778204,
          -0.27700561289556136,
          null,
          -0.27700561289556136,
          -0.33187134665577367,
          null,
          -0.33187134665577367,
          -0.2634274142715539,
          null,
          -0.2634274142715539,
          -0.17624373715868857,
          null,
          -0.17624373715868857,
          -0.08913795786600592,
          null,
          -0.08913795786600592,
          -0.00691686889102897,
          null,
          -0.00691686889102897,
          0.036305820831175915,
          null,
          0.036305820831175915,
          -0.028263071716645112,
          null,
          -0.028263071716645112,
          -0.1229656121186243,
          null,
          -0.1229656121186243,
          0.03393764652016449,
          null,
          -0.1229656121186243,
          -0.27700561289556136,
          null,
          0.03393764652016449,
          -0.08728834575332346,
          null,
          -0.08728834575332346,
          -0.18674602521173528,
          null,
          -0.18674602521173528,
          -0.19671204592768546,
          null,
          -0.19671204592768546,
          -0.101930736049917,
          null,
          -0.101930736049917,
          0.05061867059437638,
          null,
          0.05061867059437638,
          0.23631534058026718,
          null,
          0.23631534058026718,
          0.26113642777042156,
          null,
          0.26113642777042156,
          0.18171817597143214,
          null,
          0.18171817597143214,
          0.10051386027315494,
          null,
          0.10051386027315494,
          0.02229518533914314,
          null,
          0.02229518533914314,
          -0.05268937083046691,
          null,
          -0.05268937083046691,
          -0.16083525085579808,
          null,
          -0.16083525085579808,
          -0.1575400004472906,
          null,
          -0.1575400004472906,
          -0.11504659169663506,
          null,
          -0.11504659169663506,
          -0.1167704254935118,
          null,
          -0.1167704254935118,
          -0.19247301066332437,
          null,
          -0.19247301066332437,
          -0.2750617570700008,
          null,
          -0.2750617570700008,
          -0.26719729379346285,
          null,
          -0.26719729379346285,
          -0.23320809300125725,
          null,
          -0.23320809300125725,
          -0.19605873921402966,
          null,
          -0.19605873921402966,
          -0.08903634135296314,
          null,
          -0.08903634135296314,
          0.09606224404919916,
          null,
          -0.08903634135296314,
          -0.27700561289556136,
          null,
          0.09606224404919916,
          -0.018608571020725453,
          null,
          0.09606224404919916,
          -0.101930736049917,
          null,
          0.09606224404919916,
          0.23631534058026718,
          null,
          0.09606224404919916,
          0.26113642777042156,
          null,
          0.09606224404919916,
          0.18171817597143214,
          null,
          -0.018608571020725453,
          -0.09124165915320812,
          null,
          -0.09124165915320812,
          0.012907813690501887,
          null,
          -0.09124165915320812,
          -0.19671204592768546,
          null,
          0.012907813690501887,
          0.26954129188126114,
          null,
          0.012907813690501887,
          -0.27700561289556136,
          null,
          0.26954129188126114,
          0.16725434772094483,
          null,
          0.16725434772094483,
          0.06289676602745305,
          null,
          0.06289676602745305,
          -0.01730939954910613,
          null,
          0.06289676602745305,
          0.10051386027315494,
          null,
          -0.01730939954910613,
          0.09521120557578595,
          null,
          -0.01730939954910613,
          -0.16083525085579808,
          null,
          0.09521120557578595,
          -0.11217202874681899,
          null,
          0.09521120557578595,
          0.26954129188126114,
          null,
          -0.11217202874681899,
          0.06456370584166292,
          null,
          -0.11217202874681899,
          -0.26719729379346285,
          null,
          0.06456370584166292,
          0.20178711451938738,
          null,
          0.06456370584166292,
          -0.08728834575332346,
          null,
          0.20178711451938738,
          0.23750737952264303,
          null,
          0.23750737952264303,
          0.3100533457517003,
          null,
          0.3100533457517003,
          0.46748250736494706,
          null,
          0.46748250736494706,
          0.6127334220263946,
          null,
          0.6127334220263946,
          0.7875834828197393,
          null,
          0.7875834828197393,
          0.9999999999999999,
          null
         ],
         "y": [
          0.13224188398223655,
          0.06111913943357014,
          null,
          0.06111913943357014,
          -0.030838651625969077,
          null,
          -0.030838651625969077,
          -0.1799721837123846,
          null,
          -0.1799721837123846,
          -0.34387640450298523,
          null,
          -0.34387640450298523,
          -0.4787535253246814,
          null,
          -0.4787535253246814,
          -0.41444545447189585,
          null,
          -0.41444545447189585,
          -0.3620579166079868,
          null,
          -0.3620579166079868,
          -0.32615433927257104,
          null,
          -0.32615433927257104,
          -0.3082859193324516,
          null,
          -0.3082859193324516,
          -0.30206965628671395,
          null,
          -0.30206965628671395,
          -0.2212878001780562,
          null,
          -0.2212878001780562,
          -0.20020207714725083,
          null,
          -0.20020207714725083,
          -0.035307996825144836,
          null,
          -0.20020207714725083,
          -0.34387640450298523,
          null,
          -0.035307996825144836,
          0.017979496093020728,
          null,
          0.017979496093020728,
          0.1182873167376681,
          null,
          0.1182873167376681,
          0.2423474800274147,
          null,
          0.2423474800274147,
          0.36378434936418846,
          null,
          0.36378434936418846,
          0.4437065585935349,
          null,
          0.4437065585935349,
          0.4839029175297921,
          null,
          0.4839029175297921,
          0.3915486106314449,
          null,
          0.3915486106314449,
          0.3133988755159795,
          null,
          0.3133988755159795,
          0.219783758622157,
          null,
          0.219783758622157,
          0.10062705248057424,
          null,
          0.10062705248057424,
          -0.03968893020204542,
          null,
          -0.03968893020204542,
          -0.09446566749816197,
          null,
          -0.09446566749816197,
          0.0185387575767755,
          null,
          0.0185387575767755,
          0.14027169161875302,
          null,
          0.14027169161875302,
          0.28131175828200683,
          null,
          0.28131175828200683,
          0.40877831024373346,
          null,
          0.40877831024373346,
          0.3507122179051037,
          null,
          0.3507122179051037,
          0.2155444844524234,
          null,
          0.2155444844524234,
          0.09768431716259862,
          null,
          0.09768431716259862,
          -0.015686867493135356,
          null,
          -0.015686867493135356,
          -0.011377312333424625,
          null,
          -0.011377312333424625,
          0.3320153394459353,
          null,
          -0.011377312333424625,
          -0.34387640450298523,
          null,
          0.3320153394459353,
          0.11188446378841647,
          null,
          0.3320153394459353,
          0.36378434936418846,
          null,
          0.3320153394459353,
          0.4839029175297921,
          null,
          0.3320153394459353,
          0.3915486106314449,
          null,
          0.3320153394459353,
          0.3133988755159795,
          null,
          0.11188446378841647,
          0.09999073014523217,
          null,
          0.09999073014523217,
          -0.058921474788335995,
          null,
          0.09999073014523217,
          0.2423474800274147,
          null,
          -0.058921474788335995,
          0.2052870563940188,
          null,
          -0.058921474788335995,
          -0.34387640450298523,
          null,
          0.2052870563940188,
          0.1613505946860551,
          null,
          0.1613505946860551,
          0.11798505236921238,
          null,
          0.11798505236921238,
          0.00044808274033951526,
          null,
          0.11798505236921238,
          0.219783758622157,
          null,
          0.00044808274033951526,
          0.10708710361827874,
          null,
          0.00044808274033951526,
          -0.09446566749816197,
          null,
          0.10708710361827874,
          0.011569952904928125,
          null,
          0.10708710361827874,
          0.2052870563940188,
          null,
          0.011569952904928125,
          -0.18671388817238307,
          null,
          0.011569952904928125,
          0.2155444844524234,
          null,
          -0.18671388817238307,
          -0.38179143423327133,
          null,
          -0.18671388817238307,
          0.017979496093020728,
          null,
          -0.38179143423327133,
          -0.2827688092110631,
          null,
          -0.2827688092110631,
          -0.20841877509377746,
          null,
          -0.20841877509377746,
          -0.19487442681366945,
          null,
          -0.19487442681366945,
          -0.21943328461925776,
          null,
          -0.21943328461925776,
          -0.28242394695825856,
          null,
          -0.28242394695825856,
          -0.36937060964051627,
          null
         ]
        },
        {
         "hoverinfo": "text",
         "marker": {
          "showscale": true,
          "size": 10
         },
         "mode": "markers",
         "text": [
          "Entity: Labor Displacement<br>Label: PERSON",
          "Entity: Skill Shift<br>Label: PERSON",
          "Entity: Industry Transformation<br>Label: ORGANIZATION",
          "Entity: Economic Growth<br>Label: ORGANIZATION",
          "Entity: Education<br>Label: GPE",
          "Entity: Training<br>Label: ORGANIZATION",
          "Entity: Policy<br>Label: PERSON",
          "Entity: Job<br>Label: ORGANIZATION",
          "Entity: New Jobs<br>Label: GPE",
          "Entity: Shift<br>Label: GPE",
          "Entity: Skill<br>Label: GPE",
          "Entity: Income<br>Label: GPE",
          "Entity: Inequality<br>Label: ORGANIZATION",
          "Entity: Mitigate Job<br>Label: ORGANIZATION",
          "Entity: Support<br>Label: GPE",
          "Entity: Transition Assistance<br>Label: ORGANIZATION",
          "Entity: Promote<br>Label: PERSON",
          "Entity: STEM<br>Label: ORGANIZATION",
          "Entity: Science<br>Label: GPE",
          "Entity: Technology<br>Label: GPE",
          "Entity: Engineering<br>Label: GPE",
          "Entity: Mathematics<br>Label: GPE",
          "Entity: Develop<br>Label: PERSON",
          "Entity: Safety Nets<br>Label: PERSON",
          "Entity: Collaboration<br>Label: GPE",
          "Entity: Industry<br>Label: GPE",
          "Entity: Encourage<br>Label: GPE",
          "Entity: Entrepreneurship<br>Label: PERSON",
          "Entity: Labor<br>Label: ORGANIZATION",
          "Entity: Tax<br>Label: GPE",
          "Entity: Incentives<br>Label: ORGANIZATION",
          "Entity: Ethical<br>Label: GPE",
          "Entity: AI<br>Label: ORGANIZATION",
          "Entity: Automation<br>Label: ORGANIZATION",
          "Entity: Emphasize Digital Literacy<br>Label: PERSON",
          "Entity: Digital<br>Label: ORGANIZATION",
          "Entity: Integrate<br>Label: ORGANIZATION",
          "Entity: Offer Coding<br>Label: PERSON",
          "Entity: Computer Science<br>Label: ORGANIZATION",
          "Entity: Soft<br>Label: PERSON",
          "Entity: Lifelong<br>Label: GPE",
          "Entity: Offer<br>Label: GPE",
          "Entity: Customized<br>Label: PERSON",
          "Entity: Incorporate<br>Label: GPE",
          "Entity: Partnerships<br>Label: ORGANIZATION",
          "Entity: Skills<br>Label: ORGANIZATION",
          "Entity: Responsible<br>Label: ORGANIZATION",
          "Entity: Displaced Workers<br>Label: ORGANIZATION",
          "Entity: Provide<br>Label: GPE",
          "Entity: Accessibility<br>Label: GPE",
          "Entity: Inclusivity<br>Label: GPE",
          "Entity: Assessment<br>Label: ORGANIZATION",
          "Entity: Feedback<br>Label: PERSON"
         ],
         "type": "scatter",
         "x": [
          -0.4452371171914553,
          -0.35941353455141556,
          -0.2852224899459226,
          -0.2547953055778204,
          -0.27700561289556136,
          -0.33187134665577367,
          -0.2634274142715539,
          -0.17624373715868857,
          -0.08913795786600592,
          -0.00691686889102897,
          0.036305820831175915,
          -0.028263071716645112,
          -0.1229656121186243,
          0.03393764652016449,
          -0.08728834575332346,
          -0.18674602521173528,
          -0.19671204592768546,
          -0.101930736049917,
          0.05061867059437638,
          0.23631534058026718,
          0.26113642777042156,
          0.18171817597143214,
          0.10051386027315494,
          0.02229518533914314,
          -0.05268937083046691,
          -0.16083525085579808,
          -0.1575400004472906,
          -0.11504659169663506,
          -0.1167704254935118,
          -0.19247301066332437,
          -0.2750617570700008,
          -0.26719729379346285,
          -0.23320809300125725,
          -0.19605873921402966,
          -0.08903634135296314,
          0.09606224404919916,
          -0.018608571020725453,
          -0.09124165915320812,
          0.012907813690501887,
          0.26954129188126114,
          0.16725434772094483,
          0.06289676602745305,
          -0.01730939954910613,
          0.09521120557578595,
          -0.11217202874681899,
          0.06456370584166292,
          0.20178711451938738,
          0.23750737952264303,
          0.3100533457517003,
          0.46748250736494706,
          0.6127334220263946,
          0.7875834828197393,
          0.9999999999999999
         ],
         "y": [
          0.13224188398223655,
          0.06111913943357014,
          -0.030838651625969077,
          -0.1799721837123846,
          -0.34387640450298523,
          -0.4787535253246814,
          -0.41444545447189585,
          -0.3620579166079868,
          -0.32615433927257104,
          -0.3082859193324516,
          -0.30206965628671395,
          -0.2212878001780562,
          -0.20020207714725083,
          -0.035307996825144836,
          0.017979496093020728,
          0.1182873167376681,
          0.2423474800274147,
          0.36378434936418846,
          0.4437065585935349,
          0.4839029175297921,
          0.3915486106314449,
          0.3133988755159795,
          0.219783758622157,
          0.10062705248057424,
          -0.03968893020204542,
          -0.09446566749816197,
          0.0185387575767755,
          0.14027169161875302,
          0.28131175828200683,
          0.40877831024373346,
          0.3507122179051037,
          0.2155444844524234,
          0.09768431716259862,
          -0.015686867493135356,
          -0.011377312333424625,
          0.3320153394459353,
          0.11188446378841647,
          0.09999073014523217,
          -0.058921474788335995,
          0.2052870563940188,
          0.1613505946860551,
          0.11798505236921238,
          0.00044808274033951526,
          0.10708710361827874,
          0.011569952904928125,
          -0.18671388817238307,
          -0.38179143423327133,
          -0.2827688092110631,
          -0.20841877509377746,
          -0.19487442681366945,
          -0.21943328461925776,
          -0.28242394695825856,
          -0.36937060964051627
         ]
        }
       ],
       "layout": {
        "hovermode": "closest",
        "margin": {
         "b": 0,
         "l": 0,
         "r": 0,
         "t": 40
        },
        "showlegend": false,
        "template": {
         "data": {
          "bar": [
           {
            "error_x": {
             "color": "#2a3f5f"
            },
            "error_y": {
             "color": "#2a3f5f"
            },
            "marker": {
             "line": {
              "color": "#E5ECF6",
              "width": 0.5
             },
             "pattern": {
              "fillmode": "overlay",
              "size": 10,
              "solidity": 0.2
             }
            },
            "type": "bar"
           }
          ],
          "barpolar": [
           {
            "marker": {
             "line": {
              "color": "#E5ECF6",
              "width": 0.5
             },
             "pattern": {
              "fillmode": "overlay",
              "size": 10,
              "solidity": 0.2
             }
            },
            "type": "barpolar"
           }
          ],
          "carpet": [
           {
            "aaxis": {
             "endlinecolor": "#2a3f5f",
             "gridcolor": "white",
             "linecolor": "white",
             "minorgridcolor": "white",
             "startlinecolor": "#2a3f5f"
            },
            "baxis": {
             "endlinecolor": "#2a3f5f",
             "gridcolor": "white",
             "linecolor": "white",
             "minorgridcolor": "white",
             "startlinecolor": "#2a3f5f"
            },
            "type": "carpet"
           }
          ],
          "choropleth": [
           {
            "colorbar": {
             "outlinewidth": 0,
             "ticks": ""
            },
            "type": "choropleth"
           }
          ],
          "contour": [
           {
            "colorbar": {
             "outlinewidth": 0,
             "ticks": ""
            },
            "colorscale": [
             [
              0,
              "#0d0887"
             ],
             [
              0.1111111111111111,
              "#46039f"
             ],
             [
              0.2222222222222222,
              "#7201a8"
             ],
             [
              0.3333333333333333,
              "#9c179e"
             ],
             [
              0.4444444444444444,
              "#bd3786"
             ],
             [
              0.5555555555555556,
              "#d8576b"
             ],
             [
              0.6666666666666666,
              "#ed7953"
             ],
             [
              0.7777777777777778,
              "#fb9f3a"
             ],
             [
              0.8888888888888888,
              "#fdca26"
             ],
             [
              1,
              "#f0f921"
             ]
            ],
            "type": "contour"
           }
          ],
          "contourcarpet": [
           {
            "colorbar": {
             "outlinewidth": 0,
             "ticks": ""
            },
            "type": "contourcarpet"
           }
          ],
          "heatmap": [
           {
            "colorbar": {
             "outlinewidth": 0,
             "ticks": ""
            },
            "colorscale": [
             [
              0,
              "#0d0887"
             ],
             [
              0.1111111111111111,
              "#46039f"
             ],
             [
              0.2222222222222222,
              "#7201a8"
             ],
             [
              0.3333333333333333,
              "#9c179e"
             ],
             [
              0.4444444444444444,
              "#bd3786"
             ],
             [
              0.5555555555555556,
              "#d8576b"
             ],
             [
              0.6666666666666666,
              "#ed7953"
             ],
             [
              0.7777777777777778,
              "#fb9f3a"
             ],
             [
              0.8888888888888888,
              "#fdca26"
             ],
             [
              1,
              "#f0f921"
             ]
            ],
            "type": "heatmap"
           }
          ],
          "heatmapgl": [
           {
            "colorbar": {
             "outlinewidth": 0,
             "ticks": ""
            },
            "colorscale": [
             [
              0,
              "#0d0887"
             ],
             [
              0.1111111111111111,
              "#46039f"
             ],
             [
              0.2222222222222222,
              "#7201a8"
             ],
             [
              0.3333333333333333,
              "#9c179e"
             ],
             [
              0.4444444444444444,
              "#bd3786"
             ],
             [
              0.5555555555555556,
              "#d8576b"
             ],
             [
              0.6666666666666666,
              "#ed7953"
             ],
             [
              0.7777777777777778,
              "#fb9f3a"
             ],
             [
              0.8888888888888888,
              "#fdca26"
             ],
             [
              1,
              "#f0f921"
             ]
            ],
            "type": "heatmapgl"
           }
          ],
          "histogram": [
           {
            "marker": {
             "pattern": {
              "fillmode": "overlay",
              "size": 10,
              "solidity": 0.2
             }
            },
            "type": "histogram"
           }
          ],
          "histogram2d": [
           {
            "colorbar": {
             "outlinewidth": 0,
             "ticks": ""
            },
            "colorscale": [
             [
              0,
              "#0d0887"
             ],
             [
              0.1111111111111111,
              "#46039f"
             ],
             [
              0.2222222222222222,
              "#7201a8"
             ],
             [
              0.3333333333333333,
              "#9c179e"
             ],
             [
              0.4444444444444444,
              "#bd3786"
             ],
             [
              0.5555555555555556,
              "#d8576b"
             ],
             [
              0.6666666666666666,
              "#ed7953"
             ],
             [
              0.7777777777777778,
              "#fb9f3a"
             ],
             [
              0.8888888888888888,
              "#fdca26"
             ],
             [
              1,
              "#f0f921"
             ]
            ],
            "type": "histogram2d"
           }
          ],
          "histogram2dcontour": [
           {
            "colorbar": {
             "outlinewidth": 0,
             "ticks": ""
            },
            "colorscale": [
             [
              0,
              "#0d0887"
             ],
             [
              0.1111111111111111,
              "#46039f"
             ],
             [
              0.2222222222222222,
              "#7201a8"
             ],
             [
              0.3333333333333333,
              "#9c179e"
             ],
             [
              0.4444444444444444,
              "#bd3786"
             ],
             [
              0.5555555555555556,
              "#d8576b"
             ],
             [
              0.6666666666666666,
              "#ed7953"
             ],
             [
              0.7777777777777778,
              "#fb9f3a"
             ],
             [
              0.8888888888888888,
              "#fdca26"
             ],
             [
              1,
              "#f0f921"
             ]
            ],
            "type": "histogram2dcontour"
           }
          ],
          "mesh3d": [
           {
            "colorbar": {
             "outlinewidth": 0,
             "ticks": ""
            },
            "type": "mesh3d"
           }
          ],
          "parcoords": [
           {
            "line": {
             "colorbar": {
              "outlinewidth": 0,
              "ticks": ""
             }
            },
            "type": "parcoords"
           }
          ],
          "pie": [
           {
            "automargin": true,
            "type": "pie"
           }
          ],
          "scatter": [
           {
            "fillpattern": {
             "fillmode": "overlay",
             "size": 10,
             "solidity": 0.2
            },
            "type": "scatter"
           }
          ],
          "scatter3d": [
           {
            "line": {
             "colorbar": {
              "outlinewidth": 0,
              "ticks": ""
             }
            },
            "marker": {
             "colorbar": {
              "outlinewidth": 0,
              "ticks": ""
             }
            },
            "type": "scatter3d"
           }
          ],
          "scattercarpet": [
           {
            "marker": {
             "colorbar": {
              "outlinewidth": 0,
              "ticks": ""
             }
            },
            "type": "scattercarpet"
           }
          ],
          "scattergeo": [
           {
            "marker": {
             "colorbar": {
              "outlinewidth": 0,
              "ticks": ""
             }
            },
            "type": "scattergeo"
           }
          ],
          "scattergl": [
           {
            "marker": {
             "colorbar": {
              "outlinewidth": 0,
              "ticks": ""
             }
            },
            "type": "scattergl"
           }
          ],
          "scattermapbox": [
           {
            "marker": {
             "colorbar": {
              "outlinewidth": 0,
              "ticks": ""
             }
            },
            "type": "scattermapbox"
           }
          ],
          "scatterpolar": [
           {
            "marker": {
             "colorbar": {
              "outlinewidth": 0,
              "ticks": ""
             }
            },
            "type": "scatterpolar"
           }
          ],
          "scatterpolargl": [
           {
            "marker": {
             "colorbar": {
              "outlinewidth": 0,
              "ticks": ""
             }
            },
            "type": "scatterpolargl"
           }
          ],
          "scatterternary": [
           {
            "marker": {
             "colorbar": {
              "outlinewidth": 0,
              "ticks": ""
             }
            },
            "type": "scatterternary"
           }
          ],
          "surface": [
           {
            "colorbar": {
             "outlinewidth": 0,
             "ticks": ""
            },
            "colorscale": [
             [
              0,
              "#0d0887"
             ],
             [
              0.1111111111111111,
              "#46039f"
             ],
             [
              0.2222222222222222,
              "#7201a8"
             ],
             [
              0.3333333333333333,
              "#9c179e"
             ],
             [
              0.4444444444444444,
              "#bd3786"
             ],
             [
              0.5555555555555556,
              "#d8576b"
             ],
             [
              0.6666666666666666,
              "#ed7953"
             ],
             [
              0.7777777777777778,
              "#fb9f3a"
             ],
             [
              0.8888888888888888,
              "#fdca26"
             ],
             [
              1,
              "#f0f921"
             ]
            ],
            "type": "surface"
           }
          ],
          "table": [
           {
            "cells": {
             "fill": {
              "color": "#EBF0F8"
             },
             "line": {
              "color": "white"
             }
            },
            "header": {
             "fill": {
              "color": "#C8D4E3"
             },
             "line": {
              "color": "white"
             }
            },
            "type": "table"
           }
          ]
         },
         "layout": {
          "annotationdefaults": {
           "arrowcolor": "#2a3f5f",
           "arrowhead": 0,
           "arrowwidth": 1
          },
          "autotypenumbers": "strict",
          "coloraxis": {
           "colorbar": {
            "outlinewidth": 0,
            "ticks": ""
           }
          },
          "colorscale": {
           "diverging": [
            [
             0,
             "#8e0152"
            ],
            [
             0.1,
             "#c51b7d"
            ],
            [
             0.2,
             "#de77ae"
            ],
            [
             0.3,
             "#f1b6da"
            ],
            [
             0.4,
             "#fde0ef"
            ],
            [
             0.5,
             "#f7f7f7"
            ],
            [
             0.6,
             "#e6f5d0"
            ],
            [
             0.7,
             "#b8e186"
            ],
            [
             0.8,
             "#7fbc41"
            ],
            [
             0.9,
             "#4d9221"
            ],
            [
             1,
             "#276419"
            ]
           ],
           "sequential": [
            [
             0,
             "#0d0887"
            ],
            [
             0.1111111111111111,
             "#46039f"
            ],
            [
             0.2222222222222222,
             "#7201a8"
            ],
            [
             0.3333333333333333,
             "#9c179e"
            ],
            [
             0.4444444444444444,
             "#bd3786"
            ],
            [
             0.5555555555555556,
             "#d8576b"
            ],
            [
             0.6666666666666666,
             "#ed7953"
            ],
            [
             0.7777777777777778,
             "#fb9f3a"
            ],
            [
             0.8888888888888888,
             "#fdca26"
            ],
            [
             1,
             "#f0f921"
            ]
           ],
           "sequentialminus": [
            [
             0,
             "#0d0887"
            ],
            [
             0.1111111111111111,
             "#46039f"
            ],
            [
             0.2222222222222222,
             "#7201a8"
            ],
            [
             0.3333333333333333,
             "#9c179e"
            ],
            [
             0.4444444444444444,
             "#bd3786"
            ],
            [
             0.5555555555555556,
             "#d8576b"
            ],
            [
             0.6666666666666666,
             "#ed7953"
            ],
            [
             0.7777777777777778,
             "#fb9f3a"
            ],
            [
             0.8888888888888888,
             "#fdca26"
            ],
            [
             1,
             "#f0f921"
            ]
           ]
          },
          "colorway": [
           "#636efa",
           "#EF553B",
           "#00cc96",
           "#ab63fa",
           "#FFA15A",
           "#19d3f3",
           "#FF6692",
           "#B6E880",
           "#FF97FF",
           "#FECB52"
          ],
          "font": {
           "color": "#2a3f5f"
          },
          "geo": {
           "bgcolor": "white",
           "lakecolor": "white",
           "landcolor": "#E5ECF6",
           "showlakes": true,
           "showland": true,
           "subunitcolor": "white"
          },
          "hoverlabel": {
           "align": "left"
          },
          "hovermode": "closest",
          "mapbox": {
           "style": "light"
          },
          "paper_bgcolor": "white",
          "plot_bgcolor": "#E5ECF6",
          "polar": {
           "angularaxis": {
            "gridcolor": "white",
            "linecolor": "white",
            "ticks": ""
           },
           "bgcolor": "#E5ECF6",
           "radialaxis": {
            "gridcolor": "white",
            "linecolor": "white",
            "ticks": ""
           }
          },
          "scene": {
           "xaxis": {
            "backgroundcolor": "#E5ECF6",
            "gridcolor": "white",
            "gridwidth": 2,
            "linecolor": "white",
            "showbackground": true,
            "ticks": "",
            "zerolinecolor": "white"
           },
           "yaxis": {
            "backgroundcolor": "#E5ECF6",
            "gridcolor": "white",
            "gridwidth": 2,
            "linecolor": "white",
            "showbackground": true,
            "ticks": "",
            "zerolinecolor": "white"
           },
           "zaxis": {
            "backgroundcolor": "#E5ECF6",
            "gridcolor": "white",
            "gridwidth": 2,
            "linecolor": "white",
            "showbackground": true,
            "ticks": "",
            "zerolinecolor": "white"
           }
          },
          "shapedefaults": {
           "line": {
            "color": "#2a3f5f"
           }
          },
          "ternary": {
           "aaxis": {
            "gridcolor": "white",
            "linecolor": "white",
            "ticks": ""
           },
           "baxis": {
            "gridcolor": "white",
            "linecolor": "white",
            "ticks": ""
           },
           "bgcolor": "#E5ECF6",
           "caxis": {
            "gridcolor": "white",
            "linecolor": "white",
            "ticks": ""
           }
          },
          "title": {
           "x": 0.05
          },
          "xaxis": {
           "automargin": true,
           "gridcolor": "white",
           "linecolor": "white",
           "ticks": "",
           "title": {
            "standoff": 15
           },
           "zerolinecolor": "white",
           "zerolinewidth": 2
          },
          "yaxis": {
           "automargin": true,
           "gridcolor": "white",
           "linecolor": "white",
           "ticks": "",
           "title": {
            "standoff": 15
           },
           "zerolinecolor": "white",
           "zerolinewidth": 2
          }
         }
        },
        "title": {
         "text": "Named Entity Relationship Network Diagram"
        },
        "xaxis": {
         "title": {
          "text": "Entity Type"
         }
        },
        "yaxis": {
         "title": {
          "text": "Entity Frequency"
         }
        }
       }
      },
      "text/html": [
       "<div>                            <div id=\"372f4bd3-d04f-47ca-a082-6f78ca1a61b4\" class=\"plotly-graph-div\" style=\"height:525px; width:100%;\"></div>            <script type=\"text/javascript\">                require([\"plotly\"], function(Plotly) {                    window.PLOTLYENV=window.PLOTLYENV || {};                                    if (document.getElementById(\"372f4bd3-d04f-47ca-a082-6f78ca1a61b4\")) {                    Plotly.newPlot(                        \"372f4bd3-d04f-47ca-a082-6f78ca1a61b4\",                        [{\"hoverinfo\":\"none\",\"line\":{\"width\":0.5},\"mode\":\"lines\",\"x\":[-0.4452371171914553,-0.35941353455141556,null,-0.35941353455141556,-0.2852224899459226,null,-0.2852224899459226,-0.2547953055778204,null,-0.2547953055778204,-0.27700561289556136,null,-0.27700561289556136,-0.33187134665577367,null,-0.33187134665577367,-0.2634274142715539,null,-0.2634274142715539,-0.17624373715868857,null,-0.17624373715868857,-0.08913795786600592,null,-0.08913795786600592,-0.00691686889102897,null,-0.00691686889102897,0.036305820831175915,null,0.036305820831175915,-0.028263071716645112,null,-0.028263071716645112,-0.1229656121186243,null,-0.1229656121186243,0.03393764652016449,null,-0.1229656121186243,-0.27700561289556136,null,0.03393764652016449,-0.08728834575332346,null,-0.08728834575332346,-0.18674602521173528,null,-0.18674602521173528,-0.19671204592768546,null,-0.19671204592768546,-0.101930736049917,null,-0.101930736049917,0.05061867059437638,null,0.05061867059437638,0.23631534058026718,null,0.23631534058026718,0.26113642777042156,null,0.26113642777042156,0.18171817597143214,null,0.18171817597143214,0.10051386027315494,null,0.10051386027315494,0.02229518533914314,null,0.02229518533914314,-0.05268937083046691,null,-0.05268937083046691,-0.16083525085579808,null,-0.16083525085579808,-0.1575400004472906,null,-0.1575400004472906,-0.11504659169663506,null,-0.11504659169663506,-0.1167704254935118,null,-0.1167704254935118,-0.19247301066332437,null,-0.19247301066332437,-0.2750617570700008,null,-0.2750617570700008,-0.26719729379346285,null,-0.26719729379346285,-0.23320809300125725,null,-0.23320809300125725,-0.19605873921402966,null,-0.19605873921402966,-0.08903634135296314,null,-0.08903634135296314,0.09606224404919916,null,-0.08903634135296314,-0.27700561289556136,null,0.09606224404919916,-0.018608571020725453,null,0.09606224404919916,-0.101930736049917,null,0.09606224404919916,0.23631534058026718,null,0.09606224404919916,0.26113642777042156,null,0.09606224404919916,0.18171817597143214,null,-0.018608571020725453,-0.09124165915320812,null,-0.09124165915320812,0.012907813690501887,null,-0.09124165915320812,-0.19671204592768546,null,0.012907813690501887,0.26954129188126114,null,0.012907813690501887,-0.27700561289556136,null,0.26954129188126114,0.16725434772094483,null,0.16725434772094483,0.06289676602745305,null,0.06289676602745305,-0.01730939954910613,null,0.06289676602745305,0.10051386027315494,null,-0.01730939954910613,0.09521120557578595,null,-0.01730939954910613,-0.16083525085579808,null,0.09521120557578595,-0.11217202874681899,null,0.09521120557578595,0.26954129188126114,null,-0.11217202874681899,0.06456370584166292,null,-0.11217202874681899,-0.26719729379346285,null,0.06456370584166292,0.20178711451938738,null,0.06456370584166292,-0.08728834575332346,null,0.20178711451938738,0.23750737952264303,null,0.23750737952264303,0.3100533457517003,null,0.3100533457517003,0.46748250736494706,null,0.46748250736494706,0.6127334220263946,null,0.6127334220263946,0.7875834828197393,null,0.7875834828197393,0.9999999999999999,null],\"y\":[0.13224188398223655,0.06111913943357014,null,0.06111913943357014,-0.030838651625969077,null,-0.030838651625969077,-0.1799721837123846,null,-0.1799721837123846,-0.34387640450298523,null,-0.34387640450298523,-0.4787535253246814,null,-0.4787535253246814,-0.41444545447189585,null,-0.41444545447189585,-0.3620579166079868,null,-0.3620579166079868,-0.32615433927257104,null,-0.32615433927257104,-0.3082859193324516,null,-0.3082859193324516,-0.30206965628671395,null,-0.30206965628671395,-0.2212878001780562,null,-0.2212878001780562,-0.20020207714725083,null,-0.20020207714725083,-0.035307996825144836,null,-0.20020207714725083,-0.34387640450298523,null,-0.035307996825144836,0.017979496093020728,null,0.017979496093020728,0.1182873167376681,null,0.1182873167376681,0.2423474800274147,null,0.2423474800274147,0.36378434936418846,null,0.36378434936418846,0.4437065585935349,null,0.4437065585935349,0.4839029175297921,null,0.4839029175297921,0.3915486106314449,null,0.3915486106314449,0.3133988755159795,null,0.3133988755159795,0.219783758622157,null,0.219783758622157,0.10062705248057424,null,0.10062705248057424,-0.03968893020204542,null,-0.03968893020204542,-0.09446566749816197,null,-0.09446566749816197,0.0185387575767755,null,0.0185387575767755,0.14027169161875302,null,0.14027169161875302,0.28131175828200683,null,0.28131175828200683,0.40877831024373346,null,0.40877831024373346,0.3507122179051037,null,0.3507122179051037,0.2155444844524234,null,0.2155444844524234,0.09768431716259862,null,0.09768431716259862,-0.015686867493135356,null,-0.015686867493135356,-0.011377312333424625,null,-0.011377312333424625,0.3320153394459353,null,-0.011377312333424625,-0.34387640450298523,null,0.3320153394459353,0.11188446378841647,null,0.3320153394459353,0.36378434936418846,null,0.3320153394459353,0.4839029175297921,null,0.3320153394459353,0.3915486106314449,null,0.3320153394459353,0.3133988755159795,null,0.11188446378841647,0.09999073014523217,null,0.09999073014523217,-0.058921474788335995,null,0.09999073014523217,0.2423474800274147,null,-0.058921474788335995,0.2052870563940188,null,-0.058921474788335995,-0.34387640450298523,null,0.2052870563940188,0.1613505946860551,null,0.1613505946860551,0.11798505236921238,null,0.11798505236921238,0.00044808274033951526,null,0.11798505236921238,0.219783758622157,null,0.00044808274033951526,0.10708710361827874,null,0.00044808274033951526,-0.09446566749816197,null,0.10708710361827874,0.011569952904928125,null,0.10708710361827874,0.2052870563940188,null,0.011569952904928125,-0.18671388817238307,null,0.011569952904928125,0.2155444844524234,null,-0.18671388817238307,-0.38179143423327133,null,-0.18671388817238307,0.017979496093020728,null,-0.38179143423327133,-0.2827688092110631,null,-0.2827688092110631,-0.20841877509377746,null,-0.20841877509377746,-0.19487442681366945,null,-0.19487442681366945,-0.21943328461925776,null,-0.21943328461925776,-0.28242394695825856,null,-0.28242394695825856,-0.36937060964051627,null],\"type\":\"scatter\"},{\"hoverinfo\":\"text\",\"marker\":{\"showscale\":true,\"size\":10},\"mode\":\"markers\",\"text\":[\"Entity: Labor Displacement<br>Label: PERSON\",\"Entity: Skill Shift<br>Label: PERSON\",\"Entity: Industry Transformation<br>Label: ORGANIZATION\",\"Entity: Economic Growth<br>Label: ORGANIZATION\",\"Entity: Education<br>Label: GPE\",\"Entity: Training<br>Label: ORGANIZATION\",\"Entity: Policy<br>Label: PERSON\",\"Entity: Job<br>Label: ORGANIZATION\",\"Entity: New Jobs<br>Label: GPE\",\"Entity: Shift<br>Label: GPE\",\"Entity: Skill<br>Label: GPE\",\"Entity: Income<br>Label: GPE\",\"Entity: Inequality<br>Label: ORGANIZATION\",\"Entity: Mitigate Job<br>Label: ORGANIZATION\",\"Entity: Support<br>Label: GPE\",\"Entity: Transition Assistance<br>Label: ORGANIZATION\",\"Entity: Promote<br>Label: PERSON\",\"Entity: STEM<br>Label: ORGANIZATION\",\"Entity: Science<br>Label: GPE\",\"Entity: Technology<br>Label: GPE\",\"Entity: Engineering<br>Label: GPE\",\"Entity: Mathematics<br>Label: GPE\",\"Entity: Develop<br>Label: PERSON\",\"Entity: Safety Nets<br>Label: PERSON\",\"Entity: Collaboration<br>Label: GPE\",\"Entity: Industry<br>Label: GPE\",\"Entity: Encourage<br>Label: GPE\",\"Entity: Entrepreneurship<br>Label: PERSON\",\"Entity: Labor<br>Label: ORGANIZATION\",\"Entity: Tax<br>Label: GPE\",\"Entity: Incentives<br>Label: ORGANIZATION\",\"Entity: Ethical<br>Label: GPE\",\"Entity: AI<br>Label: ORGANIZATION\",\"Entity: Automation<br>Label: ORGANIZATION\",\"Entity: Emphasize Digital Literacy<br>Label: PERSON\",\"Entity: Digital<br>Label: ORGANIZATION\",\"Entity: Integrate<br>Label: ORGANIZATION\",\"Entity: Offer Coding<br>Label: PERSON\",\"Entity: Computer Science<br>Label: ORGANIZATION\",\"Entity: Soft<br>Label: PERSON\",\"Entity: Lifelong<br>Label: GPE\",\"Entity: Offer<br>Label: GPE\",\"Entity: Customized<br>Label: PERSON\",\"Entity: Incorporate<br>Label: GPE\",\"Entity: Partnerships<br>Label: ORGANIZATION\",\"Entity: Skills<br>Label: ORGANIZATION\",\"Entity: Responsible<br>Label: ORGANIZATION\",\"Entity: Displaced Workers<br>Label: ORGANIZATION\",\"Entity: Provide<br>Label: GPE\",\"Entity: Accessibility<br>Label: GPE\",\"Entity: Inclusivity<br>Label: GPE\",\"Entity: Assessment<br>Label: ORGANIZATION\",\"Entity: Feedback<br>Label: PERSON\"],\"x\":[-0.4452371171914553,-0.35941353455141556,-0.2852224899459226,-0.2547953055778204,-0.27700561289556136,-0.33187134665577367,-0.2634274142715539,-0.17624373715868857,-0.08913795786600592,-0.00691686889102897,0.036305820831175915,-0.028263071716645112,-0.1229656121186243,0.03393764652016449,-0.08728834575332346,-0.18674602521173528,-0.19671204592768546,-0.101930736049917,0.05061867059437638,0.23631534058026718,0.26113642777042156,0.18171817597143214,0.10051386027315494,0.02229518533914314,-0.05268937083046691,-0.16083525085579808,-0.1575400004472906,-0.11504659169663506,-0.1167704254935118,-0.19247301066332437,-0.2750617570700008,-0.26719729379346285,-0.23320809300125725,-0.19605873921402966,-0.08903634135296314,0.09606224404919916,-0.018608571020725453,-0.09124165915320812,0.012907813690501887,0.26954129188126114,0.16725434772094483,0.06289676602745305,-0.01730939954910613,0.09521120557578595,-0.11217202874681899,0.06456370584166292,0.20178711451938738,0.23750737952264303,0.3100533457517003,0.46748250736494706,0.6127334220263946,0.7875834828197393,0.9999999999999999],\"y\":[0.13224188398223655,0.06111913943357014,-0.030838651625969077,-0.1799721837123846,-0.34387640450298523,-0.4787535253246814,-0.41444545447189585,-0.3620579166079868,-0.32615433927257104,-0.3082859193324516,-0.30206965628671395,-0.2212878001780562,-0.20020207714725083,-0.035307996825144836,0.017979496093020728,0.1182873167376681,0.2423474800274147,0.36378434936418846,0.4437065585935349,0.4839029175297921,0.3915486106314449,0.3133988755159795,0.219783758622157,0.10062705248057424,-0.03968893020204542,-0.09446566749816197,0.0185387575767755,0.14027169161875302,0.28131175828200683,0.40877831024373346,0.3507122179051037,0.2155444844524234,0.09768431716259862,-0.015686867493135356,-0.011377312333424625,0.3320153394459353,0.11188446378841647,0.09999073014523217,-0.058921474788335995,0.2052870563940188,0.1613505946860551,0.11798505236921238,0.00044808274033951526,0.10708710361827874,0.011569952904928125,-0.18671388817238307,-0.38179143423327133,-0.2827688092110631,-0.20841877509377746,-0.19487442681366945,-0.21943328461925776,-0.28242394695825856,-0.36937060964051627],\"type\":\"scatter\"}],                        {\"hovermode\":\"closest\",\"margin\":{\"b\":0,\"l\":0,\"r\":0,\"t\":40},\"showlegend\":false,\"title\":{\"text\":\"Named Entity Relationship Network Diagram\"},\"xaxis\":{\"title\":{\"text\":\"Entity Type\"}},\"yaxis\":{\"title\":{\"text\":\"Entity Frequency\"}},\"template\":{\"data\":{\"histogram2dcontour\":[{\"type\":\"histogram2dcontour\",\"colorbar\":{\"outlinewidth\":0,\"ticks\":\"\"},\"colorscale\":[[0.0,\"#0d0887\"],[0.1111111111111111,\"#46039f\"],[0.2222222222222222,\"#7201a8\"],[0.3333333333333333,\"#9c179e\"],[0.4444444444444444,\"#bd3786\"],[0.5555555555555556,\"#d8576b\"],[0.6666666666666666,\"#ed7953\"],[0.7777777777777778,\"#fb9f3a\"],[0.8888888888888888,\"#fdca26\"],[1.0,\"#f0f921\"]]}],\"choropleth\":[{\"type\":\"choropleth\",\"colorbar\":{\"outlinewidth\":0,\"ticks\":\"\"}}],\"histogram2d\":[{\"type\":\"histogram2d\",\"colorbar\":{\"outlinewidth\":0,\"ticks\":\"\"},\"colorscale\":[[0.0,\"#0d0887\"],[0.1111111111111111,\"#46039f\"],[0.2222222222222222,\"#7201a8\"],[0.3333333333333333,\"#9c179e\"],[0.4444444444444444,\"#bd3786\"],[0.5555555555555556,\"#d8576b\"],[0.6666666666666666,\"#ed7953\"],[0.7777777777777778,\"#fb9f3a\"],[0.8888888888888888,\"#fdca26\"],[1.0,\"#f0f921\"]]}],\"heatmap\":[{\"type\":\"heatmap\",\"colorbar\":{\"outlinewidth\":0,\"ticks\":\"\"},\"colorscale\":[[0.0,\"#0d0887\"],[0.1111111111111111,\"#46039f\"],[0.2222222222222222,\"#7201a8\"],[0.3333333333333333,\"#9c179e\"],[0.4444444444444444,\"#bd3786\"],[0.5555555555555556,\"#d8576b\"],[0.6666666666666666,\"#ed7953\"],[0.7777777777777778,\"#fb9f3a\"],[0.8888888888888888,\"#fdca26\"],[1.0,\"#f0f921\"]]}],\"heatmapgl\":[{\"type\":\"heatmapgl\",\"colorbar\":{\"outlinewidth\":0,\"ticks\":\"\"},\"colorscale\":[[0.0,\"#0d0887\"],[0.1111111111111111,\"#46039f\"],[0.2222222222222222,\"#7201a8\"],[0.3333333333333333,\"#9c179e\"],[0.4444444444444444,\"#bd3786\"],[0.5555555555555556,\"#d8576b\"],[0.6666666666666666,\"#ed7953\"],[0.7777777777777778,\"#fb9f3a\"],[0.8888888888888888,\"#fdca26\"],[1.0,\"#f0f921\"]]}],\"contourcarpet\":[{\"type\":\"contourcarpet\",\"colorbar\":{\"outlinewidth\":0,\"ticks\":\"\"}}],\"contour\":[{\"type\":\"contour\",\"colorbar\":{\"outlinewidth\":0,\"ticks\":\"\"},\"colorscale\":[[0.0,\"#0d0887\"],[0.1111111111111111,\"#46039f\"],[0.2222222222222222,\"#7201a8\"],[0.3333333333333333,\"#9c179e\"],[0.4444444444444444,\"#bd3786\"],[0.5555555555555556,\"#d8576b\"],[0.6666666666666666,\"#ed7953\"],[0.7777777777777778,\"#fb9f3a\"],[0.8888888888888888,\"#fdca26\"],[1.0,\"#f0f921\"]]}],\"surface\":[{\"type\":\"surface\",\"colorbar\":{\"outlinewidth\":0,\"ticks\":\"\"},\"colorscale\":[[0.0,\"#0d0887\"],[0.1111111111111111,\"#46039f\"],[0.2222222222222222,\"#7201a8\"],[0.3333333333333333,\"#9c179e\"],[0.4444444444444444,\"#bd3786\"],[0.5555555555555556,\"#d8576b\"],[0.6666666666666666,\"#ed7953\"],[0.7777777777777778,\"#fb9f3a\"],[0.8888888888888888,\"#fdca26\"],[1.0,\"#f0f921\"]]}],\"mesh3d\":[{\"type\":\"mesh3d\",\"colorbar\":{\"outlinewidth\":0,\"ticks\":\"\"}}],\"scatter\":[{\"fillpattern\":{\"fillmode\":\"overlay\",\"size\":10,\"solidity\":0.2},\"type\":\"scatter\"}],\"parcoords\":[{\"type\":\"parcoords\",\"line\":{\"colorbar\":{\"outlinewidth\":0,\"ticks\":\"\"}}}],\"scatterpolargl\":[{\"type\":\"scatterpolargl\",\"marker\":{\"colorbar\":{\"outlinewidth\":0,\"ticks\":\"\"}}}],\"bar\":[{\"error_x\":{\"color\":\"#2a3f5f\"},\"error_y\":{\"color\":\"#2a3f5f\"},\"marker\":{\"line\":{\"color\":\"#E5ECF6\",\"width\":0.5},\"pattern\":{\"fillmode\":\"overlay\",\"size\":10,\"solidity\":0.2}},\"type\":\"bar\"}],\"scattergeo\":[{\"type\":\"scattergeo\",\"marker\":{\"colorbar\":{\"outlinewidth\":0,\"ticks\":\"\"}}}],\"scatterpolar\":[{\"type\":\"scatterpolar\",\"marker\":{\"colorbar\":{\"outlinewidth\":0,\"ticks\":\"\"}}}],\"histogram\":[{\"marker\":{\"pattern\":{\"fillmode\":\"overlay\",\"size\":10,\"solidity\":0.2}},\"type\":\"histogram\"}],\"scattergl\":[{\"type\":\"scattergl\",\"marker\":{\"colorbar\":{\"outlinewidth\":0,\"ticks\":\"\"}}}],\"scatter3d\":[{\"type\":\"scatter3d\",\"line\":{\"colorbar\":{\"outlinewidth\":0,\"ticks\":\"\"}},\"marker\":{\"colorbar\":{\"outlinewidth\":0,\"ticks\":\"\"}}}],\"scattermapbox\":[{\"type\":\"scattermapbox\",\"marker\":{\"colorbar\":{\"outlinewidth\":0,\"ticks\":\"\"}}}],\"scatterternary\":[{\"type\":\"scatterternary\",\"marker\":{\"colorbar\":{\"outlinewidth\":0,\"ticks\":\"\"}}}],\"scattercarpet\":[{\"type\":\"scattercarpet\",\"marker\":{\"colorbar\":{\"outlinewidth\":0,\"ticks\":\"\"}}}],\"carpet\":[{\"aaxis\":{\"endlinecolor\":\"#2a3f5f\",\"gridcolor\":\"white\",\"linecolor\":\"white\",\"minorgridcolor\":\"white\",\"startlinecolor\":\"#2a3f5f\"},\"baxis\":{\"endlinecolor\":\"#2a3f5f\",\"gridcolor\":\"white\",\"linecolor\":\"white\",\"minorgridcolor\":\"white\",\"startlinecolor\":\"#2a3f5f\"},\"type\":\"carpet\"}],\"table\":[{\"cells\":{\"fill\":{\"color\":\"#EBF0F8\"},\"line\":{\"color\":\"white\"}},\"header\":{\"fill\":{\"color\":\"#C8D4E3\"},\"line\":{\"color\":\"white\"}},\"type\":\"table\"}],\"barpolar\":[{\"marker\":{\"line\":{\"color\":\"#E5ECF6\",\"width\":0.5},\"pattern\":{\"fillmode\":\"overlay\",\"size\":10,\"solidity\":0.2}},\"type\":\"barpolar\"}],\"pie\":[{\"automargin\":true,\"type\":\"pie\"}]},\"layout\":{\"autotypenumbers\":\"strict\",\"colorway\":[\"#636efa\",\"#EF553B\",\"#00cc96\",\"#ab63fa\",\"#FFA15A\",\"#19d3f3\",\"#FF6692\",\"#B6E880\",\"#FF97FF\",\"#FECB52\"],\"font\":{\"color\":\"#2a3f5f\"},\"hovermode\":\"closest\",\"hoverlabel\":{\"align\":\"left\"},\"paper_bgcolor\":\"white\",\"plot_bgcolor\":\"#E5ECF6\",\"polar\":{\"bgcolor\":\"#E5ECF6\",\"angularaxis\":{\"gridcolor\":\"white\",\"linecolor\":\"white\",\"ticks\":\"\"},\"radialaxis\":{\"gridcolor\":\"white\",\"linecolor\":\"white\",\"ticks\":\"\"}},\"ternary\":{\"bgcolor\":\"#E5ECF6\",\"aaxis\":{\"gridcolor\":\"white\",\"linecolor\":\"white\",\"ticks\":\"\"},\"baxis\":{\"gridcolor\":\"white\",\"linecolor\":\"white\",\"ticks\":\"\"},\"caxis\":{\"gridcolor\":\"white\",\"linecolor\":\"white\",\"ticks\":\"\"}},\"coloraxis\":{\"colorbar\":{\"outlinewidth\":0,\"ticks\":\"\"}},\"colorscale\":{\"sequential\":[[0.0,\"#0d0887\"],[0.1111111111111111,\"#46039f\"],[0.2222222222222222,\"#7201a8\"],[0.3333333333333333,\"#9c179e\"],[0.4444444444444444,\"#bd3786\"],[0.5555555555555556,\"#d8576b\"],[0.6666666666666666,\"#ed7953\"],[0.7777777777777778,\"#fb9f3a\"],[0.8888888888888888,\"#fdca26\"],[1.0,\"#f0f921\"]],\"sequentialminus\":[[0.0,\"#0d0887\"],[0.1111111111111111,\"#46039f\"],[0.2222222222222222,\"#7201a8\"],[0.3333333333333333,\"#9c179e\"],[0.4444444444444444,\"#bd3786\"],[0.5555555555555556,\"#d8576b\"],[0.6666666666666666,\"#ed7953\"],[0.7777777777777778,\"#fb9f3a\"],[0.8888888888888888,\"#fdca26\"],[1.0,\"#f0f921\"]],\"diverging\":[[0,\"#8e0152\"],[0.1,\"#c51b7d\"],[0.2,\"#de77ae\"],[0.3,\"#f1b6da\"],[0.4,\"#fde0ef\"],[0.5,\"#f7f7f7\"],[0.6,\"#e6f5d0\"],[0.7,\"#b8e186\"],[0.8,\"#7fbc41\"],[0.9,\"#4d9221\"],[1,\"#276419\"]]},\"xaxis\":{\"gridcolor\":\"white\",\"linecolor\":\"white\",\"ticks\":\"\",\"title\":{\"standoff\":15},\"zerolinecolor\":\"white\",\"automargin\":true,\"zerolinewidth\":2},\"yaxis\":{\"gridcolor\":\"white\",\"linecolor\":\"white\",\"ticks\":\"\",\"title\":{\"standoff\":15},\"zerolinecolor\":\"white\",\"automargin\":true,\"zerolinewidth\":2},\"scene\":{\"xaxis\":{\"backgroundcolor\":\"#E5ECF6\",\"gridcolor\":\"white\",\"linecolor\":\"white\",\"showbackground\":true,\"ticks\":\"\",\"zerolinecolor\":\"white\",\"gridwidth\":2},\"yaxis\":{\"backgroundcolor\":\"#E5ECF6\",\"gridcolor\":\"white\",\"linecolor\":\"white\",\"showbackground\":true,\"ticks\":\"\",\"zerolinecolor\":\"white\",\"gridwidth\":2},\"zaxis\":{\"backgroundcolor\":\"#E5ECF6\",\"gridcolor\":\"white\",\"linecolor\":\"white\",\"showbackground\":true,\"ticks\":\"\",\"zerolinecolor\":\"white\",\"gridwidth\":2}},\"shapedefaults\":{\"line\":{\"color\":\"#2a3f5f\"}},\"annotationdefaults\":{\"arrowcolor\":\"#2a3f5f\",\"arrowhead\":0,\"arrowwidth\":1},\"geo\":{\"bgcolor\":\"white\",\"landcolor\":\"#E5ECF6\",\"subunitcolor\":\"white\",\"showland\":true,\"showlakes\":true,\"lakecolor\":\"white\"},\"title\":{\"x\":0.05},\"mapbox\":{\"style\":\"light\"}}}},                        {\"responsive\": true}                    ).then(function(){\n",
       "                            \n",
       "var gd = document.getElementById('372f4bd3-d04f-47ca-a082-6f78ca1a61b4');\n",
       "var x = new MutationObserver(function (mutations, observer) {{\n",
       "        var display = window.getComputedStyle(gd).display;\n",
       "        if (!display || display === 'none') {{\n",
       "            console.log([gd, 'removed!']);\n",
       "            Plotly.purge(gd);\n",
       "            observer.disconnect();\n",
       "        }}\n",
       "}});\n",
       "\n",
       "// Listen for the removal of the full notebook cells\n",
       "var notebookContainer = gd.closest('#notebook-container');\n",
       "if (notebookContainer) {{\n",
       "    x.observe(notebookContainer, {childList: true});\n",
       "}}\n",
       "\n",
       "// Listen for the clearing of the current output cell\n",
       "var outputEl = gd.closest('.output');\n",
       "if (outputEl) {{\n",
       "    x.observe(outputEl, {childList: true});\n",
       "}}\n",
       "\n",
       "                        })                };                });            </script>        </div>"
      ]
     },
     "metadata": {},
     "output_type": "display_data"
    }
   ],
   "source": [
    "import nltk\n",
    "import networkx as nx\n",
    "import plotly.graph_objs as go\n",
    "from nltk.tokenize import word_tokenize, sent_tokenize\n",
    "from nltk import ne_chunk\n",
    "\n",
    "# Read text from a file\n",
    "with open('chat.txt', 'r') as file:\n",
    "    text = file.read()\n",
    "\n",
    "# Tokenize the text into sentences and words\n",
    "sentences = sent_tokenize(text)\n",
    "words = [word_tokenize(sentence) for sentence in sentences]\n",
    "\n",
    "# Perform Named Entity Recognition (NER) using NLTK's ne_chunk\n",
    "ner_tagged_sentences = [ne_chunk(nltk.pos_tag(sentence)) for sentence in words]\n",
    "print(ner_tagged_sentences)\n",
    "# Initialize a directed graph\n",
    "G = nx.DiGraph()\n",
    "\n",
    "# Extract Named Entities and their labels, and add nodes and edges to the graph\n",
    "for sentence in ner_tagged_sentences:\n",
    "    for subtree in sentence:\n",
    "        if isinstance(subtree, nltk.Tree):\n",
    "            entity = \" \".join([token for token, tag in subtree.leaves()])\n",
    "            label = subtree.label()\n",
    "            G.add_node(entity, label=label)\n",
    "            if len(G.nodes()) > 1:\n",
    "                G.add_edge(list(G.nodes())[-2], entity)\n",
    "\n",
    "# Create an interactive network diagram using Plotly\n",
    "pos = nx.spring_layout(G, seed=42)\n",
    "\n",
    "edge_trace = go.Scatter(\n",
    "    x=[],\n",
    "    y=[],\n",
    "    line=dict(width=0.5),\n",
    "    hoverinfo='none',\n",
    "    mode='lines'\n",
    ")\n",
    "\n",
    "for edge in G.edges():\n",
    "    x0, y0 = pos[edge[0]]\n",
    "    x1, y1 = pos[edge[1]]\n",
    "    edge_trace['x'] += tuple([x0, x1, None])\n",
    "    edge_trace['y'] += tuple([y0, y1, None])\n",
    "\n",
    "node_trace = go.Scatter(\n",
    "    x=[],\n",
    "    y=[],\n",
    "    text=[],\n",
    "    mode='markers',\n",
    "    hoverinfo='text',\n",
    "    marker=dict(\n",
    "        showscale=True,\n",
    "        size=10,\n",
    "    )\n",
    ")\n",
    "\n",
    "for node in G.nodes():\n",
    "    x, y = pos[node]\n",
    "    node_trace['x'] += tuple([x])\n",
    "    node_trace['y'] += tuple([y])\n",
    "    node_trace['text'] += tuple([f'Entity: {node}<br>Label: {G.nodes[node][\"label\"]}'])\n",
    "\n",
    "layout = go.Layout(\n",
    "    title=\"Named Entity Relationship Network Diagram\",\n",
    "    xaxis=dict(title=\"Entity Type\"),\n",
    "    yaxis=dict(title=\"Entity Frequency\"),\n",
    "    showlegend=False,\n",
    "    hovermode='closest',\n",
    "    margin=dict(b=0, l=0, r=0, t=40),  # Adjust the top margin for the title\n",
    ")\n",
    "\n",
    "fig = go.Figure(data=[edge_trace, node_trace], layout=layout)\n",
    "\n",
    "fig.show()\n"
   ]
  },
  {
   "cell_type": "code",
   "execution_count": 5,
   "id": "13afa49a",
   "metadata": {},
   "outputs": [
    {
     "data": {
      "application/vnd.plotly.v1+json": {
       "config": {
        "plotlyServerURL": "https://plot.ly"
       },
       "data": [
        {
         "customdata": [
          "what, that, which",
          "require, need, adopt, target, accommodate",
          "all, some, an, Those, a",
          "nets, goals, effects, Credentials, strategies",
          "To, to",
          "cybersecurity, customer, income, retrain, demand",
          "key, human, routine, specific, automatable",
          "mitigate, update, struggle, become, displaced",
          "?, .",
          "might, can, should, could, may",
          "beyond, on, between, of, throughout",
          ",",
          "or, and",
          "leading, Transitioning, supporting, Managing, declining",
          "affected, personalized, Increased, automated",
          "effectively, Here, potentially, as, often",
          ":",
          "8, 7, 3, 9, One",
          "Automation, Entire, Economic, Creation, Assistance",
          "higher, lower, better",
          "most",
          "includes, is, requires, involves, remains",
          "created, disrupted, set, displaced, distributed",
          "what, who",
          "their, its",
          "there",
          "where, how, How",
          "it, It",
          "more, better",
          "(",
          ")",
          "'",
          "Workers"
         ],
         "hovertemplate": "<b>%{label}</b><br>Count: %{value}<br>Examples: %{customdata}<extra></extra>",
         "labels": [
          null,
          null,
          "DT (Determiner)",
          null,
          null,
          "NN (Noun)",
          "JJ (Adjective)",
          "VB (Verb)",
          ". (Punctuation)",
          null,
          "IN (Preposition)",
          null,
          "CC (Conjunction)",
          null,
          null,
          "RB (Adverb)",
          null,
          null,
          null,
          null,
          null,
          null,
          null,
          null,
          null,
          null,
          null,
          "PRP (Pronoun)",
          null,
          null,
          null,
          null,
          null
         ],
         "parents": [
          "",
          "",
          "",
          "",
          "",
          "",
          "",
          "",
          "",
          "",
          "",
          "",
          "",
          "",
          "",
          "",
          "",
          "",
          "",
          "",
          "",
          "",
          "",
          "",
          "",
          "",
          "",
          "",
          "",
          "",
          "",
          "",
          ""
         ],
         "textinfo": "label+value+text",
         "type": "treemap",
         "values": [
          12,
          29,
          127,
          235,
          63,
          336,
          174,
          134,
          104,
          62,
          169,
          81,
          109,
          33,
          4,
          32,
          44,
          12,
          99,
          6,
          2,
          25,
          27,
          3,
          6,
          1,
          5,
          7,
          3,
          2,
          2,
          1,
          1
         ]
        }
       ],
       "layout": {
        "template": {
         "data": {
          "bar": [
           {
            "error_x": {
             "color": "#2a3f5f"
            },
            "error_y": {
             "color": "#2a3f5f"
            },
            "marker": {
             "line": {
              "color": "#E5ECF6",
              "width": 0.5
             },
             "pattern": {
              "fillmode": "overlay",
              "size": 10,
              "solidity": 0.2
             }
            },
            "type": "bar"
           }
          ],
          "barpolar": [
           {
            "marker": {
             "line": {
              "color": "#E5ECF6",
              "width": 0.5
             },
             "pattern": {
              "fillmode": "overlay",
              "size": 10,
              "solidity": 0.2
             }
            },
            "type": "barpolar"
           }
          ],
          "carpet": [
           {
            "aaxis": {
             "endlinecolor": "#2a3f5f",
             "gridcolor": "white",
             "linecolor": "white",
             "minorgridcolor": "white",
             "startlinecolor": "#2a3f5f"
            },
            "baxis": {
             "endlinecolor": "#2a3f5f",
             "gridcolor": "white",
             "linecolor": "white",
             "minorgridcolor": "white",
             "startlinecolor": "#2a3f5f"
            },
            "type": "carpet"
           }
          ],
          "choropleth": [
           {
            "colorbar": {
             "outlinewidth": 0,
             "ticks": ""
            },
            "type": "choropleth"
           }
          ],
          "contour": [
           {
            "colorbar": {
             "outlinewidth": 0,
             "ticks": ""
            },
            "colorscale": [
             [
              0,
              "#0d0887"
             ],
             [
              0.1111111111111111,
              "#46039f"
             ],
             [
              0.2222222222222222,
              "#7201a8"
             ],
             [
              0.3333333333333333,
              "#9c179e"
             ],
             [
              0.4444444444444444,
              "#bd3786"
             ],
             [
              0.5555555555555556,
              "#d8576b"
             ],
             [
              0.6666666666666666,
              "#ed7953"
             ],
             [
              0.7777777777777778,
              "#fb9f3a"
             ],
             [
              0.8888888888888888,
              "#fdca26"
             ],
             [
              1,
              "#f0f921"
             ]
            ],
            "type": "contour"
           }
          ],
          "contourcarpet": [
           {
            "colorbar": {
             "outlinewidth": 0,
             "ticks": ""
            },
            "type": "contourcarpet"
           }
          ],
          "heatmap": [
           {
            "colorbar": {
             "outlinewidth": 0,
             "ticks": ""
            },
            "colorscale": [
             [
              0,
              "#0d0887"
             ],
             [
              0.1111111111111111,
              "#46039f"
             ],
             [
              0.2222222222222222,
              "#7201a8"
             ],
             [
              0.3333333333333333,
              "#9c179e"
             ],
             [
              0.4444444444444444,
              "#bd3786"
             ],
             [
              0.5555555555555556,
              "#d8576b"
             ],
             [
              0.6666666666666666,
              "#ed7953"
             ],
             [
              0.7777777777777778,
              "#fb9f3a"
             ],
             [
              0.8888888888888888,
              "#fdca26"
             ],
             [
              1,
              "#f0f921"
             ]
            ],
            "type": "heatmap"
           }
          ],
          "heatmapgl": [
           {
            "colorbar": {
             "outlinewidth": 0,
             "ticks": ""
            },
            "colorscale": [
             [
              0,
              "#0d0887"
             ],
             [
              0.1111111111111111,
              "#46039f"
             ],
             [
              0.2222222222222222,
              "#7201a8"
             ],
             [
              0.3333333333333333,
              "#9c179e"
             ],
             [
              0.4444444444444444,
              "#bd3786"
             ],
             [
              0.5555555555555556,
              "#d8576b"
             ],
             [
              0.6666666666666666,
              "#ed7953"
             ],
             [
              0.7777777777777778,
              "#fb9f3a"
             ],
             [
              0.8888888888888888,
              "#fdca26"
             ],
             [
              1,
              "#f0f921"
             ]
            ],
            "type": "heatmapgl"
           }
          ],
          "histogram": [
           {
            "marker": {
             "pattern": {
              "fillmode": "overlay",
              "size": 10,
              "solidity": 0.2
             }
            },
            "type": "histogram"
           }
          ],
          "histogram2d": [
           {
            "colorbar": {
             "outlinewidth": 0,
             "ticks": ""
            },
            "colorscale": [
             [
              0,
              "#0d0887"
             ],
             [
              0.1111111111111111,
              "#46039f"
             ],
             [
              0.2222222222222222,
              "#7201a8"
             ],
             [
              0.3333333333333333,
              "#9c179e"
             ],
             [
              0.4444444444444444,
              "#bd3786"
             ],
             [
              0.5555555555555556,
              "#d8576b"
             ],
             [
              0.6666666666666666,
              "#ed7953"
             ],
             [
              0.7777777777777778,
              "#fb9f3a"
             ],
             [
              0.8888888888888888,
              "#fdca26"
             ],
             [
              1,
              "#f0f921"
             ]
            ],
            "type": "histogram2d"
           }
          ],
          "histogram2dcontour": [
           {
            "colorbar": {
             "outlinewidth": 0,
             "ticks": ""
            },
            "colorscale": [
             [
              0,
              "#0d0887"
             ],
             [
              0.1111111111111111,
              "#46039f"
             ],
             [
              0.2222222222222222,
              "#7201a8"
             ],
             [
              0.3333333333333333,
              "#9c179e"
             ],
             [
              0.4444444444444444,
              "#bd3786"
             ],
             [
              0.5555555555555556,
              "#d8576b"
             ],
             [
              0.6666666666666666,
              "#ed7953"
             ],
             [
              0.7777777777777778,
              "#fb9f3a"
             ],
             [
              0.8888888888888888,
              "#fdca26"
             ],
             [
              1,
              "#f0f921"
             ]
            ],
            "type": "histogram2dcontour"
           }
          ],
          "mesh3d": [
           {
            "colorbar": {
             "outlinewidth": 0,
             "ticks": ""
            },
            "type": "mesh3d"
           }
          ],
          "parcoords": [
           {
            "line": {
             "colorbar": {
              "outlinewidth": 0,
              "ticks": ""
             }
            },
            "type": "parcoords"
           }
          ],
          "pie": [
           {
            "automargin": true,
            "type": "pie"
           }
          ],
          "scatter": [
           {
            "fillpattern": {
             "fillmode": "overlay",
             "size": 10,
             "solidity": 0.2
            },
            "type": "scatter"
           }
          ],
          "scatter3d": [
           {
            "line": {
             "colorbar": {
              "outlinewidth": 0,
              "ticks": ""
             }
            },
            "marker": {
             "colorbar": {
              "outlinewidth": 0,
              "ticks": ""
             }
            },
            "type": "scatter3d"
           }
          ],
          "scattercarpet": [
           {
            "marker": {
             "colorbar": {
              "outlinewidth": 0,
              "ticks": ""
             }
            },
            "type": "scattercarpet"
           }
          ],
          "scattergeo": [
           {
            "marker": {
             "colorbar": {
              "outlinewidth": 0,
              "ticks": ""
             }
            },
            "type": "scattergeo"
           }
          ],
          "scattergl": [
           {
            "marker": {
             "colorbar": {
              "outlinewidth": 0,
              "ticks": ""
             }
            },
            "type": "scattergl"
           }
          ],
          "scattermapbox": [
           {
            "marker": {
             "colorbar": {
              "outlinewidth": 0,
              "ticks": ""
             }
            },
            "type": "scattermapbox"
           }
          ],
          "scatterpolar": [
           {
            "marker": {
             "colorbar": {
              "outlinewidth": 0,
              "ticks": ""
             }
            },
            "type": "scatterpolar"
           }
          ],
          "scatterpolargl": [
           {
            "marker": {
             "colorbar": {
              "outlinewidth": 0,
              "ticks": ""
             }
            },
            "type": "scatterpolargl"
           }
          ],
          "scatterternary": [
           {
            "marker": {
             "colorbar": {
              "outlinewidth": 0,
              "ticks": ""
             }
            },
            "type": "scatterternary"
           }
          ],
          "surface": [
           {
            "colorbar": {
             "outlinewidth": 0,
             "ticks": ""
            },
            "colorscale": [
             [
              0,
              "#0d0887"
             ],
             [
              0.1111111111111111,
              "#46039f"
             ],
             [
              0.2222222222222222,
              "#7201a8"
             ],
             [
              0.3333333333333333,
              "#9c179e"
             ],
             [
              0.4444444444444444,
              "#bd3786"
             ],
             [
              0.5555555555555556,
              "#d8576b"
             ],
             [
              0.6666666666666666,
              "#ed7953"
             ],
             [
              0.7777777777777778,
              "#fb9f3a"
             ],
             [
              0.8888888888888888,
              "#fdca26"
             ],
             [
              1,
              "#f0f921"
             ]
            ],
            "type": "surface"
           }
          ],
          "table": [
           {
            "cells": {
             "fill": {
              "color": "#EBF0F8"
             },
             "line": {
              "color": "white"
             }
            },
            "header": {
             "fill": {
              "color": "#C8D4E3"
             },
             "line": {
              "color": "white"
             }
            },
            "type": "table"
           }
          ]
         },
         "layout": {
          "annotationdefaults": {
           "arrowcolor": "#2a3f5f",
           "arrowhead": 0,
           "arrowwidth": 1
          },
          "autotypenumbers": "strict",
          "coloraxis": {
           "colorbar": {
            "outlinewidth": 0,
            "ticks": ""
           }
          },
          "colorscale": {
           "diverging": [
            [
             0,
             "#8e0152"
            ],
            [
             0.1,
             "#c51b7d"
            ],
            [
             0.2,
             "#de77ae"
            ],
            [
             0.3,
             "#f1b6da"
            ],
            [
             0.4,
             "#fde0ef"
            ],
            [
             0.5,
             "#f7f7f7"
            ],
            [
             0.6,
             "#e6f5d0"
            ],
            [
             0.7,
             "#b8e186"
            ],
            [
             0.8,
             "#7fbc41"
            ],
            [
             0.9,
             "#4d9221"
            ],
            [
             1,
             "#276419"
            ]
           ],
           "sequential": [
            [
             0,
             "#0d0887"
            ],
            [
             0.1111111111111111,
             "#46039f"
            ],
            [
             0.2222222222222222,
             "#7201a8"
            ],
            [
             0.3333333333333333,
             "#9c179e"
            ],
            [
             0.4444444444444444,
             "#bd3786"
            ],
            [
             0.5555555555555556,
             "#d8576b"
            ],
            [
             0.6666666666666666,
             "#ed7953"
            ],
            [
             0.7777777777777778,
             "#fb9f3a"
            ],
            [
             0.8888888888888888,
             "#fdca26"
            ],
            [
             1,
             "#f0f921"
            ]
           ],
           "sequentialminus": [
            [
             0,
             "#0d0887"
            ],
            [
             0.1111111111111111,
             "#46039f"
            ],
            [
             0.2222222222222222,
             "#7201a8"
            ],
            [
             0.3333333333333333,
             "#9c179e"
            ],
            [
             0.4444444444444444,
             "#bd3786"
            ],
            [
             0.5555555555555556,
             "#d8576b"
            ],
            [
             0.6666666666666666,
             "#ed7953"
            ],
            [
             0.7777777777777778,
             "#fb9f3a"
            ],
            [
             0.8888888888888888,
             "#fdca26"
            ],
            [
             1,
             "#f0f921"
            ]
           ]
          },
          "colorway": [
           "#636efa",
           "#EF553B",
           "#00cc96",
           "#ab63fa",
           "#FFA15A",
           "#19d3f3",
           "#FF6692",
           "#B6E880",
           "#FF97FF",
           "#FECB52"
          ],
          "font": {
           "color": "#2a3f5f"
          },
          "geo": {
           "bgcolor": "white",
           "lakecolor": "white",
           "landcolor": "#E5ECF6",
           "showlakes": true,
           "showland": true,
           "subunitcolor": "white"
          },
          "hoverlabel": {
           "align": "left"
          },
          "hovermode": "closest",
          "mapbox": {
           "style": "light"
          },
          "paper_bgcolor": "white",
          "plot_bgcolor": "#E5ECF6",
          "polar": {
           "angularaxis": {
            "gridcolor": "white",
            "linecolor": "white",
            "ticks": ""
           },
           "bgcolor": "#E5ECF6",
           "radialaxis": {
            "gridcolor": "white",
            "linecolor": "white",
            "ticks": ""
           }
          },
          "scene": {
           "xaxis": {
            "backgroundcolor": "#E5ECF6",
            "gridcolor": "white",
            "gridwidth": 2,
            "linecolor": "white",
            "showbackground": true,
            "ticks": "",
            "zerolinecolor": "white"
           },
           "yaxis": {
            "backgroundcolor": "#E5ECF6",
            "gridcolor": "white",
            "gridwidth": 2,
            "linecolor": "white",
            "showbackground": true,
            "ticks": "",
            "zerolinecolor": "white"
           },
           "zaxis": {
            "backgroundcolor": "#E5ECF6",
            "gridcolor": "white",
            "gridwidth": 2,
            "linecolor": "white",
            "showbackground": true,
            "ticks": "",
            "zerolinecolor": "white"
           }
          },
          "shapedefaults": {
           "line": {
            "color": "#2a3f5f"
           }
          },
          "ternary": {
           "aaxis": {
            "gridcolor": "white",
            "linecolor": "white",
            "ticks": ""
           },
           "baxis": {
            "gridcolor": "white",
            "linecolor": "white",
            "ticks": ""
           },
           "bgcolor": "#E5ECF6",
           "caxis": {
            "gridcolor": "white",
            "linecolor": "white",
            "ticks": ""
           }
          },
          "title": {
           "x": 0.05
          },
          "xaxis": {
           "automargin": true,
           "gridcolor": "white",
           "linecolor": "white",
           "ticks": "",
           "title": {
            "standoff": 15
           },
           "zerolinecolor": "white",
           "zerolinewidth": 2
          },
          "yaxis": {
           "automargin": true,
           "gridcolor": "white",
           "linecolor": "white",
           "ticks": "",
           "title": {
            "standoff": 15
           },
           "zerolinecolor": "white",
           "zerolinewidth": 2
          }
         }
        },
        "title": {
         "text": "Part-of-Speech Tags Treemap Chart"
        }
       }
      },
      "text/html": [
       "<div>                            <div id=\"98aced77-d845-4781-a7ed-400a3b51264f\" class=\"plotly-graph-div\" style=\"height:525px; width:100%;\"></div>            <script type=\"text/javascript\">                require([\"plotly\"], function(Plotly) {                    window.PLOTLYENV=window.PLOTLYENV || {};                                    if (document.getElementById(\"98aced77-d845-4781-a7ed-400a3b51264f\")) {                    Plotly.newPlot(                        \"98aced77-d845-4781-a7ed-400a3b51264f\",                        [{\"customdata\":[\"what, that, which\",\"require, need, adopt, target, accommodate\",\"all, some, an, Those, a\",\"nets, goals, effects, Credentials, strategies\",\"To, to\",\"cybersecurity, customer, income, retrain, demand\",\"key, human, routine, specific, automatable\",\"mitigate, update, struggle, become, displaced\",\"?, .\",\"might, can, should, could, may\",\"beyond, on, between, of, throughout\",\",\",\"or, and\",\"leading, Transitioning, supporting, Managing, declining\",\"affected, personalized, Increased, automated\",\"effectively, Here, potentially, as, often\",\":\",\"8, 7, 3, 9, One\",\"Automation, Entire, Economic, Creation, Assistance\",\"higher, lower, better\",\"most\",\"includes, is, requires, involves, remains\",\"created, disrupted, set, displaced, distributed\",\"what, who\",\"their, its\",\"there\",\"where, how, How\",\"it, It\",\"more, better\",\"(\",\")\",\"'\",\"Workers\"],\"hovertemplate\":\"<b>%{label}</b><br>Count: %{value}<br>Examples: %{customdata}<extra></extra>\",\"labels\":[null,null,\"DT (Determiner)\",null,null,\"NN (Noun)\",\"JJ (Adjective)\",\"VB (Verb)\",\". (Punctuation)\",null,\"IN (Preposition)\",null,\"CC (Conjunction)\",null,null,\"RB (Adverb)\",null,null,null,null,null,null,null,null,null,null,null,\"PRP (Pronoun)\",null,null,null,null,null],\"parents\":[\"\",\"\",\"\",\"\",\"\",\"\",\"\",\"\",\"\",\"\",\"\",\"\",\"\",\"\",\"\",\"\",\"\",\"\",\"\",\"\",\"\",\"\",\"\",\"\",\"\",\"\",\"\",\"\",\"\",\"\",\"\",\"\",\"\"],\"textinfo\":\"label+value+text\",\"values\":[12,29,127,235,63,336,174,134,104,62,169,81,109,33,4,32,44,12,99,6,2,25,27,3,6,1,5,7,3,2,2,1,1],\"type\":\"treemap\"}],                        {\"template\":{\"data\":{\"histogram2dcontour\":[{\"type\":\"histogram2dcontour\",\"colorbar\":{\"outlinewidth\":0,\"ticks\":\"\"},\"colorscale\":[[0.0,\"#0d0887\"],[0.1111111111111111,\"#46039f\"],[0.2222222222222222,\"#7201a8\"],[0.3333333333333333,\"#9c179e\"],[0.4444444444444444,\"#bd3786\"],[0.5555555555555556,\"#d8576b\"],[0.6666666666666666,\"#ed7953\"],[0.7777777777777778,\"#fb9f3a\"],[0.8888888888888888,\"#fdca26\"],[1.0,\"#f0f921\"]]}],\"choropleth\":[{\"type\":\"choropleth\",\"colorbar\":{\"outlinewidth\":0,\"ticks\":\"\"}}],\"histogram2d\":[{\"type\":\"histogram2d\",\"colorbar\":{\"outlinewidth\":0,\"ticks\":\"\"},\"colorscale\":[[0.0,\"#0d0887\"],[0.1111111111111111,\"#46039f\"],[0.2222222222222222,\"#7201a8\"],[0.3333333333333333,\"#9c179e\"],[0.4444444444444444,\"#bd3786\"],[0.5555555555555556,\"#d8576b\"],[0.6666666666666666,\"#ed7953\"],[0.7777777777777778,\"#fb9f3a\"],[0.8888888888888888,\"#fdca26\"],[1.0,\"#f0f921\"]]}],\"heatmap\":[{\"type\":\"heatmap\",\"colorbar\":{\"outlinewidth\":0,\"ticks\":\"\"},\"colorscale\":[[0.0,\"#0d0887\"],[0.1111111111111111,\"#46039f\"],[0.2222222222222222,\"#7201a8\"],[0.3333333333333333,\"#9c179e\"],[0.4444444444444444,\"#bd3786\"],[0.5555555555555556,\"#d8576b\"],[0.6666666666666666,\"#ed7953\"],[0.7777777777777778,\"#fb9f3a\"],[0.8888888888888888,\"#fdca26\"],[1.0,\"#f0f921\"]]}],\"heatmapgl\":[{\"type\":\"heatmapgl\",\"colorbar\":{\"outlinewidth\":0,\"ticks\":\"\"},\"colorscale\":[[0.0,\"#0d0887\"],[0.1111111111111111,\"#46039f\"],[0.2222222222222222,\"#7201a8\"],[0.3333333333333333,\"#9c179e\"],[0.4444444444444444,\"#bd3786\"],[0.5555555555555556,\"#d8576b\"],[0.6666666666666666,\"#ed7953\"],[0.7777777777777778,\"#fb9f3a\"],[0.8888888888888888,\"#fdca26\"],[1.0,\"#f0f921\"]]}],\"contourcarpet\":[{\"type\":\"contourcarpet\",\"colorbar\":{\"outlinewidth\":0,\"ticks\":\"\"}}],\"contour\":[{\"type\":\"contour\",\"colorbar\":{\"outlinewidth\":0,\"ticks\":\"\"},\"colorscale\":[[0.0,\"#0d0887\"],[0.1111111111111111,\"#46039f\"],[0.2222222222222222,\"#7201a8\"],[0.3333333333333333,\"#9c179e\"],[0.4444444444444444,\"#bd3786\"],[0.5555555555555556,\"#d8576b\"],[0.6666666666666666,\"#ed7953\"],[0.7777777777777778,\"#fb9f3a\"],[0.8888888888888888,\"#fdca26\"],[1.0,\"#f0f921\"]]}],\"surface\":[{\"type\":\"surface\",\"colorbar\":{\"outlinewidth\":0,\"ticks\":\"\"},\"colorscale\":[[0.0,\"#0d0887\"],[0.1111111111111111,\"#46039f\"],[0.2222222222222222,\"#7201a8\"],[0.3333333333333333,\"#9c179e\"],[0.4444444444444444,\"#bd3786\"],[0.5555555555555556,\"#d8576b\"],[0.6666666666666666,\"#ed7953\"],[0.7777777777777778,\"#fb9f3a\"],[0.8888888888888888,\"#fdca26\"],[1.0,\"#f0f921\"]]}],\"mesh3d\":[{\"type\":\"mesh3d\",\"colorbar\":{\"outlinewidth\":0,\"ticks\":\"\"}}],\"scatter\":[{\"fillpattern\":{\"fillmode\":\"overlay\",\"size\":10,\"solidity\":0.2},\"type\":\"scatter\"}],\"parcoords\":[{\"type\":\"parcoords\",\"line\":{\"colorbar\":{\"outlinewidth\":0,\"ticks\":\"\"}}}],\"scatterpolargl\":[{\"type\":\"scatterpolargl\",\"marker\":{\"colorbar\":{\"outlinewidth\":0,\"ticks\":\"\"}}}],\"bar\":[{\"error_x\":{\"color\":\"#2a3f5f\"},\"error_y\":{\"color\":\"#2a3f5f\"},\"marker\":{\"line\":{\"color\":\"#E5ECF6\",\"width\":0.5},\"pattern\":{\"fillmode\":\"overlay\",\"size\":10,\"solidity\":0.2}},\"type\":\"bar\"}],\"scattergeo\":[{\"type\":\"scattergeo\",\"marker\":{\"colorbar\":{\"outlinewidth\":0,\"ticks\":\"\"}}}],\"scatterpolar\":[{\"type\":\"scatterpolar\",\"marker\":{\"colorbar\":{\"outlinewidth\":0,\"ticks\":\"\"}}}],\"histogram\":[{\"marker\":{\"pattern\":{\"fillmode\":\"overlay\",\"size\":10,\"solidity\":0.2}},\"type\":\"histogram\"}],\"scattergl\":[{\"type\":\"scattergl\",\"marker\":{\"colorbar\":{\"outlinewidth\":0,\"ticks\":\"\"}}}],\"scatter3d\":[{\"type\":\"scatter3d\",\"line\":{\"colorbar\":{\"outlinewidth\":0,\"ticks\":\"\"}},\"marker\":{\"colorbar\":{\"outlinewidth\":0,\"ticks\":\"\"}}}],\"scattermapbox\":[{\"type\":\"scattermapbox\",\"marker\":{\"colorbar\":{\"outlinewidth\":0,\"ticks\":\"\"}}}],\"scatterternary\":[{\"type\":\"scatterternary\",\"marker\":{\"colorbar\":{\"outlinewidth\":0,\"ticks\":\"\"}}}],\"scattercarpet\":[{\"type\":\"scattercarpet\",\"marker\":{\"colorbar\":{\"outlinewidth\":0,\"ticks\":\"\"}}}],\"carpet\":[{\"aaxis\":{\"endlinecolor\":\"#2a3f5f\",\"gridcolor\":\"white\",\"linecolor\":\"white\",\"minorgridcolor\":\"white\",\"startlinecolor\":\"#2a3f5f\"},\"baxis\":{\"endlinecolor\":\"#2a3f5f\",\"gridcolor\":\"white\",\"linecolor\":\"white\",\"minorgridcolor\":\"white\",\"startlinecolor\":\"#2a3f5f\"},\"type\":\"carpet\"}],\"table\":[{\"cells\":{\"fill\":{\"color\":\"#EBF0F8\"},\"line\":{\"color\":\"white\"}},\"header\":{\"fill\":{\"color\":\"#C8D4E3\"},\"line\":{\"color\":\"white\"}},\"type\":\"table\"}],\"barpolar\":[{\"marker\":{\"line\":{\"color\":\"#E5ECF6\",\"width\":0.5},\"pattern\":{\"fillmode\":\"overlay\",\"size\":10,\"solidity\":0.2}},\"type\":\"barpolar\"}],\"pie\":[{\"automargin\":true,\"type\":\"pie\"}]},\"layout\":{\"autotypenumbers\":\"strict\",\"colorway\":[\"#636efa\",\"#EF553B\",\"#00cc96\",\"#ab63fa\",\"#FFA15A\",\"#19d3f3\",\"#FF6692\",\"#B6E880\",\"#FF97FF\",\"#FECB52\"],\"font\":{\"color\":\"#2a3f5f\"},\"hovermode\":\"closest\",\"hoverlabel\":{\"align\":\"left\"},\"paper_bgcolor\":\"white\",\"plot_bgcolor\":\"#E5ECF6\",\"polar\":{\"bgcolor\":\"#E5ECF6\",\"angularaxis\":{\"gridcolor\":\"white\",\"linecolor\":\"white\",\"ticks\":\"\"},\"radialaxis\":{\"gridcolor\":\"white\",\"linecolor\":\"white\",\"ticks\":\"\"}},\"ternary\":{\"bgcolor\":\"#E5ECF6\",\"aaxis\":{\"gridcolor\":\"white\",\"linecolor\":\"white\",\"ticks\":\"\"},\"baxis\":{\"gridcolor\":\"white\",\"linecolor\":\"white\",\"ticks\":\"\"},\"caxis\":{\"gridcolor\":\"white\",\"linecolor\":\"white\",\"ticks\":\"\"}},\"coloraxis\":{\"colorbar\":{\"outlinewidth\":0,\"ticks\":\"\"}},\"colorscale\":{\"sequential\":[[0.0,\"#0d0887\"],[0.1111111111111111,\"#46039f\"],[0.2222222222222222,\"#7201a8\"],[0.3333333333333333,\"#9c179e\"],[0.4444444444444444,\"#bd3786\"],[0.5555555555555556,\"#d8576b\"],[0.6666666666666666,\"#ed7953\"],[0.7777777777777778,\"#fb9f3a\"],[0.8888888888888888,\"#fdca26\"],[1.0,\"#f0f921\"]],\"sequentialminus\":[[0.0,\"#0d0887\"],[0.1111111111111111,\"#46039f\"],[0.2222222222222222,\"#7201a8\"],[0.3333333333333333,\"#9c179e\"],[0.4444444444444444,\"#bd3786\"],[0.5555555555555556,\"#d8576b\"],[0.6666666666666666,\"#ed7953\"],[0.7777777777777778,\"#fb9f3a\"],[0.8888888888888888,\"#fdca26\"],[1.0,\"#f0f921\"]],\"diverging\":[[0,\"#8e0152\"],[0.1,\"#c51b7d\"],[0.2,\"#de77ae\"],[0.3,\"#f1b6da\"],[0.4,\"#fde0ef\"],[0.5,\"#f7f7f7\"],[0.6,\"#e6f5d0\"],[0.7,\"#b8e186\"],[0.8,\"#7fbc41\"],[0.9,\"#4d9221\"],[1,\"#276419\"]]},\"xaxis\":{\"gridcolor\":\"white\",\"linecolor\":\"white\",\"ticks\":\"\",\"title\":{\"standoff\":15},\"zerolinecolor\":\"white\",\"automargin\":true,\"zerolinewidth\":2},\"yaxis\":{\"gridcolor\":\"white\",\"linecolor\":\"white\",\"ticks\":\"\",\"title\":{\"standoff\":15},\"zerolinecolor\":\"white\",\"automargin\":true,\"zerolinewidth\":2},\"scene\":{\"xaxis\":{\"backgroundcolor\":\"#E5ECF6\",\"gridcolor\":\"white\",\"linecolor\":\"white\",\"showbackground\":true,\"ticks\":\"\",\"zerolinecolor\":\"white\",\"gridwidth\":2},\"yaxis\":{\"backgroundcolor\":\"#E5ECF6\",\"gridcolor\":\"white\",\"linecolor\":\"white\",\"showbackground\":true,\"ticks\":\"\",\"zerolinecolor\":\"white\",\"gridwidth\":2},\"zaxis\":{\"backgroundcolor\":\"#E5ECF6\",\"gridcolor\":\"white\",\"linecolor\":\"white\",\"showbackground\":true,\"ticks\":\"\",\"zerolinecolor\":\"white\",\"gridwidth\":2}},\"shapedefaults\":{\"line\":{\"color\":\"#2a3f5f\"}},\"annotationdefaults\":{\"arrowcolor\":\"#2a3f5f\",\"arrowhead\":0,\"arrowwidth\":1},\"geo\":{\"bgcolor\":\"white\",\"landcolor\":\"#E5ECF6\",\"subunitcolor\":\"white\",\"showland\":true,\"showlakes\":true,\"lakecolor\":\"white\"},\"title\":{\"x\":0.05},\"mapbox\":{\"style\":\"light\"}}},\"title\":{\"text\":\"Part-of-Speech Tags Treemap Chart\"}},                        {\"responsive\": true}                    ).then(function(){\n",
       "                            \n",
       "var gd = document.getElementById('98aced77-d845-4781-a7ed-400a3b51264f');\n",
       "var x = new MutationObserver(function (mutations, observer) {{\n",
       "        var display = window.getComputedStyle(gd).display;\n",
       "        if (!display || display === 'none') {{\n",
       "            console.log([gd, 'removed!']);\n",
       "            Plotly.purge(gd);\n",
       "            observer.disconnect();\n",
       "        }}\n",
       "}});\n",
       "\n",
       "// Listen for the removal of the full notebook cells\n",
       "var notebookContainer = gd.closest('#notebook-container');\n",
       "if (notebookContainer) {{\n",
       "    x.observe(notebookContainer, {childList: true});\n",
       "}}\n",
       "\n",
       "// Listen for the clearing of the current output cell\n",
       "var outputEl = gd.closest('.output');\n",
       "if (outputEl) {{\n",
       "    x.observe(outputEl, {childList: true});\n",
       "}}\n",
       "\n",
       "                        })                };                });            </script>        </div>"
      ]
     },
     "metadata": {},
     "output_type": "display_data"
    }
   ],
   "source": [
    "import nltk\n",
    "from nltk.tokenize import word_tokenize, sent_tokenize\n",
    "from nltk import pos_tag\n",
    "import plotly.graph_objects as go\n",
    "import pandas as pd\n",
    "from collections import Counter, defaultdict\n",
    "\n",
    "# Read text from a file\n",
    "with open('chat.txt', 'r') as file:\n",
    "    text = file.read()\n",
    "\n",
    "# Tokenize the text into sentences and words\n",
    "sentences = sent_tokenize(text)\n",
    "words = word_tokenize(text)\n",
    "\n",
    "# Perform POS tagging\n",
    "pos_tags = pos_tag(words)\n",
    "\n",
    "# Count the occurrences of each POS tag and collect examples\n",
    "pos_tag_counts = Counter()\n",
    "examples = defaultdict(set)\n",
    "for word, tag in pos_tags:\n",
    "    pos_tag_counts[tag] += 1\n",
    "    examples[tag].add(word)\n",
    "    if len(examples[tag]) > 5:\n",
    "        examples[tag].remove(next(iter(examples[tag])))\n",
    "\n",
    "# Create a DataFrame with clarifications for POS tags\n",
    "tag_clarifications = {\n",
    "    'NN': 'Noun', 'VB': 'Verb', 'JJ': 'Adjective', 'RB': 'Adverb',\n",
    "    'PRP': 'Pronoun', 'IN': 'Preposition', 'CC': 'Conjunction',\n",
    "    'DT': 'Determiner', 'UH': 'Interjection', '.': 'Punctuation'\n",
    "}\n",
    "\n",
    "df = pd.DataFrame.from_dict(pos_tag_counts, orient='index', columns=['Count'])\n",
    "df.index.name = 'POS Tag'\n",
    "df.reset_index(inplace=True)\n",
    "df['Clarification'] = df['POS Tag'].map(tag_clarifications)\n",
    "df['Examples'] = df['POS Tag'].apply(lambda tag: ', '.join(examples[tag]))\n",
    "\n",
    "# Create a new column for labels that include POS tag and clarification\n",
    "df['Label'] = df['POS Tag'] + ' (' + df['Clarification'] + ')'\n",
    "\n",
    "# Create the Treemap Chart\n",
    "fig = go.Figure(go.Treemap(\n",
    "    labels=df['Label'],\n",
    "    parents=[''] * len(df),\n",
    "    values=df['Count'],\n",
    "    textinfo=\"label+value+text\",\n",
    "    customdata=df['Examples'],\n",
    "    hovertemplate='<b>%{label}</b><br>Count: %{value}<br>Examples: %{customdata}<extra></extra>'\n",
    "))\n",
    "\n",
    "# Customize the layout and display the chart\n",
    "fig.update_layout(title='Part-of-Speech Tags Treemap Chart')\n",
    "fig.show()\n"
   ]
  },
  {
   "cell_type": "code",
   "execution_count": 6,
   "id": "01b277cd",
   "metadata": {
    "scrolled": true
   },
   "outputs": [
    {
     "data": {
      "application/vnd.plotly.v1+json": {
       "config": {
        "plotlyServerURL": "https://plot.ly"
       },
       "data": [
        {
         "hovertemplate": "Sentence Index=%{x}<br>Sentence Importance Score=%{y}<extra></extra>",
         "legendgroup": "",
         "line": {
          "color": "#636efa",
          "dash": "solid"
         },
         "marker": {
          "symbol": "circle"
         },
         "mode": "lines",
         "name": "",
         "orientation": "v",
         "showlegend": false,
         "type": "scatter",
         "x": [
          0,
          1,
          2,
          3,
          4,
          5,
          6,
          7,
          8,
          9,
          10,
          11,
          12,
          13,
          14,
          15,
          16,
          17,
          18,
          19,
          20,
          21,
          22,
          23,
          24,
          25,
          26,
          27,
          28,
          29,
          30,
          31,
          32,
          33,
          34,
          35,
          36,
          37,
          38,
          39,
          40,
          41,
          42,
          43,
          44,
          45,
          46,
          47,
          48,
          49,
          50,
          51,
          52,
          53,
          54,
          55,
          56,
          57,
          58,
          59,
          60,
          61,
          62,
          63,
          64,
          65,
          66,
          67,
          68,
          69,
          70,
          71,
          72,
          73,
          74,
          75,
          76,
          77,
          78,
          79,
          80,
          81,
          82,
          83,
          84,
          85,
          86,
          87,
          88,
          89,
          90,
          91,
          92,
          93,
          94,
          95,
          96,
          97,
          98,
          99,
          100,
          101,
          102,
          103
         ],
         "xaxis": "x",
         "y": [
          54,
          61,
          72,
          10,
          91,
          21,
          1,
          91,
          86,
          1,
          125,
          80,
          71,
          1,
          62,
          112,
          1,
          69,
          48,
          1,
          97,
          58,
          1,
          27,
          75,
          1,
          181,
          52,
          1,
          67,
          71,
          1,
          63,
          75,
          60,
          56,
          106,
          41,
          138,
          133,
          284,
          37,
          146,
          48,
          90,
          100,
          74,
          109,
          221,
          41,
          75,
          43,
          98,
          82,
          34,
          86,
          96,
          45,
          104,
          67,
          129,
          152,
          81,
          78,
          134,
          138,
          87,
          93,
          156,
          41,
          55,
          16,
          70,
          49,
          45,
          51,
          80,
          94,
          89,
          37,
          55,
          77,
          19,
          61,
          27,
          8,
          72,
          146,
          35,
          91,
          33,
          106,
          56,
          103,
          7,
          41,
          16,
          99,
          79,
          70,
          13,
          72,
          166,
          28
         ],
         "yaxis": "y"
        }
       ],
       "layout": {
        "legend": {
         "tracegroupgap": 0
        },
        "template": {
         "data": {
          "bar": [
           {
            "error_x": {
             "color": "#2a3f5f"
            },
            "error_y": {
             "color": "#2a3f5f"
            },
            "marker": {
             "line": {
              "color": "#E5ECF6",
              "width": 0.5
             },
             "pattern": {
              "fillmode": "overlay",
              "size": 10,
              "solidity": 0.2
             }
            },
            "type": "bar"
           }
          ],
          "barpolar": [
           {
            "marker": {
             "line": {
              "color": "#E5ECF6",
              "width": 0.5
             },
             "pattern": {
              "fillmode": "overlay",
              "size": 10,
              "solidity": 0.2
             }
            },
            "type": "barpolar"
           }
          ],
          "carpet": [
           {
            "aaxis": {
             "endlinecolor": "#2a3f5f",
             "gridcolor": "white",
             "linecolor": "white",
             "minorgridcolor": "white",
             "startlinecolor": "#2a3f5f"
            },
            "baxis": {
             "endlinecolor": "#2a3f5f",
             "gridcolor": "white",
             "linecolor": "white",
             "minorgridcolor": "white",
             "startlinecolor": "#2a3f5f"
            },
            "type": "carpet"
           }
          ],
          "choropleth": [
           {
            "colorbar": {
             "outlinewidth": 0,
             "ticks": ""
            },
            "type": "choropleth"
           }
          ],
          "contour": [
           {
            "colorbar": {
             "outlinewidth": 0,
             "ticks": ""
            },
            "colorscale": [
             [
              0,
              "#0d0887"
             ],
             [
              0.1111111111111111,
              "#46039f"
             ],
             [
              0.2222222222222222,
              "#7201a8"
             ],
             [
              0.3333333333333333,
              "#9c179e"
             ],
             [
              0.4444444444444444,
              "#bd3786"
             ],
             [
              0.5555555555555556,
              "#d8576b"
             ],
             [
              0.6666666666666666,
              "#ed7953"
             ],
             [
              0.7777777777777778,
              "#fb9f3a"
             ],
             [
              0.8888888888888888,
              "#fdca26"
             ],
             [
              1,
              "#f0f921"
             ]
            ],
            "type": "contour"
           }
          ],
          "contourcarpet": [
           {
            "colorbar": {
             "outlinewidth": 0,
             "ticks": ""
            },
            "type": "contourcarpet"
           }
          ],
          "heatmap": [
           {
            "colorbar": {
             "outlinewidth": 0,
             "ticks": ""
            },
            "colorscale": [
             [
              0,
              "#0d0887"
             ],
             [
              0.1111111111111111,
              "#46039f"
             ],
             [
              0.2222222222222222,
              "#7201a8"
             ],
             [
              0.3333333333333333,
              "#9c179e"
             ],
             [
              0.4444444444444444,
              "#bd3786"
             ],
             [
              0.5555555555555556,
              "#d8576b"
             ],
             [
              0.6666666666666666,
              "#ed7953"
             ],
             [
              0.7777777777777778,
              "#fb9f3a"
             ],
             [
              0.8888888888888888,
              "#fdca26"
             ],
             [
              1,
              "#f0f921"
             ]
            ],
            "type": "heatmap"
           }
          ],
          "heatmapgl": [
           {
            "colorbar": {
             "outlinewidth": 0,
             "ticks": ""
            },
            "colorscale": [
             [
              0,
              "#0d0887"
             ],
             [
              0.1111111111111111,
              "#46039f"
             ],
             [
              0.2222222222222222,
              "#7201a8"
             ],
             [
              0.3333333333333333,
              "#9c179e"
             ],
             [
              0.4444444444444444,
              "#bd3786"
             ],
             [
              0.5555555555555556,
              "#d8576b"
             ],
             [
              0.6666666666666666,
              "#ed7953"
             ],
             [
              0.7777777777777778,
              "#fb9f3a"
             ],
             [
              0.8888888888888888,
              "#fdca26"
             ],
             [
              1,
              "#f0f921"
             ]
            ],
            "type": "heatmapgl"
           }
          ],
          "histogram": [
           {
            "marker": {
             "pattern": {
              "fillmode": "overlay",
              "size": 10,
              "solidity": 0.2
             }
            },
            "type": "histogram"
           }
          ],
          "histogram2d": [
           {
            "colorbar": {
             "outlinewidth": 0,
             "ticks": ""
            },
            "colorscale": [
             [
              0,
              "#0d0887"
             ],
             [
              0.1111111111111111,
              "#46039f"
             ],
             [
              0.2222222222222222,
              "#7201a8"
             ],
             [
              0.3333333333333333,
              "#9c179e"
             ],
             [
              0.4444444444444444,
              "#bd3786"
             ],
             [
              0.5555555555555556,
              "#d8576b"
             ],
             [
              0.6666666666666666,
              "#ed7953"
             ],
             [
              0.7777777777777778,
              "#fb9f3a"
             ],
             [
              0.8888888888888888,
              "#fdca26"
             ],
             [
              1,
              "#f0f921"
             ]
            ],
            "type": "histogram2d"
           }
          ],
          "histogram2dcontour": [
           {
            "colorbar": {
             "outlinewidth": 0,
             "ticks": ""
            },
            "colorscale": [
             [
              0,
              "#0d0887"
             ],
             [
              0.1111111111111111,
              "#46039f"
             ],
             [
              0.2222222222222222,
              "#7201a8"
             ],
             [
              0.3333333333333333,
              "#9c179e"
             ],
             [
              0.4444444444444444,
              "#bd3786"
             ],
             [
              0.5555555555555556,
              "#d8576b"
             ],
             [
              0.6666666666666666,
              "#ed7953"
             ],
             [
              0.7777777777777778,
              "#fb9f3a"
             ],
             [
              0.8888888888888888,
              "#fdca26"
             ],
             [
              1,
              "#f0f921"
             ]
            ],
            "type": "histogram2dcontour"
           }
          ],
          "mesh3d": [
           {
            "colorbar": {
             "outlinewidth": 0,
             "ticks": ""
            },
            "type": "mesh3d"
           }
          ],
          "parcoords": [
           {
            "line": {
             "colorbar": {
              "outlinewidth": 0,
              "ticks": ""
             }
            },
            "type": "parcoords"
           }
          ],
          "pie": [
           {
            "automargin": true,
            "type": "pie"
           }
          ],
          "scatter": [
           {
            "fillpattern": {
             "fillmode": "overlay",
             "size": 10,
             "solidity": 0.2
            },
            "type": "scatter"
           }
          ],
          "scatter3d": [
           {
            "line": {
             "colorbar": {
              "outlinewidth": 0,
              "ticks": ""
             }
            },
            "marker": {
             "colorbar": {
              "outlinewidth": 0,
              "ticks": ""
             }
            },
            "type": "scatter3d"
           }
          ],
          "scattercarpet": [
           {
            "marker": {
             "colorbar": {
              "outlinewidth": 0,
              "ticks": ""
             }
            },
            "type": "scattercarpet"
           }
          ],
          "scattergeo": [
           {
            "marker": {
             "colorbar": {
              "outlinewidth": 0,
              "ticks": ""
             }
            },
            "type": "scattergeo"
           }
          ],
          "scattergl": [
           {
            "marker": {
             "colorbar": {
              "outlinewidth": 0,
              "ticks": ""
             }
            },
            "type": "scattergl"
           }
          ],
          "scattermapbox": [
           {
            "marker": {
             "colorbar": {
              "outlinewidth": 0,
              "ticks": ""
             }
            },
            "type": "scattermapbox"
           }
          ],
          "scatterpolar": [
           {
            "marker": {
             "colorbar": {
              "outlinewidth": 0,
              "ticks": ""
             }
            },
            "type": "scatterpolar"
           }
          ],
          "scatterpolargl": [
           {
            "marker": {
             "colorbar": {
              "outlinewidth": 0,
              "ticks": ""
             }
            },
            "type": "scatterpolargl"
           }
          ],
          "scatterternary": [
           {
            "marker": {
             "colorbar": {
              "outlinewidth": 0,
              "ticks": ""
             }
            },
            "type": "scatterternary"
           }
          ],
          "surface": [
           {
            "colorbar": {
             "outlinewidth": 0,
             "ticks": ""
            },
            "colorscale": [
             [
              0,
              "#0d0887"
             ],
             [
              0.1111111111111111,
              "#46039f"
             ],
             [
              0.2222222222222222,
              "#7201a8"
             ],
             [
              0.3333333333333333,
              "#9c179e"
             ],
             [
              0.4444444444444444,
              "#bd3786"
             ],
             [
              0.5555555555555556,
              "#d8576b"
             ],
             [
              0.6666666666666666,
              "#ed7953"
             ],
             [
              0.7777777777777778,
              "#fb9f3a"
             ],
             [
              0.8888888888888888,
              "#fdca26"
             ],
             [
              1,
              "#f0f921"
             ]
            ],
            "type": "surface"
           }
          ],
          "table": [
           {
            "cells": {
             "fill": {
              "color": "#EBF0F8"
             },
             "line": {
              "color": "white"
             }
            },
            "header": {
             "fill": {
              "color": "#C8D4E3"
             },
             "line": {
              "color": "white"
             }
            },
            "type": "table"
           }
          ]
         },
         "layout": {
          "annotationdefaults": {
           "arrowcolor": "#2a3f5f",
           "arrowhead": 0,
           "arrowwidth": 1
          },
          "autotypenumbers": "strict",
          "coloraxis": {
           "colorbar": {
            "outlinewidth": 0,
            "ticks": ""
           }
          },
          "colorscale": {
           "diverging": [
            [
             0,
             "#8e0152"
            ],
            [
             0.1,
             "#c51b7d"
            ],
            [
             0.2,
             "#de77ae"
            ],
            [
             0.3,
             "#f1b6da"
            ],
            [
             0.4,
             "#fde0ef"
            ],
            [
             0.5,
             "#f7f7f7"
            ],
            [
             0.6,
             "#e6f5d0"
            ],
            [
             0.7,
             "#b8e186"
            ],
            [
             0.8,
             "#7fbc41"
            ],
            [
             0.9,
             "#4d9221"
            ],
            [
             1,
             "#276419"
            ]
           ],
           "sequential": [
            [
             0,
             "#0d0887"
            ],
            [
             0.1111111111111111,
             "#46039f"
            ],
            [
             0.2222222222222222,
             "#7201a8"
            ],
            [
             0.3333333333333333,
             "#9c179e"
            ],
            [
             0.4444444444444444,
             "#bd3786"
            ],
            [
             0.5555555555555556,
             "#d8576b"
            ],
            [
             0.6666666666666666,
             "#ed7953"
            ],
            [
             0.7777777777777778,
             "#fb9f3a"
            ],
            [
             0.8888888888888888,
             "#fdca26"
            ],
            [
             1,
             "#f0f921"
            ]
           ],
           "sequentialminus": [
            [
             0,
             "#0d0887"
            ],
            [
             0.1111111111111111,
             "#46039f"
            ],
            [
             0.2222222222222222,
             "#7201a8"
            ],
            [
             0.3333333333333333,
             "#9c179e"
            ],
            [
             0.4444444444444444,
             "#bd3786"
            ],
            [
             0.5555555555555556,
             "#d8576b"
            ],
            [
             0.6666666666666666,
             "#ed7953"
            ],
            [
             0.7777777777777778,
             "#fb9f3a"
            ],
            [
             0.8888888888888888,
             "#fdca26"
            ],
            [
             1,
             "#f0f921"
            ]
           ]
          },
          "colorway": [
           "#636efa",
           "#EF553B",
           "#00cc96",
           "#ab63fa",
           "#FFA15A",
           "#19d3f3",
           "#FF6692",
           "#B6E880",
           "#FF97FF",
           "#FECB52"
          ],
          "font": {
           "color": "#2a3f5f"
          },
          "geo": {
           "bgcolor": "white",
           "lakecolor": "white",
           "landcolor": "#E5ECF6",
           "showlakes": true,
           "showland": true,
           "subunitcolor": "white"
          },
          "hoverlabel": {
           "align": "left"
          },
          "hovermode": "closest",
          "mapbox": {
           "style": "light"
          },
          "paper_bgcolor": "white",
          "plot_bgcolor": "#E5ECF6",
          "polar": {
           "angularaxis": {
            "gridcolor": "white",
            "linecolor": "white",
            "ticks": ""
           },
           "bgcolor": "#E5ECF6",
           "radialaxis": {
            "gridcolor": "white",
            "linecolor": "white",
            "ticks": ""
           }
          },
          "scene": {
           "xaxis": {
            "backgroundcolor": "#E5ECF6",
            "gridcolor": "white",
            "gridwidth": 2,
            "linecolor": "white",
            "showbackground": true,
            "ticks": "",
            "zerolinecolor": "white"
           },
           "yaxis": {
            "backgroundcolor": "#E5ECF6",
            "gridcolor": "white",
            "gridwidth": 2,
            "linecolor": "white",
            "showbackground": true,
            "ticks": "",
            "zerolinecolor": "white"
           },
           "zaxis": {
            "backgroundcolor": "#E5ECF6",
            "gridcolor": "white",
            "gridwidth": 2,
            "linecolor": "white",
            "showbackground": true,
            "ticks": "",
            "zerolinecolor": "white"
           }
          },
          "shapedefaults": {
           "line": {
            "color": "#2a3f5f"
           }
          },
          "ternary": {
           "aaxis": {
            "gridcolor": "white",
            "linecolor": "white",
            "ticks": ""
           },
           "baxis": {
            "gridcolor": "white",
            "linecolor": "white",
            "ticks": ""
           },
           "bgcolor": "#E5ECF6",
           "caxis": {
            "gridcolor": "white",
            "linecolor": "white",
            "ticks": ""
           }
          },
          "title": {
           "x": 0.05
          },
          "xaxis": {
           "automargin": true,
           "gridcolor": "white",
           "linecolor": "white",
           "ticks": "",
           "title": {
            "standoff": 15
           },
           "zerolinecolor": "white",
           "zerolinewidth": 2
          },
          "yaxis": {
           "automargin": true,
           "gridcolor": "white",
           "linecolor": "white",
           "ticks": "",
           "title": {
            "standoff": 15
           },
           "zerolinecolor": "white",
           "zerolinewidth": 2
          }
         }
        },
        "title": {
         "text": "Sentence Importance Over Time"
        },
        "xaxis": {
         "anchor": "y",
         "domain": [
          0,
          1
         ],
         "title": {
          "text": "Sentence Index"
         }
        },
        "yaxis": {
         "anchor": "x",
         "domain": [
          0,
          1
         ],
         "title": {
          "text": "Sentence Importance Score"
         }
        }
       }
      },
      "text/html": [
       "<div>                            <div id=\"5f05503f-e914-4eca-83c9-2a08973c729f\" class=\"plotly-graph-div\" style=\"height:525px; width:100%;\"></div>            <script type=\"text/javascript\">                require([\"plotly\"], function(Plotly) {                    window.PLOTLYENV=window.PLOTLYENV || {};                                    if (document.getElementById(\"5f05503f-e914-4eca-83c9-2a08973c729f\")) {                    Plotly.newPlot(                        \"5f05503f-e914-4eca-83c9-2a08973c729f\",                        [{\"hovertemplate\":\"Sentence Index=%{x}<br>Sentence Importance Score=%{y}<extra></extra>\",\"legendgroup\":\"\",\"line\":{\"color\":\"#636efa\",\"dash\":\"solid\"},\"marker\":{\"symbol\":\"circle\"},\"mode\":\"lines\",\"name\":\"\",\"orientation\":\"v\",\"showlegend\":false,\"x\":[0,1,2,3,4,5,6,7,8,9,10,11,12,13,14,15,16,17,18,19,20,21,22,23,24,25,26,27,28,29,30,31,32,33,34,35,36,37,38,39,40,41,42,43,44,45,46,47,48,49,50,51,52,53,54,55,56,57,58,59,60,61,62,63,64,65,66,67,68,69,70,71,72,73,74,75,76,77,78,79,80,81,82,83,84,85,86,87,88,89,90,91,92,93,94,95,96,97,98,99,100,101,102,103],\"xaxis\":\"x\",\"y\":[54,61,72,10,91,21,1,91,86,1,125,80,71,1,62,112,1,69,48,1,97,58,1,27,75,1,181,52,1,67,71,1,63,75,60,56,106,41,138,133,284,37,146,48,90,100,74,109,221,41,75,43,98,82,34,86,96,45,104,67,129,152,81,78,134,138,87,93,156,41,55,16,70,49,45,51,80,94,89,37,55,77,19,61,27,8,72,146,35,91,33,106,56,103,7,41,16,99,79,70,13,72,166,28],\"yaxis\":\"y\",\"type\":\"scatter\"}],                        {\"template\":{\"data\":{\"histogram2dcontour\":[{\"type\":\"histogram2dcontour\",\"colorbar\":{\"outlinewidth\":0,\"ticks\":\"\"},\"colorscale\":[[0.0,\"#0d0887\"],[0.1111111111111111,\"#46039f\"],[0.2222222222222222,\"#7201a8\"],[0.3333333333333333,\"#9c179e\"],[0.4444444444444444,\"#bd3786\"],[0.5555555555555556,\"#d8576b\"],[0.6666666666666666,\"#ed7953\"],[0.7777777777777778,\"#fb9f3a\"],[0.8888888888888888,\"#fdca26\"],[1.0,\"#f0f921\"]]}],\"choropleth\":[{\"type\":\"choropleth\",\"colorbar\":{\"outlinewidth\":0,\"ticks\":\"\"}}],\"histogram2d\":[{\"type\":\"histogram2d\",\"colorbar\":{\"outlinewidth\":0,\"ticks\":\"\"},\"colorscale\":[[0.0,\"#0d0887\"],[0.1111111111111111,\"#46039f\"],[0.2222222222222222,\"#7201a8\"],[0.3333333333333333,\"#9c179e\"],[0.4444444444444444,\"#bd3786\"],[0.5555555555555556,\"#d8576b\"],[0.6666666666666666,\"#ed7953\"],[0.7777777777777778,\"#fb9f3a\"],[0.8888888888888888,\"#fdca26\"],[1.0,\"#f0f921\"]]}],\"heatmap\":[{\"type\":\"heatmap\",\"colorbar\":{\"outlinewidth\":0,\"ticks\":\"\"},\"colorscale\":[[0.0,\"#0d0887\"],[0.1111111111111111,\"#46039f\"],[0.2222222222222222,\"#7201a8\"],[0.3333333333333333,\"#9c179e\"],[0.4444444444444444,\"#bd3786\"],[0.5555555555555556,\"#d8576b\"],[0.6666666666666666,\"#ed7953\"],[0.7777777777777778,\"#fb9f3a\"],[0.8888888888888888,\"#fdca26\"],[1.0,\"#f0f921\"]]}],\"heatmapgl\":[{\"type\":\"heatmapgl\",\"colorbar\":{\"outlinewidth\":0,\"ticks\":\"\"},\"colorscale\":[[0.0,\"#0d0887\"],[0.1111111111111111,\"#46039f\"],[0.2222222222222222,\"#7201a8\"],[0.3333333333333333,\"#9c179e\"],[0.4444444444444444,\"#bd3786\"],[0.5555555555555556,\"#d8576b\"],[0.6666666666666666,\"#ed7953\"],[0.7777777777777778,\"#fb9f3a\"],[0.8888888888888888,\"#fdca26\"],[1.0,\"#f0f921\"]]}],\"contourcarpet\":[{\"type\":\"contourcarpet\",\"colorbar\":{\"outlinewidth\":0,\"ticks\":\"\"}}],\"contour\":[{\"type\":\"contour\",\"colorbar\":{\"outlinewidth\":0,\"ticks\":\"\"},\"colorscale\":[[0.0,\"#0d0887\"],[0.1111111111111111,\"#46039f\"],[0.2222222222222222,\"#7201a8\"],[0.3333333333333333,\"#9c179e\"],[0.4444444444444444,\"#bd3786\"],[0.5555555555555556,\"#d8576b\"],[0.6666666666666666,\"#ed7953\"],[0.7777777777777778,\"#fb9f3a\"],[0.8888888888888888,\"#fdca26\"],[1.0,\"#f0f921\"]]}],\"surface\":[{\"type\":\"surface\",\"colorbar\":{\"outlinewidth\":0,\"ticks\":\"\"},\"colorscale\":[[0.0,\"#0d0887\"],[0.1111111111111111,\"#46039f\"],[0.2222222222222222,\"#7201a8\"],[0.3333333333333333,\"#9c179e\"],[0.4444444444444444,\"#bd3786\"],[0.5555555555555556,\"#d8576b\"],[0.6666666666666666,\"#ed7953\"],[0.7777777777777778,\"#fb9f3a\"],[0.8888888888888888,\"#fdca26\"],[1.0,\"#f0f921\"]]}],\"mesh3d\":[{\"type\":\"mesh3d\",\"colorbar\":{\"outlinewidth\":0,\"ticks\":\"\"}}],\"scatter\":[{\"fillpattern\":{\"fillmode\":\"overlay\",\"size\":10,\"solidity\":0.2},\"type\":\"scatter\"}],\"parcoords\":[{\"type\":\"parcoords\",\"line\":{\"colorbar\":{\"outlinewidth\":0,\"ticks\":\"\"}}}],\"scatterpolargl\":[{\"type\":\"scatterpolargl\",\"marker\":{\"colorbar\":{\"outlinewidth\":0,\"ticks\":\"\"}}}],\"bar\":[{\"error_x\":{\"color\":\"#2a3f5f\"},\"error_y\":{\"color\":\"#2a3f5f\"},\"marker\":{\"line\":{\"color\":\"#E5ECF6\",\"width\":0.5},\"pattern\":{\"fillmode\":\"overlay\",\"size\":10,\"solidity\":0.2}},\"type\":\"bar\"}],\"scattergeo\":[{\"type\":\"scattergeo\",\"marker\":{\"colorbar\":{\"outlinewidth\":0,\"ticks\":\"\"}}}],\"scatterpolar\":[{\"type\":\"scatterpolar\",\"marker\":{\"colorbar\":{\"outlinewidth\":0,\"ticks\":\"\"}}}],\"histogram\":[{\"marker\":{\"pattern\":{\"fillmode\":\"overlay\",\"size\":10,\"solidity\":0.2}},\"type\":\"histogram\"}],\"scattergl\":[{\"type\":\"scattergl\",\"marker\":{\"colorbar\":{\"outlinewidth\":0,\"ticks\":\"\"}}}],\"scatter3d\":[{\"type\":\"scatter3d\",\"line\":{\"colorbar\":{\"outlinewidth\":0,\"ticks\":\"\"}},\"marker\":{\"colorbar\":{\"outlinewidth\":0,\"ticks\":\"\"}}}],\"scattermapbox\":[{\"type\":\"scattermapbox\",\"marker\":{\"colorbar\":{\"outlinewidth\":0,\"ticks\":\"\"}}}],\"scatterternary\":[{\"type\":\"scatterternary\",\"marker\":{\"colorbar\":{\"outlinewidth\":0,\"ticks\":\"\"}}}],\"scattercarpet\":[{\"type\":\"scattercarpet\",\"marker\":{\"colorbar\":{\"outlinewidth\":0,\"ticks\":\"\"}}}],\"carpet\":[{\"aaxis\":{\"endlinecolor\":\"#2a3f5f\",\"gridcolor\":\"white\",\"linecolor\":\"white\",\"minorgridcolor\":\"white\",\"startlinecolor\":\"#2a3f5f\"},\"baxis\":{\"endlinecolor\":\"#2a3f5f\",\"gridcolor\":\"white\",\"linecolor\":\"white\",\"minorgridcolor\":\"white\",\"startlinecolor\":\"#2a3f5f\"},\"type\":\"carpet\"}],\"table\":[{\"cells\":{\"fill\":{\"color\":\"#EBF0F8\"},\"line\":{\"color\":\"white\"}},\"header\":{\"fill\":{\"color\":\"#C8D4E3\"},\"line\":{\"color\":\"white\"}},\"type\":\"table\"}],\"barpolar\":[{\"marker\":{\"line\":{\"color\":\"#E5ECF6\",\"width\":0.5},\"pattern\":{\"fillmode\":\"overlay\",\"size\":10,\"solidity\":0.2}},\"type\":\"barpolar\"}],\"pie\":[{\"automargin\":true,\"type\":\"pie\"}]},\"layout\":{\"autotypenumbers\":\"strict\",\"colorway\":[\"#636efa\",\"#EF553B\",\"#00cc96\",\"#ab63fa\",\"#FFA15A\",\"#19d3f3\",\"#FF6692\",\"#B6E880\",\"#FF97FF\",\"#FECB52\"],\"font\":{\"color\":\"#2a3f5f\"},\"hovermode\":\"closest\",\"hoverlabel\":{\"align\":\"left\"},\"paper_bgcolor\":\"white\",\"plot_bgcolor\":\"#E5ECF6\",\"polar\":{\"bgcolor\":\"#E5ECF6\",\"angularaxis\":{\"gridcolor\":\"white\",\"linecolor\":\"white\",\"ticks\":\"\"},\"radialaxis\":{\"gridcolor\":\"white\",\"linecolor\":\"white\",\"ticks\":\"\"}},\"ternary\":{\"bgcolor\":\"#E5ECF6\",\"aaxis\":{\"gridcolor\":\"white\",\"linecolor\":\"white\",\"ticks\":\"\"},\"baxis\":{\"gridcolor\":\"white\",\"linecolor\":\"white\",\"ticks\":\"\"},\"caxis\":{\"gridcolor\":\"white\",\"linecolor\":\"white\",\"ticks\":\"\"}},\"coloraxis\":{\"colorbar\":{\"outlinewidth\":0,\"ticks\":\"\"}},\"colorscale\":{\"sequential\":[[0.0,\"#0d0887\"],[0.1111111111111111,\"#46039f\"],[0.2222222222222222,\"#7201a8\"],[0.3333333333333333,\"#9c179e\"],[0.4444444444444444,\"#bd3786\"],[0.5555555555555556,\"#d8576b\"],[0.6666666666666666,\"#ed7953\"],[0.7777777777777778,\"#fb9f3a\"],[0.8888888888888888,\"#fdca26\"],[1.0,\"#f0f921\"]],\"sequentialminus\":[[0.0,\"#0d0887\"],[0.1111111111111111,\"#46039f\"],[0.2222222222222222,\"#7201a8\"],[0.3333333333333333,\"#9c179e\"],[0.4444444444444444,\"#bd3786\"],[0.5555555555555556,\"#d8576b\"],[0.6666666666666666,\"#ed7953\"],[0.7777777777777778,\"#fb9f3a\"],[0.8888888888888888,\"#fdca26\"],[1.0,\"#f0f921\"]],\"diverging\":[[0,\"#8e0152\"],[0.1,\"#c51b7d\"],[0.2,\"#de77ae\"],[0.3,\"#f1b6da\"],[0.4,\"#fde0ef\"],[0.5,\"#f7f7f7\"],[0.6,\"#e6f5d0\"],[0.7,\"#b8e186\"],[0.8,\"#7fbc41\"],[0.9,\"#4d9221\"],[1,\"#276419\"]]},\"xaxis\":{\"gridcolor\":\"white\",\"linecolor\":\"white\",\"ticks\":\"\",\"title\":{\"standoff\":15},\"zerolinecolor\":\"white\",\"automargin\":true,\"zerolinewidth\":2},\"yaxis\":{\"gridcolor\":\"white\",\"linecolor\":\"white\",\"ticks\":\"\",\"title\":{\"standoff\":15},\"zerolinecolor\":\"white\",\"automargin\":true,\"zerolinewidth\":2},\"scene\":{\"xaxis\":{\"backgroundcolor\":\"#E5ECF6\",\"gridcolor\":\"white\",\"linecolor\":\"white\",\"showbackground\":true,\"ticks\":\"\",\"zerolinecolor\":\"white\",\"gridwidth\":2},\"yaxis\":{\"backgroundcolor\":\"#E5ECF6\",\"gridcolor\":\"white\",\"linecolor\":\"white\",\"showbackground\":true,\"ticks\":\"\",\"zerolinecolor\":\"white\",\"gridwidth\":2},\"zaxis\":{\"backgroundcolor\":\"#E5ECF6\",\"gridcolor\":\"white\",\"linecolor\":\"white\",\"showbackground\":true,\"ticks\":\"\",\"zerolinecolor\":\"white\",\"gridwidth\":2}},\"shapedefaults\":{\"line\":{\"color\":\"#2a3f5f\"}},\"annotationdefaults\":{\"arrowcolor\":\"#2a3f5f\",\"arrowhead\":0,\"arrowwidth\":1},\"geo\":{\"bgcolor\":\"white\",\"landcolor\":\"#E5ECF6\",\"subunitcolor\":\"white\",\"showland\":true,\"showlakes\":true,\"lakecolor\":\"white\"},\"title\":{\"x\":0.05},\"mapbox\":{\"style\":\"light\"}}},\"xaxis\":{\"anchor\":\"y\",\"domain\":[0.0,1.0],\"title\":{\"text\":\"Sentence Index\"}},\"yaxis\":{\"anchor\":\"x\",\"domain\":[0.0,1.0],\"title\":{\"text\":\"Sentence Importance Score\"}},\"legend\":{\"tracegroupgap\":0},\"title\":{\"text\":\"Sentence Importance Over Time\"}},                        {\"responsive\": true}                    ).then(function(){\n",
       "                            \n",
       "var gd = document.getElementById('5f05503f-e914-4eca-83c9-2a08973c729f');\n",
       "var x = new MutationObserver(function (mutations, observer) {{\n",
       "        var display = window.getComputedStyle(gd).display;\n",
       "        if (!display || display === 'none') {{\n",
       "            console.log([gd, 'removed!']);\n",
       "            Plotly.purge(gd);\n",
       "            observer.disconnect();\n",
       "        }}\n",
       "}});\n",
       "\n",
       "// Listen for the removal of the full notebook cells\n",
       "var notebookContainer = gd.closest('#notebook-container');\n",
       "if (notebookContainer) {{\n",
       "    x.observe(notebookContainer, {childList: true});\n",
       "}}\n",
       "\n",
       "// Listen for the clearing of the current output cell\n",
       "var outputEl = gd.closest('.output');\n",
       "if (outputEl) {{\n",
       "    x.observe(outputEl, {childList: true});\n",
       "}}\n",
       "\n",
       "                        })                };                });            </script>        </div>"
      ]
     },
     "metadata": {},
     "output_type": "display_data"
    }
   ],
   "source": [
    "import nltk\n",
    "from nltk.corpus import stopwords\n",
    "from nltk.tokenize import sent_tokenize, word_tokenize\n",
    "from nltk.probability import FreqDist\n",
    "from nltk.tokenize.treebank import TreebankWordDetokenizer\n",
    "import plotly.express as px\n",
    "import pandas as pd\n",
    "\n",
    "# Read the text from a file\n",
    "with open('chat.txt', 'r') as file:\n",
    "    text = file.read()\n",
    "\n",
    "# Tokenize the text into sentences and words\n",
    "sentences = sent_tokenize(text)\n",
    "words = word_tokenize(text)\n",
    "\n",
    "# Remove stopwords and punctuation\n",
    "stop_words = set(stopwords.words('english'))\n",
    "filtered_words = [word.lower() for word in words if word.isalnum() and word.lower() not in stop_words]\n",
    "\n",
    "# Calculate word frequencies\n",
    "freq_dist = FreqDist(filtered_words)\n",
    "\n",
    "# Determine the most important sentences based on word frequency\n",
    "num_sentences = 3 \n",
    "\n",
    "sentence_scores = {}\n",
    "for sentence in sentences:\n",
    "    for word in word_tokenize(sentence.lower()):\n",
    "        if word in freq_dist:\n",
    "            if sentence not in sentence_scores:\n",
    "                sentence_scores[sentence] = freq_dist[word]\n",
    "            else:\n",
    "                sentence_scores[sentence] += freq_dist[word]\n",
    "\n",
    "summary_sentences = sorted(sentence_scores, key=sentence_scores.get, reverse=True)[:num_sentences]\n",
    "\n",
    "# Generate the summary\n",
    "summary = TreebankWordDetokenizer().detokenize(summary_sentences)\n",
    "\n",
    "# Create a DataFrame for the line chart\n",
    "df = pd.DataFrame({'Sentence Index': range(len(sentences)), 'Sentence Importance Score': [sentence_scores[sentence] for sentence in sentences]})\n",
    "\n",
    "# Create an interactive line chart\n",
    "fig = px.line(df, x='Sentence Index', y='Sentence Importance Score', title='Sentence Importance Over Time')\n",
    "fig.update_xaxes(title='Sentence Index')\n",
    "fig.update_yaxes(title='Sentence Importance Score')\n",
    "\n",
    "# Show the interactive line chart\n",
    "fig.show()\n"
   ]
  }
 ],
 "metadata": {
  "kernelspec": {
   "display_name": "Python 3 (ipykernel)",
   "language": "python",
   "name": "python3"
  },
  "language_info": {
   "codemirror_mode": {
    "name": "ipython",
    "version": 3
   },
   "file_extension": ".py",
   "mimetype": "text/x-python",
   "name": "python",
   "nbconvert_exporter": "python",
   "pygments_lexer": "ipython3",
   "version": "3.11.5"
  },
  "widgets": {
   "application/vnd.jupyter.widget-state+json": {
    "state": {},
    "version_major": 2,
    "version_minor": 0
   }
  }
 },
 "nbformat": 4,
 "nbformat_minor": 5
}
